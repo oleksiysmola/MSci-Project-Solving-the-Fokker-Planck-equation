{
 "cells": [
  {
   "cell_type": "markdown",
   "metadata": {},
   "source": [
    "# Asymmetric Potentials\n",
    "For convenience the key equations are given below from https://arxiv.org/pdf/astro-ph/9407016.pdf:\n",
    "\n",
    "1) Fokker-Planck equation\n",
    "$$    \\frac{\\partial P(\\varphi,t)}{\\partial t} = \\frac{1}{3H}\\frac{\\partial}{\\partial \\varphi}\\left(V'(\\varphi) P(\\varphi,t)\\right) + \\frac{H^3}{8\\pi^2}\\frac{\\partial^2 P(\\varphi,t)}{\\partial \\varphi^2} $$\n",
    "\n",
    "2) Schrodinger-like equation\n",
    "$$     -\\frac{1}{2}\\frac{\\partial^2 \\Phi_n(\\varphi)}{\\partial \\varphi^2} + W(\\varphi) \\Phi_n (\\varphi) = \\frac{4\\pi^2\\Lambda_n}{H^3}\\Phi_n(\\varphi) $$\n",
    "\n",
    "3) Effective potential\n",
    "$$ W(\\varphi) = \\frac{1}{2}\\left[v'(\\varphi)^2-v''(\\varphi)\\right], \\> \\> v(\\varphi) = \\frac{4\\pi^2}{3H^4} V(\\varphi) $$\n",
    "\n",
    "4) Solutions take the form\n",
    "$$ P(\\varphi,t) = \\exp\\left(-\\frac{4\\pi^2 V(\\varphi)}{3H^4}\\right) \\sum^{\\infty}_{n=0} a_n \\Phi_n (\\varphi) e^{-\\Lambda_n (t-t_0)} $$"
   ]
  },
  {
   "cell_type": "code",
   "execution_count": 3,
   "metadata": {},
   "outputs": [],
   "source": [
    "import numpy as np\n",
    "from math import factorial\n",
    "from scipy import optimize\n",
    "from scipy.integrate import odeint, simps\n",
    "from scipy.special import eval_hermite\n",
    "import matplotlib.pyplot as plt\n",
    "%matplotlib inline"
   ]
  },
  {
   "cell_type": "markdown",
   "metadata": {},
   "source": [
    "Here we know consider a potential of the form\n",
    "$$V(\\varphi) = \\mu^3 \\varphi + \\frac{1}{2}m^2\\varphi^2 + \\frac{1}{4}\\lambda \\varphi^4. $$\n",
    "Following https://arxiv.org/pdf/2001.04494.pdf, the Schrodinger-like equation can be expressed in terms of dimensionless quantities:\n",
    "$$ \\bar{\\alpha} \\equiv \\frac{-m^2}{\\sqrt{\\lambda}H^2}, \\> \\> \\beta = \\frac{\\mu^3}{\\lambda^{1/4}H^3}.  $$\n",
    "We also have\n",
    "$$ z \\equiv \\frac{\\lambda^{1/4}\\Omega}{H}\\varphi, \\>\\> \\Omega \\equiv 1 + \\sqrt{\\bar{\\alpha}}+\\beta. $$\n",
    "With the above parameters the Schrödinger-like equation takes the form \n",
    "$$\\frac{\\partial \\Phi_n(z)}{\\partial z} \\equiv Y, $$\n",
    "$$\\frac{\\partial Y}{\\partial z} = \\left(4\\pi^2\\frac{\\bar{\\alpha}+\\frac{4\\pi^2}{3}\\beta^2}{3\\Omega^2}-\\frac{32\\pi^4\\bar{\\alpha}\\beta z}{9\\Omega^3}-4\\pi^2\\frac{1-\\frac{4\\pi^2}{9}\\bar{\\alpha}^2}{\\Omega^4}z^2+\\frac{32\\pi^4\\beta z^3}{9\\Omega^5}-\\frac{32\\pi^4\\bar{\\alpha} z^4}{9\\Omega^6} + \\frac{16\\pi^4 z^6}{9\\Omega^8}-\\frac{8\\pi^2(1+\\bar{\\alpha}+\\beta^2)\\tilde{\\Lambda}_n}{\\Omega^2}\\right)\\Phi_n(z).  $$\n",
    "Eigenvalues are rescaled as \n",
    "$$\\tilde{\\Lambda}_n(\\alpha) = \\frac{\\Lambda_n}{\\lambda^{1/2}H(1+\\bar{\\alpha}+\\beta^2)}. $$\n",
    "For now let us set $\\bar{\\alpha}=1$, $\\beta=0$"
   ]
  },
  {
   "cell_type": "code",
   "execution_count": 4,
   "metadata": {},
   "outputs": [],
   "source": [
    "# Setting parameters\n",
    "alpha_bar = 1\n",
    "beta = 0\n",
    "omega = 1 + np.sqrt(alpha_bar) + beta"
   ]
  },
  {
   "cell_type": "markdown",
   "metadata": {},
   "source": [
    "## WKB approximation\n",
    "$$ Q(z) = 4\\pi^2\\frac{\\bar{\\alpha}+\\frac{4\\pi^2}{3}\\beta^2}{3\\Omega^2}-\\frac{32\\pi^4\\bar{\\alpha}\\beta z}{9\\Omega^3}-4\\pi^2\\frac{1-\\frac{4\\pi^2}{9}\\bar{\\alpha}^2}{\\Omega^4}z^2+\\frac{32\\pi^4\\beta z^3}{9\\Omega^5}-\\frac{32\\pi^4\\bar{\\alpha} z^4}{9\\Omega^6} + \\frac{16\\pi^4 z^6}{9\\Omega^8}-\\frac{8\\pi^2(1+\\bar{\\alpha}+\\beta^2)\\tilde{\\Lambda}_n}{\\Omega^2}, $$\n",
    "$$ Q'(z) = -\\frac{32\\pi^4\\bar{\\alpha}\\beta}{9\\Omega^3}-8\\pi^2\\frac{1-\\frac{4\\pi^2}{9}\\bar{\\alpha}^2}{\\Omega^4}z+\\frac{32\\pi^4\\beta z^2}{3\\Omega^5}-\\frac{128\\pi^4\\bar{\\alpha} z^3}{9\\Omega^6} + \\frac{32\\pi^4 z^5}{3\\Omega^8}, $$\n",
    "$$ Q''(z) = -8\\pi^2\\frac{1-\\frac{4\\pi^2}{9}\\bar{\\alpha}^2}{\\Omega^4}+\\frac{64\\pi^4\\beta z}{3\\Omega^5}-\\frac{128\\pi^4\\bar{\\alpha} z^2}{3\\Omega^6} + \\frac{160\\pi^4 z^4}{3\\Omega^8}. $$\n",
    "\n",
    "\n",
    "$$S_0(z) = \\pm \\int^z_{z_0}\\sqrt{Q(x)} dx, $$\n",
    "$$S_1(z) = -\\frac{1}{4}\\left[\\text{ln}Q(x)\\right]^z_{z_0}, $$\n",
    "$$S_2(z) = -\\frac{1}{4}\\frac{Q'(z)}{Q(z)^2} - \\frac{1}{8}\\int^z_{z_0} \\frac{Q''(x)}{Q(x)^3}dx.$$\n",
    "The solution then takes the form \n",
    "$$\\Phi_n(z) \\simeq \\frac{c_1}{Q(z)^{1/4}}\\text{exp}\\left[\\int^z_{z_0} \\sqrt{Q(x)}dx -\\frac{1}{4}\\frac{Q'(z)}{Q(z)^2} - \\frac{1}{8}\\int^z_{z_0} \\frac{Q''(x)}{Q(x)^3}dx\\right] + \\frac{c_2}{Q(z)^{1/4}}\\text{exp}\\left[-\\int^z_{z_0} \\sqrt{Q(x)}dx +\\frac{1}{4}\\frac{Q'(z)}{Q(z)^2} + \\frac{1}{8}\\int^z_{z_0} \\frac{Q''(x)}{Q(x)^3}dx\\right] $$\n",
    "Ignoring second-order terms the derivative is:\n",
    "$$\\Phi'_n(z) \\simeq \\frac{Q'(z)}{4Q(z)^{5/4}}\\left(c_1\\text{exp}\\left[\\int^z_{z_0} \\sqrt{Q(x)}dx \\right] + c_2\\text{exp}\\left[-\\int^z_{z_0} \\sqrt{Q(x)}dx \\right]\\right) + Q(z)^{1/4}\\left(c_1\\text{exp}\\left[\\int^z_{z_0} \\sqrt{Q(x)}dx \\right] - c_2\\text{exp}\\left[-\\int^z_{z_0} \\sqrt{Q(x)}dx \\right]\\right) $$"
   ]
  },
  {
   "cell_type": "code",
   "execution_count": 5,
   "metadata": {},
   "outputs": [],
   "source": [
    "# Eigenvalue\n",
    "eigenvalue = 0\n",
    "\n",
    "# Function for Q defined above\n",
    "def Q_function(z):\n",
    "    '''Evaluates Q(z) defined above\n",
    "    z: array of values for which Q(z) is to be evaluated'''\n",
    "    \n",
    "    # Break up calculation into multiple parts\n",
    "    x_1 = ((alpha_bar + ((4*np.pi**2)/3)*beta**2)/(3*omega**2))*4*np.pi**2 \n",
    "    x_2 = - ((32*np.pi**4)*alpha_bar*beta*z)/(9*omega**3)\n",
    "    x_3 = - (4*np.pi**2)*((1 - (4*(np.pi*alpha_bar)**2)/9)/(omega**4))*z**2\n",
    "    x_4 = ((32*np.pi**4)*beta*z**3)/(9*omega**5) - ((32*np.pi**4)*alpha_bar*z**4)/(9*omega**6)\n",
    "    x_5 = ((16*np.pi**4)*z**6)/(9*omega**8) - ((1 + alpha_bar + beta**2)*eigenvalue*8*np.pi**2)/(omega**2)\n",
    "    \n",
    "    # Computes full function\n",
    "    Q = x_1 + x_2 + x_3 + x_4 + x_5\n",
    "    \n",
    "    return Q"
   ]
  },
  {
   "cell_type": "code",
   "execution_count": 6,
   "metadata": {},
   "outputs": [],
   "source": [
    "# Function for the gradient defined above\n",
    "def Q_function_gradient(z):\n",
    "    '''Evaluates the gradient for Q(z) defined above\n",
    "    z: array of values for which Q(z) is to be evaluated'''\n",
    "    \n",
    "    # Break up calculation into multiple parts\n",
    "    x_1 = - ((32*np.pi**4)*alpha_bar*beta)/(9*omega**3)\n",
    "    x_2 = - (8*np.pi**2)*((1 - (4*(np.pi*alpha_bar)**2)/9)/(omega**4))*z\n",
    "    x_3 = ((32*np.pi**4)*beta*z**2)/(3*omega**5) - ((128*np.pi**4)*alpha_bar*z**3)/(9*omega**6)\n",
    "    x_4 = ((32*np.pi**4)*z**5)/(3*omega**8) \n",
    "    \n",
    "    # Computes full function\n",
    "    Q_gradient = x_1 + x_2 + x_3 + x_4\n",
    "    \n",
    "    return Q_gradient\n",
    "\n",
    "def Q_second_derivative(z):\n",
    "    '''Evaluates the second derivative for Q(z) defined above\n",
    "    z: array of values for which Q(z) is to be evaluated'''\n",
    "    \n",
    "    # Break up calculation into multiple parts\n",
    "    x_1 = - (8*np.pi**2)*((1 - (4*(np.pi*alpha_bar)**2)/9)/(omega**4))\n",
    "    x_2 = ((64*np.pi**4)*beta*z)/(3*omega**5) - ((128*np.pi**4)*alpha_bar*z**2)/(3*omega**6)\n",
    "    x_3 = ((160*np.pi**4)*z**4)/(3*omega**8) \n",
    "    \n",
    "    # Computes full function\n",
    "    Q_second_derivative = x_1 + x_2 + x_3\n",
    "    \n",
    "    return Q_second_derivative"
   ]
  },
  {
   "cell_type": "code",
   "execution_count": 7,
   "metadata": {},
   "outputs": [
    {
     "data": {
      "text/plain": [
       "[<matplotlib.lines.Line2D at 0x1513ab3048>]"
      ]
     },
     "execution_count": 7,
     "metadata": {},
     "output_type": "execute_result"
    },
    {
     "data": {
      "image/png": "[encoded data removed]",
      "text/plain": [
       "<Figure size 432x288 with 1 Axes>"
      ]
     },
     "metadata": {
      "needs_background": "light"
     },
     "output_type": "display_data"
    }
   ],
   "source": [
    "# Plotting ratio of gradient of Q with Q^2\n",
    "z = np.linspace(-10, 10, 100)\n",
    "Q = Q_function(z)\n",
    "Q_gradient = Q_function_gradient(z)\n",
    "plt.plot(z, abs(Q_gradient/(Q**2)))"
   ]
  },
  {
   "cell_type": "code",
   "execution_count": 8,
   "metadata": {},
   "outputs": [
    {
     "data": {
      "text/plain": [
       "(0, 1)"
      ]
     },
     "execution_count": 8,
     "metadata": {},
     "output_type": "execute_result"
    },
    {
     "data": {
      "image/png": "[encoded data removed]",
      "text/plain": [
       "<Figure size 432x288 with 1 Axes>"
      ]
     },
     "metadata": {
      "needs_background": "light"
     },
     "output_type": "display_data"
    }
   ],
   "source": [
    "# Plotting ratio of gradient of Q with Q^2\n",
    "z = np.linspace(-10, 10, 100)\n",
    "Q = Q_function(z)\n",
    "Q_gradient = Q_function_gradient(z)\n",
    "plt.plot(z, abs(Q_gradient/(Q**2)))\n",
    "plt.ylim(0, 1)"
   ]
  },
  {
   "cell_type": "code",
   "execution_count": 9,
   "metadata": {},
   "outputs": [
    {
     "data": {
      "image/png": "[encoded data removed]",
      "text/plain": [
       "<Figure size 432x288 with 1 Axes>"
      ]
     },
     "metadata": {
      "needs_background": "light"
     },
     "output_type": "display_data"
    }
   ],
   "source": [
    "# Plot Q(z), points where Q(z) = 0 are analogous to classical turning points in quantum mechanics\n",
    "z = np.linspace(-5, 5, 100)\n",
    "Q = Q_function(z)\n",
    "plt.plot(z, Q)\n",
    "plt.ylim(-8, 10)\n",
    "plt.grid()"
   ]
  },
  {
   "cell_type": "code",
   "execution_count": 10,
   "metadata": {},
   "outputs": [],
   "source": [
    "class eigenfunction_finder_WKB:\n",
    "    '''Class for finding the eigenfunction for a the rescaled parameters z and alpha'''\n",
    "    def __init__(self):\n",
    "        '''Initialises the range of rescaled field values for which the field is\n",
    "        to be integrated'''\n",
    "        \n",
    "        # Parameters\n",
    "        self.alpha_bar = 1\n",
    "        self.beta = 0\n",
    "        self.omega = 1 + np.sqrt(self.alpha_bar) + self.beta \n",
    "        self.eigenvalue = 0\n",
    " \n",
    "    def Q_function(self, z):\n",
    "        '''Evaluates Q(z) defined above\n",
    "        z: array of values for which Q(z) is to be evaluated'''\n",
    "    \n",
    "        # Break up calculation into multiple parts\n",
    "        x_1 = ((self.alpha_bar + ((4*np.pi**2)/3)*self.beta**2)/(3*self.omega**2))*4*np.pi**2 \n",
    "        x_2 = - ((32*np.pi**4)*self.alpha_bar*self.beta*z)/(9*self.omega**3)\n",
    "        x_3 = - (4*np.pi**2)*((1 - (4*(np.pi*self.alpha_bar)**2)/9)/(self.omega**4))*z**2\n",
    "        x_4 = ((32*np.pi**4)*self.beta*z**3)/(9*self.omega**5) - ((32*np.pi**4)*self.alpha_bar*z**4)/(9*self.omega**6)\n",
    "        x_5 = ((16*np.pi**4)*z**6)/(9*self.omega**8) - ((1 + self.alpha_bar + self.beta**2)*self.eigenvalue*8*np.pi**2)/(self.omega**2)\n",
    "    \n",
    "        # Computes full function\n",
    "        Q = x_1 + x_2 + x_3 + x_4 + x_5\n",
    "    \n",
    "        return Q\n",
    "\n",
    "    def Q_function_gradient(self, z):\n",
    "        '''Evaluates the gradient for Q(z) defined above\n",
    "        z: array of values for which Q(z) is to be evaluated'''\n",
    "    \n",
    "        # Break up calculation into multiple parts\n",
    "        x_1 = - ((32*np.pi**4)*self.alpha_bar*self.beta)/(9*self.omega**3)\n",
    "        x_2 = - (8*np.pi**2)*((1 - (4*(np.pi*self.alpha_bar)**2)/9)/(self.omega**4))*z\n",
    "        x_3 = ((32*np.pi**4)*self.beta*z**2)/(3*self.omega**5) - ((128*np.pi**4)*self.alpha_bar*z**3)/(9*self.omega**6)\n",
    "        x_4 = ((32*np.pi**4)*z**5)/(3*self.omega**8) \n",
    "    \n",
    "        # Computes full function\n",
    "        Q_gradient = x_1 + x_2 + x_3 + x_4\n",
    "    \n",
    "        return Q_gradient\n",
    "\n",
    "    def WKB_function(self, WKB_lower_limit, WKB_upper_limit):\n",
    "        '''Evaluates WKB approximation of eigenfunction to second-order\n",
    "        upper_limit: upper integration limit\n",
    "        lower_limit: lower integration limit'''\n",
    "    \n",
    "        # Creates array of z values\n",
    "        z = np.linspace(WKB_lower_limit, WKB_upper_limit, 5000)\n",
    "        dz = z[1] - z[0]\n",
    "    \n",
    "        # Q and its derivatives\n",
    "        Q = self.Q_function(z)\n",
    "        Q_gradient = self.Q_function_gradient(z)\n",
    "    \n",
    "    \n",
    "        # Integration for S_0 and S_1\n",
    "        S_0 = simps(np.sqrt(Q), z, dz)\n",
    "    \n",
    "        # Computes WKB wavefunction\n",
    "        WKB_phi = np.exp(-S_0)/(Q[0]**0.25)\n",
    "        WKB_gradient = (Q_gradient[0]/(4*Q[0]**1.25) - Q[0]**0.25)*np.exp(-S_0)\n",
    "    \n",
    "        # Obtains the initial conditions from the WKB approximation\n",
    "        WKB_initial_conditions = [WKB_phi, WKB_gradient]\n",
    "        self.V = WKB_initial_conditions\n",
    "        \n",
    "        # Sets integration range starting from where we left of the WKB approximation\n",
    "        self.z = np.linspace(WKB_lower_limit, -WKB_lower_limit, 3000)\n",
    "    \n",
    "        return WKB_initial_conditions\n",
    "    \n",
    "    def schrodinger_like_ODE(self, V, z):\n",
    "        '''Computes the derivatives of the Schrodinger-like equation'''\n",
    "        \n",
    "        # Empty array for derivatives\n",
    "        dV = np.zeros(2)\n",
    "        \n",
    "        # Evaluates Q\n",
    "        Q = self.Q_function(z)\n",
    "        \n",
    "        # Computes derivatives\n",
    "        dV[0] = V[1]\n",
    "        dV[1] = V[0]*Q\n",
    "        return dV    \n",
    "\n",
    "    def eigenfunction(self, eigenvalue):\n",
    "        '''Integrates the eigenfunction for the field based on the given\n",
    "        field range and returns the projected solution based on the\n",
    "        eigenvalue'''\n",
    "        \n",
    "        self.eigenvalue = eigenvalue\n",
    "        \n",
    "        # Initial guess range for classical turning point \n",
    "        WKB_upper = -9\n",
    "        WKB_lower = -10\n",
    "        Q_upper = self.Q_function(WKB_upper)\n",
    "        Q_lower = self.Q_function(WKB_lower)\n",
    "        # Ensures sign change in interval\n",
    "        while Q_upper/Q_lower > 0:\n",
    "            # Extends guess interval\n",
    "            WKB_upper += 0.2\n",
    "            Q_upper = self.Q_function(WKB_upper)\n",
    "        \n",
    "        # Computes the turning point\n",
    "        turning_point = optimize.brentq(self.Q_function, WKB_lower, WKB_upper, xtol=tolerance)\n",
    "        \n",
    "        # WKB integration range\n",
    "        WKB_upper = turning_point - 0.1\n",
    "        WKB_lower = WKB_upper - 1\n",
    "        \n",
    "        # Generates WKB initial conditions\n",
    "        self.WKB_function(WKB_lower, WKB_upper)\n",
    "        \n",
    "        # Integrates to find eigenfunction\n",
    "        V = odeint(self.schrodinger_like_ODE, self.V, self.z)\n",
    "        \n",
    "        return V[-1,0]\n",
    "    \n",
    "    def eigenfunction_full(self, eigenvalue):\n",
    "        '''Integrates the eigenfunction for the field based on the given\n",
    "        field range and returns the projected solution based on the\n",
    "        eigenvalue'''\n",
    "        \n",
    "        self.eigenvalue = eigenvalue\n",
    "        \n",
    "        # Integrates to find eigenfunction\n",
    "        V = odeint(self.schrodinger_like_ODE, self.V, self.z)\n",
    "\n",
    "        return V[:,0]"
   ]
  },
  {
   "cell_type": "code",
   "execution_count": 11,
   "metadata": {},
   "outputs": [],
   "source": [
    "class eigenfunction_finder_WKB:\n",
    "    '''Class for finding the eigenfunction for a the rescaled parameters z and alpha'''\n",
    "    def __init__(self):\n",
    "        '''Initialises the range of rescaled field values for which the field is\n",
    "        to be integrated'''\n",
    "        \n",
    "        # Parameters\n",
    "        self.alpha_bar = 1\n",
    "        self.beta = 0\n",
    "        self.omega = 1 + np.sqrt(self.alpha_bar) + self.beta \n",
    "        self.eigenvalue = 0\n",
    " \n",
    "    def Q_function(self, z):\n",
    "        '''Evaluates Q(z) defined above\n",
    "        z: array of values for which Q(z) is to be evaluated'''\n",
    "        \n",
    "        # Computes omega \n",
    "        self.omega = 1 + np.sqrt(self.alpha_bar) + self.beta\n",
    "        \n",
    "        # Break up calculation into multiple parts\n",
    "        x_1 = ((self.alpha_bar + ((4*np.pi**2)/3)*self.beta**2)/(3*self.omega**2))*4*np.pi**2 \n",
    "        x_2 = - ((32*np.pi**4)*self.alpha_bar*self.beta*z)/(9*self.omega**3)\n",
    "        x_3 = - (4*np.pi**2)*((1 - (4*(np.pi*self.alpha_bar)**2)/9)/(self.omega**4))*z**2\n",
    "        x_4 = ((32*np.pi**4)*self.beta*z**3)/(9*self.omega**5) - ((32*np.pi**4)*self.alpha_bar*z**4)/(9*self.omega**6)\n",
    "        x_5 = ((16*np.pi**4)*z**6)/(9*self.omega**8) - ((1 + self.alpha_bar + self.beta**2)*self.eigenvalue*8*np.pi**2)/(self.omega**2)\n",
    "    \n",
    "        # Computes full function\n",
    "        Q = x_1 + x_2 + x_3 + x_4 + x_5\n",
    "    \n",
    "        return Q\n",
    "\n",
    "    def Q_function_gradient(self, z):\n",
    "        '''Evaluates the gradient for Q(z) defined above\n",
    "        z: array of values for which Q(z) is to be evaluated'''\n",
    "        \n",
    "        # Computes omega\n",
    "        self.omega = 1 + np.sqrt(self.alpha_bar) + self.beta\n",
    "        \n",
    "        # Break up calculation into multiple parts\n",
    "        x_1 = - ((32*np.pi**4)*self.alpha_bar*self.beta)/(9*self.omega**3)\n",
    "        x_2 = - (8*np.pi**2)*((1 - (4*(np.pi*self.alpha_bar)**2)/9)/(self.omega**4))*z\n",
    "        x_3 = ((32*np.pi**4)*self.beta*z**2)/(3*self.omega**5) - ((128*np.pi**4)*self.alpha_bar*z**3)/(9*self.omega**6)\n",
    "        x_4 = ((32*np.pi**4)*z**5)/(3*self.omega**8) \n",
    "    \n",
    "        # Computes full function\n",
    "        Q_gradient = x_1 + x_2 + x_3 + x_4\n",
    "    \n",
    "        return Q_gradient\n",
    "\n",
    "    def WKB_function(self, WKB_lower_limit, WKB_upper_limit):\n",
    "        '''Evaluates WKB approximation of eigenfunction to second-order\n",
    "        upper_limit: upper integration limit\n",
    "        lower_limit: lower integration limit'''\n",
    "    \n",
    "        # Creates array of z values\n",
    "        z = np.linspace(WKB_lower_limit, WKB_upper_limit, 5000)\n",
    "        dz = z[1] - z[0]\n",
    "    \n",
    "        # Q and its derivatives\n",
    "        Q = self.Q_function(z)\n",
    "        Q_gradient = self.Q_function_gradient(z)\n",
    "    \n",
    "    \n",
    "        # Integration for S_0 and S_1\n",
    "        S_0 = simps(np.sqrt(Q), z, dz)\n",
    "    \n",
    "        # Computes WKB wavefunction\n",
    "        WKB_phi = np.exp(-S_0)/(Q[0]**0.25)\n",
    "        WKB_gradient = (Q_gradient[0]/(4*Q[0]**1.25) - Q[0]**0.25)*np.exp(-S_0)\n",
    "    \n",
    "        # Obtains the initial conditions from the WKB approximation\n",
    "        WKB_initial_conditions = [WKB_phi, WKB_gradient]\n",
    "        self.V = WKB_initial_conditions\n",
    "        \n",
    "        # Sets integration range starting from where we left of the WKB approximation\n",
    "        self.z = np.linspace(WKB_lower_limit, -WKB_lower_limit, 3000)\n",
    "    \n",
    "        return WKB_initial_conditions\n",
    "    \n",
    "    def schrodinger_like_ODE(self, V, z):\n",
    "        '''Computes the derivatives of the Schrodinger-like equation'''\n",
    "        \n",
    "        # Empty array for derivatives\n",
    "        dV = np.zeros(2)\n",
    "        \n",
    "        # Evaluates Q\n",
    "        Q = self.Q_function(z)\n",
    "        \n",
    "        # Computes derivatives\n",
    "        dV[0] = V[1]\n",
    "        dV[1] = V[0]*Q\n",
    "        return dV    \n",
    "\n",
    "    def eigenfunction(self, eigenvalue):\n",
    "        '''Integrates the eigenfunction for the field based on the given\n",
    "        field range and returns the projected solution based on the\n",
    "        eigenvalue'''\n",
    "        \n",
    "        self.eigenvalue = eigenvalue\n",
    "        \n",
    "        # Initial guess range for classical turning point \n",
    "        WKB_upper = -9\n",
    "        WKB_lower = -10\n",
    "        Q_upper = self.Q_function(WKB_upper)\n",
    "        Q_lower = self.Q_function(WKB_lower)\n",
    "        # Ensures sign change in interval\n",
    "        while Q_upper/Q_lower > 0:\n",
    "            # Extends guess interval\n",
    "            WKB_upper += 0.2\n",
    "            Q_upper = self.Q_function(WKB_upper)\n",
    "        \n",
    "        # Computes the turning point\n",
    "        turning_point = optimize.brentq(self.Q_function, WKB_lower, WKB_upper, xtol=tolerance)\n",
    "        \n",
    "        # WKB integration range\n",
    "        WKB_upper = turning_point - 0.01\n",
    "        WKB_lower = WKB_upper - 1\n",
    "        \n",
    "        # Generates WKB initial conditions\n",
    "        self.WKB_function(WKB_lower, WKB_upper)\n",
    "        \n",
    "        # Integrates to find eigenfunction\n",
    "        V = odeint(self.schrodinger_like_ODE, self.V, self.z)\n",
    "        \n",
    "        return V[-1,0]\n",
    "    \n",
    "    def eigenfunction_full(self, eigenvalue):\n",
    "        '''Integrates the eigenfunction for the field based on the given\n",
    "        field range and returns the projected solution based on the\n",
    "        eigenvalue'''\n",
    "        \n",
    "        self.eigenvalue = eigenvalue\n",
    "        \n",
    "        # Integrates to find eigenfunction\n",
    "        V = odeint(self.schrodinger_like_ODE, self.V, self.z)\n",
    "\n",
    "        return V[:,0]"
   ]
  },
  {
   "cell_type": "code",
   "execution_count": 12,
   "metadata": {},
   "outputs": [],
   "source": [
    "# Integration range for WKB approximation\n",
    "WKB_lower_limit = -3.25\n",
    "WKB_upper_limit = -2.38124\n",
    "\n",
    "# Applies WKB approximation to find initial conditions and integrates numerically\n",
    "WKB_solution = eigenfunction_finder_WKB()\n",
    "WKB_solution.WKB_function(WKB_lower_limit, WKB_upper_limit)\n",
    "WKB_phi = WKB_solution.eigenfunction_full(0)\n",
    "z = WKB_solution.z"
   ]
  },
  {
   "cell_type": "code",
   "execution_count": 13,
   "metadata": {},
   "outputs": [
    {
     "data": {
      "text/plain": [
       "[<matplotlib.lines.Line2D at 0x1513d760f0>]"
      ]
     },
     "execution_count": 13,
     "metadata": {},
     "output_type": "execute_result"
    },
    {
     "data": {
      "image/png": "[encoded data removed]",
      "text/plain": [
       "<Figure size 432x288 with 1 Axes>"
      ]
     },
     "metadata": {
      "needs_background": "light"
     },
     "output_type": "display_data"
    }
   ],
   "source": [
    "# Plotting\n",
    "plt.plot(z, WKB_phi)"
   ]
  },
  {
   "cell_type": "code",
   "execution_count": 43,
   "metadata": {},
   "outputs": [
    {
     "name": "stdout",
     "output_type": "stream",
     "text": [
      "-2.08741260399664\n"
     ]
    }
   ],
   "source": [
    "# Tolerance\n",
    "tolerance = 1e-6\n",
    "\n",
    "# Integration range for WKB approximation\n",
    "#WKB_lower_limit = -3.7\n",
    "#WKB_upper_limit = -2.7\n",
    "\n",
    "# Guess range eigenvalues\n",
    "upper_eigenvalue = 0.01\n",
    "lower_eigenvalue = -0.05\n",
    "\n",
    "# Applies WKB approximation to find initial conditions and integrates numerically\n",
    "WKB_solution = eigenfunction_finder_WKB()\n",
    "WKB_solution.beta = 0.5\n",
    "print(WKB_solution.Q_function(-2.6858235))\n",
    "#WKB_solution.WKB_function(WKB_lower_limit, WKB_upper_limit)\n",
    "scipy_brent_0, results_brent_0 = optimize.brentq(WKB_solution.eigenfunction, lower_eigenvalue, upper_eigenvalue, full_output=True, xtol=tolerance)\n",
    "WKB_phi = WKB_solution.eigenfunction_full(0)\n",
    "z_0 = WKB_solution.z"
   ]
  },
  {
   "cell_type": "code",
   "execution_count": 55,
   "metadata": {},
   "outputs": [
    {
     "data": {
      "text/plain": [
       "(-0.5, 0.5)"
      ]
     },
     "execution_count": 55,
     "metadata": {},
     "output_type": "execute_result"
    },
    {
     "data": {
      "image/png": "[encoded data removed]",
      "text/plain": [
       "<Figure size 432x288 with 1 Axes>"
      ]
     },
     "metadata": {
      "needs_background": "light"
     },
     "output_type": "display_data"
    }
   ],
   "source": [
    "# Plotting\n",
    "plt.plot(z_0, WKB_phi)\n",
    "plt.ylim(-0.5, 0.5)"
   ]
  },
  {
   "cell_type": "code",
   "execution_count": 56,
   "metadata": {},
   "outputs": [
    {
     "data": {
      "text/plain": [
       "[<matplotlib.lines.Line2D at 0x151647ec50>]"
      ]
     },
     "execution_count": 56,
     "metadata": {},
     "output_type": "execute_result"
    },
    {
     "data": {
      "image/png": "[encoded data removed]",
      "text/plain": [
       "<Figure size 432x288 with 1 Axes>"
      ]
     },
     "metadata": {
      "needs_background": "light"
     },
     "output_type": "display_data"
    }
   ],
   "source": [
    "plt.plot(z_0, WKB_solution.Q_function(z))"
   ]
  },
  {
   "cell_type": "code",
   "execution_count": 57,
   "metadata": {},
   "outputs": [],
   "source": [
    "# Tolerance on eigenvalue\n",
    "tolerance = 1e-6\n",
    "\n",
    "# Eigenvalue guess range\n",
    "upper_eigenvalue = 0.1\n",
    "lower_eigenvalue = 0.01\n",
    "\n",
    "# Applies WKB approximation to find initial conditions and integrates numerically\n",
    "WKB_solution = eigenfunction_finder_WKB()\n",
    "WKB_solution.beta = 0.5\n",
    "scipy_brent_1, results_brent_1 = optimize.brentq(WKB_solution.eigenfunction, lower_eigenvalue, upper_eigenvalue, full_output=True, xtol=tolerance)\n",
    "WKB_1 = WKB_solution.eigenfunction_full(scipy_brent_1)\n",
    "z_1 = WKB_solution.z"
   ]
  },
  {
   "cell_type": "code",
   "execution_count": 47,
   "metadata": {},
   "outputs": [
    {
     "name": "stdout",
     "output_type": "stream",
     "text": [
      "      converged: True\n",
      "           flag: 'converged'\n",
      " function_calls: 8\n",
      "     iterations: 7\n",
      "           root: 0.05972592579475507\n"
     ]
    }
   ],
   "source": [
    "print(results_brent_1)"
   ]
  },
  {
   "cell_type": "code",
   "execution_count": 58,
   "metadata": {},
   "outputs": [
    {
     "data": {
      "text/plain": [
       "(-5000, 5000)"
      ]
     },
     "execution_count": 58,
     "metadata": {},
     "output_type": "execute_result"
    },
    {
     "data": {
      "image/png": "[encoded data removed]",
      "text/plain": [
       "<Figure size 432x288 with 1 Axes>"
      ]
     },
     "metadata": {
      "needs_background": "light"
     },
     "output_type": "display_data"
    }
   ],
   "source": [
    "# Plotting\n",
    "plt.plot(z_1, WKB_1, \"b\")\n",
    "plt.ylim(-5000, 5000)"
   ]
  },
  {
   "cell_type": "code",
   "execution_count": 59,
   "metadata": {},
   "outputs": [],
   "source": [
    "# Eigenvalue guess range\n",
    "upper_eigenvalue = 0.3\n",
    "lower_eigenvalue = 0.15\n",
    "\n",
    "# Applies WKB approximation to find initial conditions and integrates numerically\n",
    "WKB_solution = eigenfunction_finder_WKB()\n",
    "WKB_solution.beta = 0.5\n",
    "scipy_brent_2, results_brent_2 = optimize.brentq(WKB_solution.eigenfunction, lower_eigenvalue, upper_eigenvalue, full_output=True, xtol=tolerance)\n",
    "WKB_2 = WKB_solution.eigenfunction_full(scipy_brent_2)\n",
    "z_2 = WKB_solution.z"
   ]
  },
  {
   "cell_type": "code",
   "execution_count": 60,
   "metadata": {},
   "outputs": [
    {
     "name": "stdout",
     "output_type": "stream",
     "text": [
      "      converged: True\n",
      "           flag: 'converged'\n",
      " function_calls: 10\n",
      "     iterations: 9\n",
      "           root: 0.2098693160823065\n"
     ]
    }
   ],
   "source": [
    "print(results_brent_2)"
   ]
  },
  {
   "cell_type": "code",
   "execution_count": 61,
   "metadata": {
    "scrolled": true
   },
   "outputs": [
    {
     "data": {
      "text/plain": [
       "(-400, 400)"
      ]
     },
     "execution_count": 61,
     "metadata": {},
     "output_type": "execute_result"
    },
    {
     "data": {
      "image/png": "[encoded data removed]",
      "text/plain": [
       "<Figure size 432x288 with 1 Axes>"
      ]
     },
     "metadata": {
      "needs_background": "light"
     },
     "output_type": "display_data"
    }
   ],
   "source": [
    "# Plotting\n",
    "plt.plot(z_2, WKB_2, \"b\")\n",
    "plt.ylim(-400, 400)"
   ]
  },
  {
   "cell_type": "code",
   "execution_count": 62,
   "metadata": {
    "scrolled": true
   },
   "outputs": [],
   "source": [
    "# Eigenvalue guess range\n",
    "upper_eigenvalue = 0.4\n",
    "lower_eigenvalue = 0.35\n",
    "\n",
    "# Applies WKB approximation to find initial conditions and integrates numerically\n",
    "WKB_solution = eigenfunction_finder_WKB()\n",
    "WKB_solution.beta = 0.5\n",
    "scipy_brent_3, results_brent_3 = optimize.brentq(WKB_solution.eigenfunction, lower_eigenvalue, upper_eigenvalue, full_output=True, xtol=tolerance)\n",
    "WKB_3 = WKB_solution.eigenfunction_full(scipy_brent_3)\n",
    "z_3 = WKB_solution.z"
   ]
  },
  {
   "cell_type": "code",
   "execution_count": 27,
   "metadata": {},
   "outputs": [
    {
     "name": "stdout",
     "output_type": "stream",
     "text": [
      "      converged: True\n",
      "           flag: 'converged'\n",
      " function_calls: 9\n",
      "     iterations: 8\n",
      "           root: 0.3732292456913981\n"
     ]
    }
   ],
   "source": [
    "print(results_brent_3)"
   ]
  },
  {
   "cell_type": "code",
   "execution_count": 63,
   "metadata": {
    "scrolled": true
   },
   "outputs": [
    {
     "data": {
      "text/plain": [
       "(-20, 20)"
      ]
     },
     "execution_count": 63,
     "metadata": {},
     "output_type": "execute_result"
    },
    {
     "data": {
      "image/png": "[encoded data removed]",
      "text/plain": [
       "<Figure size 432x288 with 1 Axes>"
      ]
     },
     "metadata": {
      "needs_background": "light"
     },
     "output_type": "display_data"
    }
   ],
   "source": [
    "# Plotting\n",
    "plt.plot(z_3, WKB_3, \"b\")\n",
    "plt.ylim(-20, 20)"
   ]
  },
  {
   "cell_type": "code",
   "execution_count": 65,
   "metadata": {},
   "outputs": [],
   "source": [
    "# Eigenvalue guess range\n",
    "upper_eigenvalue = 0.5\n",
    "lower_eigenvalue = 0.38\n",
    "\n",
    "# Applies WKB approximation to find initial conditions and integrates numerically\n",
    "WKB_solution = eigenfunction_finder_WKB()\n",
    "WKB_solution.beta = 0.5\n",
    "scipy_brent_4, results_brent_4 = optimize.brentq(WKB_solution.eigenfunction, lower_eigenvalue, upper_eigenvalue, full_output=True, xtol=tolerance)\n",
    "WKB_4 = WKB_solution.eigenfunction_full(scipy_brent_4)\n",
    "z_4 = WKB_solution.z"
   ]
  },
  {
   "cell_type": "code",
   "execution_count": 66,
   "metadata": {
    "scrolled": true
   },
   "outputs": [
    {
     "name": "stdout",
     "output_type": "stream",
     "text": [
      "      converged: True\n",
      "           flag: 'converged'\n",
      " function_calls: 8\n",
      "     iterations: 7\n",
      "           root: 0.4423697365387904\n"
     ]
    }
   ],
   "source": [
    "print(results_brent_4)"
   ]
  },
  {
   "cell_type": "code",
   "execution_count": 67,
   "metadata": {},
   "outputs": [
    {
     "data": {
      "text/plain": [
       "(-0.05, 0.05)"
      ]
     },
     "execution_count": 67,
     "metadata": {},
     "output_type": "execute_result"
    },
    {
     "data": {
      "image/png": "[encoded data removed]",
      "text/plain": [
       "<Figure size 432x288 with 1 Axes>"
      ]
     },
     "metadata": {
      "needs_background": "light"
     },
     "output_type": "display_data"
    }
   ],
   "source": [
    "# Plotting\n",
    "plt.plot(z_4, WKB_4, \"b\")\n",
    "plt.ylim(-0.05, 0.05)"
   ]
  },
  {
   "cell_type": "code",
   "execution_count": 68,
   "metadata": {},
   "outputs": [],
   "source": [
    "def eigenfunction_slicer(eigenfunction):\n",
    "    '''Function that cuts out the diverging part of the eigenfunction.\n",
    "    eigenfunction: eigenfunction to be cut'''\n",
    "    \n",
    "    # Loops through eigenfunction\n",
    "    for i in range(1, len(eigenfunction)):\n",
    "        # Checks how close to zero the eigenfunction is\n",
    "        if abs(eigenfunction[-i]) < abs(eigenfunction[-(i + 1)]):\n",
    "            # Cuts out everything to the right\n",
    "            eigenfunction[-i:] = np.zeros(len(eigenfunction[-i:]))\n",
    "            break\n",
    "    \n",
    "    return eigenfunction"
   ]
  },
  {
   "cell_type": "code",
   "execution_count": 69,
   "metadata": {},
   "outputs": [],
   "source": [
    "WKB_phi = eigenfunction_slicer(WKB_phi)\n",
    "WKB_1 = eigenfunction_slicer(WKB_1)\n",
    "WKB_2 = eigenfunction_slicer(WKB_2)\n",
    "WKB_3 = eigenfunction_slicer(WKB_3)\n",
    "WKB_4 = eigenfunction_slicer(WKB_4)"
   ]
  },
  {
   "cell_type": "code",
   "execution_count": 70,
   "metadata": {},
   "outputs": [],
   "source": [
    "# Integration interval\n",
    "dz_0 = z_0[1] - z_0[0]\n",
    "dz_1 = z_1[1] - z_1[0]\n",
    "dz_2 = z_2[1] - z_2[0]\n",
    "dz_3 = z_3[1] - z_3[0]\n",
    "dz_4 = z_4[1] - z_4[0]\n",
    "\n",
    "# Normalisation n = 0\n",
    "N_brent_0 = np.sqrt(simps(WKB_phi**2, z_0, dz_0))\n",
    "WKB_phi = WKB_phi/N_brent_0\n",
    "\n",
    "# Normalisation n = 1\n",
    "N_brent_1 = np.sqrt(simps(WKB_1**2, z_1, dz_1))\n",
    "WKB_1 = WKB_1/N_brent_1\n",
    "\n",
    "# Normalisation n = 2\n",
    "N_brent_2 = np.sqrt(simps(WKB_2**2, z_2, dz_2))\n",
    "WKB_2 = WKB_2/N_brent_2\n",
    "\n",
    "# Normalisation n = 3\n",
    "N_brent_3 = np.sqrt(simps(WKB_3**2, z_3, dz_3))\n",
    "WKB_3 = WKB_3/N_brent_3\n",
    "\n",
    "# Normalisation n = 4\n",
    "N_brent_4 = np.sqrt(simps(WKB_4**2, z_4, dz_4))\n",
    "WKB_4 = WKB_4/N_brent_4"
   ]
  },
  {
   "cell_type": "code",
   "execution_count": 71,
   "metadata": {},
   "outputs": [
    {
     "data": {
      "image/png": "[encoded data removed]",
      "text/plain": [
       "<Figure size 1152x432 with 5 Axes>"
      ]
     },
     "metadata": {
      "needs_background": "light"
     },
     "output_type": "display_data"
    }
   ],
   "source": [
    "# Plotting error\n",
    "fig = plt.figure(figsize=(16, 6))\n",
    "\n",
    "# n = 0 eigenfunction\n",
    "ax0 = fig.add_subplot(2,3,1)\n",
    "ax0.set_xlim(-4, 4)\n",
    "#ax0.set_ylim(-1.5, 1.5)\n",
    "ax0.plot(z_0, -WKB_phi, \"b\", label=\"$n=0$\")\n",
    "ax0.legend()\n",
    "\n",
    "# n = 1 eigenfunction\n",
    "ax1 = fig.add_subplot(2,3,2)\n",
    "ax1.set_xlim(-4, 4)\n",
    "#ax1.set_ylim(-1.5, 1.5)\n",
    "ax1.plot(z_1, -WKB_1, \"b\", label=\"$n=1$\")\n",
    "ax1.legend()\n",
    "\n",
    "# n = 2 eigenfunction\n",
    "ax2 = fig.add_subplot(2,3,3)\n",
    "ax2.set_xlim(-4, 4)\n",
    "#ax2.set_ylim(-1.5, 1.5)\n",
    "ax2.plot(z_2, WKB_2, \"b\", label=\"$n=2$\")\n",
    "ax2.legend()\n",
    "\n",
    "# n = 3 eigenfunction\n",
    "ax3 = fig.add_subplot(2,3,4)\n",
    "ax3.set_xlim(-4, 4)\n",
    "#ax3.set_ylim(-1.5, 1.5)\n",
    "ax3.plot(z_3, WKB_3, \"b\", label=\"$n=3$\")\n",
    "ax3.legend()\n",
    "\n",
    "# n = 4 eigenfunction\n",
    "ax4 = fig.add_subplot(2,3,5)\n",
    "ax4.set_xlim(-4, 4)\n",
    "#ax4.set_ylim(-1.5, 1.5)\n",
    "ax4.plot(z_4, -WKB_4, \"b\", label=\"$n=4$\")\n",
    "ax4.legend()\n",
    "plt.savefig(\"asymmetric eigenfunctions.pdf\")"
   ]
  },
  {
   "cell_type": "code",
   "execution_count": 73,
   "metadata": {},
   "outputs": [],
   "source": [
    "import pandas as pd\n",
    "phi = {\n",
    "        0: -WKB_phi,\n",
    "        1: -WKB_1,\n",
    "        2: WKB_2,\n",
    "        3: WKB_3,\n",
    "        4: -WKB_4,\n",
    "        \"z0\": z_0,\n",
    "        \"z1\": z_1,\n",
    "        \"z2\": z_2,\n",
    "        \"z3\": z_3,\n",
    "        \"z4\": z_4\n",
    "          }\n",
    "df = pd.DataFrame(phi)\n",
    "df.to_csv(\"asymmetric.csv\", index=\"false\")"
   ]
  },
  {
   "cell_type": "code",
   "execution_count": 171,
   "metadata": {},
   "outputs": [
    {
     "data": {
      "image/png": "[encoded data removed]",
      "text/plain": [
       "<Figure size 432x288 with 1 Axes>"
      ]
     },
     "metadata": {
      "needs_background": "light"
     },
     "output_type": "display_data"
    }
   ],
   "source": [
    "plt.xlim(-4, 4)\n",
    "plt.ylim(-1.5, 1.5)\n",
    "#plt.xlabel(\"$z$\")\n",
    "plt.ylabel(\"$\\psi_n(z)$\", fontsize=14)\n",
    "plt.plot(z, -WKB_phi, \"b\", label=\"$n=0$\")\n",
    "plt.legend()\n",
    "plt.savefig(\"as0.pdf\")"
   ]
  },
  {
   "cell_type": "code",
   "execution_count": 172,
   "metadata": {},
   "outputs": [
    {
     "data": {
      "image/png": "[encoded data removed]",
      "text/plain": [
       "<Figure size 432x288 with 1 Axes>"
      ]
     },
     "metadata": {
      "needs_background": "light"
     },
     "output_type": "display_data"
    }
   ],
   "source": [
    "plt.xlim(-4, 4)\n",
    "plt.ylim(-1.5, 1.5)\n",
    "#plt.xlabel(\"$z$\")\n",
    "#plt.ylabel(\"$\\psi_n(z)$\")\n",
    "plt.xticks(fontsize=16)\n",
    "plt.yticks(fontsize=16)\n",
    "plt.plot(z, -WKB_1, \"b\", label=\"$n=1$\")\n",
    "plt.legend()\n",
    "plt.savefig(\"as1.pdf\", bbox_inches='tight')"
   ]
  },
  {
   "cell_type": "code",
   "execution_count": 173,
   "metadata": {},
   "outputs": [
    {
     "data": {
      "image/png": "[encoded data removed]",
      "text/plain": [
       "<Figure size 432x288 with 1 Axes>"
      ]
     },
     "metadata": {
      "needs_background": "light"
     },
     "output_type": "display_data"
    }
   ],
   "source": [
    "plt.xlim(-4, 4)\n",
    "plt.ylim(-1.5, 1.5)\n",
    "plt.xlabel(\"$z$\", fontsize=16)\n",
    "#plt.ylabel(\"$\\psi_n(z)$\")\n",
    "plt.xticks(fontsize=16)\n",
    "plt.yticks(fontsize=16)\n",
    "plt.plot(z, WKB_2, \"b\", label=\"$n=2$\")\n",
    "plt.legend()\n",
    "plt.savefig(\"as2.pdf\", bbox_inches='tight')"
   ]
  },
  {
   "cell_type": "code",
   "execution_count": 174,
   "metadata": {
    "scrolled": true
   },
   "outputs": [
    {
     "data": {
      "image/png": "[encoded data removed]",
      "text/plain": [
       "<Figure size 432x288 with 1 Axes>"
      ]
     },
     "metadata": {
      "needs_background": "light"
     },
     "output_type": "display_data"
    }
   ],
   "source": [
    "plt.xlim(-4, 4)\n",
    "plt.ylim(-1.5, 1.5)\n",
    "plt.xlabel(\"$z$\", fontsize=16)\n",
    "plt.ylabel(\"$\\psi_n(z)$\", fontsize=16)\n",
    "plt.xticks(fontsize=16)\n",
    "plt.yticks(fontsize=16)\n",
    "plt.plot(z, WKB_3, \"b\", label=\"$n=3$\")\n",
    "plt.legend()\n",
    "plt.savefig(\"as3.pdf\", bbox_inches='tight')"
   ]
  },
  {
   "cell_type": "code",
   "execution_count": 175,
   "metadata": {},
   "outputs": [
    {
     "data": {
      "image/png": "[encoded data removed]",
      "text/plain": [
       "<Figure size 432x288 with 1 Axes>"
      ]
     },
     "metadata": {
      "needs_background": "light"
     },
     "output_type": "display_data"
    }
   ],
   "source": [
    "plt.xlim(-4, 4)\n",
    "plt.ylim(-1.5, 1.5)\n",
    "plt.xlabel(\"$z$\", fontsize=16)\n",
    "#plt.ylabel(\"$\\psi_n(z)$\")\n",
    "plt.plot(z, -WKB_4, \"b\", label=\"$n=4$\")\n",
    "plt.xticks(fontsize=16)\n",
    "plt.yticks(fontsize=16)\n",
    "plt.legend()\n",
    "plt.savefig(\"as4.pdf\", bbox_inches='tight')"
   ]
  },
  {
   "cell_type": "code",
   "execution_count": 176,
   "metadata": {},
   "outputs": [
    {
     "ename": "ValueError",
     "evalue": "f(a) and f(b) must have different signs",
     "output_type": "error",
     "traceback": [
      "\u001b[0;31m---------------------------------------------------------------------------\u001b[0m",
      "\u001b[0;31mValueError\u001b[0m                                Traceback (most recent call last)",
      "\u001b[0;32m<ipython-input-176-d33de68d6cfd>\u001b[0m in \u001b[0;36m<module>\u001b[0;34m\u001b[0m\n\u001b[1;32m     28\u001b[0m                 \u001b[0;32mbreak\u001b[0m\u001b[0;34m\u001b[0m\u001b[0;34m\u001b[0m\u001b[0m\n\u001b[1;32m     29\u001b[0m      \u001b[0;31m# Applies WKB and root finding algorithm\u001b[0m\u001b[0;34m\u001b[0m\u001b[0;34m\u001b[0m\u001b[0;34m\u001b[0m\u001b[0m\n\u001b[0;32m---> 30\u001b[0;31m     \u001b[0mscipy_brent_1\u001b[0m\u001b[0;34m,\u001b[0m \u001b[0mresults_brent_1\u001b[0m \u001b[0;34m=\u001b[0m \u001b[0moptimize\u001b[0m\u001b[0;34m.\u001b[0m\u001b[0mbrentq\u001b[0m\u001b[0;34m(\u001b[0m\u001b[0mWKB_solution\u001b[0m\u001b[0;34m.\u001b[0m\u001b[0meigenfunction\u001b[0m\u001b[0;34m,\u001b[0m \u001b[0mlower_eigenvalue\u001b[0m\u001b[0;34m,\u001b[0m \u001b[0mupper_eigenvalue\u001b[0m\u001b[0;34m,\u001b[0m \u001b[0mfull_output\u001b[0m\u001b[0;34m=\u001b[0m\u001b[0;32mTrue\u001b[0m\u001b[0;34m,\u001b[0m \u001b[0mxtol\u001b[0m\u001b[0;34m=\u001b[0m\u001b[0mtolerance\u001b[0m\u001b[0;34m)\u001b[0m\u001b[0;34m\u001b[0m\u001b[0;34m\u001b[0m\u001b[0m\n\u001b[0m\u001b[1;32m     31\u001b[0m     \u001b[0meigenvalues_1\u001b[0m\u001b[0;34m[\u001b[0m\u001b[0mi\u001b[0m\u001b[0;34m]\u001b[0m \u001b[0;34m=\u001b[0m \u001b[0mscipy_brent_1\u001b[0m\u001b[0;34m\u001b[0m\u001b[0;34m\u001b[0m\u001b[0m\n",
      "\u001b[0;32m//anaconda3/lib/python3.7/site-packages/scipy/optimize/zeros.py\u001b[0m in \u001b[0;36mbrentq\u001b[0;34m(f, a, b, args, xtol, rtol, maxiter, full_output, disp)\u001b[0m\n\u001b[1;32m    773\u001b[0m     \u001b[0;32mif\u001b[0m \u001b[0mrtol\u001b[0m \u001b[0;34m<\u001b[0m \u001b[0m_rtol\u001b[0m\u001b[0;34m:\u001b[0m\u001b[0;34m\u001b[0m\u001b[0;34m\u001b[0m\u001b[0m\n\u001b[1;32m    774\u001b[0m         \u001b[0;32mraise\u001b[0m \u001b[0mValueError\u001b[0m\u001b[0;34m(\u001b[0m\u001b[0;34m\"rtol too small (%g < %g)\"\u001b[0m \u001b[0;34m%\u001b[0m \u001b[0;34m(\u001b[0m\u001b[0mrtol\u001b[0m\u001b[0;34m,\u001b[0m \u001b[0m_rtol\u001b[0m\u001b[0;34m)\u001b[0m\u001b[0;34m)\u001b[0m\u001b[0;34m\u001b[0m\u001b[0;34m\u001b[0m\u001b[0m\n\u001b[0;32m--> 775\u001b[0;31m     \u001b[0mr\u001b[0m \u001b[0;34m=\u001b[0m \u001b[0m_zeros\u001b[0m\u001b[0;34m.\u001b[0m\u001b[0m_brentq\u001b[0m\u001b[0;34m(\u001b[0m\u001b[0mf\u001b[0m\u001b[0;34m,\u001b[0m \u001b[0ma\u001b[0m\u001b[0;34m,\u001b[0m \u001b[0mb\u001b[0m\u001b[0;34m,\u001b[0m \u001b[0mxtol\u001b[0m\u001b[0;34m,\u001b[0m \u001b[0mrtol\u001b[0m\u001b[0;34m,\u001b[0m \u001b[0mmaxiter\u001b[0m\u001b[0;34m,\u001b[0m \u001b[0margs\u001b[0m\u001b[0;34m,\u001b[0m \u001b[0mfull_output\u001b[0m\u001b[0;34m,\u001b[0m \u001b[0mdisp\u001b[0m\u001b[0;34m)\u001b[0m\u001b[0;34m\u001b[0m\u001b[0;34m\u001b[0m\u001b[0m\n\u001b[0m\u001b[1;32m    776\u001b[0m     \u001b[0;32mreturn\u001b[0m \u001b[0mresults_c\u001b[0m\u001b[0;34m(\u001b[0m\u001b[0mfull_output\u001b[0m\u001b[0;34m,\u001b[0m \u001b[0mr\u001b[0m\u001b[0;34m)\u001b[0m\u001b[0;34m\u001b[0m\u001b[0;34m\u001b[0m\u001b[0m\n\u001b[1;32m    777\u001b[0m \u001b[0;34m\u001b[0m\u001b[0m\n",
      "\u001b[0;31mValueError\u001b[0m: f(a) and f(b) must have different signs"
     ]
    }
   ],
   "source": [
    "# Alpha bar values\n",
    "alpha_bar = np.logspace(-2, 0.3, 1000)\n",
    "\n",
    "# Initial eigenvalue guess range\n",
    "upper_eigenvalue = 0.41\n",
    "lower_eigenvalue = 0.38\n",
    "\n",
    "# Array for eigenvalues\n",
    "eigenvalues_1 = np.zeros(len(alpha_bar))\n",
    "\n",
    "# Loops over all values of alpha bar\n",
    "for i in range(len(alpha_bar)):\n",
    "    # Applies WKB approximation to find initial conditions and integrates numerically\n",
    "    WKB_solution = eigenfunction_finder_WKB()\n",
    "    WKB_solution.alpha_bar = alpha_bar[i]\n",
    "    WKB_solution.beta = 0.5\n",
    "    # If we already have the first eigenvalue set guess range around that value\n",
    "    if i >= 1:\n",
    "        upper_eigenvalue = scipy_brent_1 + 0.005\n",
    "        lower_eigenvalue = scipy_brent_1 - 0.005\n",
    "        V_upper = WKB_solution.eigenfunction(upper_eigenvalue)\n",
    "        V_lower = WKB_solution.eigenfunction(lower_eigenvalue)   \n",
    "        # Checks for sign change in interval\n",
    "        while V_upper/V_lower > 0:\n",
    "            lower_eigenvalue += 0.0002\n",
    "            V_lower = WKB_solution.eigenfunction(lower_eigenvalue)\n",
    "            if upper_eigenvalue <= lower_eigenvalue:\n",
    "                break\n",
    "     # Applies WKB and root finding algorithm  \n",
    "    scipy_brent_1, results_brent_1 = optimize.brentq(WKB_solution.eigenfunction, lower_eigenvalue, upper_eigenvalue, full_output=True, xtol=tolerance)\n",
    "    eigenvalues_1[i] = scipy_brent_1"
   ]
  },
  {
   "cell_type": "code",
   "execution_count": 177,
   "metadata": {},
   "outputs": [],
   "source": [
    "# Alpha bar values\n",
    "alpha_bar = np.logspace(-2, 0.3, 1000)\n",
    "\n",
    "# Initial eigenvalue guess range\n",
    "upper_eigenvalue = 0.6\n",
    "lower_eigenvalue = 0.5\n",
    "\n",
    "# Array for eigenvalues\n",
    "eigenvalues_2 = np.zeros(len(alpha_bar))\n",
    "\n",
    "# Loops over all values of alpha bar\n",
    "for i in range(len(alpha_bar)):\n",
    "    # If we already have the first eigenvalue set guess range around that value\n",
    "    if i >= 1:\n",
    "        upper_eigenvalue = scipy_brent_2 + 0.005\n",
    "        lower_eigenvalue = scipy_brent_2 - 0.005\n",
    "    # Applies WKB approximation to find initial conditions and integrates numerically\n",
    "    WKB_solution = eigenfunction_finder_WKB()\n",
    "    WKB_solution.alpha_bar = alpha_bar[i]\n",
    "    WKB_solution.beta = 0.5\n",
    "    scipy_brent_2, results_brent_2 = optimize.brentq(WKB_solution.eigenfunction, lower_eigenvalue, upper_eigenvalue, full_output=True, xtol=tolerance)\n",
    "    eigenvalues_2[i] = scipy_brent_2"
   ]
  },
  {
   "cell_type": "code",
   "execution_count": 178,
   "metadata": {},
   "outputs": [],
   "source": [
    "# Alpha bar values\n",
    "alpha_bar = np.logspace(-2, 0.3, 1000)\n",
    "\n",
    "# Initial eigenvalue guess range\n",
    "upper_eigenvalue = 0.8\n",
    "lower_eigenvalue = 0.6\n",
    "\n",
    "# Array for eigenvalues\n",
    "eigenvalues_3 = np.zeros(len(alpha_bar))\n",
    "\n",
    "# Loops over all values of alpha bar\n",
    "for i in range(len(alpha_bar)):\n",
    "    # Applies WKB approximation to find initial conditions and integrates numerically\n",
    "    WKB_solution = eigenfunction_finder_WKB()\n",
    "    WKB_solution.alpha_bar = alpha_bar[i]\n",
    "    WKB_solution.beta = 0.5\n",
    "    # If we already have the first eigenvalue set guess range around that value\n",
    "    if i >= 1:\n",
    "        upper_eigenvalue = scipy_brent_3 + 0.005\n",
    "        lower_eigenvalue = scipy_brent_3 - 0.005\n",
    "        V_upper = WKB_solution.eigenfunction(upper_eigenvalue)\n",
    "        V_lower = WKB_solution.eigenfunction(lower_eigenvalue)   \n",
    "        # Checks for sign change in interval\n",
    "        while V_upper/V_lower > 0:\n",
    "            upper_eigenvalue -= 0.0002\n",
    "            V_upper = WKB_solution.eigenfunction(upper_eigenvalue)\n",
    "            if upper_eigenvalue <= lower_eigenvalue:\n",
    "                break\n",
    "     # Applies WKB and root finding algorithm       \n",
    "    scipy_brent_3, results_brent_3 = optimize.brentq(WKB_solution.eigenfunction, lower_eigenvalue, upper_eigenvalue, full_output=True, xtol=tolerance)\n",
    "    eigenvalues_3[i] = scipy_brent_3   "
   ]
  },
  {
   "cell_type": "code",
   "execution_count": 179,
   "metadata": {
    "scrolled": true
   },
   "outputs": [],
   "source": [
    "# Alpha bar values\n",
    "alpha_bar = np.logspace(-2, 0.3, 1000)\n",
    "\n",
    "# Initial eigenvalue guess range\n",
    "upper_eigenvalue = 1\n",
    "lower_eigenvalue = 0.8\n",
    "\n",
    "# Array for eigenvalues\n",
    "eigenvalues_4 = np.zeros(len(alpha_bar))\n",
    "\n",
    "# Loops over all values of alpha bar\n",
    "for i in range(len(alpha_bar)):\n",
    "    # Applies WKB approximation to find initial conditions and integrates numerically\n",
    "    WKB_solution = eigenfunction_finder_WKB()\n",
    "    WKB_solution.alpha_bar = alpha_bar[i]\n",
    "    WKB_solution.beta = 0.5\n",
    "    # If we already have the first eigenvalue set guess range around that value\n",
    "    if i >= 1:\n",
    "        upper_eigenvalue = scipy_brent_4 + 0.005\n",
    "        lower_eigenvalue = scipy_brent_4 - 0.005\n",
    "        V_upper = WKB_solution.eigenfunction(upper_eigenvalue)\n",
    "        V_lower = WKB_solution.eigenfunction(lower_eigenvalue)\n",
    "        # Checks for sign change in interval\n",
    "        while V_upper/V_lower > 0:\n",
    "            if scipy_brent_4 < 0.44:\n",
    "                lower_eigenvalue += 0.0002\n",
    "                V_lower = WKB_solution.eigenfunction(lower_eigenvalue)\n",
    "                if upper_eigenvalue <= lower_eigenvalue:\n",
    "                    break\n",
    "            else:\n",
    "                upper_eigenvalue -= 0.0002\n",
    "                V_upper = WKB_solution.eigenfunction(upper_eigenvalue)\n",
    "                if upper_eigenvalue <= lower_eigenvalue:\n",
    "                    break                \n",
    "     # Applies WKB and root finding algorithm\n",
    "    scipy_brent_4, results_brent_4 = optimize.brentq(WKB_solution.eigenfunction, lower_eigenvalue, upper_eigenvalue, full_output=True, xtol=tolerance)\n",
    "    eigenvalues_4[i] = scipy_brent_4  "
   ]
  },
  {
   "cell_type": "code",
   "execution_count": 180,
   "metadata": {},
   "outputs": [
    {
     "data": {
      "text/plain": [
       "array([0.9521113 , 0.95204637, 0.9519811 , 0.95191549, 0.95184967,\n",
       "       0.95178325, 0.95171663, 0.95164959, 0.95158219, 0.95151469,\n",
       "       0.95144653, 0.95137798, 0.95130917, 0.95124002, 0.95117063,\n",
       "       0.9511008 , 0.95103061, 0.95096003, 0.95088909, 0.95081763,\n",
       "       0.95074608, 0.95067404, 0.95060164, 0.95052878, 0.9504557 ,\n",
       "       0.95038212, 0.95030817, 0.95023382, 0.95015916, 0.950084  ,\n",
       "       0.95000851, 0.94993264, 0.94985634, 0.94977969, 0.94970257,\n",
       "       0.94962514, 0.94954727, 0.94946892, 0.94939024, 0.94931115,\n",
       "       0.94923165, 0.94915174, 0.94907141, 0.94899067, 0.94890952,\n",
       "       0.94882794, 0.94874595, 0.94866352, 0.94858067, 0.94849738,\n",
       "       0.94841367, 0.94832952, 0.94824494, 0.94816002, 0.94807451,\n",
       "       0.94798861, 0.94790232, 0.94781544, 0.94772815, 0.94764052,\n",
       "       0.94755237, 0.94746388, 0.94737481, 0.9472852 , 0.94719521,\n",
       "       0.94710481, 0.94701388, 0.9469225 , 0.94683064, 0.94673831,\n",
       "       0.9466455 , 0.94655222, 0.94645844, 0.94636416, 0.94626951,\n",
       "       0.94617394, 0.94607859, 0.94598226, 0.94588554, 0.94578838,\n",
       "       0.94569069, 0.94559247, 0.94549367, 0.94539443, 0.94529471,\n",
       "       0.94519465, 0.9450939 , 0.9449926 , 0.94489078, 0.94478845,\n",
       "       0.94468552, 0.94458216, 0.94447823, 0.94437371, 0.94426887,\n",
       "       0.9441632 , 0.94405713, 0.94395058, 0.9438434 , 0.94373566,\n",
       "       0.94362744, 0.94351849, 0.94340923, 0.94329941, 0.94318875,\n",
       "       0.94307759, 0.942966  , 0.94285395, 0.94274116, 0.94262779,\n",
       "       0.94251384, 0.94239931, 0.94228418, 0.94216847, 0.94205217,\n",
       "       0.94193527, 0.94181777, 0.94169967, 0.94158097, 0.94146165,\n",
       "       0.94134173, 0.9412212 , 0.94110005, 0.94097811, 0.94085587,\n",
       "       0.94073274, 0.9406091 , 0.94048488, 0.94036009, 0.9402346 ,\n",
       "       0.94010824, 0.9399814 , 0.93985397, 0.93972583, 0.93959705,\n",
       "       0.9394676 , 0.9393375 , 0.93920673, 0.9390753 , 0.9389432 ,\n",
       "       0.93881026, 0.9386768 , 0.93854267, 0.93840786, 0.93827236,\n",
       "       0.93813617, 0.93799929, 0.93786176, 0.93772348, 0.9375845 ,\n",
       "       0.93744482, 0.93730443, 0.93716332, 0.93702149, 0.93687895,\n",
       "       0.93673568, 0.93659169, 0.93644696, 0.93630149, 0.93615529,\n",
       "       0.93600835, 0.93586067, 0.93571224, 0.93556305, 0.93541317,\n",
       "       0.93526248, 0.93511103, 0.93495873, 0.93480572, 0.93465196,\n",
       "       0.93449741, 0.93434204, 0.93418607, 0.93402907, 0.93387154,\n",
       "       0.93371292, 0.93355375, 0.93339384, 0.9332329 , 0.93307095,\n",
       "       0.93290843, 0.93274513, 0.93258098, 0.93241578, 0.93225012,\n",
       "       0.93208345, 0.93191594, 0.93174749, 0.93157854, 0.93140853,\n",
       "       0.93123764, 0.93106573, 0.93089313, 0.93071963, 0.93054529,\n",
       "       0.93037009, 0.93019404, 0.93001707, 0.9298392 , 0.92966041,\n",
       "       0.92948076, 0.92930018, 0.92911875, 0.92893638, 0.92875308,\n",
       "       0.92856888, 0.92838379, 0.9281977 , 0.92801073, 0.92782284,\n",
       "       0.92763401, 0.9274442 , 0.92725343, 0.92706179, 0.92686906,\n",
       "       0.92667546, 0.92648089, 0.92628544, 0.92608885, 0.92589131,\n",
       "       0.92569292, 0.92549341, 0.92529298, 0.92509154, 0.92488909,\n",
       "       0.92468563, 0.92448114, 0.92427572, 0.92406925, 0.92386161,\n",
       "       0.92365312, 0.92344351, 0.92323289, 0.92302123, 0.92280853,\n",
       "       0.92259476, 0.92237994, 0.92216406, 0.92194711, 0.92172908,\n",
       "       0.92150998, 0.9212898 , 0.9210685 , 0.92084614, 0.92062269,\n",
       "       0.92039814, 0.92017248, 0.91994572, 0.91971797, 0.91948897,\n",
       "       0.91925883, 0.91902758, 0.9187952 , 0.91856163, 0.91832691,\n",
       "       0.9180911 , 0.91785412, 0.91761592, 0.9173766 , 0.91713611,\n",
       "       0.91689446, 0.91665155, 0.91640753, 0.91616232, 0.91591592,\n",
       "       0.91566825, 0.91541939, 0.91516929, 0.91491802, 0.9146655 ,\n",
       "       0.91441182, 0.91415687, 0.91390067, 0.91364322, 0.91338453,\n",
       "       0.91312459, 0.91286332, 0.91260083, 0.91233707, 0.91207202,\n",
       "       0.91180569, 0.91153807, 0.91126916, 0.91099894, 0.91072742,\n",
       "       0.91045458, 0.91018043, 0.90990501, 0.9096282 , 0.90935   ,\n",
       "       0.90907052, 0.90878963, 0.90850745, 0.90822392, 0.90793901,\n",
       "       0.90765274, 0.90736509, 0.90707607, 0.90678566, 0.90649384,\n",
       "       0.90620063, 0.90590601, 0.90560999, 0.90531255, 0.90501366,\n",
       "       0.90471338, 0.90441158, 0.90410849, 0.90380397, 0.90349777,\n",
       "       0.90319037, 0.9028813 , 0.90257084, 0.90225891, 0.90194556,\n",
       "       0.90163065, 0.90131425, 0.90099637, 0.90067693, 0.90035593,\n",
       "       0.90003353, 0.89970955, 0.89938399, 0.89905715, 0.8987284 ,\n",
       "       0.89839798, 0.89806658, 0.89773342, 0.89739858, 0.89706213,\n",
       "       0.89672416, 0.89638459, 0.89604343, 0.89570067, 0.89535631,\n",
       "       0.89501033, 0.89466266, 0.89431353, 0.89396255, 0.89361022,\n",
       "       0.89325606, 0.89290031, 0.89254289, 0.89218372, 0.89182284,\n",
       "       0.89146038, 0.89109622, 0.89073038, 0.89036284, 0.8899936 ,\n",
       "       0.88962277, 0.8892501 , 0.88887565, 0.8884996 , 0.88812174,\n",
       "       0.88774214, 0.88736079, 0.88697768, 0.88659276, 0.88620613,\n",
       "       0.88581776, 0.88542741, 0.88503517, 0.88464142, 0.88424587,\n",
       "       0.88384868, 0.88344946, 0.88304843, 0.88264561, 0.8822408 ,\n",
       "       0.88183448, 0.88142607, 0.88101574, 0.88060364, 0.88018966,\n",
       "       0.87977381, 0.87935607, 0.87893643, 0.87851491, 0.87809148,\n",
       "       0.87766614, 0.87723889, 0.87680971, 0.8763786 , 0.87594554,\n",
       "       0.87551052, 0.87507359, 0.87463469, 0.87419389, 0.87375103,\n",
       "       0.87330625, 0.87285945, 0.87241067, 0.87195974, 0.87150694,\n",
       "       0.87105196, 0.87059538, 0.87013664, 0.86967569, 0.86921281,\n",
       "       0.86874785, 0.8682808 , 0.86781177, 0.86734063, 0.86686746,\n",
       "       0.86639226, 0.8659149 , 0.86543539, 0.86495395, 0.86447031,\n",
       "       0.86398456, 0.86349649, 0.86300654, 0.86251446, 0.86201977,\n",
       "       0.86152374, 0.86102525, 0.86052452, 0.86002173, 0.85951653,\n",
       "       0.85900924, 0.85849986, 0.85798831, 0.85747451, 0.85695853,\n",
       "       0.85644045, 0.85591982, 0.8553971 , 0.8548724 , 0.85434536,\n",
       "       0.85381593, 0.85328441, 0.85275045, 0.85221435, 0.85167622,\n",
       "       0.85113537, 0.85059244, 0.85004722, 0.84949971, 0.8489499 ,\n",
       "       0.8483978 , 0.84784345, 0.84728648, 0.84672762, 0.8461662 ,\n",
       "       0.84560239, 0.84503636, 0.84446797, 0.8438972 , 0.84332409,\n",
       "       0.8427483 , 0.84217085, 0.84159051, 0.84100791, 0.84042297,\n",
       "       0.83983557, 0.83924581, 0.83865363, 0.83805904, 0.83746203,\n",
       "       0.83686263, 0.83626081, 0.83565643, 0.83504981, 0.83444067,\n",
       "       0.83382913, 0.83321511, 0.83259855, 0.83197972, 0.83135818,\n",
       "       0.83073428, 0.83010806, 0.82947911, 0.82884776, 0.82821408,\n",
       "       0.82757756, 0.82693879, 0.82629742, 0.82565357, 0.82500737,\n",
       "       0.82435841, 0.82370703, 0.82305315, 0.82239672, 0.82173775,\n",
       "       0.82107617, 0.82041217, 0.81974555, 0.81907632, 0.81840467,\n",
       "       0.81773042, 0.81705361, 0.81637423, 0.81569229, 0.81500779,\n",
       "       0.81432048, 0.81363091, 0.81293883, 0.81224401, 0.8115466 ,\n",
       "       0.81084662, 0.81014403, 0.80943885, 0.80873108, 0.80802071,\n",
       "       0.80730774, 0.80659217, 0.805874  , 0.80515322, 0.80442983,\n",
       "       0.80370384, 0.80297523, 0.80224401, 0.80151018, 0.80077374,\n",
       "       0.80003468, 0.799293  , 0.7985487 , 0.79780179, 0.79705226,\n",
       "       0.7963001 , 0.79554533, 0.79478794, 0.79402801, 0.79326541,\n",
       "       0.79250009, 0.79173224, 0.79096182, 0.79018865, 0.78941293,\n",
       "       0.7886346 , 0.78785365, 0.78707004, 0.78628398, 0.78549513,\n",
       "       0.78470376, 0.78390974, 0.78311312, 0.78231385, 0.78151212,\n",
       "       0.78070788, 0.77990093, 0.77909126, 0.77827909, 0.77746443,\n",
       "       0.77664706, 0.77582718, 0.77500466, 0.77417967, 0.77335215,\n",
       "       0.77252195, 0.77168919, 0.77085409, 0.77001625, 0.76917605,\n",
       "       0.76833308, 0.7674878 , 0.76663985, 0.76578938, 0.76493657,\n",
       "       0.76408116, 0.76322328, 0.76236304, 0.76150023, 0.76063493,\n",
       "       0.75976726, 0.75889699, 0.7580244 , 0.75714906, 0.75627177,\n",
       "       0.75539194, 0.75450991, 0.75362518, 0.75273815, 0.75184878,\n",
       "       0.75095703, 0.75006304, 0.74916666, 0.74826796, 0.74736695,\n",
       "       0.74646357, 0.74555785, 0.74465022, 0.74374006, 0.7428277 ,\n",
       "       0.74191321, 0.74099644, 0.7400776 , 0.73915659, 0.73823318,\n",
       "       0.73730788, 0.73638039, 0.73545098, 0.73451908, 0.7335854 ,\n",
       "       0.73264966, 0.73171187, 0.73077223, 0.72983029, 0.72888654,\n",
       "       0.72794094, 0.72699329, 0.72604385, 0.72509257, 0.72413928,\n",
       "       0.72318424, 0.72222735, 0.72126868, 0.7203083 , 0.7193462 ,\n",
       "       0.71838236, 0.71741684, 0.71644975, 0.71548096, 0.71451057,\n",
       "       0.71353866, 0.71256514, 0.71159015, 0.71061367, 0.70963575,\n",
       "       0.7086564 , 0.70767562, 0.70669359, 0.70571017, 0.70472545,\n",
       "       0.70373957, 0.70275238, 0.70176401, 0.70077442, 0.69978389,\n",
       "       0.69879206, 0.69779934, 0.69680559, 0.69581082, 0.69481501,\n",
       "       0.69381841, 0.69282108, 0.69182278, 0.69082376, 0.68982394,\n",
       "       0.68882343, 0.68782227, 0.68682052, 0.6858181 , 0.68481521,\n",
       "       0.68381183, 0.68280797, 0.68180376, 0.6807991 , 0.67979411,\n",
       "       0.67878892, 0.67778342, 0.67677781, 0.67577202, 0.67476605,\n",
       "       0.67376018, 0.67275414, 0.67174816, 0.67074229, 0.66973656,\n",
       "       0.66873104, 0.66772555, 0.66672043, 0.66571564, 0.66471112,\n",
       "       0.66370701, 0.66270334, 0.66170014, 0.66069747, 0.65969528,\n",
       "       0.65869373, 0.65769276, 0.65669252, 0.65569299, 0.65469429,\n",
       "       0.65369628, 0.65269914, 0.65170288, 0.65070751, 0.64971313,\n",
       "       0.64871969, 0.64772714, 0.64673571, 0.64574536, 0.64475603,\n",
       "       0.6437678 , 0.64278085, 0.64179499, 0.64081024, 0.63982678,\n",
       "       0.63884446, 0.63786328, 0.6368835 , 0.63590487, 0.63492741,\n",
       "       0.63395132, 0.63297637, 0.63200271, 0.63103029, 0.63005909,\n",
       "       0.62908909, 0.62812032, 0.62715267, 0.62618618, 0.62522077,\n",
       "       0.62425647, 0.6232932 , 0.62233098, 0.6213697 , 0.62040932,\n",
       "       0.61944979, 0.61849074, 0.61753275, 0.61657551, 0.61561863,\n",
       "       0.61466238, 0.61370639, 0.61275073, 0.61179526, 0.6108394 ,\n",
       "       0.60988401, 0.60892839, 0.60797258, 0.60701641, 0.60605957,\n",
       "       0.60510215, 0.60414372, 0.60318435, 0.60222384, 0.6012619 ,\n",
       "       0.60029839, 0.59933326, 0.59836608, 0.59739678, 0.59642507,\n",
       "       0.59545083, 0.59447383, 0.59349371, 0.59251031, 0.59152335,\n",
       "       0.59053259, 0.58953781, 0.58853861, 0.58753492, 0.58652621,\n",
       "       0.58551237, 0.58449305, 0.58346799, 0.58243687, 0.58139934,\n",
       "       0.58035511, 0.57930383, 0.57824522, 0.57717895, 0.57610473,\n",
       "       0.57502221, 0.57393105, 0.57283094, 0.57172156, 0.5706026 ,\n",
       "       0.56947372, 0.56833459, 0.56718495, 0.56602445, 0.56485283,\n",
       "       0.56366969, 0.56247488, 0.56126805, 0.56004894, 0.55881725,\n",
       "       0.55757277, 0.55631524, 0.55504439, 0.55376005, 0.55246199,\n",
       "       0.55114999, 0.54982387, 0.54848351, 0.54712868, 0.54575928,\n",
       "       0.54437514, 0.54297621, 0.54156227, 0.54013333, 0.53868929,\n",
       "       0.53723008, 0.53575565, 0.53426596, 0.53276101, 0.53124077,\n",
       "       0.52970527, 0.52815451, 0.52658846, 0.52500724, 0.52341092,\n",
       "       0.52179953, 0.52017367, 0.5185324 , 0.51687635, 0.51520562,\n",
       "       0.51352031, 0.51182055, 0.5101065 , 0.50837827, 0.50663602,\n",
       "       0.50487992, 0.50311008, 0.5013267 , 0.49952993, 0.49771997,\n",
       "       0.49589699, 0.49406118, 0.49221273, 0.49035132, 0.48847819,\n",
       "       0.48659302, 0.484696  , 0.4827873 , 0.48086718, 0.47893589,\n",
       "       0.47699364, 0.47504066, 0.4730772 , 0.47110351, 0.46911985,\n",
       "       0.46712645, 0.46512367, 0.46311182, 0.46109116, 0.45906204,\n",
       "       0.45702501, 0.454981  , 0.45292971, 0.45087271, 0.44881107,\n",
       "       0.44674663, 0.44468233, 0.44262414, 0.44058304, 0.43858695,\n",
       "       0.43671885, 0.43525271, 0.4346122 , 0.43456112, 0.4347154 ,\n",
       "       0.43494383, 0.4352049 , 0.43548365, 0.4357729 , 0.43606933,\n",
       "       0.4363707 , 0.43667587, 0.43698418, 0.43729458, 0.43760752,\n",
       "       0.43792232, 0.43823883, 0.43855685, 0.43887633, 0.43919718,\n",
       "       0.43951934, 0.43984275, 0.44016717, 0.44049318, 0.44082001,\n",
       "       0.44114788, 0.44147735, 0.4418074 , 0.44213869, 0.44247098,\n",
       "       0.44280429, 0.44313863, 0.44347397, 0.44381031, 0.44414764,\n",
       "       0.44448593, 0.44482523, 0.4451655 , 0.44550673, 0.44584893,\n",
       "       0.44619208, 0.44653619, 0.44688125, 0.44722725, 0.4475742 ,\n",
       "       0.44792209, 0.44827093, 0.44862021, 0.44897084, 0.44932249,\n",
       "       0.44967495, 0.45002832, 0.45038278, 0.45073777, 0.45109383,\n",
       "       0.45145082, 0.45180869, 0.45216756, 0.45252694, 0.45288738,\n",
       "       0.45324857, 0.45361068, 0.45397341, 0.45433618, 0.45469473,\n",
       "       0.45357664, 0.45113089, 0.44868644, 0.44624743, 0.44381481,\n",
       "       0.44138896, 0.4389707 , 0.43655999, 0.43415764, 0.43176405,\n",
       "       0.42937967, 0.42700494, 0.42464033, 0.42228638, 0.41994347,\n",
       "       0.41761206, 0.41529211, 0.41298512, 0.41069107, 0.40841046,\n",
       "       0.40614376, 0.4038915 , 0.40165416, 0.39943225, 0.39722628,\n",
       "       0.39503678, 0.39286427, 0.39070927, 0.38857231, 0.38645394,\n",
       "       0.3843547 , 0.38227515, 0.38021583, 0.37817733, 0.37616019,\n",
       "       0.37416501, 0.37219237, 0.37024286, 0.36831707, 0.36641562,\n",
       "       0.36453912, 0.3626882 , 0.36086347, 0.35906559, 0.3572952 ,\n",
       "       0.35555295, 0.35383951, 0.35215557, 0.35050179, 0.34887889,\n",
       "       0.34728756, 0.34572853, 0.34420251, 0.34271026, 0.34125252,\n",
       "       0.33983006, 0.33844365, 0.33709409, 0.33578217, 0.33450872,\n",
       "       0.33327457, 0.33208058, 0.33092759, 0.3298165 , 0.3287482 ,\n",
       "       0.32772361, 0.32674366, 0.3258093 , 0.32492152, 0.32408129,\n",
       "       0.32328964, 0.32254759, 0.32185622, 0.3212166 , 0.32062983,\n",
       "       0.32009706, 0.31961942, 0.31919811, 0.31883441, 0.31852939,\n",
       "       0.31828441, 0.31810074, 0.31797969, 0.31792259, 0.31793081,\n",
       "       0.31800572, 0.31814871, 0.31836118, 0.31864454, 0.3190002 ,\n",
       "       0.31942953, 0.3199339 , 0.32051462, 0.32117295, 0.32191004])"
      ]
     },
     "execution_count": 180,
     "metadata": {},
     "output_type": "execute_result"
    }
   ],
   "source": [
    "eigenvalues_4"
   ]
  },
  {
   "cell_type": "code",
   "execution_count": 181,
   "metadata": {},
   "outputs": [
    {
     "data": {
      "image/png": "[encoded data removed]",
      "text/plain": [
       "<Figure size 432x288 with 1 Axes>"
      ]
     },
     "metadata": {
      "needs_background": "light"
     },
     "output_type": "display_data"
    }
   ],
   "source": [
    "# Plotting\n",
    "plt.plot(alpha_bar, eigenvalues_1, \"b-\", label=\"$n=1$\")\n",
    "plt.plot(alpha_bar, eigenvalues_2, \"b--\", label=\"$n=2$\")\n",
    "plt.plot(alpha_bar, eigenvalues_3, \"b-.\", label=\"$n=3$\")\n",
    "plt.plot(alpha_bar, eigenvalues_4, \"b:\", label=\"$n=4$\")\n",
    "plt.xlabel(\"$\\\\bar{\\\\alpha}$\")\n",
    "plt.ylabel(\"$\\\\tilde{\\\\Lambda}_n(\\\\bar{\\\\alpha})$\")\n",
    "plt.legend()\n",
    "plt.xscale(\"log\")\n",
    "plt.xlim(1e-2, 10**0.17)\n",
    "plt.ylim(0, 1)\n",
    "plt.savefig(\"asymmetric-eigenvalues.pdf\")"
   ]
  }
 ],
 "metadata": {
  "kernelspec": {
   "display_name": "Python 3",
   "language": "python",
   "name": "python3"
  },
  "language_info": {
   "codemirror_mode": {
    "name": "ipython",
    "version": 3
   },
   "file_extension": ".py",
   "mimetype": "text/x-python",
   "name": "python",
   "nbconvert_exporter": "python",
   "pygments_lexer": "ipython3",
   "version": "3.7.3"
  }
 },
 "nbformat": 4,
 "nbformat_minor": 2
}
