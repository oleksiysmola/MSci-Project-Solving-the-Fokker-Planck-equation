{
 "cells": [
  {
   "cell_type": "markdown",
   "metadata": {},
   "source": [
    "Here we shall compute the power spectrum using the expansions given in https://arxiv.org/pdf/1904.11917.pdf and https://arxiv.org/pdf/2001.04494.pdf. For conviencience the key equations are given below:\n",
    "For some function of the field $f(\\varphi)$ we have\n",
    "$$f_n = \\int d\\varphi \\psi_0(\\varphi) f(\\varphi) \\psi_n(\\varphi), $$\n",
    "which gives the temporal correlation function \n",
    "$$G_f(t) = \\sum_n f^2_n e^{-\\Lambda_n t}. $$\n",
    "The spectral index of $f$ is defined \n",
    "$$n_f = 1 + \\frac{2\\Lambda_n}{H}, $$\n",
    "such that $n$ denotes the lowest non-zero $f_n$. At long distances $k<<H$ we are given the power spectrum in the form\n",
    "$$\\mathcal{P}_f(k) \\simeq A_f(n_f-1)\\left(\\frac{k}{H}\\right)^{n_f-1}, $$\n",
    "with $A_f = f^2_n$. The density contrast is given as\n",
    "$$\\delta = \\frac{\\delta\\rho_{\\varphi}}{\\langle\\rho_{\\varphi}\\rangle} = \\frac{V(\\varphi)-\\langle V(\\varphi)\\rangle}{\\langle V(\\varphi)\\rangle}. $$"
   ]
  },
  {
   "cell_type": "code",
   "execution_count": 1,
   "metadata": {},
   "outputs": [],
   "source": [
    "import numpy as np\n",
    "from math import factorial\n",
    "from scipy import optimize, interpolate\n",
    "from scipy.integrate import odeint, simps\n",
    "from scipy.special import eval_hermite, gamma\n",
    "import matplotlib.pyplot as plt\n",
    "%matplotlib inline"
   ]
  },
  {
   "cell_type": "markdown",
   "metadata": {},
   "source": [
    "We begin with the quadratic potential as this has analytic solutions of the form\n",
    "$$ \\psi_n = \\frac{\\sqrt{m}}{H}\\frac{1}{\\sqrt{2^n n!}}\\left(\\frac{4\\pi}{3}\\right)^{1/4}e^{-\\frac{2\\pi^2 \\tilde{x}^2}{3}}H_n\\left(\\frac{2\\pi\\tilde{x}}{\\sqrt{3}}\\right),$$\n",
    "where $H_n$ are the Hermite polynomials and \n",
    "$$\\tilde{x} = \\frac{m}{H^2}\\varphi. $$\n",
    "Eigenvalues are given by \n",
    "$$ \\Lambda_n = \\frac{n}{3}\\frac{m^2}{H}. $$\n",
    "In this case the expression for $f_n$ becomes\n",
    "$$f_n = \\frac{1}{\\sqrt{2^n n!}}\\left(\\frac{4\\pi}{3}\\right)^{1/2}\\int^{\\infty}_{-\\infty}d\\tilde{x} \\> e^{-\\frac{4\\pi^2 \\tilde{x}^2}{3}}f\\left(\\frac{H^2}{m} \\tilde{x}\\right)H_n\\left(\\frac{2\\pi\\tilde{x}}{\\sqrt{3}}\\right).  $$\n",
    "Considering \n",
    "$$f(\\varphi) = \\varphi = \\frac{H^2}{m} \\tilde{x}, $$\n",
    "we find that \n",
    "$$\\varphi_n = \\frac{H^2}{m}\\frac{1}{\\sqrt{2^n n!}}\\left(\\frac{4\\pi}{3}\\right)^{1/2}\\int^{\\infty}_{-\\infty}d\\tilde{x} \\> e^{-\\frac{4\\pi^2 \\tilde{x}^2}{3}}\\tilde{x}H_n\\left(\\frac{2\\pi\\tilde{x}}{\\sqrt{3}}\\right).  $$\n",
    "The lowest contribution comes from $n=1$ which gives\n",
    "$$\\varphi_1 = \\frac{H^2}{m}\\frac{1}{\\sqrt{2}}\\left(\\frac{4\\pi}{3}\\right)^{1/2}\\int^{\\infty}_{-\\infty}d\\tilde{x} \\> e^{-\\frac{4\\pi^2 \\tilde{x}^2}{3}}\\tilde{x}H_1\\left(\\frac{2\\pi\\tilde{x}}{\\sqrt{3}}\\right) $$\n",
    "$$\\varphi_1 = \\frac{H^2}{m}\\frac{1}{\\sqrt{2}}\\left(\\frac{4\\pi}{3}\\right)^{1/2}\\frac{4\\pi}{\\sqrt{3}}\\int^{\\infty}_{-\\infty}d\\tilde{x} \\> \\tilde{x}^2 e^{-\\frac{4\\pi^2 \\tilde{x}^2}{3}},$$\n",
    "which can be integrated by parts to give \n",
    "$$\\varphi_1 = -\\frac{H^2}{m}\\frac{1}{\\sqrt{2}}\\left(\\frac{4\\pi}{3}\\right)^{1/2}\\frac{4\\pi}{\\sqrt{3}}\\frac{3}{8\\pi^2}\\left(\\left[\\tilde{x}e^{-\\frac{4\\pi^2 \\tilde{x}^2}{3}}\\right]^{\\infty}_{-\\infty}-\\int^{\\infty}_{-\\infty}d\\tilde{x} \\> e^{-\\frac{4\\pi^2 \\tilde{x}^2}{3}}\\right)$$\n",
    "$$\\varphi_1 = \\frac{H^2}{m}\\frac{1}{\\sqrt{2}}\\left(\\frac{4\\pi}{3}\\right)^{1/2}\\frac{4\\pi}{\\sqrt{3}}\\frac{3}{8\\pi^2}\\left(\\frac{3}{4\\pi}\\right)^{1/2} = \\frac{H^2}{m}\\frac{3}{2\\pi\\sqrt{6}}.$$\n",
    "We can also compute the spectral index in this case with \n",
    "$$n_{\\varphi} = 1 +\\frac{2\\Lambda_1}{H} = 1 + \\frac{2m^2}{3H^2}.$$"
   ]
  },
  {
   "cell_type": "code",
   "execution_count": 2,
   "metadata": {},
   "outputs": [],
   "source": [
    "# Parameters\n",
    "hubble_rate = 1\n",
    "mass_squared = np.logspace(-2, -1, 100)"
   ]
  },
  {
   "cell_type": "code",
   "execution_count": 3,
   "metadata": {},
   "outputs": [],
   "source": [
    "# Spectral coefficient for phi\n",
    "phi_1 = ((hubble_rate**2)/np.sqrt(mass_squared))*(3/(2*np.pi*np.sqrt(6)))\n",
    "A_phi = phi_1**2\n",
    "\n",
    "# Long distance power spectrum for phi\n",
    "wavevector = np.logspace(-2, 2, 100) # Mpc^-1\n",
    "power_spectrum_phi = np.zeros((len(mass_squared), len(wavevector)))\n",
    "hubble_rate_Mpc = ((hubble_rate/(1.9733e-16))/(3.0857e16))/(1e-6)  # Mpc^-1\n",
    "\n",
    "# Computes power spectrum \n",
    "for i in range(len(mass_squared)):\n",
    "    power_spectrum_phi[i, :] = A_phi[i]*(2*mass_squared[i]/(3*hubble_rate**2))*(wavevector/hubble_rate_Mpc)**(2*mass_squared[i]/(3*hubble_rate**2))"
   ]
  },
  {
   "cell_type": "code",
   "execution_count": 4,
   "metadata": {
    "scrolled": true
   },
   "outputs": [
    {
     "data": {
      "text/plain": [
       "Text(0, 0.5, '$\\\\mathcal{P}_{\\\\varphi}(k)$')"
      ]
     },
     "execution_count": 4,
     "metadata": {},
     "output_type": "execute_result"
    },
    {
     "data": {
      "image/png": "[encoded data removed]",
      "text/plain": [
       "<Figure size 432x288 with 1 Axes>"
      ]
     },
     "metadata": {
      "needs_background": "light"
     },
     "output_type": "display_data"
    }
   ],
   "source": [
    "# Plotting\n",
    "plt.plot(wavevector, power_spectrum_phi[50, :])\n",
    "plt.xscale(\"log\")\n",
    "plt.xlabel(\"$k/Mpc^{-1}$\")\n",
    "plt.ylabel(\"$\\mathcal{P}_{\\\\varphi}(k)$\")"
   ]
  },
  {
   "cell_type": "markdown",
   "metadata": {},
   "source": [
    "For the density contrast the relevant terms were given as \n",
    "$$n_{\\delta} = 1 + \\frac{4}{3}\\frac{m^2}{H^2}, $$\n",
    "and \n",
    "$$A_{\\delta} = 2. $$"
   ]
  },
  {
   "cell_type": "code",
   "execution_count": 5,
   "metadata": {},
   "outputs": [],
   "source": [
    "# A_delta\n",
    "A_delta = 2\n",
    "\n",
    "# Long distance power spectrum for delta\n",
    "wavevector = np.logspace(-2, 2, 100) # Mpc^-1\n",
    "power_spectrum_delta = np.zeros((len(mass_squared), len(wavevector)))\n",
    "\n",
    "# Computes power spectrum \n",
    "for i in range(len(mass_squared)):\n",
    "    power_spectrum_delta[i, :] = A_delta*(4*mass_squared[i]/(3*hubble_rate**2))*(wavevector/hubble_rate_Mpc)**(4*mass_squared[i]/(3*hubble_rate**2))"
   ]
  },
  {
   "cell_type": "code",
   "execution_count": 6,
   "metadata": {},
   "outputs": [
    {
     "data": {
      "text/plain": [
       "Text(0, 0.5, '$\\\\mathcal{P}_{\\\\delta}(k)$')"
      ]
     },
     "execution_count": 6,
     "metadata": {},
     "output_type": "execute_result"
    },
    {
     "data": {
      "image/png": "[encoded data removed]",
      "text/plain": [
       "<Figure size 432x288 with 1 Axes>"
      ]
     },
     "metadata": {
      "needs_background": "light"
     },
     "output_type": "display_data"
    }
   ],
   "source": [
    "# Plotting\n",
    "plt.plot(wavevector, power_spectrum_delta[99, :])\n",
    "plt.xscale(\"log\")\n",
    "plt.xlabel(\"$k/Mpc^{-1}$\")\n",
    "plt.ylabel(\"$\\mathcal{P}_{\\\\delta}(k)$\")"
   ]
  },
  {
   "cell_type": "markdown",
   "metadata": {},
   "source": [
    "Before numerically reproducing the above results we'll need some way getting rid of the divergent parts of the solutions. "
   ]
  },
  {
   "cell_type": "code",
   "execution_count": 7,
   "metadata": {},
   "outputs": [],
   "source": [
    "def eigenfunction_slicer(eigenfunction, tolerance):\n",
    "    '''Function that cuts out the diverging part of the eigenfunction.\n",
    "    eigenfunction: eigenfunction to be cut\n",
    "    tolerance: determines at which value we cut off the eigenfunction before it starts diverging'''\n",
    "    \n",
    "    # Loops through eigenfunction\n",
    "    for i in range(1, len(eigenfunction)):\n",
    "        # Checks how close to zero the eigenfunction is\n",
    "        if abs(eigenfunction[-i]) < tolerance:\n",
    "            # Cuts out everything to the right\n",
    "            eigenfunction[-(i+50):] = np.zeros(len(eigenfunction[-(i+50):]))\n",
    "            break\n",
    "    \n",
    "    return eigenfunction"
   ]
  },
  {
   "cell_type": "markdown",
   "metadata": {},
   "source": [
    "Solver for the quadratic potential as defined in previous notebooks."
   ]
  },
  {
   "cell_type": "code",
   "execution_count": 8,
   "metadata": {},
   "outputs": [],
   "source": [
    "class eigenfunction_finder:\n",
    "    '''Class for finding the eigenfunction for a given eigenvalue'''\n",
    "    def __init__(self, V, field):\n",
    "        '''Initialises the range of field values for which the field is\n",
    "        to be integrated\n",
    "        V: array where first entry is the eigenfunction, second is Y\n",
    "        as defined for the coupled ODE system\n",
    "        field: field values'''\n",
    "        self.V = V\n",
    "        self.field = field\n",
    "        self.mass_squared = 1\n",
    " \n",
    "    def effective_potential(self, field):\n",
    "        '''Defines the effective potential in the SL equation'''\n",
    "    \n",
    "        W = self.mass_squared*((2*np.pi**2)/(3*hubble_rate**4))*(((4*np.pi**2)/(3*hubble_rate**4))*self.mass_squared*field**2 - 1)\n",
    "        return W\n",
    "\n",
    "\n",
    "    def schrodinger_like_ODE(self, V, field):\n",
    "        '''Computes the derivatives of the Schrodinger-like equation'''\n",
    "\n",
    "        # Empty array for derivatives\n",
    "        dV = np.zeros(2)\n",
    "        # Computes derivatives\n",
    "        dV[0] = V[1]\n",
    "        dV[1] = V[0]*(2*self.effective_potential(field) - (8*self.eigenvalue*np.pi**2)/(hubble_rate**3))\n",
    "        return dV    \n",
    "\n",
    "    def eigenfunction(self, eigenvalue):\n",
    "        '''Integrates the eigenfunction for the field based on the given\n",
    "        field range and returns the projected solution based on the\n",
    "        eigenvalue'''\n",
    "        \n",
    "        self.eigenvalue = eigenvalue\n",
    "        \n",
    "        # Integrates to find eigenfunction\n",
    "        V = odeint(self.schrodinger_like_ODE, self.V, self.field)\n",
    "\n",
    "        return V[-1,0]\n",
    "    \n",
    "    def eigenfunction_full(self, eigenvalue):\n",
    "        '''Integrates the eigenfunction for the field based on the given\n",
    "        field range and returns the projected solution based on the\n",
    "        eigenvalue'''\n",
    "        \n",
    "        self.eigenvalue = eigenvalue\n",
    "        \n",
    "        # Integrates to find eigenfunction\n",
    "        V = odeint(self.schrodinger_like_ODE, self.V, self.field)\n",
    "\n",
    "        return V[:,0]"
   ]
  },
  {
   "cell_type": "markdown",
   "metadata": {},
   "source": [
    "Below we compute the eigenfunctions and eigenvalues up to $n = 2$ for a range of mass values."
   ]
  },
  {
   "cell_type": "code",
   "execution_count": 9,
   "metadata": {},
   "outputs": [],
   "source": [
    "# Field \n",
    "field = np.linspace(0, 10, 3000)\n",
    "dphi = field[1] - field[0]\n",
    "# Mass squared values\n",
    "mass_squared = np.logspace(-2, -1, 100)\n",
    "# Stores eigenfunctions\n",
    "eigenfunctions = np.zeros((3, len(mass_squared), len(field)))\n",
    "# Stores eigenvalues\n",
    "eigenvalues = np.zeros((3, len(mass_squared)))\n",
    "\n",
    "# Initializing the root solvers\n",
    "eigenvalue_function_0 = eigenfunction_finder([1, 0], field)\n",
    "eigenvalue_function_1 = eigenfunction_finder([0, 1], field)\n",
    "eigenvalue_function_2 = eigenfunction_finder([-1, 0], field)\n",
    "\n",
    "# Eigenvalue guess range \n",
    "lower_eigenvalue_0 = -0.1\n",
    "upper_eigenvalue_0 = 0.001\n",
    "lower_eigenvalue_1 = 0.001\n",
    "upper_eigenvalue_1 = 0.004\n",
    "lower_eigenvalue_2 = 0.005\n",
    "upper_eigenvalue_2 = 0.007\n",
    "\n",
    "# Loops over all mass values\n",
    "for i in range(len(mass_squared)):\n",
    "    eigenvalue_function_0.mass_squared = mass_squared[i]\n",
    "    eigenvalue_function_1.mass_squared = mass_squared[i]\n",
    "    eigenvalue_function_2.mass_squared = mass_squared[i]\n",
    "    \n",
    "    # Adjusts eigenvalue guess range\n",
    "    if i >= 1:\n",
    "        lower_eigenvalue_1 = eigenvalue_1*(1 - 1/10)\n",
    "        upper_eigenvalue_1 = eigenvalue_1*(1 + 1/10)\n",
    "        lower_eigenvalue_2 = eigenvalue_2*(1 - 1/10)\n",
    "        upper_eigenvalue_2 = eigenvalue_2*(1 + 1/10)\n",
    "    \n",
    "    # Brent solver\n",
    "    eigenvalue_0 = optimize.brentq(eigenvalue_function_0.eigenfunction, lower_eigenvalue_0 , upper_eigenvalue_0, xtol=1e-6)\n",
    "    eigenfunction_0 = eigenvalue_function_0.eigenfunction_full(eigenvalue_0)\n",
    "    eigenvalue_1 = optimize.brentq(eigenvalue_function_1.eigenfunction, lower_eigenvalue_1 , upper_eigenvalue_1, xtol=1e-6)\n",
    "    eigenfunction_1 = eigenvalue_function_1.eigenfunction_full(eigenvalue_1)\n",
    "    eigenvalue_2 = optimize.brentq(eigenvalue_function_2.eigenfunction, lower_eigenvalue_2 , upper_eigenvalue_2, xtol=1e-6)\n",
    "    eigenfunction_2 = eigenvalue_function_2.eigenfunction_full(eigenvalue_2)\n",
    "    \n",
    "    # Slice eigenfunctions \n",
    "    eigenfunction_0 = eigenfunction_slicer(eigenfunction_0, 1e-2)\n",
    "    eigenfunction_1 = eigenfunction_slicer(eigenfunction_1, 1e-2)\n",
    "    eigenfunction_2 = eigenfunction_slicer(eigenfunction_2, 1e-2)\n",
    "    \n",
    "    # Normalisation \n",
    "    eigenfunction_0 = eigenfunction_0/np.sqrt(2*simps(eigenfunction_0**2, field[:len(eigenfunction_0)], dphi))\n",
    "    eigenfunction_1 = eigenfunction_1/np.sqrt(2*simps(eigenfunction_1**2, field[:len(eigenfunction_1)], dphi))\n",
    "    eigenfunction_2 = eigenfunction_2/np.sqrt(2*simps(eigenfunction_2**2, field[:len(eigenfunction_2)], dphi))\n",
    "   \n",
    "    # Store computed quantities \n",
    "    eigenvalues[0, i] = eigenvalue_0\n",
    "    eigenvalues[1, i] = eigenvalue_1\n",
    "    eigenvalues[2, i] = eigenvalue_2\n",
    "    eigenfunctions[0, i, :] = eigenfunction_0\n",
    "    eigenfunctions[1, i, :] = eigenfunction_1\n",
    "    eigenfunctions[2, i, :] = eigenfunction_2"
   ]
  },
  {
   "cell_type": "code",
   "execution_count": 10,
   "metadata": {},
   "outputs": [
    {
     "data": {
      "text/plain": [
       "[<matplotlib.lines.Line2D at 0x181b5bf7f0>]"
      ]
     },
     "execution_count": 10,
     "metadata": {},
     "output_type": "execute_result"
    },
    {
     "data": {
      "image/png": "[encoded data removed]",
      "text/plain": [
       "<Figure size 432x288 with 1 Axes>"
      ]
     },
     "metadata": {
      "needs_background": "light"
     },
     "output_type": "display_data"
    }
   ],
   "source": [
    "# Plot of example eigenfunction\n",
    "plt.plot(field, eigenfunctions[1, 50])"
   ]
  },
  {
   "cell_type": "code",
   "execution_count": 11,
   "metadata": {},
   "outputs": [],
   "source": [
    "# Array to store spectral coefficient for phi\n",
    "numerical_phi_1 = np.zeros(len(mass_squared))\n",
    "numerical_A_phi = np.zeros(len(mass_squared))\n",
    "\n",
    "# Long distance power spectrum for phi\n",
    "wavevector = np.logspace(-2, 2, 100) # Mpc^-1\n",
    "numerical_power_spectrum_phi = np.zeros((len(mass_squared), len(wavevector))) \n",
    "hubble_rate_Mpc = ((hubble_rate/(1.9733e-16))/(3.0857e16))/(1e-6)  # Mpc^-1\n",
    "\n",
    "# Computes power spectrum \n",
    "for i in range(len(mass_squared)):\n",
    "    numerical_phi_1[i] = 2*simps(eigenfunctions[0, i]*eigenfunctions[1, i]*field, field, dphi)\n",
    "    numerical_A_phi[i] = numerical_phi_1[i]**2\n",
    "    numerical_power_spectrum_phi[i, :] = numerical_A_phi[i]*(2*eigenvalues[1, i]/hubble_rate)*(wavevector/hubble_rate_Mpc)**(2*eigenvalues[1, i]/hubble_rate)\n",
    "    "
   ]
  },
  {
   "cell_type": "code",
   "execution_count": 12,
   "metadata": {},
   "outputs": [
    {
     "data": {
      "text/plain": [
       "Text(0, 0.5, '$\\\\mathcal{P}_{\\\\varphi}(k)$')"
      ]
     },
     "execution_count": 12,
     "metadata": {},
     "output_type": "execute_result"
    },
    {
     "data": {
      "image/png": "[encoded data removed]",
      "text/plain": [
       "<Figure size 432x288 with 1 Axes>"
      ]
     },
     "metadata": {
      "needs_background": "light"
     },
     "output_type": "display_data"
    }
   ],
   "source": [
    "# Plotting\n",
    "plt.plot(wavevector, numerical_power_spectrum_phi[50, :])\n",
    "plt.xscale(\"log\")\n",
    "plt.xlabel(\"$k/Mpc^{-1}$\")\n",
    "plt.ylabel(\"$\\mathcal{P}_{\\\\varphi}(k)$\")"
   ]
  },
  {
   "cell_type": "markdown",
   "metadata": {},
   "source": [
    "Below we compare the analytical and numerical result for $A_{\\varphi}$."
   ]
  },
  {
   "cell_type": "code",
   "execution_count": 13,
   "metadata": {},
   "outputs": [
    {
     "data": {
      "text/plain": [
       "Text(0, 0.5, '$\\\\% $ error')"
      ]
     },
     "execution_count": 13,
     "metadata": {},
     "output_type": "execute_result"
    },
    {
     "data": {
      "image/png": "[encoded data removed]",
      "text/plain": [
       "<Figure size 432x288 with 1 Axes>"
      ]
     },
     "metadata": {
      "needs_background": "light"
     },
     "output_type": "display_data"
    }
   ],
   "source": [
    "# Computes error in numerical approach vs analytical\n",
    "error_phi = 100*abs(numerical_A_phi - A_phi)/A_phi\n",
    "plt.plot(mass_squared, error_phi)\n",
    "plt.xlabel(\"$m^2$\")\n",
    "plt.ylabel(\"$\\\\% $ error\")"
   ]
  },
  {
   "cell_type": "code",
   "execution_count": 14,
   "metadata": {},
   "outputs": [
    {
     "data": {
      "text/plain": [
       "Text(0, 0.5, 'log error')"
      ]
     },
     "execution_count": 14,
     "metadata": {},
     "output_type": "execute_result"
    },
    {
     "data": {
      "image/png": "[encoded data removed]",
      "text/plain": [
       "<Figure size 432x288 with 1 Axes>"
      ]
     },
     "metadata": {
      "needs_background": "light"
     },
     "output_type": "display_data"
    }
   ],
   "source": [
    "# Log of error\n",
    "plt.plot(mass_squared, np.log(error_phi))\n",
    "plt.xlabel(\"$m^2$\")\n",
    "plt.ylabel(\"log error\")"
   ]
  },
  {
   "cell_type": "code",
   "execution_count": 15,
   "metadata": {},
   "outputs": [],
   "source": [
    "# Array to store spectral coefficient for delta\n",
    "numerical_A_delta = np.zeros(len(mass_squared))\n",
    "\n",
    "# Long distance power spectrum for delta\n",
    "wavevector = np.logspace(-2, 2, 100) # Mpc^-1\n",
    "numerical_power_spectrum_delta = np.zeros((len(mass_squared), len(wavevector))) \n",
    "hubble_rate_Mpc = ((hubble_rate/(1.9733e-16))/(3.0857e16))/(1e-6)  # Mpc^-1\n",
    "\n",
    "# Computes power spectrum \n",
    "for i in range(len(mass_squared)):\n",
    "    numerical_phi_squared_2 = 2*simps(eigenfunctions[0, i]*eigenfunctions[2, i]*field**2, field, dphi) \n",
    "    numerical_phi_squared_average = 2*simps(eigenfunctions[0, i]*eigenfunctions[0, i]*field**2, field, dphi) \n",
    "    numerical_A_delta[i] = (numerical_phi_squared_2/numerical_phi_squared_average)**2\n",
    "    numerical_power_spectrum_delta[i, :] = numerical_A_delta[i]*(2*eigenvalues[2, i]/hubble_rate)*(wavevector/hubble_rate_Mpc)**(2*eigenvalues[2, i]/hubble_rate)"
   ]
  },
  {
   "cell_type": "code",
   "execution_count": 16,
   "metadata": {},
   "outputs": [
    {
     "data": {
      "text/plain": [
       "Text(0, 0.5, '$\\\\mathcal{P}_{\\\\delta}(k)$')"
      ]
     },
     "execution_count": 16,
     "metadata": {},
     "output_type": "execute_result"
    },
    {
     "data": {
      "image/png": "[encoded data removed]",
      "text/plain": [
       "<Figure size 432x288 with 1 Axes>"
      ]
     },
     "metadata": {
      "needs_background": "light"
     },
     "output_type": "display_data"
    }
   ],
   "source": [
    "# Plotting\n",
    "plt.plot(wavevector, numerical_power_spectrum_delta[99, :])\n",
    "plt.xscale(\"log\")\n",
    "plt.xlabel(\"$k/Mpc^{-1}$\")\n",
    "plt.ylabel(\"$\\mathcal{P}_{\\\\delta}(k)$\")"
   ]
  },
  {
   "cell_type": "markdown",
   "metadata": {},
   "source": [
    "Below we compare the analytical and numerical result for $A_{\\delta}$."
   ]
  },
  {
   "cell_type": "code",
   "execution_count": 17,
   "metadata": {},
   "outputs": [
    {
     "data": {
      "text/plain": [
       "Text(0, 0.5, '$\\\\% $ error')"
      ]
     },
     "execution_count": 17,
     "metadata": {},
     "output_type": "execute_result"
    },
    {
     "data": {
      "image/png": "[encoded data removed]",
      "text/plain": [
       "<Figure size 432x288 with 1 Axes>"
      ]
     },
     "metadata": {
      "needs_background": "light"
     },
     "output_type": "display_data"
    }
   ],
   "source": [
    "# Compute error\n",
    "error_delta = 100*abs(numerical_A_delta - A_delta)/A_delta\n",
    "plt.plot(mass_squared, error_delta)\n",
    "plt.xlabel(\"$m^2$\")\n",
    "plt.ylabel(\"$\\\\% $ error\")"
   ]
  },
  {
   "cell_type": "code",
   "execution_count": 18,
   "metadata": {},
   "outputs": [
    {
     "data": {
      "text/plain": [
       "Text(0, 0.5, 'log error')"
      ]
     },
     "execution_count": 18,
     "metadata": {},
     "output_type": "execute_result"
    },
    {
     "data": {
      "image/png": "[encoded data removed]",
      "text/plain": [
       "<Figure size 432x288 with 1 Axes>"
      ]
     },
     "metadata": {
      "needs_background": "light"
     },
     "output_type": "display_data"
    }
   ],
   "source": [
    "# Plot log of error\n",
    "plt.plot(mass_squared, np.log(error_delta))\n",
    "plt.xlabel(\"$m^2$\")\n",
    "plt.ylabel(\"log error\")"
   ]
  },
  {
   "cell_type": "code",
   "execution_count": 19,
   "metadata": {},
   "outputs": [],
   "source": [
    "# Compute error in the power spectrum\n",
    "error_power_spectrum_phi = 100*abs(numerical_power_spectrum_phi - power_spectrum_phi)/power_spectrum_phi\n",
    "error_power_spectrum_delta = 100*abs(numerical_power_spectrum_delta - power_spectrum_delta)/power_spectrum_delta"
   ]
  },
  {
   "cell_type": "markdown",
   "metadata": {},
   "source": [
    "We then look at errors in one of the power spectra."
   ]
  },
  {
   "cell_type": "code",
   "execution_count": 20,
   "metadata": {},
   "outputs": [
    {
     "data": {
      "text/plain": [
       "Text(0, 0.5, '$\\\\%$ error')"
      ]
     },
     "execution_count": 20,
     "metadata": {},
     "output_type": "execute_result"
    },
    {
     "data": {
      "image/png": "[encoded data removed]",
      "text/plain": [
       "<Figure size 432x288 with 1 Axes>"
      ]
     },
     "metadata": {
      "needs_background": "light"
     },
     "output_type": "display_data"
    }
   ],
   "source": [
    "# Error of power spectrum for phi\n",
    "plt.plot(wavevector, error_power_spectrum_phi[9])\n",
    "plt.xscale(\"log\")\n",
    "plt.xlabel(\"$k/Mpc^{-1}$\")\n",
    "plt.ylabel(\"$\\\\%$ error\")"
   ]
  },
  {
   "cell_type": "code",
   "execution_count": 21,
   "metadata": {},
   "outputs": [
    {
     "data": {
      "text/plain": [
       "Text(0, 0.5, '$\\\\%$ error')"
      ]
     },
     "execution_count": 21,
     "metadata": {},
     "output_type": "execute_result"
    },
    {
     "data": {
      "image/png": "[encoded data removed]",
      "text/plain": [
       "<Figure size 432x288 with 1 Axes>"
      ]
     },
     "metadata": {
      "needs_background": "light"
     },
     "output_type": "display_data"
    }
   ],
   "source": [
    "# Error of power spectrum for delta\n",
    "plt.plot(wavevector, error_power_spectrum_delta[9])\n",
    "plt.xscale(\"log\")\n",
    "plt.xlabel(\"$k/Mpc^{-1}$\")\n",
    "plt.ylabel(\"$\\\\%$ error\")"
   ]
  },
  {
   "cell_type": "markdown",
   "metadata": {},
   "source": [
    "Now we consider the quartic potential\n",
    "$$V(\\varphi) = \\frac{1}{2}m^2 \\varphi^2 + \\frac{1}{4}\\lambda \\varphi^4. $$\n",
    "We use the following definitions: \n",
    "$$ \\alpha \\equiv \\frac{m^2}{\\sqrt{\\lambda}H^2}.  $$\n",
    "$$ z \\equiv \\frac{\\lambda^{1/4}\\Omega}{H}\\varphi, \\>\\> \\Omega \\equiv 1 + \\sqrt{\\alpha}. $$\n",
    "With the above parameters the Schrödinger-like equation takes the form \n",
    "$$\\frac{\\partial \\Phi_n(z)}{\\partial z} \\equiv Y, $$\n",
    "$$\\frac{\\partial Y}{\\partial z} = \\left(-\\frac{4\\pi^2 \\alpha}{3\\Omega^2}-4\\pi^2\\frac{1-\\frac{4\\pi^2}{9}\\alpha^2}{\\Omega^4}z^2+\\frac{32\\pi^4\\alpha z^4}{9\\Omega^6} + \\frac{16\\pi^4 z^6}{9\\Omega^8}-\\frac{8\\pi^2(1+\\alpha)\\tilde{\\Lambda}(\\alpha)}{\\Omega^2}\\right)\\Phi_n(z).  $$\n",
    "Eigenvalues are rescaled as \n",
    "$$\\tilde{\\Lambda}_n(\\alpha) = \\frac{\\Lambda_n}{\\lambda^{1/2}H(1+\\alpha)} $$"
   ]
  },
  {
   "cell_type": "code",
   "execution_count": 22,
   "metadata": {},
   "outputs": [],
   "source": [
    "class eigenfunction_finder_rescaled:\n",
    "    '''Class for finding the eigenfunction for a the rescaled parameters z and alpha'''\n",
    "    def __init__(self, V, z):\n",
    "        '''Initialises the range of rescaled field values for which the field is\n",
    "        to be integrated\n",
    "        V: array where first entry is the eigenfunction, second is Y\n",
    "        as defined for the coupled ODE system\n",
    "        z: rescaled field values'''\n",
    "        self.V = V\n",
    "        self.z = z       \n",
    "        \n",
    "        # Parameters\n",
    "        self.alpha = 1\n",
    " \n",
    "    def schrodinger_like_ODE(self, V, z):\n",
    "        '''Computes the derivatives of the Schrodinger-like equation'''\n",
    "        \n",
    "        # Empty array for derivatives\n",
    "        dV = np.zeros(2)\n",
    "        \n",
    "        # Determines omega and calculates quantities in the Schrodinger-like equation\n",
    "        if self.alpha > 0: \n",
    "            omega = 1 + np.sqrt(self.alpha)\n",
    "            \n",
    "            # Dummy variables that form the various terms in the Schrodinger-like equation\n",
    "            x_1 = - (4*self.alpha*np.pi**2)/(3*omega**2) - ((4*np.pi**2)*(1 - 4*((np.pi*self.alpha)**2)/9)/(omega**4))*z**2\n",
    "            x_2 = (32*self.alpha*(np.pi*z)**4)/(9*omega**6) + (16*(np.pi**4)*z**6)/(9*omega**8)\n",
    "            x_3 = -(8*self.eigenvalue*(1 + self.alpha)*np.pi**2)/(omega**2)\n",
    "            \n",
    "        else:\n",
    "            omega = 1 + np.sqrt(-self.alpha)\n",
    "            \n",
    "            # Dummy variables that form the various terms in the Schrodinger-like equation\n",
    "            x_1 = - (4*self.alpha*np.pi**2)/(3*omega**2) - ((4*np.pi**2)*(1 - 4*((np.pi*self.alpha)**2)/9)/(omega**4))*z**2\n",
    "            x_2 = (32*self.alpha*(np.pi*z)**4)/(9*omega**6) + (16*(np.pi**4)*z**6)/(9*omega**8)\n",
    "            x_3 = -(8*self.eigenvalue*(1 - self.alpha)*np.pi**2)/(omega**2)\n",
    "            \n",
    "        # Computes derivatives\n",
    "        dV[0] = V[1]\n",
    "        dV[1] = V[0]*(x_1 + x_2 + x_3)\n",
    "        return dV    \n",
    "\n",
    "    def eigenfunction(self, eigenvalue):\n",
    "        '''Integrates the eigenfunction for the field based on the given\n",
    "        field range and returns the projected solution based on the\n",
    "        eigenvalue'''\n",
    "        \n",
    "        self.eigenvalue = eigenvalue\n",
    "        \n",
    "        # Integrates to find eigenfunction\n",
    "        V = odeint(self.schrodinger_like_ODE, self.V, self.z)\n",
    "        \n",
    "        return V[-1,0]\n",
    "    \n",
    "    def eigenfunction_full(self, eigenvalue):\n",
    "        '''Integrates the eigenfunction for the field based on the given\n",
    "        field range and returns the projected solution based on the\n",
    "        eigenvalue'''\n",
    "        \n",
    "        self.eigenvalue = eigenvalue\n",
    "        \n",
    "        # Integrates to find eigenfunction\n",
    "        V = odeint(self.schrodinger_like_ODE, self.V, self.z)\n",
    "\n",
    "        return V[:,0]"
   ]
  },
  {
   "cell_type": "code",
   "execution_count": 23,
   "metadata": {},
   "outputs": [],
   "source": [
    "# Field \n",
    "z = np.linspace(0, 3, 3000)\n",
    "dz = z[1] - z[0]\n",
    "\n",
    "# Generates range of alpha values\n",
    "alpha = np.logspace(-2, 2, 100)\n",
    "self_coupling = 1e-4\n",
    "omega = 1 + np.sqrt(alpha) \n",
    "\n",
    "# Stores eigenfunctions\n",
    "eigenfunctions = np.zeros((3, len(alpha), len(z)))\n",
    "# Stores eigenvalues\n",
    "eigenvalues = np.zeros((3, len(alpha)))\n",
    "\n",
    "# Initializing the root solvers\n",
    "eigenvalue_function_0 = eigenfunction_finder_rescaled([1, 0], z)\n",
    "eigenvalue_function_1 = eigenfunction_finder_rescaled([0, 1], z)\n",
    "eigenvalue_function_2 = eigenfunction_finder_rescaled([-1, 0], z)\n",
    "\n",
    "# Eigenvalue guess range \n",
    "lower_eigenvalue_0 = -0.1\n",
    "upper_eigenvalue_0 = 0.001\n",
    "lower_eigenvalue_1 = 0.05\n",
    "upper_eigenvalue_1 = 0.35\n",
    "lower_eigenvalue_2 = 0.2\n",
    "upper_eigenvalue_2 = 0.7\n",
    "\n",
    "# Loops over all mass values\n",
    "for i in range(len(alpha)):\n",
    "    eigenvalue_function_0.alpha = alpha[i]\n",
    "    eigenvalue_function_1.alpha = alpha[i]\n",
    "    eigenvalue_function_2.alpha = alpha[i]\n",
    "    \n",
    "    # Adjusts eigenvalue guess range\n",
    "    if i >= 1:\n",
    "        lower_eigenvalue_1 = eigenvalue_1*(1 - 1/10)\n",
    "        upper_eigenvalue_1 = eigenvalue_1*(1 + 1/10)\n",
    "        lower_eigenvalue_2 = eigenvalue_2*(1 - 1/10)\n",
    "        upper_eigenvalue_2 = eigenvalue_2*(1 + 1/10)\n",
    "    \n",
    "    # Brent solver\n",
    "    eigenvalue_0 = optimize.brentq(eigenvalue_function_0.eigenfunction, lower_eigenvalue_0 , upper_eigenvalue_0, xtol=1e-6)\n",
    "    eigenfunction_0 = eigenvalue_function_0.eigenfunction_full(eigenvalue_0)\n",
    "    eigenvalue_1 = optimize.brentq(eigenvalue_function_1.eigenfunction, lower_eigenvalue_1 , upper_eigenvalue_1, xtol=1e-6)\n",
    "    eigenfunction_1 = eigenvalue_function_1.eigenfunction_full(eigenvalue_1)\n",
    "    eigenvalue_2 = optimize.brentq(eigenvalue_function_2.eigenfunction, lower_eigenvalue_2 , upper_eigenvalue_2, xtol=1e-6)\n",
    "    eigenfunction_2 = eigenvalue_function_2.eigenfunction_full(eigenvalue_2)\n",
    "    \n",
    "    # Slice eigenfunctions \n",
    "    eigenfunction_0 = eigenfunction_slicer(eigenfunction_0, 1e-2)\n",
    "    eigenfunction_1 = eigenfunction_slicer(eigenfunction_1, 1e-2)\n",
    "    eigenfunction_2 = eigenfunction_slicer(eigenfunction_2, 1e-2)\n",
    "    \n",
    "    # Normalisation \n",
    "    eigenfunction_0 = eigenfunction_0/np.sqrt(2*simps(eigenfunction_0**2, z[:len(eigenfunction_0)], dz))\n",
    "    eigenfunction_1 = eigenfunction_1/np.sqrt(2*simps(eigenfunction_1**2, z[:len(eigenfunction_1)], dz))\n",
    "    eigenfunction_2 = eigenfunction_2/np.sqrt(2*simps(eigenfunction_2**2, z[:len(eigenfunction_2)], dz))\n",
    "   \n",
    "    # Store computed quantities \n",
    "    eigenvalues[0, i] = eigenvalue_0\n",
    "    eigenvalues[1, i] = eigenvalue_1\n",
    "    eigenvalues[2, i] = eigenvalue_2\n",
    "    eigenfunctions[0, i, :] = eigenfunction_0\n",
    "    eigenfunctions[1, i, :] = eigenfunction_1\n",
    "    eigenfunctions[2, i, :] = eigenfunction_2"
   ]
  },
  {
   "cell_type": "markdown",
   "metadata": {},
   "source": [
    "$$ V(z) = \\frac{\\alpha H^4}{2\\Omega^2} z^2 + \\frac{H^4}{4\\Omega^4}z^4 $$"
   ]
  },
  {
   "cell_type": "code",
   "execution_count": 24,
   "metadata": {},
   "outputs": [],
   "source": [
    "# Calculating unscaled eigenvalue\n",
    "eigenvalues[0, :] = eigenvalues[0, :]*hubble_rate*np.sqrt(self_coupling)*(1 + alpha)\n",
    "eigenvalues[1, :] = eigenvalues[1, :]*hubble_rate*np.sqrt(self_coupling)*(1 + alpha)\n",
    "eigenvalues[2, :] = eigenvalues[2, :]*hubble_rate*np.sqrt(self_coupling)*(1 + alpha)"
   ]
  },
  {
   "cell_type": "code",
   "execution_count": 25,
   "metadata": {},
   "outputs": [],
   "source": [
    "# Array to store spectral coefficient for delta\n",
    "quartic_A_delta = np.zeros(len(mass_squared))\n",
    "\n",
    "# Potential in terms of z\n",
    "quartic_potential_z = np.outer(alpha/(2*omega**2), z) + 0.25*(hubble_rate*np.outer(1/omega, z))**4\n",
    "\n",
    "# Long distance power spectrum for delta\n",
    "wavevector = np.logspace(-2, 2, 100) # Mpc^-1\n",
    "quartic_power_spectrum_delta = np.zeros((len(alpha), len(wavevector))) \n",
    "hubble_rate_Mpc = ((hubble_rate/(1.9733e-16))/(3.0857e16))/(1e-6)  # Mpc^-1\n",
    "\n",
    "# Computes power spectrum \n",
    "for i in range(len(alpha)):\n",
    "    average_potential = 2*simps(quartic_potential_z[i]*eigenfunctions[0, i]**2, z, dz) \n",
    "    quartic_delta_2 = 2*simps(quartic_potential_z[i]*eigenfunctions[0, i]*eigenfunctions[2, i], z, dz)/average_potential \n",
    "    quartic_A_delta[i] = quartic_delta_2**2\n",
    "    quartic_power_spectrum_delta[i, :] = quartic_A_delta[i]*(2*eigenvalues[2, i]/hubble_rate)*(wavevector/hubble_rate_Mpc)**(2*eigenvalues[2, i]/hubble_rate)"
   ]
  },
  {
   "cell_type": "code",
   "execution_count": 26,
   "metadata": {},
   "outputs": [
    {
     "data": {
      "text/plain": [
       "Text(0, 0.5, '$\\\\mathcal{P}_{\\\\delta}(k)$')"
      ]
     },
     "execution_count": 26,
     "metadata": {},
     "output_type": "execute_result"
    },
    {
     "data": {
      "image/png": "[encoded data removed]",
      "text/plain": [
       "<Figure size 432x288 with 1 Axes>"
      ]
     },
     "metadata": {
      "needs_background": "light"
     },
     "output_type": "display_data"
    }
   ],
   "source": [
    "# Plotting\n",
    "plt.plot(wavevector, quartic_power_spectrum_delta[1, :])\n",
    "plt.xscale(\"log\")\n",
    "plt.xlabel(\"$k/Mpc^{-1}$\")\n",
    "plt.ylabel(\"$\\mathcal{P}_{\\\\delta}(k)$\")"
   ]
  },
  {
   "cell_type": "markdown",
   "metadata": {},
   "source": [
    "## Choosing values for the parameters\n",
    "Here we consider the choice of values for the Hubble rate and parameters in the potential.\n",
    "For the Hubble rate the upper limit is https://arxiv.org/pdf/1711.07344.pdf\n",
    "$$H = 8.76 \\times 10^{13} \\text{ GeV} $$\n",
    "\n",
    "For the mass various WIMP models seem to range from few around ~ 10 GeV https://arxiv.org/abs/astro-ph/0503486 to ~ 100 TeV https://inspirehep.net/literature/281519 in the more extreme cases.  \n",
    "\n",
    "A lower bound on the self-coupling is given in https://arxiv.org/abs/1811.02586 to be $\\lambda = 0.45$."
   ]
  },
  {
   "cell_type": "code",
   "execution_count": 27,
   "metadata": {},
   "outputs": [
    {
     "data": {
      "text/plain": [
       "array([[[1.49071198e-24, 1.39875721e-24, 1.32195795e-24, ...,\n",
       "         1.06735210e-24, 1.03203137e-24, 1.00000000e-24],\n",
       "        [4.60457617e-24, 4.32054226e-24, 4.08332134e-24, ...,\n",
       "         3.29688370e-24, 3.18778350e-24, 3.08884360e-24],\n",
       "        [1.42228156e-23, 1.33454793e-23, 1.26127410e-23, ...,\n",
       "         1.01835581e-23, 9.84656466e-24, 9.54095476e-24],\n",
       "        ...,\n",
       "        [1.56243481e-01, 1.46605581e-01, 1.38556149e-01, ...,\n",
       "         1.11870576e-01, 1.08168564e-01, 1.04811313e-01],\n",
       "        [4.82611676e-01, 4.52841709e-01, 4.27978273e-01, ...,\n",
       "         3.45550711e-01, 3.34115776e-01, 3.23745754e-01],\n",
       "        [1.49071198e+00, 1.39875721e+00, 1.32195795e+00, ...,\n",
       "         1.06735210e+00, 1.03203137e+00, 1.00000000e+00]],\n",
       "\n",
       "       [[8.93658357e-23, 8.38532919e-23, 7.92492969e-23, ...,\n",
       "         6.39860774e-23, 6.18686555e-23, 5.99484250e-23],\n",
       "        [2.76037089e-22, 2.59009704e-22, 2.44788683e-22, ...,\n",
       "         1.97642985e-22, 1.91102600e-22, 1.85171309e-22],\n",
       "        [8.52635396e-22, 8.00040465e-22, 7.56113957e-22, ...,\n",
       "         6.10488270e-22, 5.90286043e-22, 5.71965211e-22],\n",
       "        ...,\n",
       "        [9.36655061e+00, 8.78877366e+00, 8.30622290e+00, ...,\n",
       "         6.70646481e+00, 6.48453504e+00, 6.28327316e+00],\n",
       "        [2.89318099e+01, 2.71471472e+01, 2.56566234e+01, ...,\n",
       "         2.07152209e+01, 2.00297145e+01, 1.94080481e+01],\n",
       "        [8.93658357e+01, 8.38532919e+01, 7.92492969e+01, ...,\n",
       "         6.39860774e+01, 6.18686555e+01, 5.99484250e+01]],\n",
       "\n",
       "       [[5.35734110e-21, 5.02687278e-21, 4.75087054e-21, ...,\n",
       "         3.83586456e-21, 3.70892845e-21, 3.59381366e-21],\n",
       "        [1.65479888e-20, 1.55272238e-20, 1.46746960e-20, ...,\n",
       "         1.18483857e-20, 1.14562999e-20, 1.11007283e-20],\n",
       "        [5.11141491e-20, 4.79611658e-20, 4.53278409e-20, ...,\n",
       "         3.65978103e-20, 3.53867186e-20, 3.42884136e-20],\n",
       "        ...,\n",
       "        [5.61509957e+02, 5.26873139e+02, 4.97944981e+02, ...,\n",
       "         4.02042003e+02, 3.88737663e+02, 3.76672330e+02],\n",
       "        [1.73441644e+03, 1.62742872e+03, 1.53807417e+03, ...,\n",
       "         1.24184487e+03, 1.20074984e+03, 1.16348192e+03],\n",
       "        [5.35734110e+03, 5.02687278e+03, 4.75087054e+03, ...,\n",
       "         3.83586456e+03, 3.70892845e+03, 3.59381366e+03]],\n",
       "\n",
       "       ...,\n",
       "\n",
       "       [[4.14799465e-12, 3.89212503e-12, 3.67842652e-12, ...,\n",
       "         2.96997062e-12, 2.87168860e-12, 2.78255940e-12],\n",
       "        [1.28125067e-11, 1.20221655e-11, 1.13620842e-11, ...,\n",
       "         9.17377474e-12, 8.87019695e-12, 8.59489079e-12],\n",
       "        [3.95758293e-11, 3.71345889e-11, 3.50957010e-11, ...,\n",
       "         2.83363554e-11, 2.73986511e-11, 2.65482734e-11],\n",
       "        ...,\n",
       "        [4.34756767e+11, 4.07938737e+11, 3.85540715e+11, ...,\n",
       "         3.11286522e+11, 3.00985454e+11, 2.91643706e+11],\n",
       "        [1.34289566e+12, 1.26005895e+12, 1.19087497e+12, ...,\n",
       "         9.61515379e+11, 9.29696993e+11, 9.00841793e+11],\n",
       "        [4.14799465e+12, 3.89212503e+12, 3.67842652e+12, ...,\n",
       "         2.96997062e+12, 2.87168860e+12, 2.78255940e+12]],\n",
       "\n",
       "       [[2.48665746e-10, 2.33326766e-10, 2.20515876e-10, ...,\n",
       "         1.78045061e-10, 1.72153209e-10, 1.66810054e-10],\n",
       "        [7.68089598e-10, 7.20709886e-10, 6.81139052e-10, ...,\n",
       "         5.49953347e-10, 5.31754337e-10, 5.15250166e-10],\n",
       "        [2.37250864e-09, 2.22616012e-09, 2.10393200e-09, ...,\n",
       "         1.69871987e-09, 1.64250598e-09, 1.59152718e-09],\n",
       "        ...,\n",
       "        [2.60629835e+13, 2.44552848e+13, 2.31125586e+13, ...,\n",
       "         1.86611367e+13, 1.80436039e+13, 1.74835808e+13],\n",
       "        [8.05044796e+13, 7.55385498e+13, 7.13910787e+13, ...,\n",
       "         5.76413326e+13, 5.57338705e+13, 5.40040467e+13],\n",
       "        [2.48665746e+14, 2.33326766e+14, 2.20515876e+14, ...,\n",
       "         1.78045061e+14, 1.72153209e+14, 1.66810054e+14]],\n",
       "\n",
       "       [[1.49071198e-08, 1.39875721e-08, 1.32195795e-08, ...,\n",
       "         1.06735210e-08, 1.03203137e-08, 1.00000000e-08],\n",
       "        [4.60457617e-08, 4.32054226e-08, 4.08332134e-08, ...,\n",
       "         3.29688370e-08, 3.18778350e-08, 3.08884360e-08],\n",
       "        [1.42228156e-07, 1.33454793e-07, 1.26127410e-07, ...,\n",
       "         1.01835581e-07, 9.84656466e-08, 9.54095476e-08],\n",
       "        ...,\n",
       "        [1.56243481e+15, 1.46605581e+15, 1.38556149e+15, ...,\n",
       "         1.11870576e+15, 1.08168564e+15, 1.04811313e+15],\n",
       "        [4.82611676e+15, 4.52841709e+15, 4.27978273e+15, ...,\n",
       "         3.45550711e+15, 3.34115776e+15, 3.23745754e+15],\n",
       "        [1.49071198e+16, 1.39875721e+16, 1.32195795e+16, ...,\n",
       "         1.06735210e+16, 1.03203137e+16, 1.00000000e+16]]])"
      ]
     },
     "execution_count": 27,
     "metadata": {},
     "output_type": "execute_result"
    }
   ],
   "source": [
    "# Field \n",
    "z = np.linspace(0, 3, 3000)\n",
    "dz = z[1] - z[0]\n",
    "\n",
    "# Parameters\n",
    "hubble_rate = np.logspace(13, 5, 10)\n",
    "mass = np.logspace(1, 13, 50)\n",
    "mass_squared = mass**2\n",
    "self_coupling = np.linspace(0.45, 1, 10)\n",
    "\n",
    "# Alpha for the various combinations of parameters\n",
    "alpha_values = np.zeros((len(hubble_rate), len(mass_squared), len(self_coupling)))\n",
    "omega = np.zeros((len(hubble_rate), len(mass_squared), len(self_coupling)))\n",
    "potential = np.zeros((len(hubble_rate), len(mass_squared), len(self_coupling), len(z)))\n",
    "for i in range(len(hubble_rate)):\n",
    "    for j in range(len(mass_squared)):\n",
    "        for k in range(len(self_coupling)):\n",
    "            alpha_values[i, j, k] = mass_squared[j]/(np.sqrt(self_coupling[k])*hubble_rate[i]**2)\n",
    "            omega[i, j, k] =  1 + np.sqrt(alpha_values[i, j, k])\n",
    "            for l in range(len(z)):\n",
    "                potential[i, j, k, l] = (0.5*alpha_values[i,j,k]*(z[l]/omega[i, j, k])**2 + 0.25*(z[l]/omega[i, j, k])**4)*hubble_rate[i]**4\n",
    "alpha_values"
   ]
  },
  {
   "cell_type": "code",
   "execution_count": 28,
   "metadata": {},
   "outputs": [],
   "source": [
    "def eigenfunction_slicer(eigenfunction):\n",
    "    '''Function that cuts out the diverging part of the eigenfunction.\n",
    "    eigenfunction: eigenfunction to be cut'''\n",
    "    \n",
    "    # Loops through eigenfunction\n",
    "    for i in range(1, len(eigenfunction)):\n",
    "        # Checks how close to zero the eigenfunction is\n",
    "        if abs(eigenfunction[-i]) < abs(eigenfunction[-(i + 1)]):\n",
    "            # Cuts out everything to the right\n",
    "            eigenfunction[-i:] = np.zeros(len(eigenfunction[-i:]))\n",
    "            break\n",
    "    \n",
    "    return eigenfunction"
   ]
  },
  {
   "cell_type": "code",
   "execution_count": 29,
   "metadata": {},
   "outputs": [],
   "source": [
    "# Field \n",
    "z = np.linspace(0, 3, 3000)\n",
    "dz = z[1] - z[0]\n",
    "\n",
    "# Alpha\n",
    "alpha = np.logspace(-2, 2, 1000)\n",
    "\n",
    "# Stores eigenvalues\n",
    "eigenvalues = np.zeros((3, len(alpha)))\n",
    "\n",
    "# Initializing the root solvers\n",
    "eigenvalue_function_1 = eigenfunction_finder_rescaled([0, 1], z)\n",
    "eigenvalue_function_2 = eigenfunction_finder_rescaled([-1, 0], z)\n",
    "\n",
    "# Eigenvalue guess range \n",
    "lower_eigenvalue_1 = 0.05\n",
    "upper_eigenvalue_1 = 0.35\n",
    "lower_eigenvalue_2 = 0.2\n",
    "upper_eigenvalue_2 = 0.7\n",
    "\n",
    "# Loops over parameter combinations\n",
    "for i in range(len(alpha)):\n",
    "    eigenvalue_function_1.alpha = alpha[i]\n",
    "    eigenvalue_function_2.alpha = alpha[i]\n",
    "    # Adjusts eigenvalue guess range\n",
    "    if i >= 1:\n",
    "        lower_eigenvalue_1 = eigenvalues[1, i - 1]*(1 - 1/5)\n",
    "        upper_eigenvalue_1 = eigenvalues[1, i - 1]*(1 + 1/5)\n",
    "        lower_eigenvalue_2 = eigenvalues[2, i - 1]*(1 - 1/5)\n",
    "        upper_eigenvalue_2 = eigenvalues[2, i - 1]*(1 + 1/5)\n",
    "    \n",
    "    # Brent solver\n",
    "    eigenvalue_1 = optimize.brentq(eigenvalue_function_1.eigenfunction, lower_eigenvalue_1 , upper_eigenvalue_1, xtol=1e-6)\n",
    "    eigenvalue_2 = optimize.brentq(eigenvalue_function_2.eigenfunction, lower_eigenvalue_2 , upper_eigenvalue_2, xtol=1e-6)\n",
    "    \n",
    "    # Store computed quantities \n",
    "    eigenvalues[1, i] = eigenvalue_1\n",
    "    eigenvalues[2, i] = eigenvalue_2"
   ]
  },
  {
   "cell_type": "code",
   "execution_count": 30,
   "metadata": {},
   "outputs": [],
   "source": [
    "# Interpolation for non-pertubative values of alpha\n",
    "eigenvalue_interpolation_1 = interpolate.interp1d(alpha, eigenvalues[1])\n",
    "eigenvalue_interpolation_2 = interpolate.interp1d(alpha, eigenvalues[2])\n",
    "\n",
    "# Alpha free limit\n",
    "def eigenvalue_free(alpha, hubble_rate, mass_squared, self_coupling):\n",
    "    '''Returns scaled eigenvalue for the pertubative expansion as alpha tends to infinity for\n",
    "    the n = 1 and n = 2.\n",
    "    alpha: value of alpha\n",
    "    hubble_rate: hubble rate\n",
    "    mass_squared: mass squared\n",
    "    self_coupling: self coupling'''\n",
    "    \n",
    "    # Unscaled eigenvalue \n",
    "    unscaled_eigenvalue = np.zeros(2)\n",
    "    unscaled_eigenvalue[0] = (1/3 + 3/(8*(np.pi*alpha)**2))*mass_squared/hubble_rate\n",
    "    unscaled_eigenvalue[1] = (2/3 + 3/(2*(np.pi*alpha)**2))*mass_squared/hubble_rate\n",
    "    \n",
    "    # Scaled eigenvalue\n",
    "    scaled_eigenvalue = unscaled_eigenvalue/(np.sqrt(self_coupling)*hubble_rate*(1 + alpha))\n",
    "    \n",
    "    return scaled_eigenvalue\n",
    "\n",
    "# Alpha massless limit\n",
    "def eigenvalue_massless(alpha, hubble_rate, mass_squared, self_coupling):\n",
    "    '''Returns scaled eigenvalue for the pertubative expansion as alpha tends to zero for\n",
    "    the n = 1 and n = 2.\n",
    "    alpha: value of alpha\n",
    "    hubble_rate: hubble rate\n",
    "    mass_squared: mass squared\n",
    "    self_coupling: self coupling'''\n",
    "    \n",
    "    # Unscaled eigenvalue \n",
    "    unscaled_eigenvalue = np.zeros(2)\n",
    "    unscaled_eigenvalue[0] = (0.08892 + 0.21478*alpha)*np.sqrt(self_coupling)*hubble_rate\n",
    "    unscaled_eigenvalue[1] = (0.28938 + 0.35152*alpha)*np.sqrt(self_coupling)*hubble_rate\n",
    "    \n",
    "    # Scaled eigenvalue\n",
    "    scaled_eigenvalue = unscaled_eigenvalue/(np.sqrt(self_coupling)*hubble_rate*(1 + alpha))\n",
    "    \n",
    "    return scaled_eigenvalue"
   ]
  },
  {
   "cell_type": "code",
   "execution_count": 31,
   "metadata": {},
   "outputs": [],
   "source": [
    "# Field \n",
    "z = np.linspace(0, 3, 3000)\n",
    "dz = z[1] - z[0]\n",
    "\n",
    "# Stores eigenfunctions\n",
    "eigenfunctions = np.zeros((3, len(hubble_rate), len(mass_squared), len(self_coupling), len(z)))\n",
    "# Stores eigenvalues\n",
    "eigenvalues_scaled = np.zeros((3, len(hubble_rate), len(mass_squared), len(self_coupling)))\n",
    "\n",
    "# Initializing the root solvers\n",
    "eigenvalue_function_0 = eigenfunction_finder_rescaled([1, 0], z)\n",
    "eigenvalue_function_1 = eigenfunction_finder_rescaled([0, 1], z)\n",
    "eigenvalue_function_2 = eigenfunction_finder_rescaled([-1, 0], z)\n",
    "\n",
    "# Loops over parameter combinations\n",
    "for i in range(len(hubble_rate)):\n",
    "    for j in range(len(mass_squared)):\n",
    "        for k in range(len(self_coupling)):\n",
    "            eigenvalue_function_0.alpha = alpha_values[i, j, k]\n",
    "            eigenvalue_function_1.alpha = alpha_values[i, j, k]\n",
    "            eigenvalue_function_2.alpha = alpha_values[i, j, k]\n",
    "            \n",
    "            # Numerical computation of eigenvalues\n",
    "            if 1e-2 < alpha_values[i, j, k] < 1e2:\n",
    "                eigenvalues_scaled[1, i, j, k] = eigenvalue_interpolation_1(alpha_values[i, j, k])\n",
    "                eigenvalues_scaled[2, i, j, k] = eigenvalue_interpolation_2(alpha_values[i, j, k])\n",
    "                \n",
    "            # Massless approximation\n",
    "            elif alpha_values[i, j, k] < 1e-2:\n",
    "                eigenvalues_scaled[1, i, j, k] = eigenvalue_massless(alpha_values[i,j,k], hubble_rate[i], mass_squared[j], self_coupling[k])[0]\n",
    "                eigenvalues_scaled[2, i, j, k] = eigenvalue_massless(alpha_values[i,j,k], hubble_rate[i], mass_squared[j], self_coupling[k])[1]\n",
    "           \n",
    "            # Free field approximation\n",
    "            else:\n",
    "                eigenvalues_scaled[1, i, j, k] = eigenvalue_free(alpha_values[i,j,k], hubble_rate[i], mass_squared[j], self_coupling[k])[0]\n",
    "                eigenvalues_scaled[2, i, j, k] = eigenvalue_free(alpha_values[i,j,k], hubble_rate[i], mass_squared[j], self_coupling[k])[1]\n",
    "                            \n",
    "            # Brent solver  \n",
    "            eigenfunction_0 = np.exp(-4*potential[i, j, k]*(np.pi**2)/(3*hubble_rate[i]**4))\n",
    "            eigenfunction_1 = eigenvalue_function_1.eigenfunction_full(eigenvalues_scaled[1, i, j, k])\n",
    "            eigenfunction_2 = eigenvalue_function_2.eigenfunction_full(eigenvalues_scaled[2, i, j, k])\n",
    "    \n",
    "            # Slice eigenfunctions \n",
    "            eigenfunction_0 = eigenfunction_slicer(eigenfunction_0)\n",
    "            eigenfunction_1 = eigenfunction_slicer(eigenfunction_1)\n",
    "            eigenfunction_2 = eigenfunction_slicer(eigenfunction_2)\n",
    "    \n",
    "            # Normalisation \n",
    "            eigenfunction_0 = eigenfunction_0/np.sqrt(2*simps(eigenfunction_0**2, z[:len(eigenfunction_0)], dz))\n",
    "            eigenfunction_1 = eigenfunction_1/np.sqrt(2*simps(eigenfunction_1**2, z[:len(eigenfunction_1)], dz))\n",
    "            eigenfunction_2 = eigenfunction_2/np.sqrt(2*simps(eigenfunction_2**2, z[:len(eigenfunction_2)], dz))\n",
    "   \n",
    "            # Store computed eigenfunctions\n",
    "            eigenfunctions[0, i, j, k, :] = eigenfunction_0\n",
    "            eigenfunctions[1, i, j, k, :] = eigenfunction_1\n",
    "            eigenfunctions[2, i, j, k, :] = eigenfunction_2"
   ]
  },
  {
   "cell_type": "markdown",
   "metadata": {},
   "source": [
    "The power spectrum for the spectator field was given above to be\n",
    "$$\\mathcal{P}_f(k) \\simeq A_f(n_f-1)\\left(\\frac{k}{H}\\right)^{n_f-1}, $$\n",
    "so the amplitude is\n",
    "$$A^*_f = A_f(n_f-1). $$\n",
    "The primordial power spectrum from the Planck is given by \n",
    "$$\\mathcal{P}_s(k) = A_s \\left(\\frac{k}{k_*}\\right)^{n_s - 1}. $$\n",
    "with \n",
    "$$k_* = 0.05 \\text{ Mpc}^{-1} $$\n",
    "$$A_s = (2.091 \\pm 0.011) \\times 10^{-9} $$ \n",
    "$$ n_s = 0.9626 \\pm 0.0057 $$\n",
    "For the spectator field the various parameters lie in the following ranges\n",
    "$$H = (10^{13} - 10^5) \\text{ GeV} $$\n",
    "$$ H = 1.56 \\times (10^{51} - 10^{43}) \\text{ Mpc}^{-1}$$\n",
    "$$\\lambda = 0.45 - 1 $$\n",
    "$$m = 1 - 10^{13} GeV $$"
   ]
  },
  {
   "cell_type": "code",
   "execution_count": 32,
   "metadata": {},
   "outputs": [
    {
     "data": {
      "text/plain": [
       "164230.26119898428"
      ]
     },
     "execution_count": 32,
     "metadata": {},
     "output_type": "execute_result"
    }
   ],
   "source": [
    "hubble_rate_Mpc"
   ]
  },
  {
   "cell_type": "code",
   "execution_count": 33,
   "metadata": {
    "scrolled": true
   },
   "outputs": [],
   "source": [
    "# Primordial power spectrum \n",
    "pivot_scale = 0.05 # Mpc^-1\n",
    "amplitude_scalar = 2.091e-9\n",
    "scalar_index = 0.9626\n",
    "wavevector = np.logspace(-4, 2, 100) # Mpc^-1\n",
    "primordial_spectrum = amplitude_scalar*(wavevector/pivot_scale)**(scalar_index - 1)"
   ]
  },
  {
   "cell_type": "code",
   "execution_count": 34,
   "metadata": {},
   "outputs": [
    {
     "data": {
      "text/plain": [
       "Text(0, 0.5, '$\\\\mathcal{P}_s(k)$')"
      ]
     },
     "execution_count": 34,
     "metadata": {},
     "output_type": "execute_result"
    },
    {
     "data": {
      "image/png": "[encoded data removed]",
      "text/plain": [
       "<Figure size 432x288 with 1 Axes>"
      ]
     },
     "metadata": {
      "needs_background": "light"
     },
     "output_type": "display_data"
    }
   ],
   "source": [
    "# Plotting\n",
    "plt.plot(wavevector, primordial_spectrum, \"r\")\n",
    "plt.xscale(\"log\")\n",
    "plt.xlabel(\"$k/Mpc^{-1}$\")\n",
    "plt.ylabel(\"$\\mathcal{P}_s(k)$\")"
   ]
  },
  {
   "cell_type": "code",
   "execution_count": 35,
   "metadata": {
    "scrolled": true
   },
   "outputs": [
    {
     "name": "stderr",
     "output_type": "stream",
     "text": [
      "//anaconda3/lib/python3.7/site-packages/ipykernel_launcher.py:34: RuntimeWarning: invalid value encountered in double_scalars\n",
      "//anaconda3/lib/python3.7/site-packages/ipykernel_launcher.py:34: RuntimeWarning: divide by zero encountered in double_scalars\n",
      "//anaconda3/lib/python3.7/site-packages/ipykernel_launcher.py:32: RuntimeWarning: invalid value encountered in multiply\n",
      "//anaconda3/lib/python3.7/site-packages/ipykernel_launcher.py:33: RuntimeWarning: invalid value encountered in double_scalars\n"
     ]
    }
   ],
   "source": [
    "# Array to store spectral coefficient for delta\n",
    "quartic_delta_2 = np.zeros((len(hubble_rate), len(mass_squared), len(self_coupling)))\n",
    "A_delta = np.zeros((len(hubble_rate), len(mass_squared), len(self_coupling)))\n",
    "quartic_A_delta = np.zeros((len(hubble_rate), len(mass_squared), len(self_coupling)))\n",
    "spectator_amplitude = np.zeros((len(hubble_rate), len(mass_squared), len(self_coupling)))\n",
    "\n",
    "# Array for unscaled eigenvalues\n",
    "eigenvalues_unscaled = np.zeros(np.shape(eigenvalues_scaled))\n",
    "# Hubble rate Mpc^-1\n",
    "spectator_scale = pivot_scale*np.exp(56 + 0.5*np.log(hubble_rate/(8e13)))\n",
    "# Primordial power spectrum\n",
    "spectator_spectrum = np.zeros((len(hubble_rate), len(mass_squared), len(self_coupling), len(wavevector)))\n",
    "ratio_spectrum = np.zeros((len(hubble_rate), len(mass_squared), len(self_coupling)))\n",
    "k_equal = np.zeros((len(hubble_rate), len(mass_squared), len(self_coupling)))\n",
    "spectator_index = np.zeros((len(hubble_rate), len(mass_squared), len(self_coupling)))\n",
    "\n",
    "# Computes density contrast amplitude\n",
    "for i in range(len(hubble_rate)):\n",
    "    for j in range(len(mass_squared)):\n",
    "        for k in range(len(self_coupling)):\n",
    "            # Unscaled eigenvalues\n",
    "            eigenvalues_unscaled[0, i, j, k] = eigenvalues_scaled[0, i, j, k]*(1 + alpha_values[i, j, k])*np.sqrt(self_coupling[k])*hubble_rate[i]\n",
    "            eigenvalues_unscaled[1, i, j, k] = eigenvalues_scaled[1, i, j, k]*(1 + alpha_values[i, j, k])*np.sqrt(self_coupling[k])*hubble_rate[i]\n",
    "            eigenvalues_unscaled[2, i, j, k] = eigenvalues_scaled[2, i, j, k]*(1 + alpha_values[i, j, k])*np.sqrt(self_coupling[k])*hubble_rate[i]        \n",
    "            # Average of the potential\n",
    "            average_potential = 2*simps(potential[i, j, k]*eigenfunctions[0, i, j , k]**2, z, dz) \n",
    "            # Amplitude and spectral index\n",
    "            quartic_delta_2 = 2*simps(potential[i, j, k]*eigenfunctions[0, i, j, k]*eigenfunctions[2, i, j, k], z, dz)/average_potential \n",
    "            quartic_A_delta[i, j, k] = quartic_delta_2**2\n",
    "            spectator_index[i, j, k] = 1 + 2*eigenvalues_unscaled[2, i, j, k]/hubble_rate[i]\n",
    "            spectator_amplitude[i, j, k] = quartic_A_delta[i, j, k]*(2/np.pi)*gamma(2 - (spectator_index[i, j, k] - 1))*np.sin(np.pi*(spectator_index[i, j, k] - 1)/2)\n",
    "            spectator_spectrum[i, j, k] = spectator_amplitude[i,j,k]*(wavevector/spectator_scale[i])**(spectator_index[i, j, k] - 1)\n",
    "            ratio_spectrum[i, j, k] = abs(spectator_amplitude[i,j,k]*(pivot_scale/spectator_scale[i])**(spectator_index[i, j, k] - 1)/amplitude_scalar)\n",
    "            k_equal[i, j, k] = (spectator_amplitude[i, j, k]*(pivot_scale**(scalar_index - 1))*(spectator_scale[i]**(1 - spectator_index[i,j,k]))/amplitude_scalar)**(1/(scalar_index - spectator_index[i,j,k]))"
   ]
  },
  {
   "cell_type": "code",
   "execution_count": 36,
   "metadata": {
    "scrolled": true
   },
   "outputs": [
    {
     "data": {
      "text/plain": [
       "Text(0.5, 0, '$k/Mpc^{-1}$')"
      ]
     },
     "execution_count": 36,
     "metadata": {},
     "output_type": "execute_result"
    },
    {
     "data": {
      "image/png": "[encoded data removed]",
      "text/plain": [
       "<Figure size 432x288 with 1 Axes>"
      ]
     },
     "metadata": {
      "needs_background": "light"
     },
     "output_type": "display_data"
    }
   ],
   "source": [
    "# Plotting\n",
    "plt.plot(wavevector, spectator_spectrum[0, 0, 0], \"b\")\n",
    "plt.plot(wavevector, primordial_spectrum, \"r\")\n",
    "plt.xscale(\"log\")\n",
    "plt.xlabel(\"$k/Mpc^{-1}$\")"
   ]
  },
  {
   "cell_type": "code",
   "execution_count": 37,
   "metadata": {},
   "outputs": [
    {
     "data": {
      "text/plain": [
       "Text(0.5, 0, '$k/Mpc^{-1}$')"
      ]
     },
     "execution_count": 37,
     "metadata": {},
     "output_type": "execute_result"
    },
    {
     "data": {
      "image/png": "[encoded data removed]",
      "text/plain": [
       "<Figure size 432x288 with 1 Axes>"
      ]
     },
     "metadata": {
      "needs_background": "light"
     },
     "output_type": "display_data"
    }
   ],
   "source": [
    "# Plotting\n",
    "plt.plot(wavevector, np.log(spectator_spectrum[0, 0, 0]), \"b\")\n",
    "plt.plot(wavevector, np.log(primordial_spectrum), \"r\")\n",
    "plt.xscale(\"log\")\n",
    "plt.xlabel(\"$k/Mpc^{-1}$\")"
   ]
  },
  {
   "cell_type": "code",
   "execution_count": 38,
   "metadata": {},
   "outputs": [
    {
     "data": {
      "text/plain": [
       "Text(0.5, 0, '$k/Mpc^{-1}$')"
      ]
     },
     "execution_count": 38,
     "metadata": {},
     "output_type": "execute_result"
    },
    {
     "data": {
      "image/png": "[encoded data removed]",
      "text/plain": [
       "<Figure size 432x288 with 1 Axes>"
      ]
     },
     "metadata": {
      "needs_background": "light"
     },
     "output_type": "display_data"
    }
   ],
   "source": [
    "# Plotting\n",
    "plt.plot(wavevector, spectator_spectrum[9, 0, 0], \"b\")\n",
    "plt.plot(wavevector, primordial_spectrum, \"r\")\n",
    "plt.xscale(\"log\")\n",
    "plt.xlabel(\"$k/Mpc^{-1}$\")"
   ]
  },
  {
   "cell_type": "code",
   "execution_count": 39,
   "metadata": {},
   "outputs": [
    {
     "data": {
      "text/plain": [
       "Text(0.5, 0, '$k/Mpc^{-1}$')"
      ]
     },
     "execution_count": 39,
     "metadata": {},
     "output_type": "execute_result"
    },
    {
     "data": {
      "image/png": "[encoded data removed]",
      "text/plain": [
       "<Figure size 432x288 with 1 Axes>"
      ]
     },
     "metadata": {
      "needs_background": "light"
     },
     "output_type": "display_data"
    }
   ],
   "source": [
    "# Plotting\n",
    "plt.plot(wavevector, np.log(spectator_spectrum[9, 0, 0]), \"b\")\n",
    "plt.plot(wavevector, np.log(primordial_spectrum), \"r\")\n",
    "plt.xscale(\"log\")\n",
    "plt.xlabel(\"$k/Mpc^{-1}$\")"
   ]
  },
  {
   "cell_type": "code",
   "execution_count": 40,
   "metadata": {},
   "outputs": [
    {
     "data": {
      "text/plain": [
       "Text(0, 0.5, '$k_{EQ}/Mpc^{-1}$')"
      ]
     },
     "execution_count": 40,
     "metadata": {},
     "output_type": "execute_result"
    },
    {
     "data": {
      "image/png": "[encoded data removed]",
      "text/plain": [
       "<Figure size 432x288 with 1 Axes>"
      ]
     },
     "metadata": {
      "needs_background": "light"
     },
     "output_type": "display_data"
    }
   ],
   "source": [
    "# Plotting k_equal in terms of parameters\n",
    "plt.plot(hubble_rate, k_equal[:, 0, 0], \"b\")\n",
    "plt.xscale(\"log\")\n",
    "plt.yscale(\"log\")\n",
    "plt.xlabel(\"$H$/GeV\")\n",
    "plt.ylabel(\"$k_{EQ}/Mpc^{-1}$\")"
   ]
  },
  {
   "cell_type": "code",
   "execution_count": 41,
   "metadata": {},
   "outputs": [
    {
     "data": {
      "text/plain": [
       "Text(0, 0.5, '$k_{EQ}/Mpc^{-1}$')"
      ]
     },
     "execution_count": 41,
     "metadata": {},
     "output_type": "execute_result"
    },
    {
     "data": {
      "image/png": "[encoded data removed]",
      "text/plain": [
       "<Figure size 432x288 with 1 Axes>"
      ]
     },
     "metadata": {
      "needs_background": "light"
     },
     "output_type": "display_data"
    }
   ],
   "source": [
    "# Plotting k_equal in terms of parameters\n",
    "plt.plot(hubble_rate, k_equal[:, 20, 0], \"b\")\n",
    "plt.xscale(\"log\")\n",
    "plt.yscale(\"log\")\n",
    "plt.xlabel(\"$H$/GeV\")\n",
    "plt.ylabel(\"$k_{EQ}/Mpc^{-1}$\")"
   ]
  },
  {
   "cell_type": "code",
   "execution_count": 42,
   "metadata": {},
   "outputs": [
    {
     "data": {
      "text/plain": [
       "Text(0, 0.5, '$k_{EQ}/Mpc^{-1}$')"
      ]
     },
     "execution_count": 42,
     "metadata": {},
     "output_type": "execute_result"
    },
    {
     "data": {
      "image/png": "[encoded data removed]",
      "text/plain": [
       "<Figure size 432x288 with 1 Axes>"
      ]
     },
     "metadata": {
      "needs_background": "light"
     },
     "output_type": "display_data"
    }
   ],
   "source": [
    "# Plotting k_equal in terms of parameters\n",
    "plt.plot(mass, k_equal[0, :, 0], \"b\")\n",
    "plt.xscale(\"log\")\n",
    "plt.yscale(\"log\")\n",
    "plt.xlabel(\"$m$/GeV\")\n",
    "plt.ylabel(\"$k_{EQ}/Mpc^{-1}$\")"
   ]
  },
  {
   "cell_type": "code",
   "execution_count": 43,
   "metadata": {},
   "outputs": [
    {
     "data": {
      "text/plain": [
       "Text(0, 0.5, '$k_{EQ}/Mpc^{-1}$')"
      ]
     },
     "execution_count": 43,
     "metadata": {},
     "output_type": "execute_result"
    },
    {
     "data": {
      "image/png": "[encoded data removed]",
      "text/plain": [
       "<Figure size 432x288 with 1 Axes>"
      ]
     },
     "metadata": {
      "needs_background": "light"
     },
     "output_type": "display_data"
    }
   ],
   "source": [
    "# Plotting k_equal in terms of parameters\n",
    "plt.plot(self_coupling, k_equal[0, 0, :], \"b\")\n",
    "#plt.xscale(\"log\")\n",
    "plt.yscale(\"log\")\n",
    "plt.xlabel(\"$\\lambda$\")\n",
    "plt.ylabel(\"$k_{EQ}/Mpc^{-1}$\")"
   ]
  },
  {
   "cell_type": "code",
   "execution_count": 44,
   "metadata": {},
   "outputs": [
    {
     "data": {
      "text/plain": [
       "Text(0, 0.5, '$n_f$')"
      ]
     },
     "execution_count": 44,
     "metadata": {},
     "output_type": "execute_result"
    },
    {
     "data": {
      "image/png": "[encoded data removed]",
      "text/plain": [
       "<Figure size 432x288 with 1 Axes>"
      ]
     },
     "metadata": {
      "needs_background": "light"
     },
     "output_type": "display_data"
    }
   ],
   "source": [
    "# Plotting n_f in terms of parameters\n",
    "plt.plot(hubble_rate, spectator_index[:, 0, 0], \"b\")\n",
    "plt.xscale(\"log\")\n",
    "#plt.yscale(\"log\")\n",
    "plt.xlabel(\"$H$/GeV\")\n",
    "plt.ylabel(\"$n_f$\")"
   ]
  },
  {
   "cell_type": "code",
   "execution_count": 45,
   "metadata": {},
   "outputs": [
    {
     "data": {
      "text/plain": [
       "Text(0, 0.5, '$n_f$')"
      ]
     },
     "execution_count": 45,
     "metadata": {},
     "output_type": "execute_result"
    },
    {
     "data": {
      "image/png": "[encoded data removed]",
      "text/plain": [
       "<Figure size 432x288 with 1 Axes>"
      ]
     },
     "metadata": {
      "needs_background": "light"
     },
     "output_type": "display_data"
    }
   ],
   "source": [
    "# Plotting n_f in terms of parameters\n",
    "plt.plot(mass, spectator_index[0, :, 0], \"b\")\n",
    "plt.xscale(\"log\")\n",
    "#plt.yscale(\"log\")\n",
    "plt.xlabel(\"$m$/GeV\")\n",
    "plt.ylabel(\"$n_f$\")"
   ]
  },
  {
   "cell_type": "code",
   "execution_count": 46,
   "metadata": {},
   "outputs": [
    {
     "data": {
      "text/plain": [
       "Text(0, 0.5, '$n_f$')"
      ]
     },
     "execution_count": 46,
     "metadata": {},
     "output_type": "execute_result"
    },
    {
     "data": {
      "image/png": "[encoded data removed]",
      "text/plain": [
       "<Figure size 432x288 with 1 Axes>"
      ]
     },
     "metadata": {
      "needs_background": "light"
     },
     "output_type": "display_data"
    }
   ],
   "source": [
    "# Plotting n_f in terms of parameters\n",
    "plt.plot(self_coupling, spectator_index[0, 0, :], \"b\")\n",
    "plt.xscale(\"log\")\n",
    "#plt.yscale(\"log\")\n",
    "plt.xlabel(\"$\\lambda$\")\n",
    "plt.ylabel(\"$n_f$\")"
   ]
  },
  {
   "cell_type": "code",
   "execution_count": 47,
   "metadata": {},
   "outputs": [
    {
     "data": {
      "text/plain": [
       "Text(0, 0.5, '$\\\\mathcal{A}$')"
      ]
     },
     "execution_count": 47,
     "metadata": {},
     "output_type": "execute_result"
    },
    {
     "data": {
      "image/png": "[encoded data removed]",
      "text/plain": [
       "<Figure size 432x288 with 1 Axes>"
      ]
     },
     "metadata": {
      "needs_background": "light"
     },
     "output_type": "display_data"
    }
   ],
   "source": [
    "# Plotting amplitude in terms of parameters\n",
    "plt.plot(hubble_rate, spectator_amplitude[:, 0, 0], \"b\")\n",
    "plt.xscale(\"log\")\n",
    "#plt.yscale(\"log\")\n",
    "plt.xlabel(\"$H$/GeV\")\n",
    "plt.ylabel(\"$\\mathcal{A}$\")"
   ]
  },
  {
   "cell_type": "code",
   "execution_count": 48,
   "metadata": {},
   "outputs": [
    {
     "data": {
      "text/plain": [
       "Text(0, 0.5, '$\\\\mathcal{A}$')"
      ]
     },
     "execution_count": 48,
     "metadata": {},
     "output_type": "execute_result"
    },
    {
     "data": {
      "image/png": "[encoded data removed]",
      "text/plain": [
       "<Figure size 432x288 with 1 Axes>"
      ]
     },
     "metadata": {
      "needs_background": "light"
     },
     "output_type": "display_data"
    }
   ],
   "source": [
    "# Plotting amplitude in terms of parameters\n",
    "plt.plot(mass, spectator_amplitude[0, :, 0], \"b\")\n",
    "plt.xscale(\"log\")\n",
    "#plt.yscale(\"log\")\n",
    "plt.xlabel(\"$m$/GeV\")\n",
    "plt.ylabel(\"$\\mathcal{A}$\")"
   ]
  },
  {
   "cell_type": "code",
   "execution_count": 49,
   "metadata": {},
   "outputs": [
    {
     "data": {
      "text/plain": [
       "Text(0, 0.5, '$\\\\mathcal{A}$')"
      ]
     },
     "execution_count": 49,
     "metadata": {},
     "output_type": "execute_result"
    },
    {
     "data": {
      "image/png": "[encoded data removed]",
      "text/plain": [
       "<Figure size 432x288 with 1 Axes>"
      ]
     },
     "metadata": {
      "needs_background": "light"
     },
     "output_type": "display_data"
    }
   ],
   "source": [
    "# Plotting amplitude in terms of parameters\n",
    "plt.plot(self_coupling, spectator_amplitude[0, 0, :], \"b\")\n",
    "plt.xscale(\"log\")\n",
    "#plt.yscale(\"log\")\n",
    "plt.xlabel(\"$\\lambda$\")\n",
    "plt.ylabel(\"$\\mathcal{A}$\")"
   ]
  },
  {
   "cell_type": "code",
   "execution_count": 50,
   "metadata": {},
   "outputs": [
    {
     "data": {
      "text/plain": [
       "Text(0, 0.5, '$\\\\mathcal{P}_f(k_*)/\\\\mathcal{P}_s(k_*)$')"
      ]
     },
     "execution_count": 50,
     "metadata": {},
     "output_type": "execute_result"
    },
    {
     "data": {
      "image/png": "[encoded data removed]",
      "text/plain": [
       "<Figure size 432x288 with 1 Axes>"
      ]
     },
     "metadata": {
      "needs_background": "light"
     },
     "output_type": "display_data"
    }
   ],
   "source": [
    "# Plotting ratio at pivot scale\n",
    "plt.plot(hubble_rate, ratio_spectrum[:, 0, 0], \"b\")\n",
    "plt.xscale(\"log\")\n",
    "#plt.yscale(\"log\")\n",
    "plt.xlabel(\"$H$/GeV\")\n",
    "plt.ylabel(\"$\\mathcal{P}_f(k_*)/\\mathcal{P}_s(k_*)$\")"
   ]
  },
  {
   "cell_type": "code",
   "execution_count": 51,
   "metadata": {},
   "outputs": [
    {
     "data": {
      "text/plain": [
       "Text(0, 0.5, '$\\\\mathcal{P}_f(k_*)/\\\\mathcal{P}_s(k_*)$')"
      ]
     },
     "execution_count": 51,
     "metadata": {},
     "output_type": "execute_result"
    },
    {
     "data": {
      "image/png": "[encoded data removed]",
      "text/plain": [
       "<Figure size 432x288 with 1 Axes>"
      ]
     },
     "metadata": {
      "needs_background": "light"
     },
     "output_type": "display_data"
    }
   ],
   "source": [
    "# Plotting ratio at pivot scale\n",
    "plt.plot(mass, ratio_spectrum[0, :, 0], \"b\")\n",
    "plt.xscale(\"log\")\n",
    "#plt.yscale(\"log\")\n",
    "plt.xlabel(\"$m$/GeV\")\n",
    "plt.ylabel(\"$\\mathcal{P}_f(k_*)/\\mathcal{P}_s(k_*)$\")"
   ]
  },
  {
   "cell_type": "code",
   "execution_count": 52,
   "metadata": {},
   "outputs": [
    {
     "data": {
      "text/plain": [
       "Text(0, 0.5, '$\\\\mathcal{P}_f(k_*)/\\\\mathcal{P}_s(k_*)$')"
      ]
     },
     "execution_count": 52,
     "metadata": {},
     "output_type": "execute_result"
    },
    {
     "data": {
      "image/png": "[encoded data removed]",
      "text/plain": [
       "<Figure size 432x288 with 1 Axes>"
      ]
     },
     "metadata": {
      "needs_background": "light"
     },
     "output_type": "display_data"
    }
   ],
   "source": [
    "# Plotting ratio at pivot scale\n",
    "plt.plot(self_coupling, ratio_spectrum[0, 0, :], \"b\")\n",
    "plt.xscale(\"log\")\n",
    "#plt.yscale(\"log\")\n",
    "plt.xlabel(\"$\\lambda$\")\n",
    "plt.ylabel(\"$\\mathcal{P}_f(k_*)/\\mathcal{P}_s(k_*)$\")"
   ]
  },
  {
   "cell_type": "markdown",
   "metadata": {},
   "source": [
    "This takes a *long* time to run but the combined code below is designed to compute the paramater space for the interacting scalar field. "
   ]
  },
  {
   "cell_type": "code",
   "execution_count": null,
   "metadata": {},
   "outputs": [
    {
     "data": {
      "text/plain": [
       "array([[[3.16227766e-20, 3.12589852e-20, 3.08993788e-20, ...,\n",
       "         3.23631101e-21, 3.19908018e-21, 3.16227766e-21],\n",
       "        [3.94807635e-20, 3.90265730e-20, 3.85776076e-20, ...,\n",
       "         4.04050635e-21, 3.99402398e-21, 3.94807635e-21],\n",
       "        [4.92913922e-20, 4.87243393e-20, 4.81638098e-20, ...,\n",
       "         5.04453728e-21, 4.98650444e-21, 4.92913922e-21],\n",
       "        ...,\n",
       "        [2.02875179e+04, 2.00541283e+04, 1.98234237e+04, ...,\n",
       "         2.07624771e+03, 2.05236236e+03, 2.02875179e+03],\n",
       "        [2.53287908e+04, 2.50374060e+04, 2.47493733e+04, ...,\n",
       "         2.59217734e+03, 2.56235668e+03, 2.53287908e+03],\n",
       "        [3.16227766e+04, 3.12589852e+04, 3.08993788e+04, ...,\n",
       "         3.23631101e+03, 3.19908018e+03, 3.16227766e+03]],\n",
       "\n",
       "       [[3.54813389e-23, 3.50731582e-23, 3.46696733e-23, ...,\n",
       "         3.63120068e-24, 3.58942700e-24, 3.54813389e-24],\n",
       "        [4.42981452e-23, 4.37885351e-23, 4.32847876e-23, ...,\n",
       "         4.53352269e-24, 4.48136861e-24, 4.42981452e-24],\n",
       "        [5.53058516e-23, 5.46696079e-23, 5.40406835e-23, ...,\n",
       "         5.66006392e-24, 5.59495000e-24, 5.53058516e-24],\n",
       "        ...,\n",
       "        [2.27629695e+01, 2.25011021e+01, 2.22422473e+01, ...,\n",
       "         2.32958825e+00, 2.30278844e+00, 2.27629695e+00],\n",
       "        [2.84193708e+01, 2.80924316e+01, 2.77692536e+01, ...,\n",
       "         2.90847081e+00, 2.87501148e+00, 2.84193708e+00],\n",
       "        [3.54813389e+01, 3.50731582e+01, 3.46696733e+01, ...,\n",
       "         3.63120068e+00, 3.58942700e+00, 3.54813389e+00]],\n",
       "\n",
       "       [[3.98107171e-26, 3.93527308e-26, 3.89000132e-26, ...,\n",
       "         4.07427418e-27, 4.02740334e-27, 3.98107171e-27],\n",
       "        [4.97033364e-26, 4.91315445e-26, 4.85663305e-26, ...,\n",
       "         5.08669612e-27, 5.02817828e-27, 4.97033364e-27],\n",
       "        [6.20541862e-26, 6.13403089e-26, 6.06346441e-26, ...,\n",
       "         6.35069617e-27, 6.27763715e-27, 6.20541862e-27],\n",
       "        ...,\n",
       "        [2.55404718e-02, 2.52466518e-02, 2.49562119e-02, ...,\n",
       "         2.61384101e-03, 2.58377113e-03, 2.55404718e-03],\n",
       "        [3.18870584e-02, 3.15202267e-02, 3.11576150e-02, ...,\n",
       "         3.26335792e-03, 3.22581594e-03, 3.18870584e-03],\n",
       "        [3.98107171e-02, 3.93527308e-02, 3.89000132e-02, ...,\n",
       "         4.07427418e-03, 4.02740334e-03, 3.98107171e-03]],\n",
       "\n",
       "       [[4.46683592e-29, 4.41544902e-29, 4.36465327e-29, ...,\n",
       "         4.57141081e-30, 4.51882087e-30, 4.46683592e-30],\n",
       "        [5.57680607e-29, 5.51264996e-29, 5.44923191e-29, ...,\n",
       "         5.70736692e-30, 5.64170882e-30, 5.57680607e-30],\n",
       "        [6.96259421e-29, 6.88249586e-29, 6.80331897e-29, ...,\n",
       "         7.12559830e-30, 7.04362474e-30, 6.96259421e-30],\n",
       "        ...,\n",
       "        [2.86568807e-05, 2.83272092e-05, 2.80013303e-05, ...,\n",
       "         2.93277785e-06, 2.89903889e-06, 2.86568807e-06],\n",
       "        [3.57778680e-05, 3.53662760e-05, 3.49594190e-05, ...,\n",
       "         3.66154781e-06, 3.61942501e-06, 3.57778680e-06],\n",
       "        [4.46683592e-05, 4.41544902e-05, 4.36465327e-05, ...,\n",
       "         4.57141081e-06, 4.51882087e-06, 4.46683592e-06]],\n",
       "\n",
       "       [[5.01187234e-32, 4.95421528e-32, 4.89722151e-32, ...,\n",
       "         5.12920729e-33, 5.07020041e-33, 5.01187234e-33],\n",
       "        [6.25727932e-32, 6.18529498e-32, 6.11413876e-32, ...,\n",
       "         6.40377101e-33, 6.33010141e-33, 6.25727932e-33],\n",
       "        [7.81215919e-32, 7.72228736e-32, 7.63344943e-32, ...,\n",
       "         7.99505279e-33, 7.90307694e-33, 7.81215919e-33],\n",
       "        ...,\n",
       "        [3.21535490e-08, 3.17836515e-08, 3.14180093e-08, ...,\n",
       "         3.29063086e-09, 3.25277513e-09, 3.21535490e-09],\n",
       "        [4.01434282e-08, 3.96816144e-08, 3.92251133e-08, ...,\n",
       "         4.10832421e-09, 4.06106166e-09, 4.01434282e-09],\n",
       "        [5.01187234e-08, 4.95421528e-08, 4.89722151e-08, ...,\n",
       "         5.12920729e-09, 5.07020041e-09, 5.01187234e-09]]])"
      ]
     },
     "execution_count": 53,
     "metadata": {},
     "output_type": "execute_result"
    }
   ],
   "source": [
    "# Field \n",
    "z = np.linspace(0, 3, 3000)\n",
    "dz = z[1] - z[0]\n",
    "\n",
    "# Parameters\n",
    "hubble_rate = np.logspace(8, 13.9, 5)\n",
    "mass = np.logspace(-2, 10, 250)\n",
    "mass_squared = mass**2\n",
    "self_coupling = np.logspace(-1, 1, 200)\n",
    "\n",
    "# Alpha for the various combinations of parameters\n",
    "alpha_values = np.zeros((len(hubble_rate), len(mass_squared), len(self_coupling)))\n",
    "omega = np.zeros((len(hubble_rate), len(mass_squared), len(self_coupling)))\n",
    "potential = np.zeros((len(hubble_rate), len(mass_squared), len(self_coupling), len(z)))\n",
    "potential_grad2 = np.zeros((len(hubble_rate), len(mass_squared), len(self_coupling), len(z)))\n",
    "for i in range(len(hubble_rate)):\n",
    "    for j in range(len(mass_squared)):\n",
    "        for k in range(len(self_coupling)):\n",
    "            alpha_values[i, j, k] = mass_squared[j]/(np.sqrt(self_coupling[k])*hubble_rate[i]**2)\n",
    "            omega[i, j, k] =  1 + np.sqrt(alpha_values[i, j, k])\n",
    "            for l in range(len(z)):\n",
    "                potential[i, j, k, l] = (0.5*alpha_values[i,j,k]*(z[l]/omega[i, j, k])**2 + 0.25*(z[l]/omega[i, j, k])**4)*hubble_rate[i]**4\n",
    "                potential_grad2[i, j, k, l] = mass_squared[j] + (np.sqrt(self_coupling[k])/omega[i, j, k]**2)*(hubble_rate[i]*z[l])**2\n",
    "alpha_values"
   ]
  },
  {
   "cell_type": "code",
   "execution_count": null,
   "metadata": {},
   "outputs": [],
   "source": [
    "# Field \n",
    "z = np.linspace(0, 3, 3000)\n",
    "dz = z[1] - z[0]\n",
    "\n",
    "# Stores eigenfunctions\n",
    "eigenfunctions = np.zeros((3, len(hubble_rate), len(mass_squared), len(self_coupling), len(z)))\n",
    "# Stores eigenvalues\n",
    "eigenvalues_scaled = np.zeros((3, len(hubble_rate), len(mass_squared), len(self_coupling)))\n",
    "\n",
    "# Initializing the root solvers\n",
    "eigenvalue_function_0 = eigenfunction_finder_rescaled([1, 0], z)\n",
    "eigenvalue_function_1 = eigenfunction_finder_rescaled([0, 1], z)\n",
    "eigenvalue_function_2 = eigenfunction_finder_rescaled([-1, 0], z)\n",
    "\n",
    "# Loops over parameter combinations\n",
    "for i in range(len(hubble_rate)):\n",
    "    for j in range(len(mass_squared)):\n",
    "        for k in range(len(self_coupling)):\n",
    "            eigenvalue_function_0.alpha = alpha_values[i, j, k]\n",
    "            eigenvalue_function_1.alpha = alpha_values[i, j, k]\n",
    "            eigenvalue_function_2.alpha = alpha_values[i, j, k]\n",
    "            \n",
    "            # Numerical computation of eigenvalues\n",
    "            if 1e-2 < alpha_values[i, j, k] < 1e2:\n",
    "                eigenvalues_scaled[1, i, j, k] = eigenvalue_interpolation_1(alpha_values[i, j, k])\n",
    "                eigenvalues_scaled[2, i, j, k] = eigenvalue_interpolation_2(alpha_values[i, j, k])\n",
    "                \n",
    "            # Massless approximation\n",
    "            elif alpha_values[i, j, k] < 1e-2:\n",
    "                eigenvalues_scaled[1, i, j, k] = eigenvalue_massless(alpha_values[i,j,k], hubble_rate[i], mass_squared[j], self_coupling[k])[0]\n",
    "                eigenvalues_scaled[2, i, j, k] = eigenvalue_massless(alpha_values[i,j,k], hubble_rate[i], mass_squared[j], self_coupling[k])[1]\n",
    "           \n",
    "            # Free field approximation\n",
    "            else:\n",
    "                eigenvalues_scaled[1, i, j, k] = eigenvalue_free(alpha_values[i,j,k], hubble_rate[i], mass_squared[j], self_coupling[k])[0]\n",
    "                eigenvalues_scaled[2, i, j, k] = eigenvalue_free(alpha_values[i,j,k], hubble_rate[i], mass_squared[j], self_coupling[k])[1]\n",
    "                            \n",
    "            # Brent solver  \n",
    "            eigenfunction_0 = np.exp(-4*potential[i, j, k]*(np.pi**2)/(3*hubble_rate[i]**4))\n",
    "            eigenfunction_1 = eigenvalue_function_1.eigenfunction_full(eigenvalues_scaled[1, i, j, k])\n",
    "            eigenfunction_2 = eigenvalue_function_2.eigenfunction_full(eigenvalues_scaled[2, i, j, k])\n",
    "    \n",
    "            # Slice eigenfunctions \n",
    "            eigenfunction_0 = eigenfunction_slicer(eigenfunction_0)\n",
    "            eigenfunction_1 = eigenfunction_slicer(eigenfunction_1)\n",
    "            eigenfunction_2 = eigenfunction_slicer(eigenfunction_2)\n",
    "    \n",
    "            # Normalisation \n",
    "            eigenfunction_0 = eigenfunction_0/np.sqrt(2*simps(eigenfunction_0**2, z[:len(eigenfunction_0)], dz))\n",
    "            eigenfunction_1 = eigenfunction_1/np.sqrt(2*simps(eigenfunction_1**2, z[:len(eigenfunction_1)], dz))\n",
    "            eigenfunction_2 = eigenfunction_2/np.sqrt(2*simps(eigenfunction_2**2, z[:len(eigenfunction_2)], dz))\n",
    "   \n",
    "            # Store computed eigenfunctions\n",
    "            eigenfunctions[0, i, j, k, :] = eigenfunction_0\n",
    "            eigenfunctions[1, i, j, k, :] = eigenfunction_1\n",
    "            eigenfunctions[2, i, j, k, :] = eigenfunction_2"
   ]
  },
  {
   "cell_type": "code",
   "execution_count": null,
   "metadata": {
    "scrolled": false
   },
   "outputs": [],
   "source": [
    "average_grad2 = np.zeros((len(hubble_rate), len(mass_squared), len(self_coupling)))\n",
    "# Array to store spectral coefficient for delta\n",
    "#isocurvature_delta_2 = np.zeros((len(hubble_rate), len(mass_squared), len(self_coupling)))\n",
    "#A_isocurvature = np.zeros((len(hubble_rate), len(mass_squared), len(self_coupling)))\n",
    "isocurvature_amplitude = np.zeros((len(hubble_rate), len(mass_squared), len(self_coupling)))\n",
    "\n",
    "# Array for unscaled eigenvalues\n",
    "eigenvalues_unscaled = np.zeros(np.shape(eigenvalues_scaled))\n",
    "# e-fold number\n",
    "e_folds = 56 + 0.5*np.log(hubble_rate/(8e13))\n",
    "# Primordial power spectrum\n",
    "isocurvature_spectrum = np.zeros((len(hubble_rate), len(mass_squared), len(self_coupling), len(wavevector)))\n",
    "ratio_spectrum = np.zeros((len(hubble_rate), len(mass_squared), len(self_coupling)))\n",
    "k_equal = np.zeros((len(hubble_rate), len(mass_squared), len(self_coupling)))\n",
    "spectator_index = np.zeros((len(hubble_rate), len(mass_squared), len(self_coupling)))\n",
    "\n",
    "# Spectral coefficient\n",
    "average_f = 2*simps(abs(z**(3/2))*eigenfunctions[0, 0, 0, 0]*eigenfunctions[0, 0, 0, 0], z, dz)\n",
    "isocurvature_delta_2 = 2*simps(abs(z**(3/2))*eigenfunctions[0, 0, 0, 0]*eigenfunctions[2, 0, 0, 0], z, dz)/average_f \n",
    "A_isocurvature = isocurvature_delta_2**2\n",
    "\n",
    "# Computes density contrast amplitude\n",
    "for i in range(len(hubble_rate)):\n",
    "    for j in range(len(mass_squared)):\n",
    "        for k in range(len(self_coupling)):\n",
    "            # Unscaled eigenvalues\n",
    "            eigenvalues_unscaled[0, i, j, k] = eigenvalues_scaled[0, i, j, k]*(1 + alpha_values[i, j, k])*np.sqrt(self_coupling[k])*hubble_rate[i]\n",
    "            eigenvalues_unscaled[1, i, j, k] = eigenvalues_scaled[1, i, j, k]*(1 + alpha_values[i, j, k])*np.sqrt(self_coupling[k])*hubble_rate[i]\n",
    "            eigenvalues_unscaled[2, i, j, k] = eigenvalues_scaled[2, i, j, k]*(1 + alpha_values[i, j, k])*np.sqrt(self_coupling[k])*hubble_rate[i]        \n",
    "            # Average potential gradient\n",
    "            average_grad2[i, j, k] = 2*simps(potential_grad2[i, j, k]*eigenfunctions[0, i, j, k]*eigenfunctions[0, i, j, k], z, dz)\n",
    "            # Amplitude and spectral index\n",
    "            #average_f = 2*simps(abs(z**(3/2))*eigenfunctions[0, i, j, k]*eigenfunctions[0, i, j, k], z, dz)\n",
    "            #isocurvature_delta_2 = 2*simps(abs(z**(3/2))*eigenfunctions[0, i, j, k]*eigenfunctions[2, i, j, k], z, dz)/average_f \n",
    "            #A_isocurvature[i, j, k] = isocurvature_delta_2**2\n",
    "            spectator_index[i, j, k] = 1 + 2*eigenvalues_unscaled[2, i, j, k]/hubble_rate[i]\n",
    "            isocurvature_amplitude[i, j, k] = A_isocurvature*(2/np.pi)*gamma(2 - (spectator_index[i, j, k] - 1))*np.sin(np.pi*(spectator_index[i, j, k] - 1)/2)*np.exp(-e_folds[i]*(spectator_index[i, j, k] - 1))\n",
    "            #isocurvature_amplitude[i, j, k] = A_isocurvature*(spectator_index[i, j, k] - 1)*np.exp(-e_folds[i]*(spectator_index[i, j, k] - 1))\n",
    "            isocurvature_spectrum[i, j, k] = isocurvature_amplitude[i,j,k]*(wavevector/pivot_scale)**(spectator_index[i, j, k] - 1)        \n",
    "            ratio_spectrum[i, j, k] = abs(isocurvature_amplitude[i,j,k]/(2.2e-9))\n",
    "            #k_equal[i, j, k] = (isocurvature_amplitude[i, j, k]*(pivot_scale**(scalar_index - 1))*(spectator_scale[i]**(1 - spectator_index[i,j,k]))/amplitude_scalar)**(1/(scalar_index - spectator_index[i,j,k]))"
   ]
  },
  {
   "cell_type": "code",
   "execution_count": null,
   "metadata": {},
   "outputs": [],
   "source": [
    "np.sqrt(A_isocurvature)"
   ]
  },
  {
   "cell_type": "code",
   "execution_count": null,
   "metadata": {},
   "outputs": [],
   "source": [
    "spectator_index[0, 0, 0]"
   ]
  },
  {
   "cell_type": "code",
   "execution_count": null,
   "metadata": {},
   "outputs": [],
   "source": [
    "# Planck mass\n",
    "planck_mass = 2.435e18 # GeV\n",
    "tensor_limit = ((self_coupling**(5/8))/(9.37e6))*(planck_mass/hubble_rate[-1])**(3/2)\n",
    "tensor_limit"
   ]
  },
  {
   "cell_type": "code",
   "execution_count": null,
   "metadata": {
    "scrolled": false
   },
   "outputs": [],
   "source": [
    "permitted_values = np.zeros((len(mass), len(self_coupling)))\n",
    "# Loops over all parameters\n",
    "for i in range(len(hubble_rate)):\n",
    "    for j in range(len(mass)):\n",
    "        for k in range(len(self_coupling)):\n",
    "            # Isocurvature satisfies constraints?\n",
    "            if ratio_spectrum[i, j, k] < 0.04:\n",
    "                if 0.4*np.sqrt(self_coupling[k])*hubble_rate[i]**2 < hubble_rate[i]**2:\n",
    "                    if mass_squared[j] < 0.132*np.sqrt(self_coupling[k])*hubble_rate[0]**2:\n",
    "                        if mass[j] > tensor_limit[k]:\n",
    "                            permitted_values[j, k] = 1\n",
    "# Loop over parameters\n",
    "for i in range(len(permitted_values)):\n",
    "    for j in range(len(permitted_values[i])):\n",
    "        if permitted_values[i, j] == 0:\n",
    "            permitted_values[i, j] = np.nan\n",
    "print(permitted_values)"
   ]
  },
  {
   "cell_type": "code",
   "execution_count": null,
   "metadata": {},
   "outputs": [],
   "source": [
    "# Potential gradient limit\n",
    "grad2_limit = (1/0.4)**2*np.ones(len(mass))"
   ]
  },
  {
   "cell_type": "code",
   "execution_count": null,
   "metadata": {},
   "outputs": [],
   "source": [
    "# Isocurvature limit\n",
    "for i in range(len(self_coupling)):\n",
    "    if permitted_values[40, i] == 1:\n",
    "        print(i)"
   ]
  },
  {
   "cell_type": "code",
   "execution_count": null,
   "metadata": {},
   "outputs": [],
   "source": [
    "self_coupling[66]"
   ]
  },
  {
   "cell_type": "code",
   "execution_count": null,
   "metadata": {},
   "outputs": [],
   "source": [
    "# Isocurvature constraint\n",
    "isoline = np.zeros(len(mass))\n",
    "for i in range(len(isoline)):\n",
    "    isoline[i] = self_coupling[66]"
   ]
  },
  {
   "cell_type": "code",
   "execution_count": null,
   "metadata": {},
   "outputs": [],
   "source": [
    "self_coupling[76]"
   ]
  },
  {
   "cell_type": "code",
   "execution_count": null,
   "metadata": {},
   "outputs": [],
   "source": [
    "# Plotting\n",
    "plt.figure(constrained_layout=True)\n",
    "plt.contourf(self_coupling, mass, permitted_values, 100, colors = [\"forestgreen\"])\n",
    "plt.plot(self_coupling, tensor_limit, \"k--\", label=\"$H_* = 8 \\\\times 10^{13}$ GeV\")\n",
    "plt.plot(isoline, mass, \"k:\", label=\"isocurvature\")\n",
    "plt.plot(self_coupling, np.sqrt(0.132*np.sqrt(self_coupling)*hubble_rate[0]**2), \"k\", label=\"$V'' < H_*$\")\n",
    "plt.legend(bbox_to_anchor=(0, 1.08, 1, 0.08), loc=\"upper left\", mode=\"expand\", ncol=3)\n",
    "plt.plot(grad2_limit, mass, \"k-.\")\n",
    "plt.xlabel(\"$\\lambda$\")\n",
    "plt.ylabel(\"$m$ [GeV]\")\n",
    "plt.xscale(\"log\")\n",
    "plt.yscale(\"log\")\n",
    "plt.savefig(\"contours.pdf\")\n"
   ]
  },
  {
   "cell_type": "code",
   "execution_count": 702,
   "metadata": {},
   "outputs": [
    {
     "data": {
      "text/plain": [
       "array([1.47654533e-11, 3.22612777e-12, 7.04881871e-13, 1.54010779e-13,\n",
       "       3.36500642e-14])"
      ]
     },
     "execution_count": 702,
     "metadata": {},
     "output_type": "execute_result"
    }
   ],
   "source": [
    "ratio_spectrum[:, 0, 20]"
   ]
  },
  {
   "cell_type": "code",
   "execution_count": 703,
   "metadata": {},
   "outputs": [
    {
     "name": "stdout",
     "output_type": "stream",
     "text": [
      "2.395026619987486\n"
     ]
    }
   ],
   "source": [
    "print(self_coupling[20])"
   ]
  },
  {
   "cell_type": "code",
   "execution_count": 705,
   "metadata": {},
   "outputs": [
    {
     "data": {
      "text/plain": [
       "array([49.2038165 , 50.901973  , 52.60012951, 54.29828601, 55.99644252])"
      ]
     },
     "execution_count": 705,
     "metadata": {},
     "output_type": "execute_result"
    }
   ],
   "source": [
    "e_folds"
   ]
  },
  {
   "cell_type": "code",
   "execution_count": 528,
   "metadata": {},
   "outputs": [
    {
     "name": "stdout",
     "output_type": "stream",
     "text": [
      "1.0606599906946956 0.8668296073616113\n"
     ]
    }
   ],
   "source": [
    "print(np.max(np.sqrt(A_isocurvature)), np.min(np.sqrt(A_isocurvature)))"
   ]
  },
  {
   "cell_type": "code",
   "execution_count": 511,
   "metadata": {},
   "outputs": [
    {
     "data": {
      "text/plain": [
       "Text(0.5, 0, '$k/Mpc^{-1}$')"
      ]
     },
     "execution_count": 511,
     "metadata": {},
     "output_type": "execute_result"
    },
    {
     "data": {
      "image/png": "[encoded data removed]",
      "text/plain": [
       "<Figure size 432x288 with 1 Axes>"
      ]
     },
     "metadata": {
      "needs_background": "light"
     },
     "output_type": "display_data"
    }
   ],
   "source": [
    "# Plotting\n",
    "plt.plot(wavevector, isocurvature_spectrum[0, 0, 0], \"b\")\n",
    "plt.plot(wavevector, primordial_spectrum, \"r\")\n",
    "plt.xscale(\"log\")\n",
    "plt.xlabel(\"$k/Mpc^{-1}$\")"
   ]
  },
  {
   "cell_type": "code",
   "execution_count": 513,
   "metadata": {},
   "outputs": [
    {
     "data": {
      "text/plain": [
       "Text(0.5, 0, '$k/Mpc^{-1}$')"
      ]
     },
     "execution_count": 513,
     "metadata": {},
     "output_type": "execute_result"
    },
    {
     "data": {
      "image/png": "[encoded data removed]",
      "text/plain": [
       "<Figure size 432x288 with 1 Axes>"
      ]
     },
     "metadata": {
      "needs_background": "light"
     },
     "output_type": "display_data"
    }
   ],
   "source": [
    "# Plotting\n",
    "plt.plot(wavevector, np.log(isocurvature_spectrum[0, 0, 0]), \"b\")\n",
    "plt.plot(wavevector, np.log(primordial_spectrum), \"r\")\n",
    "plt.xscale(\"log\")\n",
    "plt.xlabel(\"$k/Mpc^{-1}$\")"
   ]
  },
  {
   "cell_type": "code",
   "execution_count": 514,
   "metadata": {},
   "outputs": [
    {
     "data": {
      "text/plain": [
       "0.24517781880315861"
      ]
     },
     "execution_count": 514,
     "metadata": {},
     "output_type": "execute_result"
    }
   ],
   "source": [
    "isocurvature_amplitude[0, 0, 0]"
   ]
  },
  {
   "cell_type": "code",
   "execution_count": 519,
   "metadata": {},
   "outputs": [
    {
     "data": {
      "text/plain": [
       "0.19412200539866675"
      ]
     },
     "execution_count": 519,
     "metadata": {},
     "output_type": "execute_result"
    }
   ],
   "source": [
    "eigenvalues_unscaled[2, 0, 0, 0]/hubble_rate[0]"
   ]
  },
  {
   "cell_type": "code",
   "execution_count": 516,
   "metadata": {},
   "outputs": [
    {
     "data": {
      "text/plain": [
       "0.2917240526066042"
      ]
     },
     "execution_count": 516,
     "metadata": {},
     "output_type": "execute_result"
    }
   ],
   "source": [
    "A_isocurvature[0, 0, 0]*(spectator_index[0, 0, 0] - 1)"
   ]
  },
  {
   "cell_type": "code",
   "execution_count": 520,
   "metadata": {},
   "outputs": [
    {
     "data": {
      "text/plain": [
       "0.0634091334852257"
      ]
     },
     "execution_count": 520,
     "metadata": {},
     "output_type": "execute_result"
    }
   ],
   "source": [
    "ratio_spectrum[0, 0, 0]"
   ]
  },
  {
   "cell_type": "markdown",
   "metadata": {},
   "source": [
    "$$\\mathcal{P}_s(k) = A_s \\left(\\frac{k}{k_*}\\right)^{n_s - 1}. $$\n",
    "$$k_* = 0.05 \\text{ Mpc}^{-1} $$\n",
    "$$A_s = (2.091 \\pm 0.011) \\times 10^{-9} $$ \n",
    "$$n_s = 0.9626 \\pm 0.0057 $$\n",
    "The spectator power spectrum for $k << aH$ is of the form \n",
    "$$ \\mathcal{P}_f(k) \\simeq \\frac{2}{\\pi} A_f \\Gamma(2 -(n_f - 1))\\sin\\left(\\frac{\\pi (n_f - 1)} {2}\\right)\\left(\\frac{k}{a_{\\text{end}}H_{\\text{end}}}\\right)^{n_f - 1} = \\mathcal{A} \\left(\\frac{k}{a_{\\text{end}}H_{\\text{end}}}\\right)^{n_f - 1} $$\n",
    "The transition from physical coordinates in the de Sitter paper to comoving ones occurs through \n",
    "$$k_{\\text{physical}} = \\frac{k_{\\text{comoving}}}{a}$$\n",
    "For the spectator field the various parameters lie in the following ranges\n",
    "$$H = (10^{13} - 10^5) \\text{ GeV} $$\n",
    "$$ a_{\\text{end}}H_{\\text{end}} \\sim (10^{22} - 10^{18}) \\text{ Mpc}^{-1}$$\n",
    "$$\\lambda = 0.45 - 1 $$\n",
    "$$m = 1 - 10^{13} \\text{ GeV} $$"
   ]
  },
  {
   "cell_type": "code",
   "execution_count": null,
   "metadata": {},
   "outputs": [],
   "source": []
  }
 ],
 "metadata": {
  "kernelspec": {
   "display_name": "Python 3",
   "language": "python",
   "name": "python3"
  },
  "language_info": {
   "codemirror_mode": {
    "name": "ipython",
    "version": 3
   },
   "file_extension": ".py",
   "mimetype": "text/x-python",
   "name": "python",
   "nbconvert_exporter": "python",
   "pygments_lexer": "ipython3",
   "version": "3.7.3"
  }
 },
 "nbformat": 4,
 "nbformat_minor": 2
}
