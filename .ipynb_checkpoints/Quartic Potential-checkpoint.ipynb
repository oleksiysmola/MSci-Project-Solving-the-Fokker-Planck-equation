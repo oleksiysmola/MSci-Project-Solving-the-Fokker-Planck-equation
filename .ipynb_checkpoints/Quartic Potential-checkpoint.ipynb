{
 "cells": [
  {
   "cell_type": "markdown",
   "metadata": {},
   "source": [
    "## Quartic Potential\n",
    "For convenience the key equations are given below from https://arxiv.org/pdf/astro-ph/9407016.pdf:\n",
    "\n",
    "1) Fokker-Planck equation\n",
    "$$    \\frac{\\partial P(\\varphi,t)}{\\partial t} = \\frac{1}{3H}\\frac{\\partial}{\\partial \\varphi}\\left(V'(\\varphi) P(\\varphi,t)\\right) + \\frac{H^3}{8\\pi^2}\\frac{\\partial^2 P(\\varphi,t)}{\\partial \\varphi^2} $$\n",
    "\n",
    "2) Schrodinger-like equation\n",
    "$$     -\\frac{1}{2}\\frac{\\partial^2 \\Phi_n(\\varphi)}{\\partial \\varphi^2} + W(\\varphi) \\Phi_n (\\varphi) = \\frac{4\\pi^2\\Lambda_n}{H^3}\\Phi_n(\\varphi) $$\n",
    "\n",
    "3) Effective potential\n",
    "$$ W(\\varphi) = \\frac{1}{2}\\left[v'(\\varphi)^2-v''(\\varphi)\\right], \\> \\> v(\\varphi) = \\frac{4\\pi^2}{3H^4} V(\\varphi) $$\n",
    "\n",
    "4) Solutions take the form\n",
    "$$ P(\\varphi,t) = \\exp\\left(-\\frac{4\\pi^2 V(\\varphi)}{3H^4}\\right) \\sum^{\\infty}_{n=0} a_n \\Phi_n (\\varphi) e^{-\\Lambda_n (t-t_0)} $$"
   ]
  },
  {
   "cell_type": "code",
   "execution_count": 1,
   "metadata": {},
   "outputs": [],
   "source": [
    "import numpy as np\n",
    "from math import factorial\n",
    "from scipy import optimize\n",
    "from scipy.integrate import odeint, simps\n",
    "from scipy.special import eval_hermite\n",
    "import matplotlib.pyplot as plt\n",
    "%matplotlib inline"
   ]
  },
  {
   "cell_type": "markdown",
   "metadata": {},
   "source": [
    "## Defining key parameters "
   ]
  },
  {
   "cell_type": "code",
   "execution_count": 2,
   "metadata": {},
   "outputs": [],
   "source": [
    "hubble_rate = 1\n",
    "mass = 0\n",
    "mass_squared = mass**2\n",
    "self_coupling = 1"
   ]
  },
  {
   "cell_type": "markdown",
   "metadata": {},
   "source": [
    "For a self-interacting field, the interactions may be characterised by the following potentials\n",
    "$$V(\\varphi) = \\frac{1}{2}m^2\\varphi^2 + \\frac{1}{4}\\lambda\\varphi^4 $$\n",
    "$$    W(\\varphi) = m^2\\frac{2\\pi^2}{3H^4}\\left[\\frac{4\\pi^2}{3H^4} m^2 \\varphi^2 - 1\\right] + \\lambda\\frac{2\\pi^2}{3H^4}\\left[\\frac{4\\pi^2}{3H^4} \\lambda \\varphi^6 - 3 \\varphi^2 \\right] + m^2 \\lambda \\varphi^4 \\left(\\frac{4\\pi^2}{3H^4} \\right)^2$$"
   ]
  },
  {
   "cell_type": "markdown",
   "metadata": {},
   "source": [
    "## Initial eigenfunction entries"
   ]
  },
  {
   "cell_type": "code",
   "execution_count": 3,
   "metadata": {},
   "outputs": [],
   "source": [
    "# Even eigenfunction starting conditions\n",
    "V_even = [1, 0]\n",
    "# Odd eigenfunction starting conditions\n",
    "V_odd = [0, 1]"
   ]
  },
  {
   "cell_type": "code",
   "execution_count": 4,
   "metadata": {},
   "outputs": [],
   "source": [
    "class eigenfunction_finder:\n",
    "    '''Class for finding the eigenfunction for a given eigenvalue'''\n",
    "    def __init__(self, V, field):\n",
    "        '''Initialises the range of field values for which the field is\n",
    "        to be integrated\n",
    "        V: array where first entry is the eigenfunction, second is Y\n",
    "        as defined for the coupled ODE system\n",
    "        field: field values'''\n",
    "        self.V = V\n",
    "        self.field = field        \n",
    "        \n",
    "        # Parameters\n",
    "        self.hubble_rate = 1\n",
    "        self.mass_squared = 0\n",
    "        self.self_coupling = 1\n",
    " \n",
    "    def effective_potential(self, field):\n",
    "        '''Defines the effective potential in the SL equation'''\n",
    "\n",
    "        # Contribution to effective potential of quartic and squared terms respectively\n",
    "        quartic_potential = self.self_coupling*((2*np.pi**2)/(3*self.hubble_rate**4))*(((4*np.pi**2)/(3*self.hubble_rate**4))*self.self_coupling*field**6 - 3*field**2)\n",
    "        quadratic_potential = self.mass_squared*((2*np.pi**2)/(3*self.hubble_rate**4))*(((4*np.pi**2)/(3*self.hubble_rate**4))*self.mass_squared*field**2 - 1)\n",
    "        mixed_terms = self.mass_squared*self.self_coupling*(((4*np.pi**2)/(3*self.hubble_rate**4))**2)*field**4\n",
    "        \n",
    "        W = quadratic_potential + quartic_potential + mixed_terms\n",
    "        return W\n",
    "\n",
    "\n",
    "    def schrodinger_like_ODE(self, V, field):\n",
    "        '''Computes the derivatives of the Schrodinger-like equation'''\n",
    "\n",
    "        # Empty array for derivatives\n",
    "        dV = np.zeros(2)\n",
    "        # Computes derivatives\n",
    "        dV[0] = V[1]\n",
    "        dV[1] = V[0]*(2*self.effective_potential(field) - (8*self.eigenvalue*np.pi**2)/(hubble_rate**3))\n",
    "        return dV    \n",
    "\n",
    "    def eigenfunction(self, eigenvalue):\n",
    "        '''Integrates the eigenfunction for the field based on the given\n",
    "        field range and returns the projected solution based on the\n",
    "        eigenvalue'''\n",
    "        \n",
    "        self.eigenvalue = eigenvalue\n",
    "        \n",
    "        # Integrates to find eigenfunction\n",
    "        V = odeint(self.schrodinger_like_ODE, self.V, self.field)\n",
    "        \n",
    "        return V[-1,0]\n",
    "    \n",
    "    def eigenfunction_full(self, eigenvalue):\n",
    "        '''Integrates the eigenfunction for the field based on the given\n",
    "        field range and returns the projected solution based on the\n",
    "        eigenvalue'''\n",
    "        \n",
    "        self.eigenvalue = eigenvalue\n",
    "        \n",
    "        # Integrates to find eigenfunction\n",
    "        V = odeint(self.schrodinger_like_ODE, self.V, self.field)\n",
    "\n",
    "        return V[:,0]"
   ]
  },
  {
   "cell_type": "code",
   "execution_count": 5,
   "metadata": {},
   "outputs": [
    {
     "name": "stdout",
     "output_type": "stream",
     "text": [
      "      converged: True\n",
      "           flag: 'converged'\n",
      " function_calls: 16\n",
      "     iterations: 15\n",
      "           root: 8.04061562588124e-09\n"
     ]
    }
   ],
   "source": [
    "# Field \n",
    "field = np.linspace(0, 3.5, 3000)\n",
    "\n",
    "# Tolerance \n",
    "tolerance = 1e-6\n",
    "\n",
    "# Scipy implementations of the Brent for n = 0\n",
    "eigenvalue_function = eigenfunction_finder(V_even, field)\n",
    "scipy_brent_0, results_brent_0 = optimize.brentq(eigenvalue_function.eigenfunction,-0.1, 0.2, full_output=True, xtol=tolerance)\n",
    "scipy_brent_V_0 = eigenvalue_function.eigenfunction_full(scipy_brent_0)\n",
    "print(results_brent_0)"
   ]
  },
  {
   "cell_type": "code",
   "execution_count": 6,
   "metadata": {},
   "outputs": [
    {
     "name": "stdout",
     "output_type": "stream",
     "text": [
      "-1.424442390981696e+210\n",
      "-5.445426016607305e+210\n",
      "-5.572774538066781e+209\n",
      "1.0936220813325822e+210\n"
     ]
    }
   ],
   "source": [
    "# Identifying a suitable guess interval for n = 1\n",
    "eigenvalue_function = eigenfunction_finder(V_odd, field)\n",
    "print(eigenvalue_function.eigenfunction_full(0.1)[-1])\n",
    "print(eigenvalue_function.eigenfunction_full(0.3)[-1])\n",
    "print(eigenvalue_function.eigenfunction_full(0.5)[-1])\n",
    "print(eigenvalue_function.eigenfunction_full(0.7)[-1])"
   ]
  },
  {
   "cell_type": "code",
   "execution_count": 7,
   "metadata": {},
   "outputs": [
    {
     "name": "stdout",
     "output_type": "stream",
     "text": [
      "      converged: True\n",
      "           flag: 'converged'\n",
      " function_calls: 12\n",
      "     iterations: 11\n",
      "           root: 0.5366714470633597\n"
     ]
    }
   ],
   "source": [
    "# Scipy implementations of the Brent algoritms for n = 1\n",
    "eigenvalue_function = eigenfunction_finder(V_odd, field)\n",
    "scipy_brent_1, results_brent_1 = optimize.brentq(eigenvalue_function.eigenfunction, 0.5, 0.7, full_output=True, xtol=tolerance)\n",
    "scipy_brent_V_1 = eigenvalue_function.eigenfunction_full(scipy_brent_1)\n",
    "print(results_brent_1)"
   ]
  },
  {
   "cell_type": "code",
   "execution_count": 8,
   "metadata": {},
   "outputs": [
    {
     "name": "stdout",
     "output_type": "stream",
     "text": [
      "1.2102284580184852e+211\n",
      "-2.287430507436089e+210\n"
     ]
    }
   ],
   "source": [
    "# Identifying a suitable guess interval for n = 2\n",
    "eigenvalue_function = eigenfunction_finder(V_even, field)\n",
    "print(eigenvalue_function.eigenfunction_full(0.6)[-1])\n",
    "print(eigenvalue_function.eigenfunction_full(0.9)[-1])"
   ]
  },
  {
   "cell_type": "code",
   "execution_count": 9,
   "metadata": {},
   "outputs": [
    {
     "name": "stdout",
     "output_type": "stream",
     "text": [
      "      converged: True\n",
      "           flag: 'converged'\n",
      " function_calls: 15\n",
      "     iterations: 14\n",
      "           root: 0.8289521829570561\n"
     ]
    }
   ],
   "source": [
    "# Scipy implementations of the Brent algoritms for n = 2\n",
    "eigenvalue_function = eigenfunction_finder(V_even, field)\n",
    "scipy_brent_2, results_brent_2 = optimize.brentq(eigenvalue_function.eigenfunction, 0.6, 0.9, full_output=True, xtol=tolerance)\n",
    "scipy_brent_V_2 = eigenvalue_function.eigenfunction_full(scipy_brent_2)\n",
    "print(results_brent_2)"
   ]
  },
  {
   "cell_type": "markdown",
   "metadata": {},
   "source": [
    "Note that as I my guess intervals skipped some of the eigenvalues the $n = 1$, and $n =2$ cases above are actually those for $n=3$ and $n=4$ respectively. The actual $n=1,2$ cases are given below."
   ]
  },
  {
   "cell_type": "code",
   "execution_count": 10,
   "metadata": {},
   "outputs": [
    {
     "name": "stdout",
     "output_type": "stream",
     "text": [
      "      converged: True\n",
      "           flag: 'converged'\n",
      " function_calls: 13\n",
      "     iterations: 12\n",
      "           root: 0.08892383530399899\n"
     ]
    }
   ],
   "source": [
    "# Scipy implementations of the Brent algoritms for n = 1\n",
    "eigenvalue_function = eigenfunction_finder(V_odd, field)\n",
    "scipy_brent_1, results_brent_1 = optimize.brentq(eigenvalue_function.eigenfunction, 0, 0.1, full_output=True, xtol=tolerance)\n",
    "scipy_brent_V_1 = eigenvalue_function.eigenfunction_full(scipy_brent_1)\n",
    "print(results_brent_1)"
   ]
  },
  {
   "cell_type": "code",
   "execution_count": 11,
   "metadata": {},
   "outputs": [
    {
     "name": "stdout",
     "output_type": "stream",
     "text": [
      "      converged: True\n",
      "           flag: 'converged'\n",
      " function_calls: 13\n",
      "     iterations: 12\n",
      "           root: 0.28937856555307656\n"
     ]
    }
   ],
   "source": [
    "# Scipy implementations of the Brent algoritms for n = 2\n",
    "eigenvalue_function = eigenfunction_finder(V_even, field)\n",
    "scipy_brent_2, results_brent_2 = optimize.brentq(eigenvalue_function.eigenfunction, 0.2, 0.4, full_output=True, xtol=tolerance)\n",
    "scipy_brent_V_2 = eigenvalue_function.eigenfunction_full(scipy_brent_2)\n",
    "print(results_brent_2)"
   ]
  },
  {
   "cell_type": "code",
   "execution_count": 12,
   "metadata": {},
   "outputs": [],
   "source": [
    "class brent:\n",
    "    '''Root finding class with the aforementioned\n",
    "    algorithms implemented as methods'''\n",
    "    def __init__(self, interval):\n",
    "        '''Initialization of eigenvalues where the bracketed eigenvalues\n",
    "        are assigned as attributes.\n",
    "        interval: two element array where the first entry is the lower \n",
    "        eigenvalue and the second element is the higher eigenvalue'''\n",
    "        \n",
    "        # Setting up initial trial eigenvalues\n",
    "        self.initial_low_eigenvalue = interval[0]\n",
    "        self.initial_high_eigenvalue = interval[1]\n",
    "        \n",
    "        # Parameters\n",
    "        self.hubble_rate = 1\n",
    "        self.mass_squared = 0\n",
    "        self.self_coupling = 1\n",
    "        \n",
    "    \n",
    "    def effective_potential(self, field):\n",
    "        '''Defines the effective potential in the SL equation\n",
    "        field: field value'''\n",
    "        \n",
    "        # Contribution to effective potential of quartic and squared terms respectively\n",
    "        quartic_potential = self.self_coupling*((2*np.pi**2)/(3*self.hubble_rate**4))*(((4*np.pi**2)/(3*self.hubble_rate**4))*self.self_coupling*field**6 - 3*field**2)\n",
    "        quadratic_potential = self.mass_squared*((2*np.pi**2)/(3*self.hubble_rate**4))*(((4*np.pi**2)/(3*self.hubble_rate**4))*self.mass_squared*field**2 - 1)\n",
    "        mixed_terms = self.mass_squared*self.self_coupling*(((4*np.pi**2)/(3*self.hubble_rate**4))**2)*field**4        \n",
    "        \n",
    "        W = quadratic_potential + quartic_potential + mixed_terms\n",
    "        return W\n",
    "    \n",
    "    def schrodinger_like_ODE(self, V, field):\n",
    "        '''Computes the derivatives of the Schrodinger-like equation\n",
    "        V: array where first entry is the eigenfunction, second is Y\n",
    "        as defined for the coupled ODE system\n",
    "        field: field values'''\n",
    "    \n",
    "        # Empty array for derivatives\n",
    "        dV = np.zeros(2)\n",
    "\n",
    "        # Computes derivatives\n",
    "        dV[0] = V[1]\n",
    "        dV[1] = V[0]*(2*self.effective_potential(field) - (8*self.eigenvalue*np.pi**2)/(hubble_rate**3))\n",
    "        return dV    \n",
    "\n",
    "    def brent_loop(self, V, field, tolerance, max_iterations):\n",
    "        '''Implements Brents method to compute eigenvalues.\n",
    "        V: array where first entry is the eigenfunction, second is Y\n",
    "        as defined for the coupled ODE system\n",
    "        field: field values\n",
    "        tolerance: determines how close to zero the solutions should reach \n",
    "        to be deemed to have converged sufficiently\n",
    "        max_iterations: caps the number of iterations the loop undergoes\n",
    "        in the event the tolerance is not reached'''\n",
    "        \n",
    "         # Initial low eigenvalue and its solution\n",
    "        self.high_eigenvalue = self.initial_high_eigenvalue\n",
    "        self.eigenvalue = self.high_eigenvalue\n",
    "        V_high = odeint(self.schrodinger_like_ODE, V, field)\n",
    "        self.function_calls_brent = 1\n",
    "    \n",
    "        # Initial high eigenvalue and its solution\n",
    "        self.low_eigenvalue = self.initial_low_eigenvalue\n",
    "        self.eigenvalue = self.low_eigenvalue\n",
    "        V_low = odeint(self.schrodinger_like_ODE, V, field)\n",
    "        self.function_calls_brent += 1\n",
    "        \n",
    "        # Initial midpoint eigenvalue and its solution\n",
    "        self.new_eigenvalue = 0.5*(self.high_eigenvalue + self.low_eigenvalue)\n",
    "        self.eigenvalue = self.new_eigenvalue\n",
    "        V_new = odeint(self.schrodinger_like_ODE, V, field)\n",
    "        self.function_calls_brent += 1\n",
    "        \n",
    "        # Initializing number of iterations\n",
    "        iterations = 0\n",
    "        # Loop that runs until we hit the desired tolerance or max_iterations is exceeded\n",
    "        while self.high_eigenvalue - self.low_eigenvalue > tolerance:\n",
    "            # Computes parameters associated with Brents' method\n",
    "            R = V_new[-1,0]/V_high[-1,0]\n",
    "            S = V_new[-1,0]/V_low[-1,0]\n",
    "            T = V_low[-1,0]/V_high[-1,0]\n",
    "            P = S*(T*(R - T)*(self.high_eigenvalue - self.new_eigenvalue) - (1 - R)*(self.new_eigenvalue - self.low_eigenvalue))\n",
    "            Q = (T - 1)*(R - 1)*(S - 1)\n",
    "            \n",
    "            # Next guess for root based on Brent's method\n",
    "            next_eigenvalue = self.new_eigenvalue + P/Q\n",
    "            # Compares convergence with bisection\n",
    "            if abs(next_eigenvalue - self.new_eigenvalue) < (self.initial_high_eigenvalue - self.initial_low_eigenvalue)*0.5**(iterations+2):\n",
    "                # Checks to see which half of the current bounds the next guess lies then redefines the bounds\n",
    "                if next_eigenvalue < self.new_eigenvalue:\n",
    "                    self.high_eigenvalue = self.new_eigenvalue\n",
    "                    self.eigenvalue = self.high_eigenvalue\n",
    "                    V_high = V_new #odeint(self.schrodinger_like_ODE, V, field)\n",
    "                    #self.function_calls_brent += 1\n",
    "    \n",
    "                else:\n",
    "                    self.low_eigenvalue = self.new_eigenvalue\n",
    "                    self.eigenvalue = self.low_eigenvalue\n",
    "                    V_low = V_new # odeint(self.schrodinger_like_ODE, V, field)\n",
    "                    #self.function_calls_brent += 1\n",
    "                \n",
    "                # Updates guess of root\n",
    "                self.new_eigenvalue = next_eigenvalue\n",
    "                self.eigenvalue = self.new_eigenvalue\n",
    "                V_new = odeint(self.schrodinger_like_ODE, V, field)\n",
    "                self.function_calls_brent += 1\n",
    "            \n",
    "            # Tries bisection if convergence was deemed too slow\n",
    "            else:\n",
    "                # Checks to see which boundary eigenvalue gives positive or negative diverging solutions\n",
    "                if V_high[-1,0] > V_new[-1,0] > V_low[-1,0]:\n",
    "                    # Checks if the midpoint eigenvalue gives negatively diverging solutions\n",
    "                    if V_new[-1,0] < 0:                    \n",
    "                        # Sets eigenvalue c to be eigenvalue a, likewise for the solutions\n",
    "                        V_low = V_new\n",
    "                        self.low_eigenvalue = self.new_eigenvalue\n",
    "                    \n",
    "                        # Determines the new midpoint eigenvalue and its solutions\n",
    "                        self.new_eigenvalue = (self.high_eigenvalue + self.low_eigenvalue)/2\n",
    "                        self.eigenvalue = self.new_eigenvalue\n",
    "                        V_new = odeint(self.schrodinger_like_ODE, V, field)\n",
    "                        self.function_calls_brent += 1\n",
    "                        \n",
    "                    # Runs if the midpoint eigenvalue converges to positive infinity\n",
    "                    else:\n",
    "                        # Sets eigenvalue c to be eigenvalue b, likewise for the solutions\n",
    "                        V_high = V_new\n",
    "                        self.high_eigenvalue = self.new_eigenvalue\n",
    "                    \n",
    "                        # Determines the new midpoint eigenvalue and its solutions\n",
    "                        self.new_eigenvalue = (self.high_eigenvalue + self.low_eigenvalue)/2\n",
    "                        self.eigenvalue = self.new_eigenvalue\n",
    "                        V_new = odeint(self.schrodinger_like_ODE, V, field)\n",
    "                        self.function_calls_brent += 1\n",
    "                        \n",
    "                # Runs if the higher eigenvalue gives negative diverging solutions while the lower gives the reverse\n",
    "                else:\n",
    "                    # Checks if the midpoint eigenvalue gives negatively diverging solutions\n",
    "                    if V_new[-1,0] < 0:\n",
    "                        # Sets eigenvalue c to be eigenvalue b, likewise for the solutions\n",
    "                        V_high = V_new\n",
    "                        self.high_eigenvalue = self.new_eigenvalue\n",
    "                    \n",
    "                        # Determines the new midpoint eigenvalue and its solutions\n",
    "                        self.new_eigenvalue = (self.high_eigenvalue + self.low_eigenvalue)/2\n",
    "                        self.eigenvalue = self.new_eigenvalue\n",
    "                        V_new = odeint(self.schrodinger_like_ODE, V, field)\n",
    "                        self.function_calls_brent += 1\n",
    "                        \n",
    "                    # Runs if the midpoint eigenvalue converges to positive infinity\n",
    "                    else:\n",
    "                        # Sets eigenvalue c to be eigenvalue a, likewise for the solutions\n",
    "                        V_low = V_new\n",
    "                        self.low_eigenvalue = self.new_eigenvalue\n",
    "                    \n",
    "                        # Determines the new midpoint eigenvalue and its solutions\n",
    "                        self.new_eigenvalue = (self.high_eigenvalue + self.low_eigenvalue)/2\n",
    "                        self.eigenvalue = self.new_eigenvalue\n",
    "                        V_new = odeint(self.schrodinger_like_ODE, V, field)\n",
    "                        self.function_calls_brent += 1\n",
    "            \n",
    "            # Updates number of iterations\n",
    "            iterations = iterations + 1\n",
    "            # If max_iterations is exceeded the loop is stopped\n",
    "            if iterations >= max_iterations:\n",
    "                break\n",
    "                \n",
    "        return self.new_eigenvalue, V_new, iterations"
   ]
  },
  {
   "cell_type": "code",
   "execution_count": 13,
   "metadata": {},
   "outputs": [],
   "source": [
    "# Field \n",
    "field = np.linspace(0, 3.5, 3000)\n",
    "\n",
    "# Tolerance\n",
    "tolerance = 1e-6\n",
    "\n",
    "# Running the Brent algorithms for n = 0\n",
    "brent_solver = brent([-0.1, 0.2])\n",
    "eigenvalue_brent_0, V_brent_0, iterations_brent_0 = brent_solver.brent_loop(V_even, field, tolerance, 100)\n",
    "brent_function_calls_0 = brent_solver.function_calls_brent\n",
    "\n",
    "# Running the Brent algorithm for n = 1\n",
    "brent_solver = brent([0, 0.1])\n",
    "eigenvalue_brent_1, V_brent_1, iterations_brent_1 = brent_solver.brent_loop(V_odd, field, tolerance, 100)\n",
    "brent_function_calls_1 = brent_solver.function_calls_brent\n",
    "\n",
    "# Running the Brent algorithm for n = 2\n",
    "brent_solver = brent([0.2, 0.4])\n",
    "eigenvalue_brent_2, V_brent_2, iterations_brent_2 = brent_solver.brent_loop(V_even, field, tolerance, 100)\n",
    "brent_function_calls_2 = brent_solver.function_calls_brent"
   ]
  },
  {
   "cell_type": "code",
   "execution_count": 14,
   "metadata": {},
   "outputs": [
    {
     "name": "stdout",
     "output_type": "stream",
     "text": [
      "1.4869033898820694e-10 0.08892393083553396 0.28937854849714445\n",
      "7 6 6\n",
      "10 9 9\n"
     ]
    }
   ],
   "source": [
    "print(eigenvalue_brent_0, eigenvalue_brent_1, eigenvalue_brent_2)\n",
    "print(iterations_brent_0, iterations_brent_1, iterations_brent_2)\n",
    "print(brent_function_calls_0, brent_function_calls_1, brent_function_calls_2)"
   ]
  },
  {
   "cell_type": "markdown",
   "metadata": {},
   "source": [
    "We now reintroduce the mass term for the positive mass squared term."
   ]
  },
  {
   "cell_type": "code",
   "execution_count": 15,
   "metadata": {},
   "outputs": [
    {
     "name": "stdout",
     "output_type": "stream",
     "text": [
      "      converged: True\n",
      "           flag: 'converged'\n",
      " function_calls: 8\n",
      "     iterations: 7\n",
      "           root: 1.2919183794051076e-08\n"
     ]
    }
   ],
   "source": [
    "# Field \n",
    "field = np.linspace(0, 2, 3000)\n",
    "\n",
    "# Tolerance \n",
    "tolerance = 1e-6\n",
    "\n",
    "# Scipy implementations of the Brent for n = 0\n",
    "eigenvalue_function = eigenfunction_finder(V_even, field)\n",
    "eigenvalue_function.mass_squared = 1\n",
    "scipy_brent_0, results_brent_0 = optimize.brentq(eigenvalue_function.eigenfunction,-0.1, 0.2, full_output=True, xtol=tolerance)\n",
    "scipy_brent_V_0 = eigenvalue_function.eigenfunction_full(scipy_brent_0)\n",
    "print(results_brent_0)"
   ]
  },
  {
   "cell_type": "code",
   "execution_count": 16,
   "metadata": {},
   "outputs": [
    {
     "name": "stdout",
     "output_type": "stream",
     "text": [
      "      converged: True\n",
      "           flag: 'converged'\n",
      " function_calls: 8\n",
      "     iterations: 7\n",
      "           root: 0.36546275495978076\n",
      "0.18273137747989038\n"
     ]
    }
   ],
   "source": [
    "# Scipy implementations of the Brent algoritms for n = 1\n",
    "eigenvalue_function = eigenfunction_finder(V_odd, field)\n",
    "eigenvalue_function.mass_squared = 1\n",
    "scipy_brent_1, results_brent_1 = optimize.brentq(eigenvalue_function.eigenfunction, 0, 0.4, full_output=True, xtol=tolerance)\n",
    "scipy_brent_V_1 = eigenvalue_function.eigenfunction_full(scipy_brent_1)\n",
    "print(results_brent_1)\n",
    "print(scipy_brent_1/2)"
   ]
  },
  {
   "cell_type": "code",
   "execution_count": 17,
   "metadata": {},
   "outputs": [
    {
     "name": "stdout",
     "output_type": "stream",
     "text": [
      "      converged: True\n",
      "           flag: 'converged'\n",
      " function_calls: 7\n",
      "     iterations: 6\n",
      "           root: 0.7877048499030161\n",
      "0.3938524249515081\n"
     ]
    }
   ],
   "source": [
    "# Scipy implementations of the Brent algoritms for n = 2\n",
    "eigenvalue_function = eigenfunction_finder(V_even, field)\n",
    "eigenvalue_function.mass_squared = 1\n",
    "scipy_brent_2, results_brent_2 = optimize.brentq(eigenvalue_function.eigenfunction, 0.4, 0.8, full_output=True, xtol=tolerance)\n",
    "scipy_brent_V_2 = eigenvalue_function.eigenfunction_full(scipy_brent_2)\n",
    "print(results_brent_2)\n",
    "print(scipy_brent_2/2)"
   ]
  },
  {
   "cell_type": "code",
   "execution_count": 18,
   "metadata": {},
   "outputs": [],
   "source": [
    "# Field \n",
    "field = np.linspace(0, 2, 3000)\n",
    "\n",
    "# Tolerance\n",
    "tolerance = 1e-6\n",
    "\n",
    "# Running the Brent algorithms for n = 0\n",
    "brent_solver = brent([-0.1, 0.2])\n",
    "brent_solver.mass_squared = 1\n",
    "eigenvalue_brent_0, V_brent_0, iterations_brent_0 = brent_solver.brent_loop(V_even, field, tolerance, 100)\n",
    "brent_function_calls_0 = brent_solver.function_calls_brent\n",
    "\n",
    "# Running the Brent algorithm for n = 1\n",
    "brent_solver = brent([0, 0.4])\n",
    "brent_solver.mass_squared = 1\n",
    "eigenvalue_brent_1, V_brent_1, iterations_brent_1 = brent_solver.brent_loop(V_odd, field, tolerance, 100)\n",
    "brent_function_calls_1 = brent_solver.function_calls_brent\n",
    "\n",
    "# Running the Brent algorithm for n = 2\n",
    "brent_solver = brent([0.3, 0.8])\n",
    "brent_solver.mass_squared = 1\n",
    "eigenvalue_brent_2, V_brent_2, iterations_brent_2 = brent_solver.brent_loop(V_even, field, tolerance, 100)\n",
    "brent_function_calls_2 = brent_solver.function_calls_brent"
   ]
  },
  {
   "cell_type": "code",
   "execution_count": 19,
   "metadata": {},
   "outputs": [
    {
     "name": "stdout",
     "output_type": "stream",
     "text": [
      "1.2032096589576792e-08 0.36546275546970935 0.7877048480821647\n",
      "6 7 8\n",
      "9 10 11\n"
     ]
    }
   ],
   "source": [
    "print(eigenvalue_brent_0, eigenvalue_brent_1, eigenvalue_brent_2)\n",
    "print(iterations_brent_0, iterations_brent_1, iterations_brent_2)\n",
    "print(brent_function_calls_0, brent_function_calls_1, brent_function_calls_2)"
   ]
  },
  {
   "cell_type": "markdown",
   "metadata": {},
   "source": [
    "Now we consider the double-well potential which consists of a negative effective mass term."
   ]
  },
  {
   "cell_type": "code",
   "execution_count": 20,
   "metadata": {
    "scrolled": true
   },
   "outputs": [
    {
     "name": "stdout",
     "output_type": "stream",
     "text": [
      "      converged: True\n",
      "           flag: 'converged'\n",
      " function_calls: 10\n",
      "     iterations: 9\n",
      "           root: -1.8674155206492762e-07\n"
     ]
    }
   ],
   "source": [
    "# Field \n",
    "field = np.linspace(0, 2, 3000)\n",
    "\n",
    "# Tolerance \n",
    "tolerance = 1e-6\n",
    "\n",
    "# Scipy implementations of the Brent for n = 0\n",
    "eigenvalue_function = eigenfunction_finder(V_even, field)\n",
    "eigenvalue_function.mass_squared = -1\n",
    "scipy_brent_0, results_brent_0 = optimize.brentq(eigenvalue_function.eigenfunction, -0.2, 0.1, full_output=True, xtol=tolerance)\n",
    "scipy_brent_V_0 = eigenvalue_function.eigenfunction_full(scipy_brent_0)\n",
    "print(results_brent_0)"
   ]
  },
  {
   "cell_type": "code",
   "execution_count": 21,
   "metadata": {},
   "outputs": [
    {
     "name": "stdout",
     "output_type": "stream",
     "text": [
      "      converged: True\n",
      "           flag: 'converged'\n",
      " function_calls: 11\n",
      "     iterations: 10\n",
      "           root: 0.0001945918616035716\n"
     ]
    }
   ],
   "source": [
    "# Scipy implementations of the Brent algoritms for n = 1\n",
    "eigenvalue_function = eigenfunction_finder(V_odd, field)\n",
    "eigenvalue_function.mass_squared = -1\n",
    "scipy_brent_1, results_brent_1 = optimize.brentq(eigenvalue_function.eigenfunction, -0.1, 0.2, full_output=True, xtol=tolerance)\n",
    "scipy_brent_V_1 = eigenvalue_function.eigenfunction_full(scipy_brent_1)\n",
    "print(results_brent_1)"
   ]
  },
  {
   "cell_type": "code",
   "execution_count": 22,
   "metadata": {},
   "outputs": [
    {
     "name": "stdout",
     "output_type": "stream",
     "text": [
      "      converged: True\n",
      "           flag: 'converged'\n",
      " function_calls: 7\n",
      "     iterations: 6\n",
      "           root: 0.2817118516132696\n",
      "0.1408559258066348\n"
     ]
    }
   ],
   "source": [
    "# Scipy implementations of the Brent algoritms for n = 2\n",
    "eigenvalue_function = eigenfunction_finder(V_even, field)\n",
    "eigenvalue_function.mass_squared = -1\n",
    "scipy_brent_2, results_brent_2 = optimize.brentq(eigenvalue_function.eigenfunction, 0.1, 0.3, full_output=True, xtol=tolerance)\n",
    "scipy_brent_V_2 = eigenvalue_function.eigenfunction_full(scipy_brent_2)\n",
    "print(results_brent_2)\n",
    "print(scipy_brent_2/2)"
   ]
  },
  {
   "cell_type": "code",
   "execution_count": 23,
   "metadata": {},
   "outputs": [],
   "source": [
    "# Field \n",
    "field = np.linspace(0, 2, 3000)\n",
    "\n",
    "# Tolerance\n",
    "tolerance = 1e-6\n",
    "\n",
    "# Running the Brent algorithms for n = 0\n",
    "brent_solver = brent([-0.1, 0.2])\n",
    "brent_solver.mass_squared = -1\n",
    "eigenvalue_brent_0, V_brent_0, iterations_brent_0 = brent_solver.brent_loop(V_even, field, tolerance, 100)\n",
    "brent_function_calls_0 = brent_solver.function_calls_brent\n",
    "\n",
    "# Running the Brent algorithm for n = 1\n",
    "brent_solver = brent([-0.1, 0.2])\n",
    "brent_solver.mass_squared = -1\n",
    "eigenvalue_brent_1, V_brent_1, iterations_brent_1 = brent_solver.brent_loop(V_odd, field, tolerance, 100)\n",
    "brent_function_calls_1 = brent_solver.function_calls_brent\n",
    "\n",
    "# Running the Brent algorithm for n = 2\n",
    "brent_solver = brent([0.1, 0.3])\n",
    "brent_solver.mass_squared = -1\n",
    "eigenvalue_brent_2, V_brent_2, iterations_brent_2 = brent_solver.brent_loop(V_even, field, tolerance, 100)\n",
    "brent_function_calls_2 = brent_solver.function_calls_brent"
   ]
  },
  {
   "cell_type": "code",
   "execution_count": 24,
   "metadata": {},
   "outputs": [
    {
     "name": "stdout",
     "output_type": "stream",
     "text": [
      "-5.616012791137896e-09 0.00019459188129001217 0.28171194671749805\n",
      "9 7 7\n",
      "12 10 10\n"
     ]
    }
   ],
   "source": [
    "print(eigenvalue_brent_0, eigenvalue_brent_1, eigenvalue_brent_2)\n",
    "print(iterations_brent_0, iterations_brent_1, iterations_brent_2)\n",
    "print(brent_function_calls_0, brent_function_calls_1, brent_function_calls_2)"
   ]
  },
  {
   "cell_type": "code",
   "execution_count": 25,
   "metadata": {},
   "outputs": [],
   "source": [
    "# Computes the full eigenfunction based on the its symmetry\n",
    "def full_eigenfunction(field, eigenfunction, parity):\n",
    "    '''Determines the full eigenfunction based on the parity of the eigenfunction.\n",
    "    Only applies in the case of symmetric potentials.\n",
    "    field: half of the field values over which we integrated\n",
    "    eigenfunction: integrated eigenfunction\n",
    "    parity: variable determining the symmetry of the eigenfunction. 1 indicates\n",
    "    even, -1 indicates odd'''\n",
    "    \n",
    "    # Checks to see if parity is a valid value\n",
    "    if parity**2 == 1:\n",
    "        # Determines the full range of field values\n",
    "        field_reflection = -np.flip(field[1:])\n",
    "        field = np.append(field_reflection, field)\n",
    "    \n",
    "        # Determines full eigenfunction for the full range of field values\n",
    "        eigenfunction_reflection = parity*np.flip(eigenfunction[1:])\n",
    "        eigenfunction = np.append(eigenfunction_reflection, eigenfunction)\n",
    "\n",
    "        return field, eigenfunction"
   ]
  },
  {
   "cell_type": "code",
   "execution_count": 26,
   "metadata": {},
   "outputs": [],
   "source": [
    "# Integration interval\n",
    "dphi = field[1] - field[0]\n",
    "\n",
    "# Normalisation n = 0\n",
    "N_brent_0 = np.sqrt(2*simps(scipy_brent_V_0[:2500]**2, field[:2500], dphi))\n",
    "scipy_brent_V_0 = scipy_brent_V_0[:2500]/N_brent_0\n",
    "\n",
    "# Normalisation n = 1\n",
    "N_brent_1 = np.sqrt(2*simps(scipy_brent_V_1[:2500]**2, field[:2500], dphi))\n",
    "scipy_brent_V_1 = scipy_brent_V_1[:2500]/N_brent_1\n",
    "\n",
    "# Normalisation n = 2\n",
    "N_brent_2 = np.sqrt(2*simps(scipy_brent_V_2[:2500]**2, field[:2500], dphi))\n",
    "scipy_brent_V_2 = scipy_brent_V_2[:2500]/N_brent_2"
   ]
  },
  {
   "cell_type": "code",
   "execution_count": 27,
   "metadata": {},
   "outputs": [],
   "source": [
    "# Computes full range of field and eigenfunction values\n",
    "field_full, scipy_brent_V_0 = full_eigenfunction(field[:2500], scipy_brent_V_0, 1)\n",
    "field_full, scipy_brent_V_1 = full_eigenfunction(field[:2500], scipy_brent_V_1, -1)\n",
    "field_full, scipy_brent_V_2 = full_eigenfunction(field[:2500], scipy_brent_V_2, 1)"
   ]
  },
  {
   "cell_type": "code",
   "execution_count": 28,
   "metadata": {
    "scrolled": true
   },
   "outputs": [
    {
     "data": {
      "text/plain": [
       "[<matplotlib.lines.Line2D at 0x1516337be0>]"
      ]
     },
     "execution_count": 28,
     "metadata": {},
     "output_type": "execute_result"
    },
    {
     "data": {
      "image/png": "[encoded data removed]",
      "text/plain": [
       "<Figure size 1152x288 with 3 Axes>"
      ]
     },
     "metadata": {
      "needs_background": "light"
     },
     "output_type": "display_data"
    }
   ],
   "source": [
    "# Plotting error\n",
    "fig = plt.figure(figsize=(16, 4))\n",
    "\n",
    "# n = 0 eigenfunction\n",
    "ax0 = fig.add_subplot(1,3,1)\n",
    "ax0.grid()\n",
    "ax0.set_title(\"Eigenfunction for $n=0$\")\n",
    "ax0.set_ylabel(\"$\\Phi_n(\\\\varphi)$\")\n",
    "ax0.set_xlabel(\"$\\\\varphi$\")\n",
    "ax0.set_xlim(-1.52, 1.52)\n",
    "ax0.plot(field_full, scipy_brent_V_0, \"b\")\n",
    "\n",
    "# n = 1 eigenfunction\n",
    "ax1 = fig.add_subplot(1,3,2)\n",
    "ax1.grid()\n",
    "ax1.set_title(\"Eigenfunction for $n=1$\")\n",
    "ax1.set_ylabel(\"$\\Phi_n(\\\\varphi)$\")\n",
    "ax1.set_xlabel(\"$\\\\varphi$\")\n",
    "ax1.set_xlim(-1.52, 1.52)\n",
    "ax1.plot(field_full, scipy_brent_V_1, \"b\")\n",
    "\n",
    "# n = 2 eigenfunction\n",
    "ax2 = fig.add_subplot(1,3,3)\n",
    "ax2.grid()\n",
    "ax2.set_title(\"Eigenfunction for $n=2$\")\n",
    "ax2.set_ylabel(\"$\\Phi_n(\\\\varphi)$\")\n",
    "ax2.set_xlabel(\"$\\\\varphi$\")\n",
    "ax2.set_xlim(-1.52, 1.52)\n",
    "ax2.plot(field_full, scipy_brent_V_2, \"b\")"
   ]
  },
  {
   "cell_type": "markdown",
   "metadata": {},
   "source": [
    "## Parameterising quantities\n",
    "What follows are the parameterised variables given in https://arxiv.org/pdf/1904.11917.pdf for the arbitrary case with $m^2>0$.\n",
    "$$ \\alpha \\equiv \\frac{m^2}{\\sqrt{\\lambda}H^2}.  $$\n",
    "$$ z \\equiv \\frac{\\lambda^{1/4}\\Omega}{H}\\varphi, \\>\\> \\Omega \\equiv 1 + \\sqrt{\\alpha}. $$\n",
    "With the above parameters the Schrödinger-like equation takes the form \n",
    "$$\\frac{\\partial \\Phi_n(z)}{\\partial z} \\equiv Y, $$\n",
    "$$\\frac{\\partial Y}{\\partial z} = \\left(-\\frac{4\\pi^2 \\alpha}{3\\Omega^2}-4\\pi^2\\frac{1-\\frac{4\\pi^2}{9}\\alpha^2}{\\Omega^4}z^2+\\frac{32\\pi^4\\alpha z^4}{9\\Omega^6} + \\frac{16\\pi^4 z^6}{9\\Omega^8}-\\frac{8\\pi^2(1+\\alpha)\\tilde{\\Lambda}(\\alpha)}{\\Omega^2}\\right)\\Phi_n(z).  $$\n",
    "Eigenvalues are rescaled as \n",
    "$$\\tilde{\\Lambda}_n(\\alpha) = \\frac{\\Lambda_n}{\\lambda^{1/2}H(1+\\alpha)} $$"
   ]
  },
  {
   "cell_type": "code",
   "execution_count": 29,
   "metadata": {},
   "outputs": [],
   "source": [
    "class eigenfunction_finder_rescaled:\n",
    "    '''Class for finding the eigenfunction for a the rescaled parameters z and alpha'''\n",
    "    def __init__(self, V, z):\n",
    "        '''Initialises the range of rescaled field values for which the field is\n",
    "        to be integrated\n",
    "        V: array where first entry is the eigenfunction, second is Y\n",
    "        as defined for the coupled ODE system\n",
    "        z: rescaled field values'''\n",
    "        self.V = V\n",
    "        self.z = z       \n",
    "        \n",
    "        # Parameters\n",
    "        self.alpha = 1\n",
    " \n",
    "    def schrodinger_like_ODE(self, V, z):\n",
    "        '''Computes the derivatives of the Schrodinger-like equation'''\n",
    "        \n",
    "        # Empty array for derivatives\n",
    "        dV = np.zeros(2)\n",
    "        \n",
    "        # Determines omega and calculates quantities in the Schrodinger-like equation\n",
    "        if self.alpha > 0: \n",
    "            omega = 1 + np.sqrt(self.alpha)\n",
    "            \n",
    "            # Dummy variables that form the various terms in the Schrodinger-like equation\n",
    "            x_1 = - (4*self.alpha*np.pi**2)/(3*omega**2) - ((4*np.pi**2)*(1 - 4*((np.pi*self.alpha)**2)/9)/(omega**4))*z**2\n",
    "            x_2 = (32*self.alpha*(np.pi*z)**4)/(9*omega**6) + (16*(np.pi**4)*z**6)/(9*omega**8)\n",
    "            x_3 = -(8*self.eigenvalue*(1 + self.alpha)*np.pi**2)/(omega**2)\n",
    "            \n",
    "        else:\n",
    "            omega = 1 + np.sqrt(-self.alpha)\n",
    "            \n",
    "            # Dummy variables that form the various terms in the Schrodinger-like equation\n",
    "            x_1 = - (4*self.alpha*np.pi**2)/(3*omega**2) - ((4*np.pi**2)*(1 - 4*((np.pi*self.alpha)**2)/9)/(omega**4))*z**2\n",
    "            x_2 = (32*self.alpha*(np.pi*z)**4)/(9*omega**6) + (16*(np.pi**4)*z**6)/(9*omega**8)\n",
    "            x_3 = -(8*self.eigenvalue*(1 - self.alpha)*np.pi**2)/(omega**2)\n",
    "            \n",
    "        # Computes derivatives\n",
    "        dV[0] = V[1]\n",
    "        dV[1] = V[0]*(x_1 + x_2 + x_3)\n",
    "        return dV    \n",
    "\n",
    "    def eigenfunction(self, eigenvalue):\n",
    "        '''Integrates the eigenfunction for the field based on the given\n",
    "        field range and returns the projected solution based on the\n",
    "        eigenvalue'''\n",
    "        \n",
    "        self.eigenvalue = eigenvalue\n",
    "        \n",
    "        # Integrates to find eigenfunction\n",
    "        V = odeint(self.schrodinger_like_ODE, self.V, self.z)\n",
    "        \n",
    "        return V[-1,0]\n",
    "    \n",
    "    def eigenfunction_full(self, eigenvalue):\n",
    "        '''Integrates the eigenfunction for the field based on the given\n",
    "        field range and returns the projected solution based on the\n",
    "        eigenvalue'''\n",
    "        \n",
    "        self.eigenvalue = eigenvalue\n",
    "        \n",
    "        # Integrates to find eigenfunction\n",
    "        V = odeint(self.schrodinger_like_ODE, self.V, self.z)\n",
    "\n",
    "        return V[:,0]"
   ]
  },
  {
   "cell_type": "code",
   "execution_count": 30,
   "metadata": {},
   "outputs": [
    {
     "name": "stdout",
     "output_type": "stream",
     "text": [
      "      converged: True\n",
      "           flag: 'converged'\n",
      " function_calls: 11\n",
      "     iterations: 10\n",
      "           root: -6.095066193013746e-10\n"
     ]
    }
   ],
   "source": [
    "# Field \n",
    "z = np.linspace(0, 4, 3000)\n",
    "\n",
    "# Tolerance \n",
    "tolerance = 1e-6\n",
    "\n",
    "# Scipy implementations of the Brent for n = 0\n",
    "eigenvalue_function = eigenfunction_finder_rescaled(V_even, z)\n",
    "eigenvalue_function.alpha = 1\n",
    "scipy_brent_0, results_brent_0 = optimize.brentq(eigenvalue_function.eigenfunction,-0.1, 0.2, full_output=True, xtol=tolerance)\n",
    "scipy_brent_V_0 = eigenvalue_function.eigenfunction_full(scipy_brent_0)\n",
    "print(results_brent_0)"
   ]
  },
  {
   "cell_type": "code",
   "execution_count": 31,
   "metadata": {},
   "outputs": [
    {
     "name": "stdout",
     "output_type": "stream",
     "text": [
      "      converged: True\n",
      "           flag: 'converged'\n",
      " function_calls: 8\n",
      "     iterations: 7\n",
      "           root: 0.18273132555378416\n"
     ]
    }
   ],
   "source": [
    "# Scipy implementations of the Brent for n = 1\n",
    "eigenvalue_function = eigenfunction_finder_rescaled(V_odd, z)\n",
    "eigenvalue_function.alpha = 1\n",
    "scipy_brent_1, results_brent_1 = optimize.brentq(eigenvalue_function.eigenfunction, 0.1, 0.3, full_output=True, xtol=tolerance)\n",
    "scipy_brent_V_1 = eigenvalue_function.eigenfunction_full(scipy_brent_1)\n",
    "print(results_brent_1)"
   ]
  },
  {
   "cell_type": "code",
   "execution_count": 32,
   "metadata": {},
   "outputs": [
    {
     "name": "stdout",
     "output_type": "stream",
     "text": [
      "      converged: True\n",
      "           flag: 'converged'\n",
      " function_calls: 10\n",
      "     iterations: 9\n",
      "           root: 0.393852403982049\n"
     ]
    }
   ],
   "source": [
    "# Scipy implementations of the Brent for n = 2\n",
    "eigenvalue_function = eigenfunction_finder_rescaled(V_even, z)\n",
    "eigenvalue_function.alpha = 1\n",
    "scipy_brent_2, results_brent_2 = optimize.brentq(eigenvalue_function.eigenfunction, 0.3, 0.5, full_output=True, xtol=tolerance)\n",
    "scipy_brent_V_2 = eigenvalue_function.eigenfunction_full(scipy_brent_2)\n",
    "print(results_brent_2)"
   ]
  },
  {
   "cell_type": "code",
   "execution_count": 33,
   "metadata": {},
   "outputs": [],
   "source": [
    "# Generates range of alpha values\n",
    "alpha = np.logspace(-2, 2, 50)\n",
    "\n",
    "# Empty array to store all eigenvalues\n",
    "eigenvalues_1 = np.zeros(len(alpha))\n",
    "eigenvalues_2 = np.zeros(len(alpha))\n",
    "eigenvalues_3 = np.zeros(len(alpha))\n",
    "eigenvalues_4 = np.zeros(len(alpha))\n",
    "\n",
    "# Field \n",
    "z = np.linspace(0, 3, 3000)\n",
    "\n",
    "# Tolerance \n",
    "tolerance = 1e-6\n",
    "\n",
    "# Eigenvalue guess interval\n",
    "eigenvalue_upper = 0.1\n",
    "eigenvalue_lower = 0.05\n",
    "\n",
    "# Loop over all values of alpha\n",
    "for i in range(len(alpha)):\n",
    "    # Use last eigenvalue to determine trial range\n",
    "    if i >= 1:\n",
    "        eigenvalue_upper = eigenvalues_1[i - 1] + 0.02\n",
    "        eigenvalue_lower = eigenvalues_1[i - 1] - 0.02\n",
    "    # Scipy implementations of the Brent for n = 1\n",
    "    eigenvalue_function = eigenfunction_finder_rescaled(V_odd, z)\n",
    "    eigenvalue_function.alpha = alpha[i]\n",
    "    eigenvalues_1[i], results_brent_1 = optimize.brentq(eigenvalue_function.eigenfunction, eigenvalue_lower, eigenvalue_upper, full_output=True, xtol=tolerance)"
   ]
  },
  {
   "cell_type": "code",
   "execution_count": 36,
   "metadata": {},
   "outputs": [],
   "source": [
    "# Field \n",
    "z = np.linspace(0, 3, 3000)\n",
    "\n",
    "# Tolerance \n",
    "tolerance = 1e-6\n",
    "\n",
    "# Eigenvalue guess interval\n",
    "eigenvalue_upper = 0.3\n",
    "eigenvalue_lower = 0.25\n",
    "\n",
    "# Loop over all values of alpha\n",
    "for i in range(len(alpha)):\n",
    "    # Use last eigenvalue to determine trial range\n",
    "    if i >= 1:\n",
    "        eigenvalue_upper = eigenvalues_2[i - 1] + 0.05\n",
    "        eigenvalue_lower = eigenvalues_2[i - 1] - 0.05\n",
    "    # Scipy implementations of the Brent for n = 2\n",
    "    eigenvalue_function = eigenfunction_finder_rescaled(V_even, z)\n",
    "    eigenvalue_function.alpha = alpha[i]\n",
    "    eigenvalues_2[i], results_brent_2 = optimize.brentq(eigenvalue_function.eigenfunction, eigenvalue_lower, eigenvalue_upper, full_output=True, xtol=tolerance)"
   ]
  },
  {
   "cell_type": "code",
   "execution_count": 37,
   "metadata": {},
   "outputs": [],
   "source": [
    "# Field \n",
    "z = np.linspace(0, 3, 3000)\n",
    "\n",
    "# Tolerance \n",
    "tolerance = 1e-6\n",
    "\n",
    "# Eigenvalue guess interval\n",
    "eigenvalue_upper = 0.6\n",
    "eigenvalue_lower = 0.5\n",
    "\n",
    "# Loop over all values of alpha\n",
    "for i in range(len(alpha)):\n",
    "    # Use last eigenvalue to determine trial range\n",
    "    if i >= 1:\n",
    "        eigenvalue_upper = eigenvalues_3[i - 1] + 0.05\n",
    "        eigenvalue_lower = eigenvalues_3[i - 1] - 0.05\n",
    "    # Scipy implementations of the Brent for n = 3\n",
    "    eigenvalue_function = eigenfunction_finder_rescaled(V_odd, z)\n",
    "    eigenvalue_function.alpha = alpha[i]\n",
    "    eigenvalues_3[i], results_brent_3 = optimize.brentq(eigenvalue_function.eigenfunction, eigenvalue_lower, eigenvalue_upper, full_output=True, xtol=tolerance)"
   ]
  },
  {
   "cell_type": "code",
   "execution_count": 39,
   "metadata": {},
   "outputs": [],
   "source": [
    "# Field \n",
    "z = np.linspace(0, 3, 3000)\n",
    "\n",
    "# Tolerance \n",
    "tolerance = 1e-6\n",
    "\n",
    "# Eigenvalue guess interval\n",
    "eigenvalue_upper = 0.9\n",
    "eigenvalue_lower = 0.8\n",
    "\n",
    "# Loop over all values of alpha\n",
    "for i in range(len(alpha)):\n",
    "    # Use last eigenvalue to determine trial range\n",
    "    if i >= 1:\n",
    "        eigenvalue_upper = eigenvalues_4[i - 1] + 0.05\n",
    "        eigenvalue_lower = eigenvalues_4[i - 1] - 0.05\n",
    "    # Scipy implementations of the Brent for n = 4\n",
    "    eigenvalue_function = eigenfunction_finder_rescaled(V_even, z)\n",
    "    eigenvalue_function.alpha = alpha[i]\n",
    "    eigenvalues_4[i], results_brent_4 = optimize.brentq(eigenvalue_function.eigenfunction, eigenvalue_lower, eigenvalue_upper, full_output=True, xtol=tolerance)"
   ]
  },
  {
   "cell_type": "markdown",
   "metadata": {},
   "source": [
    "Below are the plots of the scaled eigenvalues $\\tilde{\\Lambda}_n$ for a range of $\\alpha$ values. These seem to be consistent with the ones presented in the paper."
   ]
  },
  {
   "cell_type": "code",
   "execution_count": 40,
   "metadata": {},
   "outputs": [
    {
     "data": {
      "text/plain": [
       "<matplotlib.legend.Legend at 0x151672ba90>"
      ]
     },
     "execution_count": 40,
     "metadata": {},
     "output_type": "execute_result"
    },
    {
     "data": {
      "image/png": "[encoded data removed]",
      "text/plain": [
       "<Figure size 864x576 with 4 Axes>"
      ]
     },
     "metadata": {
      "needs_background": "light"
     },
     "output_type": "display_data"
    }
   ],
   "source": [
    "# Plotting \n",
    "fig = plt.figure(figsize=(12, 8))\n",
    "\n",
    "# n = 1 \n",
    "ax0 = fig.add_subplot(2, 2, 1)\n",
    "ax0.grid()\n",
    "ax0.set_xlim(1e-2, 1e2)\n",
    "ax0.set_xscale(\"log\")\n",
    "ax0.plot(alpha, eigenvalues_1, \"b\", label=\"$n=1$\")\n",
    "ax0.legend()\n",
    "\n",
    "# n = 2\n",
    "ax1 = fig.add_subplot(2, 2, 2)\n",
    "ax1.grid()\n",
    "ax1.set_xlim(1e-2, 1e2)\n",
    "ax1.set_xscale(\"log\")\n",
    "ax1.plot(alpha, eigenvalues_2, \"b\", label=\"$n=2$\")\n",
    "ax1.legend()\n",
    "\n",
    "# n = 3\n",
    "ax2 = fig.add_subplot(2, 2, 3)\n",
    "ax2.grid()\n",
    "ax2.set_xlim(1e-2, 1e2)\n",
    "ax2.set_xscale(\"log\")\n",
    "ax2.plot(alpha, eigenvalues_3, \"b\", label=\"$n=3$\")\n",
    "ax2.legend()\n",
    "\n",
    "# n = 4\n",
    "ax3 = fig.add_subplot(2, 2 ,4)\n",
    "ax3.grid()\n",
    "ax3.set_xlim(1e-2, 1e2)\n",
    "ax3.set_xscale(\"log\")\n",
    "ax3.plot(alpha, eigenvalues_4, \"b\", label=\"$n=4$\")\n",
    "ax3.legend()"
   ]
  },
  {
   "cell_type": "markdown",
   "metadata": {},
   "source": [
    "Now we consider the perturbative expansion in the limiting cases of $\\alpha$. In the limit $\\alpha \\rightarrow \\infty$ we can expand the eigenvalue to first-order such that \n",
    "$$ \\Lambda_n \\simeq \\Lambda^{(0)}_n + \\frac{1}{\\alpha^2}\\Lambda^{(1)}_n. $$"
   ]
  },
  {
   "cell_type": "code",
   "execution_count": 154,
   "metadata": {},
   "outputs": [],
   "source": [
    "# Defining parameters for range of alpha values\n",
    "self_coupling = 1\n",
    "hubble_rate = 1\n",
    "alpha_free = np.logspace(-1, 2, 50)\n",
    "mass_squared = alpha_free*np.sqrt(self_coupling)*hubble_rate**2\n",
    "\n",
    "# Applies the free-limit approximation\n",
    "eigenvalue_order_0 = np.outer(mass_squared, np.array([1, 2, 3, 4]))/(3*hubble_rate)\n",
    "eigenvalue_order_1 = 3*np.outer(mass_squared, np.array([1, 4, 9, 16]))/(8*hubble_rate*np.pi**2)\n",
    "free_eigenvalue = np.zeros(np.shape(eigenvalue_order_0))\n",
    "for i in range(len(eigenvalue_order_0[0, :])):\n",
    "    free_eigenvalue[:, i] = eigenvalue_order_0[:, i] +  eigenvalue_order_1[:, i]/(alpha_free**2)\n",
    "    free_eigenvalue[:, i] = free_eigenvalue[:, i]/(np.sqrt(self_coupling)*hubble_rate*(1 + alpha_free))"
   ]
  },
  {
   "cell_type": "markdown",
   "metadata": {},
   "source": [
    "Next we consider the perturbative expansion in the limit $\\alpha \\rightarrow 0$. This involves the following expansion \n",
    "$$ \\Lambda_n \\simeq \\Lambda^{(0)}_n + \\alpha\\Lambda^{(1)}_n $$"
   ]
  },
  {
   "cell_type": "code",
   "execution_count": 155,
   "metadata": {},
   "outputs": [],
   "source": [
    "# Define parameters for range of alpha values\n",
    "alpha_massless = np.logspace(-2, 1, 50)\n",
    "mass_squared = 1\n",
    "self_coupling = (mass_squared/(alpha_free*hubble_rate**2))**2\n",
    "\n",
    "# Applies the massless approximation\n",
    "massless_eigenvalue = np.zeros(np.shape(eigenvalue_order_0))\n",
    "massless_eigenvalue[:, 0] = 0.08892*np.sqrt(self_coupling)*hubble_rate + 0.21478*np.sqrt(self_coupling)*hubble_rate*alpha_massless\n",
    "massless_eigenvalue[:, 0] = massless_eigenvalue[:, 0]/(np.sqrt(self_coupling)*hubble_rate*(1 + alpha_massless))\n",
    "massless_eigenvalue[:, 1] = 0.28938*np.sqrt(self_coupling)*hubble_rate + 0.35152*np.sqrt(self_coupling)*hubble_rate*alpha_massless\n",
    "massless_eigenvalue[:, 1] = massless_eigenvalue[:, 1]/(np.sqrt(self_coupling)*hubble_rate*(1 + alpha_massless))\n",
    "massless_eigenvalue[:, 2] = 0.53667*np.sqrt(self_coupling)*hubble_rate + 0.52930*np.sqrt(self_coupling)*hubble_rate*alpha_massless\n",
    "massless_eigenvalue[:, 2] = massless_eigenvalue[:, 2]/(np.sqrt(self_coupling)*hubble_rate*(1 + alpha_massless))\n",
    "massless_eigenvalue[:, 3] = 0.82895*np.sqrt(self_coupling)*hubble_rate + 0.70696*np.sqrt(self_coupling)*hubble_rate*alpha_massless\n",
    "massless_eigenvalue[:, 3] = massless_eigenvalue[:, 3]/(np.sqrt(self_coupling)*hubble_rate*(1 + alpha_massless))"
   ]
  },
  {
   "cell_type": "code",
   "execution_count": 157,
   "metadata": {},
   "outputs": [
    {
     "data": {
      "image/png": "[encoded data removed]",
      "text/plain": [
       "<Figure size 1008x576 with 4 Axes>"
      ]
     },
     "metadata": {
      "needs_background": "light"
     },
     "output_type": "display_data"
    }
   ],
   "source": [
    "# Plotting \n",
    "fig = plt.figure(figsize=(14, 8))\n",
    "\n",
    "# n = 1 \n",
    "ax0 = fig.add_subplot(2, 2, 1)\n",
    "ax0.grid()\n",
    "ax0.set_xlim(1e-2, 1e2)\n",
    "ax0.set_xscale(\"log\")\n",
    "ax0.plot(alpha, eigenvalues_1, \"b\", label=\"$n=1$\")\n",
    "ax0.plot(alpha_free[5:], free_eigenvalue[5:, 0], \"r--\", label=\"free limit\")\n",
    "ax0.plot(alpha_massless, massless_eigenvalue[:, 0], \"r-.\", label=\"massless limit\")\n",
    "ax0.legend()\n",
    "\n",
    "# n = 2\n",
    "ax1 = fig.add_subplot(2, 2, 2)\n",
    "ax1.grid()\n",
    "ax1.set_xlim(1e-2, 1e2)\n",
    "ax1.set_xscale(\"log\")\n",
    "ax1.plot(alpha, eigenvalues_2, \"b\", label=\"$n=2$\")\n",
    "ax1.plot(alpha_free[10:], free_eigenvalue[10:, 1], \"r--\", label=\"free limit\")\n",
    "ax1.plot(alpha_massless, massless_eigenvalue[:, 1], \"r-.\", label=\"massless limit\")\n",
    "ax1.legend()\n",
    "\n",
    "# n = 3\n",
    "ax2 = fig.add_subplot(2, 2, 3)\n",
    "ax2.grid()\n",
    "ax2.set_xlim(1e-2, 1e2)\n",
    "ax2.set_xscale(\"log\")\n",
    "ax2.plot(alpha, eigenvalues_3, \"b\", label=\"$n=3$\")\n",
    "ax2.plot(alpha_free[10:], free_eigenvalue[10:, 2], \"r--\", label=\"free limit\")\n",
    "ax2.plot(alpha_massless, massless_eigenvalue[:, 2], \"r-.\", label=\"massless limit\")\n",
    "ax2.legend()\n",
    "\n",
    "# n = 4\n",
    "ax3 = fig.add_subplot(2, 2 ,4)\n",
    "ax3.grid()\n",
    "ax3.set_xlim(1e-2, 1e2)\n",
    "ax3.set_xscale(\"log\")\n",
    "ax3.plot(alpha, eigenvalues_4, \"b\", label=\"$n=4$\")\n",
    "ax3.plot(alpha_free[10:], free_eigenvalue[10:, 3], \"r--\", label=\"free limit\")\n",
    "ax3.plot(alpha_massless, massless_eigenvalue[:, 3], \"r-.\", label=\"massless limit\")\n",
    "ax3.legend()\n",
    "\n",
    "plt.savefig(\"eigenvalues.pdf\")"
   ]
  },
  {
   "cell_type": "code",
   "execution_count": 171,
   "metadata": {},
   "outputs": [
    {
     "data": {
      "image/png": "[encoded data removed]",
      "text/plain": [
       "<Figure size 432x288 with 1 Axes>"
      ]
     },
     "metadata": {
      "needs_background": "light"
     },
     "output_type": "display_data"
    }
   ],
   "source": [
    "plt.xlim(1e-2, 1e2)\n",
    "plt.xscale(\"log\")\n",
    "plt.ylabel(\"$\\\\tilde{\\\\Lambda}_n(\\\\alpha)$\")\n",
    "plt.plot(alpha, eigenvalues_1, \"b\", label=\"$n=1$\")\n",
    "plt.plot(alpha_free[5:], free_eigenvalue[5:, 0], \"r--\", label=\"free limit\")\n",
    "plt.plot(alpha_massless, massless_eigenvalue[:, 0], \"r-.\", label=\"massless limit\")\n",
    "plt.legend()\n",
    "plt.savefig(\"m1.pdf\")"
   ]
  },
  {
   "cell_type": "code",
   "execution_count": 172,
   "metadata": {},
   "outputs": [
    {
     "data": {
      "image/png": "[encoded data removed]",
      "text/plain": [
       "<Figure size 432x288 with 1 Axes>"
      ]
     },
     "metadata": {
      "needs_background": "light"
     },
     "output_type": "display_data"
    }
   ],
   "source": [
    "plt.xlim(1e-2, 1e2)\n",
    "plt.xscale(\"log\")\n",
    "plt.plot(alpha, eigenvalues_2, \"b\", label=\"$n=2$\")\n",
    "plt.plot(alpha_free[10:], free_eigenvalue[10:, 1], \"r--\", label=\"free limit\")\n",
    "plt.plot(alpha_massless, massless_eigenvalue[:, 1], \"r-.\", label=\"massless limit\")\n",
    "plt.legend()\n",
    "plt.savefig(\"m2.pdf\")"
   ]
  },
  {
   "cell_type": "code",
   "execution_count": 173,
   "metadata": {},
   "outputs": [
    {
     "data": {
      "image/png": "[encoded data removed]",
      "text/plain": [
       "<Figure size 432x288 with 1 Axes>"
      ]
     },
     "metadata": {
      "needs_background": "light"
     },
     "output_type": "display_data"
    }
   ],
   "source": [
    "plt.xlim(1e-2, 1e2)\n",
    "plt.xscale(\"log\")\n",
    "plt.plot(alpha, eigenvalues_3, \"b\", label=\"$n=3$\")\n",
    "plt.ylabel(\"$\\\\tilde{\\\\Lambda}_n(\\\\alpha)$\")\n",
    "plt.xlabel(\"$\\\\alpha$\")\n",
    "plt.plot(alpha_free[10:], free_eigenvalue[10:, 2], \"r--\", label=\"free limit\")\n",
    "plt.plot(alpha_massless, massless_eigenvalue[:, 2], \"r-.\", label=\"massless limit\")\n",
    "plt.legend()\n",
    "plt.savefig(\"m3.pdf\")"
   ]
  },
  {
   "cell_type": "code",
   "execution_count": 174,
   "metadata": {},
   "outputs": [
    {
     "data": {
      "image/png": "[encoded data removed]",
      "text/plain": [
       "<Figure size 432x288 with 1 Axes>"
      ]
     },
     "metadata": {
      "needs_background": "light"
     },
     "output_type": "display_data"
    }
   ],
   "source": [
    "plt.xlim(1e-2, 1e2)\n",
    "plt.xscale(\"log\")\n",
    "plt.plot(alpha, eigenvalues_4, \"b\", label=\"$n=4$\")\n",
    "plt.xlabel(\"$\\\\alpha$\")\n",
    "plt.plot(alpha_free[10:], free_eigenvalue[10:, 3], \"r--\", label=\"free limit\")\n",
    "plt.plot(alpha_massless, massless_eigenvalue[:, 3], \"r-.\", label=\"massless limit\")\n",
    "plt.legend()\n",
    "plt.savefig(\"m4.pdf\")"
   ]
  },
  {
   "cell_type": "markdown",
   "metadata": {},
   "source": [
    "For the double-well potential the following definition is used in https://arxiv.org/pdf/2001.04494.pdf:\n",
    "$$\\bar{\\alpha} \\equiv -\\alpha, $$\n",
    "or equivalently\n",
    "$$ \\bar{\\alpha} \\equiv \\frac{-m^2}{\\sqrt{\\lambda}H^2}.  $$\n",
    "We also have\n",
    "$$ z \\equiv \\frac{\\lambda^{1/4}\\Omega}{H}\\varphi, \\>\\> \\Omega \\equiv 1 + \\sqrt{\\bar{\\alpha}}. $$\n",
    "With the above parameters the Schrödinger-like equation takes the form \n",
    "$$\\frac{\\partial \\Phi_n(z)}{\\partial z} \\equiv Y, $$\n",
    "$$\\frac{\\partial Y}{\\partial z} = \\left(\\frac{4\\pi^2 \\bar{\\alpha}}{3\\Omega^2}-4\\pi^2\\frac{1-\\frac{4\\pi^2}{9}\\bar{\\alpha}^2}{\\Omega^4}z^2-\\frac{32\\pi^4\\bar{\\alpha} z^4}{9\\Omega^6} + \\frac{16\\pi^4 z^6}{9\\Omega^8}-\\frac{8\\pi^2(1+\\bar{\\alpha})\\tilde{\\Lambda}(\\bar{\\alpha})}{\\Omega^2}\\right)\\Phi_n(z).  $$\n",
    "Eigenvalues are rescaled as \n",
    "$$\\tilde{\\Lambda}_n(\\alpha) = \\frac{\\Lambda_n}{\\lambda^{1/2}H(1+\\bar{\\alpha})}. $$\n",
    "We also keep in mind that the integration range might need to be adjusted for the range of possible double-wells as the minima may move beyond the integration range for some values of $\\bar{\\alpha}$. The minima in the potential correspond to \n",
    "$$z_0 = \\pm \\sqrt{\\bar{\\alpha}}\\Omega = \\sqrt{\\bar{\\alpha}}\\left(1+\\sqrt{\\bar{\\alpha}}\\right),$$\n",
    "and the minima in the effective potential correspond to\n",
    "$$z_0 = \\pm \\frac{\\bar{\\alpha}+1}{\\sqrt{3}}\\left(\\sqrt{\\bar{\\alpha}^2+\\frac{27}{4\\pi^2}} + 2\\bar{\\alpha}\\right)^{1/2}. $$\n",
    "We therefore adjust the integration range to try and account for this $\\bar{\\alpha}$."
   ]
  },
  {
   "cell_type": "code",
   "execution_count": 90,
   "metadata": {},
   "outputs": [],
   "source": [
    "# Generates range of alpha values\n",
    "alpha = -np.logspace(-2, 1, 1000)\n",
    "\n",
    "# Empty array to store all eigenvalues\n",
    "eigenvalues_1 = np.zeros(len(alpha))\n",
    "eigenvalues_2 = np.zeros(len(alpha))\n",
    "eigenvalues_3 = np.zeros(len(alpha))\n",
    "eigenvalues_4 = np.zeros(len(alpha))\n",
    "\n",
    "# Tolerance \n",
    "tolerance = 1e-6\n",
    "\n",
    "# Eigenvalue guess interval\n",
    "eigenvalue_upper = 0.1\n",
    "eigenvalue_lower = 0.05\n",
    "\n",
    "# Loop over all values of alpha\n",
    "for i in range(len(alpha)):\n",
    "    # Determines location of minima for current alpha value and then determines integration range accordingly\n",
    "    z_0 = ((-alpha[i] + 1)/np.sqrt(3))*np.sqrt(np.sqrt(alpha[i]**2 + (27/(4*np.pi**2))) - 2*alpha[i])\n",
    "    z = np.linspace(0, 3 + 0.45*z_0, 3000)\n",
    "    # If not the first alpha value use last eigenvalue to determine guess range\n",
    "    if i >= 1:\n",
    "        # Eigenvalue guess interval\n",
    "        eigenvalue_upper = eigenvalues_1[i - 1] + 0.005\n",
    "        eigenvalue_lower = eigenvalues_1[i - 1] - 0.005\n",
    "    # Scipy implementations of the Brent for n = 1\n",
    "    eigenvalue_function = eigenfunction_finder_rescaled(V_odd , z)\n",
    "    eigenvalue_function.alpha = alpha[i]\n",
    "    eigenvalues_1[i], results_brent_1 = optimize.brentq(eigenvalue_function.eigenfunction, eigenvalue_lower, eigenvalue_upper, full_output=True, xtol=tolerance)"
   ]
  },
  {
   "cell_type": "code",
   "execution_count": 91,
   "metadata": {
    "scrolled": true
   },
   "outputs": [],
   "source": [
    "# Eigenvalue guess interval\n",
    "eigenvalue_upper = 0.3\n",
    "eigenvalue_lower = 0.25\n",
    "\n",
    "# Loop over all values of alpha\n",
    "for i in range(len(alpha)):\n",
    "    # Determines location of minima for current alpha value and then determines integration range accordingly\n",
    "    z_0 = ((-alpha[i] + 1)/np.sqrt(3))*np.sqrt(np.sqrt(alpha[i]**2 + (27/(4*np.pi**2))) - 2*alpha[i])\n",
    "    z = np.linspace(0, 3 + 0.45*z_0, 3000)\n",
    "    # If not the first alpha value use last eigenvalue to determine guess range\n",
    "    if i >= 1:\n",
    "        # Eigenvalue guess interval\n",
    "        eigenvalue_upper = eigenvalues_2[i - 1] + 0.01\n",
    "        eigenvalue_lower = eigenvalues_2[i - 1] - 0.01\n",
    "    # Scipy implementations of the Brent for n = 2\n",
    "    eigenvalue_function = eigenfunction_finder_rescaled(V_even, z)\n",
    "    eigenvalue_function.alpha = alpha[i]\n",
    "    eigenvalues_2[i], results_brent_2 = optimize.brentq(eigenvalue_function.eigenfunction, eigenvalue_lower, eigenvalue_upper, full_output=True, xtol=tolerance)"
   ]
  },
  {
   "cell_type": "code",
   "execution_count": 92,
   "metadata": {},
   "outputs": [],
   "source": [
    "# Array to store eigenvalues\n",
    "eigenvalues_3 = np.zeros(len(alpha))\n",
    "\n",
    "# Initial eigenvalue guess interval\n",
    "eigenvalue_upper = 0.6\n",
    "eigenvalue_lower = 0.5\n",
    "\n",
    "# Loop over all values of alpha\n",
    "for i in range(len(alpha)):\n",
    "    # Determines location of minima for current alpha value and then determines integration range accordingly\n",
    "    z_0 = ((-alpha[i] + 1)/np.sqrt(3))*np.sqrt(np.sqrt(alpha[i]**2 + (27/(4*np.pi**2))) - 2*alpha[i])\n",
    "    z = np.linspace(0, 3, 3000)\n",
    "    # Use the previous eigenvalue to determine the interval\n",
    "    if i >= 1:\n",
    "        # Eigenvalue guess interval\n",
    "        eigenvalue_upper = eigenvalues_3[i - 1] + 0.005\n",
    "        eigenvalue_lower = eigenvalues_3[i - 1] - 0.005\n",
    "    # Scipy implementations of the Brent for n = 3\n",
    "    eigenvalue_function = eigenfunction_finder_rescaled(V_odd, z)\n",
    "    eigenvalue_function.alpha = alpha[i]    \n",
    "    eigenvalues_3[i], results_brent_3 = optimize.brentq(eigenvalue_function.eigenfunction, eigenvalue_lower, eigenvalue_upper, full_output=True, xtol=tolerance)"
   ]
  },
  {
   "cell_type": "code",
   "execution_count": 93,
   "metadata": {},
   "outputs": [],
   "source": [
    "# Eigenvalue guess interval\n",
    "eigenvalue_upper = 0.9\n",
    "eigenvalue_lower = 0.8\n",
    "\n",
    "# Loop over all values of alpha\n",
    "for i in range(len(alpha)):\n",
    "    # Determines location of minima for current alpha value and then determines integration range accordingly\n",
    "    z_0 = ((-alpha[i] + 1)/np.sqrt(3))*np.sqrt(np.sqrt(alpha[i]**2 + (27/(4*np.pi**2))) - 2*alpha[i])\n",
    "    z = np.linspace(0, 3 + 0.45*z_0, 3000)\n",
    "    # Use the previous eigenvalue to determine the interval\n",
    "    if i >= 1:\n",
    "        # Eigenvalue guess interval\n",
    "        eigenvalue_upper = eigenvalues_4[i - 1] + 0.01\n",
    "        eigenvalue_lower = eigenvalues_4[i - 1] - 0.01\n",
    "    # Scipy implementations of the Brent for n = 4\n",
    "    eigenvalue_function = eigenfunction_finder_rescaled(V_even, z)\n",
    "    eigenvalue_function.alpha = alpha[i]\n",
    "    eigenvalues_4[i], results_brent_4 = optimize.brentq(eigenvalue_function.eigenfunction, eigenvalue_lower, eigenvalue_upper, full_output=True, xtol=tolerance)"
   ]
  },
  {
   "cell_type": "code",
   "execution_count": 96,
   "metadata": {
    "scrolled": false
   },
   "outputs": [
    {
     "data": {
      "image/png": "[encoded data removed]",
      "text/plain": [
       "<Figure size 432x288 with 1 Axes>"
      ]
     },
     "metadata": {
      "needs_background": "light"
     },
     "output_type": "display_data"
    }
   ],
   "source": [
    "plt.plot(-alpha, eigenvalues_1, \"b-\", label=\"$n=1$\")\n",
    "plt.plot(-alpha, eigenvalues_2, \"b--\", label=\"$n=2$\")\n",
    "plt.plot(-alpha, eigenvalues_3, \"b-.\", label=\"$n=3$\")\n",
    "plt.plot(-alpha, eigenvalues_4, \"b:\", label=\"$n=4$\")\n",
    "plt.xlim(1e-2, 1e2)\n",
    "plt.legend()\n",
    "plt.xlabel(\"$\\\\bar{\\\\alpha}$\")\n",
    "plt.ylabel(\"$\\\\tilde{\\Lambda}_n(\\\\bar{\\\\alpha})$\")\n",
    "plt.xscale(\"log\")"
   ]
  },
  {
   "cell_type": "code",
   "execution_count": 97,
   "metadata": {},
   "outputs": [],
   "source": [
    "# Analytic approximation\n",
    "alpha_bar_expansion = np.logspace(0, 2, 50)\n",
    "eigenvalue_expansion_2 = (1 - 1/alpha_bar_expansion + (1-9/(8*np.pi**2))/alpha_bar_expansion**2)/3\n",
    "eigenvalue_expansion_3 = 2*(1 - 1/alpha_bar_expansion + (1-9/(4*np.pi**2))/alpha_bar_expansion**2)/3\n",
    "eigenvalue_expansion_4 = 2*(1 - 1/alpha_bar_expansion + (1+1341/(256*np.pi**2))/alpha_bar_expansion**2)/3"
   ]
  },
  {
   "cell_type": "code",
   "execution_count": 98,
   "metadata": {},
   "outputs": [
    {
     "data": {
      "image/png": "[encoded data removed]",
      "text/plain": [
       "<Figure size 432x288 with 1 Axes>"
      ]
     },
     "metadata": {
      "needs_background": "light"
     },
     "output_type": "display_data"
    }
   ],
   "source": [
    "plt.plot(alpha_bar_expansion[5:], eigenvalue_expansion_2[5:], \"r--\")\n",
    "plt.plot(alpha_bar_expansion, eigenvalue_expansion_3, \"r--\")\n",
    "plt.plot(alpha_bar_expansion, eigenvalue_expansion_4, \"r--\")\n",
    "plt.plot(-alpha, eigenvalues_1, \"b-\", label=\"$n=1$\")\n",
    "plt.plot(-alpha, eigenvalues_2, \"b--\", label=\"$n=2$\")\n",
    "plt.plot(-alpha, eigenvalues_3, \"b-.\", label=\"$n=3$\")\n",
    "plt.plot(-alpha, eigenvalues_4, \"b:\", label=\"$n=4$\")\n",
    "plt.xlim(1e-2, 1e2)\n",
    "plt.legend()\n",
    "plt.xlabel(\"$\\\\bar{\\\\alpha}$\")\n",
    "plt.ylabel(\"$\\\\tilde{\\Lambda}_n(\\\\bar{\\\\alpha})$\")\n",
    "plt.xscale(\"log\")\n",
    "plt.savefig(\"double-well.pdf\")"
   ]
  }
 ],
 "metadata": {
  "kernelspec": {
   "display_name": "Python 3",
   "language": "python",
   "name": "python3"
  },
  "language_info": {
   "codemirror_mode": {
    "name": "ipython",
    "version": 3
   },
   "file_extension": ".py",
   "mimetype": "text/x-python",
   "name": "python",
   "nbconvert_exporter": "python",
   "pygments_lexer": "ipython3",
   "version": "3.7.3"
  }
 },
 "nbformat": 4,
 "nbformat_minor": 2
}
