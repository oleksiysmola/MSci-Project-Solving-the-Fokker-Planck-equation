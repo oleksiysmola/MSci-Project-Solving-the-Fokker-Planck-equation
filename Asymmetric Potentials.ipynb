{
 "cells": [
  {
   "cell_type": "markdown",
   "metadata": {},
   "source": [
    "# Asymmetric Potentials\n",
    "For convenience the key equations are given below from https://arxiv.org/pdf/astro-ph/9407016.pdf:\n",
    "\n",
    "1) Fokker-Planck equation\n",
    "$$    \\frac{\\partial P(\\varphi,t)}{\\partial t} = \\frac{1}{3H}\\frac{\\partial}{\\partial \\varphi}\\left(V'(\\varphi) P(\\varphi,t)\\right) + \\frac{H^3}{8\\pi^2}\\frac{\\partial^2 P(\\varphi,t)}{\\partial \\varphi^2} $$\n",
    "\n",
    "2) Schrodinger-like equation\n",
    "$$     -\\frac{1}{2}\\frac{\\partial^2 \\Phi_n(\\varphi)}{\\partial \\varphi^2} + W(\\varphi) \\Phi_n (\\varphi) = \\frac{4\\pi^2\\Lambda_n}{H^3}\\Phi_n(\\varphi) $$\n",
    "\n",
    "3) Effective potential\n",
    "$$ W(\\varphi) = \\frac{1}{2}\\left[v'(\\varphi)^2-v''(\\varphi)\\right], \\> \\> v(\\varphi) = \\frac{4\\pi^2}{3H^4} V(\\varphi) $$\n",
    "\n",
    "4) Solutions take the form\n",
    "$$ P(\\varphi,t) = \\exp\\left(-\\frac{4\\pi^2 V(\\varphi)}{3H^4}\\right) \\sum^{\\infty}_{n=0} a_n \\Phi_n (\\varphi) e^{-\\Lambda_n (t-t_0)} $$"
   ]
  },
  {
   "cell_type": "code",
   "execution_count": 1,
   "metadata": {},
   "outputs": [],
   "source": [
    "import numpy as np\n",
    "from math import factorial\n",
    "from scipy import optimize\n",
    "from scipy.integrate import odeint, simps\n",
    "from scipy.special import eval_hermite\n",
    "import matplotlib.pyplot as plt\n",
    "%matplotlib inline"
   ]
  },
  {
   "cell_type": "markdown",
   "metadata": {},
   "source": [
    "Here we know consider a potential of the form\n",
    "$$V(\\varphi) = \\mu^3 \\varphi + \\frac{1}{2}m^2\\varphi^2 + \\frac{1}{4}\\lambda \\varphi^4. $$\n",
    "Following https://arxiv.org/pdf/2001.04494.pdf, the Schrodinger-like equation can be expressed in terms of dimensionless quantities:\n",
    "$$ \\bar{\\alpha} \\equiv \\frac{-m^2}{\\sqrt{\\lambda}H^2}, \\> \\> \\beta = \\frac{\\mu^3}{\\lambda^{1/4}H^3}.  $$\n",
    "We also have\n",
    "$$ z \\equiv \\frac{\\lambda^{1/4}\\Omega}{H}\\varphi, \\>\\> \\Omega \\equiv 1 + \\sqrt{\\bar{\\alpha}}+\\beta. $$\n",
    "With the above parameters the Schrödinger-like equation takes the form \n",
    "$$\\frac{\\partial \\Phi_n(z)}{\\partial z} \\equiv Y, $$\n",
    "$$\\frac{\\partial Y}{\\partial z} = \\left(4\\pi^2\\frac{\\bar{\\alpha}+\\frac{4\\pi^2}{3}\\beta^2}{3\\Omega^2}-\\frac{32\\pi^4\\bar{\\alpha}\\beta z}{9\\Omega^3}-4\\pi^2\\frac{1-\\frac{4\\pi^2}{9}\\bar{\\alpha}^2}{\\Omega^4}z^2+\\frac{32\\pi^4\\beta z^3}{9\\Omega^5}-\\frac{32\\pi^4\\bar{\\alpha} z^4}{9\\Omega^6} + \\frac{16\\pi^4 z^6}{9\\Omega^8}-\\frac{8\\pi^2(1+\\bar{\\alpha}+\\beta^2)\\tilde{\\Lambda}_n}{\\Omega^2}\\right)\\Phi_n(z).  $$\n",
    "Eigenvalues are rescaled as \n",
    "$$\\tilde{\\Lambda}_n(\\alpha) = \\frac{\\Lambda_n}{\\lambda^{1/2}H(1+\\bar{\\alpha}+\\beta^2)}. $$\n",
    "For now let us set $\\bar{\\alpha}=1$, $\\beta=0.5$"
   ]
  },
  {
   "cell_type": "code",
   "execution_count": 315,
   "metadata": {},
   "outputs": [],
   "source": [
    "# Setting parameters\n",
    "alpha_bar = 1\n",
    "beta = 0.5\n",
    "omega = 1 + np.sqrt(alpha_bar) + beta"
   ]
  },
  {
   "cell_type": "markdown",
   "metadata": {},
   "source": [
    "## WKB approximation\n",
    "$$ Q(z) = 4\\pi^2\\frac{\\bar{\\alpha}+\\frac{4\\pi^2}{3}\\beta^2}{3\\Omega^2}-\\frac{32\\pi^4\\bar{\\alpha}\\beta z}{9\\Omega^3}-4\\pi^2\\frac{1-\\frac{4\\pi^2}{9}\\bar{\\alpha}^2}{\\Omega^4}z^2+\\frac{32\\pi^4\\beta z^3}{9\\Omega^5}-\\frac{32\\pi^4\\bar{\\alpha} z^4}{9\\Omega^6} + \\frac{16\\pi^4 z^6}{9\\Omega^8}-\\frac{8\\pi^2(1+\\bar{\\alpha}+\\beta^2)\\tilde{\\Lambda}_n}{\\Omega^2}, $$\n",
    "$$ Q'(z) = -\\frac{32\\pi^4\\bar{\\alpha}\\beta}{9\\Omega^3}-8\\pi^2\\frac{1-\\frac{4\\pi^2}{9}\\bar{\\alpha}^2}{\\Omega^4}z+\\frac{32\\pi^4\\beta z^2}{3\\Omega^5}-\\frac{128\\pi^4\\bar{\\alpha} z^3}{9\\Omega^6} + \\frac{32\\pi^4 z^5}{3\\Omega^8}, $$\n",
    "$$ Q''(z) = -8\\pi^2\\frac{1-\\frac{4\\pi^2}{9}\\bar{\\alpha}^2}{\\Omega^4}+\\frac{64\\pi^4\\beta z}{3\\Omega^5}-\\frac{128\\pi^4\\bar{\\alpha} z^2}{3\\Omega^6} + \\frac{160\\pi^4 z^4}{3\\Omega^8}. $$\n",
    "\n",
    "\n",
    "$$S_0(z) = \\pm \\int^z_{z_0}\\sqrt{Q(x)} dx, $$\n",
    "$$S_1(z) = -\\frac{1}{4}\\left[\\text{ln}Q(x)\\right]^z_{z_0}, $$\n",
    "$$S_2(z) = -\\frac{1}{4}\\frac{Q'(z)}{Q(z)^2} - \\frac{1}{8}\\int^z_{z_0} \\frac{Q''(x)}{Q(x)^3}dx.$$\n",
    "The solution then takes the form \n",
    "$$S(z) = \\frac{c_1}{Q(z)^{1/4}}\\text{exp}\\left[\\int^z_{z_0} \\sqrt{Q(x)}dx -\\frac{1}{4}\\frac{Q'(z)}{Q(z)^2} - \\frac{1}{8}\\int^z_{z_0} \\frac{Q''(x)}{Q(x)^3}dx\\right] + \\frac{c_2}{Q(z)^{1/4}}\\text{exp}\\left[-\\int^z_{z_0} \\sqrt{Q(x)}dx +\\frac{1}{4}\\frac{Q'(z)}{Q(z)^2} + \\frac{1}{8}\\int^z_{z_0} \\frac{Q''(x)}{Q(x)^3}dx\\right] $$"
   ]
  },
  {
   "cell_type": "code",
   "execution_count": 316,
   "metadata": {},
   "outputs": [],
   "source": [
    "# Eigenvalue\n",
    "eigenvalue = 0\n",
    "\n",
    "def Q_function(z):\n",
    "    '''Evaluates Q(z) defined above\n",
    "    z: array of values for which Q(z) is to be evaluated'''\n",
    "    \n",
    "    # Break up calculation into multiple parts\n",
    "    x_1 = ((alpha_bar + ((4*np.pi**2)/3)*beta**2)/(3*omega**2))*4*np.pi**2 \n",
    "    x_2 = - ((32*np.pi**4)*alpha_bar*beta*z)/(9*omega**3)\n",
    "    x_3 = - (4*np.pi**2)*((1 - (4*(np.pi*alpha_bar)**2)/9)/(omega**4))*z**2\n",
    "    x_4 = ((32*np.pi**4)*beta*z**3)/(9*omega**5) - ((32*np.pi**4)*alpha_bar*z**4)/(9*omega**6)\n",
    "    x_5 = ((16*np.pi**4)*z**6)/(9*omega**8) - ((1 + alpha_bar + beta**2)*eigenvalue*8*np.pi**2)/(omega**2)\n",
    "    \n",
    "    # Computes full function\n",
    "    Q = x_1 + x_2 + x_3 + x_4 + x_5\n",
    "    \n",
    "    return Q"
   ]
  },
  {
   "cell_type": "code",
   "execution_count": 317,
   "metadata": {},
   "outputs": [],
   "source": [
    "def Q_function_gradient(z):\n",
    "    '''Evaluates the gradient for Q(z) defined above\n",
    "    z: array of values for which Q(z) is to be evaluated'''\n",
    "    \n",
    "    # Break up calculation into multiple parts\n",
    "    x_1 = - ((32*np.pi**4)*alpha_bar*beta)/(9*omega**3)\n",
    "    x_2 = - (8*np.pi**2)*((1 - (4*(np.pi*alpha_bar)**2)/9)/(omega**4))*z\n",
    "    x_3 = ((32*np.pi**4)*beta*z**2)/(3*omega**5) - ((128*np.pi**4)*alpha_bar*z**3)/(9*omega**6)\n",
    "    x_4 = ((32*np.pi**4)*z**5)/(3*omega**8) \n",
    "    \n",
    "    # Computes full function\n",
    "    Q_gradient = x_1 + x_2 + x_3 + x_4\n",
    "    \n",
    "    return Q_gradient\n",
    "\n",
    "def Q_second_derivative(z):\n",
    "    '''Evaluates the second derivative for Q(z) defined above\n",
    "    z: array of values for which Q(z) is to be evaluated'''\n",
    "    \n",
    "    # Break up calculation into multiple parts\n",
    "    x_1 = - (8*np.pi**2)*((1 - (4*(np.pi*alpha_bar)**2)/9)/(omega**4))\n",
    "    x_2 = ((64*np.pi**4)*beta*z)/(3*omega**5) - ((128*np.pi**4)*alpha_bar*z**2)/(3*omega**6)\n",
    "    x_3 = ((160*np.pi**4)*z**4)/(3*omega**8) \n",
    "    \n",
    "    # Computes full function\n",
    "    Q_second_derivative = x_1 + x_2 + x_3\n",
    "    \n",
    "    return Q_second_derivative"
   ]
  },
  {
   "cell_type": "code",
   "execution_count": 331,
   "metadata": {},
   "outputs": [
    {
     "data": {
      "text/plain": [
       "[<matplotlib.lines.Line2D at 0x1524f932b0>]"
      ]
     },
     "execution_count": 331,
     "metadata": {},
     "output_type": "execute_result"
    },
    {
     "data": {
      "image/png": "[encoded data removed]",
      "text/plain": [
       "<Figure size 432x288 with 1 Axes>"
      ]
     },
     "metadata": {
      "needs_background": "light"
     },
     "output_type": "display_data"
    }
   ],
   "source": [
    "# Plotting ratio of gradient of Q with Q^2\n",
    "z = np.linspace(-10, 10, 100)\n",
    "Q = Q_function(z)\n",
    "Q_gradient = Q_function_gradient(z)\n",
    "plt.plot(z, abs(Q_gradient/(Q**2)))"
   ]
  },
  {
   "cell_type": "code",
   "execution_count": 332,
   "metadata": {},
   "outputs": [
    {
     "data": {
      "text/plain": [
       "(0, 1)"
      ]
     },
     "execution_count": 332,
     "metadata": {},
     "output_type": "execute_result"
    },
    {
     "data": {
      "image/png": "[encoded data removed]",
      "text/plain": [
       "<Figure size 432x288 with 1 Axes>"
      ]
     },
     "metadata": {
      "needs_background": "light"
     },
     "output_type": "display_data"
    }
   ],
   "source": [
    "# Plotting ratio of gradient of Q with Q^2\n",
    "z = np.linspace(-10, 10, 100)\n",
    "Q = Q_function(z)\n",
    "Q_gradient = Q_function_gradient(z)\n",
    "plt.plot(z, abs(Q_gradient/(Q**2)))\n",
    "plt.ylim(0, 1)"
   ]
  },
  {
   "cell_type": "code",
   "execution_count": 333,
   "metadata": {},
   "outputs": [
    {
     "data": {
      "image/png": "[encoded data removed]",
      "text/plain": [
       "<Figure size 432x288 with 1 Axes>"
      ]
     },
     "metadata": {
      "needs_background": "light"
     },
     "output_type": "display_data"
    }
   ],
   "source": [
    "# Plot Q(z), points where Q(z) = 0 are analogous to classical turning points in quantum mechanics\n",
    "z = np.linspace(-5, 5, 100)\n",
    "Q = Q_function(z)\n",
    "plt.plot(z, Q)\n",
    "plt.ylim(-8, 10)\n",
    "plt.grid()"
   ]
  },
  {
   "cell_type": "code",
   "execution_count": 339,
   "metadata": {},
   "outputs": [],
   "source": [
    "def WKB_function(eigenvalue, c_1, c_2, lower_limit, upper_limit):\n",
    "    '''Evaluates WKB approximation of eigenfunction to second-order\n",
    "    eigenvalue: guess eigenvalue\n",
    "    c_1: guess amplitude (right-moving)\n",
    "    c_2: guess amplitude (left-moving)\n",
    "    upper_limit: upper integration limit\n",
    "    lower_limit: lower integration limit'''\n",
    "    \n",
    "    # Creates array of z values\n",
    "    z = np.linspace(lower_limit, upper_limit, 1000, dtype=complex)\n",
    "    dz = z[1] - z[0]\n",
    "    \n",
    "    # Q and its derivatives\n",
    "    Q = Q_function(z)\n",
    "    Q_gradient = Q_function_gradient(z)\n",
    "    Q_derivative_second = Q_second_derivative(z)\n",
    "    \n",
    "    # Empty arrays to store the functions in the series\n",
    "    S_0 = np.zeros(len(z) - 1, dtype=complex)\n",
    "    S_2 = np.zeros(len(z) - 1, dtype=complex)\n",
    "    \n",
    "    # Integration loop for S_0 and S_1\n",
    "    for i in range(len(S_0)):        \n",
    "        S_0[i] = simps(np.sqrt(Q[:i + 2]), z[:i + 2], dz)\n",
    "        S_2[i] = -0.25*(Q_gradient[i + 1]/(Q[i + 1]**2)) - 0.125*simps(Q_derivative_second[:i + 2]/(Q[:i+2]**3), z[:i + 2], dz)\n",
    "    \n",
    "    # Checks which direction \"wave\" is travelling\n",
    "    if c_1 != 0:\n",
    "        WKB_phi = c_1*np.exp(S_0 + S_2)/(Q[1:]**0.25)\n",
    "    \n",
    "    elif c_2 != 0:\n",
    "        WKB_phi = c_2*np.exp(-S_0 - S_2)/(Q[1:]**0.25)\n",
    "    \n",
    "    return WKB_phi"
   ]
  },
  {
   "cell_type": "code",
   "execution_count": 347,
   "metadata": {},
   "outputs": [],
   "source": [
    "WKB_phi = WKB_function(eigenvalue, 0.5, 0, -6, -5)"
   ]
  }
 ],
 "metadata": {
  "kernelspec": {
   "display_name": "Python 3",
   "language": "python",
   "name": "python3"
  },
  "language_info": {
   "codemirror_mode": {
    "name": "ipython",
    "version": 3
   },
   "file_extension": ".py",
   "mimetype": "text/x-python",
   "name": "python",
   "nbconvert_exporter": "python",
   "pygments_lexer": "ipython3",
   "version": "3.7.3"
  }
 },
 "nbformat": 4,
 "nbformat_minor": 2
}
