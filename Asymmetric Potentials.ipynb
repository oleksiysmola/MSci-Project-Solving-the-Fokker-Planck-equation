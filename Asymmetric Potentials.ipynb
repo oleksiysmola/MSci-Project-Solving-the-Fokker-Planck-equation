{
 "cells": [
  {
   "cell_type": "markdown",
   "metadata": {},
   "source": [
    "# Asymmetric Potentials\n",
    "For convenience the key equations are given below from https://arxiv.org/pdf/astro-ph/9407016.pdf:\n",
    "\n",
    "1) Fokker-Planck equation\n",
    "$$    \\frac{\\partial P(\\varphi,t)}{\\partial t} = \\frac{1}{3H}\\frac{\\partial}{\\partial \\varphi}\\left(V'(\\varphi) P(\\varphi,t)\\right) + \\frac{H^3}{8\\pi^2}\\frac{\\partial^2 P(\\varphi,t)}{\\partial \\varphi^2} $$\n",
    "\n",
    "2) Schrodinger-like equation\n",
    "$$     -\\frac{1}{2}\\frac{\\partial^2 \\Phi_n(\\varphi)}{\\partial \\varphi^2} + W(\\varphi) \\Phi_n (\\varphi) = \\frac{4\\pi^2\\Lambda_n}{H^3}\\Phi_n(\\varphi) $$\n",
    "\n",
    "3) Effective potential\n",
    "$$ W(\\varphi) = \\frac{1}{2}\\left[v'(\\varphi)^2-v''(\\varphi)\\right], \\> \\> v(\\varphi) = \\frac{4\\pi^2}{3H^4} V(\\varphi) $$\n",
    "\n",
    "4) Solutions take the form\n",
    "$$ P(\\varphi,t) = \\exp\\left(-\\frac{4\\pi^2 V(\\varphi)}{3H^4}\\right) \\sum^{\\infty}_{n=0} a_n \\Phi_n (\\varphi) e^{-\\Lambda_n (t-t_0)} $$"
   ]
  },
  {
   "cell_type": "code",
   "execution_count": 185,
   "metadata": {},
   "outputs": [],
   "source": [
    "import numpy as np\n",
    "from math import factorial\n",
    "from scipy import optimize\n",
    "from scipy.integrate import odeint, simps\n",
    "from scipy.special import eval_hermite\n",
    "import matplotlib.pyplot as plt\n",
    "%matplotlib inline"
   ]
  },
  {
   "cell_type": "markdown",
   "metadata": {},
   "source": [
    "Here we know consider a potential of the form\n",
    "$$V(\\varphi) = \\mu^3 \\varphi + \\frac{1}{2}m^2\\varphi^2 + \\frac{1}{4}\\lambda \\varphi^4. $$\n",
    "Following https://arxiv.org/pdf/2001.04494.pdf, the Schrodinger-like equation can be expressed in terms of dimensionless quantities:\n",
    "$$ \\bar{\\alpha} \\equiv \\frac{-m^2}{\\sqrt{\\lambda}H^2}, \\> \\> \\beta = \\frac{\\mu^3}{\\lambda^{1/4}H^3}.  $$\n",
    "We also have\n",
    "$$ z \\equiv \\frac{\\lambda^{1/4}\\Omega}{H}\\varphi, \\>\\> \\Omega \\equiv 1 + \\sqrt{\\bar{\\alpha}}+\\beta. $$\n",
    "With the above parameters the Schrödinger-like equation takes the form \n",
    "$$\\frac{\\partial \\Phi_n(z)}{\\partial z} \\equiv Y, $$\n",
    "$$\\frac{\\partial Y}{\\partial z} = \\left(4\\pi^2\\frac{\\bar{\\alpha}+\\frac{4\\pi^2}{3}\\beta^2}{3\\Omega^2}-\\frac{32\\pi^4\\bar{\\alpha}\\beta z}{9\\Omega^3}-4\\pi^2\\frac{1-\\frac{4\\pi^2}{9}\\bar{\\alpha}^2}{\\Omega^4}z^2+\\frac{32\\pi^4\\beta z^3}{9\\Omega^5}-\\frac{32\\pi^4\\bar{\\alpha} z^4}{9\\Omega^6} + \\frac{16\\pi^4 z^6}{9\\Omega^8}-\\frac{8\\pi^2(1+\\bar{\\alpha}+\\beta^2)\\tilde{\\Lambda}_n}{\\Omega^2}\\right)\\Phi_n(z).  $$\n",
    "Eigenvalues are rescaled as \n",
    "$$\\tilde{\\Lambda}_n(\\alpha) = \\frac{\\Lambda_n}{\\lambda^{1/2}H(1+\\bar{\\alpha}+\\beta^2)}. $$\n",
    "For now let us set $\\bar{\\alpha}=1$, $\\beta=0$"
   ]
  },
  {
   "cell_type": "code",
   "execution_count": 186,
   "metadata": {},
   "outputs": [],
   "source": [
    "# Setting parameters\n",
    "alpha_bar = 1\n",
    "beta = 0\n",
    "omega = 1 + np.sqrt(alpha_bar) + beta"
   ]
  },
  {
   "cell_type": "markdown",
   "metadata": {},
   "source": [
    "## WKB approximation\n",
    "$$ Q(z) = 4\\pi^2\\frac{\\bar{\\alpha}+\\frac{4\\pi^2}{3}\\beta^2}{3\\Omega^2}-\\frac{32\\pi^4\\bar{\\alpha}\\beta z}{9\\Omega^3}-4\\pi^2\\frac{1-\\frac{4\\pi^2}{9}\\bar{\\alpha}^2}{\\Omega^4}z^2+\\frac{32\\pi^4\\beta z^3}{9\\Omega^5}-\\frac{32\\pi^4\\bar{\\alpha} z^4}{9\\Omega^6} + \\frac{16\\pi^4 z^6}{9\\Omega^8}-\\frac{8\\pi^2(1+\\bar{\\alpha}+\\beta^2)\\tilde{\\Lambda}_n}{\\Omega^2}, $$\n",
    "$$ Q'(z) = -\\frac{32\\pi^4\\bar{\\alpha}\\beta}{9\\Omega^3}-8\\pi^2\\frac{1-\\frac{4\\pi^2}{9}\\bar{\\alpha}^2}{\\Omega^4}z+\\frac{32\\pi^4\\beta z^2}{3\\Omega^5}-\\frac{128\\pi^4\\bar{\\alpha} z^3}{9\\Omega^6} + \\frac{32\\pi^4 z^5}{3\\Omega^8}, $$\n",
    "$$ Q''(z) = -8\\pi^2\\frac{1-\\frac{4\\pi^2}{9}\\bar{\\alpha}^2}{\\Omega^4}+\\frac{64\\pi^4\\beta z}{3\\Omega^5}-\\frac{128\\pi^4\\bar{\\alpha} z^2}{3\\Omega^6} + \\frac{160\\pi^4 z^4}{3\\Omega^8}. $$\n",
    "\n",
    "\n",
    "$$S_0(z) = \\pm \\int^z_{z_0}\\sqrt{Q(x)} dx, $$\n",
    "$$S_1(z) = -\\frac{1}{4}\\left[\\text{ln}Q(x)\\right]^z_{z_0}, $$\n",
    "$$S_2(z) = -\\frac{1}{4}\\frac{Q'(z)}{Q(z)^2} - \\frac{1}{8}\\int^z_{z_0} \\frac{Q''(x)}{Q(x)^3}dx.$$\n",
    "The solution then takes the form \n",
    "$$\\Phi_n(z) \\simeq \\frac{c_1}{Q(z)^{1/4}}\\text{exp}\\left[\\int^z_{z_0} \\sqrt{Q(x)}dx -\\frac{1}{4}\\frac{Q'(z)}{Q(z)^2} - \\frac{1}{8}\\int^z_{z_0} \\frac{Q''(x)}{Q(x)^3}dx\\right] + \\frac{c_2}{Q(z)^{1/4}}\\text{exp}\\left[-\\int^z_{z_0} \\sqrt{Q(x)}dx +\\frac{1}{4}\\frac{Q'(z)}{Q(z)^2} + \\frac{1}{8}\\int^z_{z_0} \\frac{Q''(x)}{Q(x)^3}dx\\right] $$\n",
    "Ignoring second-order terms the derivative is:\n",
    "$$\\Phi'_n(z) \\simeq \\frac{Q'(z)}{4Q(z)^{5/4}}\\left(c_1\\text{exp}\\left[\\int^z_{z_0} \\sqrt{Q(x)}dx \\right] + c_2\\text{exp}\\left[-\\int^z_{z_0} \\sqrt{Q(x)}dx \\right]\\right) + Q(z)^{1/4}\\left(c_1\\text{exp}\\left[\\int^z_{z_0} \\sqrt{Q(x)}dx \\right] - c_2\\text{exp}\\left[-\\int^z_{z_0} \\sqrt{Q(x)}dx \\right]\\right) $$"
   ]
  },
  {
   "cell_type": "code",
   "execution_count": 187,
   "metadata": {},
   "outputs": [],
   "source": [
    "# Eigenvalue\n",
    "eigenvalue = 0\n",
    "\n",
    "# Function for Q defined above\n",
    "def Q_function(z):\n",
    "    '''Evaluates Q(z) defined above\n",
    "    z: array of values for which Q(z) is to be evaluated'''\n",
    "    \n",
    "    # Break up calculation into multiple parts\n",
    "    x_1 = ((alpha_bar + ((4*np.pi**2)/3)*beta**2)/(3*omega**2))*4*np.pi**2 \n",
    "    x_2 = - ((32*np.pi**4)*alpha_bar*beta*z)/(9*omega**3)\n",
    "    x_3 = - (4*np.pi**2)*((1 - (4*(np.pi*alpha_bar)**2)/9)/(omega**4))*z**2\n",
    "    x_4 = ((32*np.pi**4)*beta*z**3)/(9*omega**5) - ((32*np.pi**4)*alpha_bar*z**4)/(9*omega**6)\n",
    "    x_5 = ((16*np.pi**4)*z**6)/(9*omega**8) - ((1 + alpha_bar + beta**2)*eigenvalue*8*np.pi**2)/(omega**2)\n",
    "    \n",
    "    # Computes full function\n",
    "    Q = x_1 + x_2 + x_3 + x_4 + x_5\n",
    "    \n",
    "    return Q"
   ]
  },
  {
   "cell_type": "code",
   "execution_count": 188,
   "metadata": {},
   "outputs": [],
   "source": [
    "# Function for the gradient defined above\n",
    "def Q_function_gradient(z):\n",
    "    '''Evaluates the gradient for Q(z) defined above\n",
    "    z: array of values for which Q(z) is to be evaluated'''\n",
    "    \n",
    "    # Break up calculation into multiple parts\n",
    "    x_1 = - ((32*np.pi**4)*alpha_bar*beta)/(9*omega**3)\n",
    "    x_2 = - (8*np.pi**2)*((1 - (4*(np.pi*alpha_bar)**2)/9)/(omega**4))*z\n",
    "    x_3 = ((32*np.pi**4)*beta*z**2)/(3*omega**5) - ((128*np.pi**4)*alpha_bar*z**3)/(9*omega**6)\n",
    "    x_4 = ((32*np.pi**4)*z**5)/(3*omega**8) \n",
    "    \n",
    "    # Computes full function\n",
    "    Q_gradient = x_1 + x_2 + x_3 + x_4\n",
    "    \n",
    "    return Q_gradient\n",
    "\n",
    "def Q_second_derivative(z):\n",
    "    '''Evaluates the second derivative for Q(z) defined above\n",
    "    z: array of values for which Q(z) is to be evaluated'''\n",
    "    \n",
    "    # Break up calculation into multiple parts\n",
    "    x_1 = - (8*np.pi**2)*((1 - (4*(np.pi*alpha_bar)**2)/9)/(omega**4))\n",
    "    x_2 = ((64*np.pi**4)*beta*z)/(3*omega**5) - ((128*np.pi**4)*alpha_bar*z**2)/(3*omega**6)\n",
    "    x_3 = ((160*np.pi**4)*z**4)/(3*omega**8) \n",
    "    \n",
    "    # Computes full function\n",
    "    Q_second_derivative = x_1 + x_2 + x_3\n",
    "    \n",
    "    return Q_second_derivative"
   ]
  },
  {
   "cell_type": "code",
   "execution_count": 189,
   "metadata": {},
   "outputs": [
    {
     "data": {
      "text/plain": [
       "[<matplotlib.lines.Line2D at 0x151920c160>]"
      ]
     },
     "execution_count": 189,
     "metadata": {},
     "output_type": "execute_result"
    },
    {
     "data": {
      "image/png": "[encoded data removed]",
      "text/plain": [
       "<Figure size 432x288 with 1 Axes>"
      ]
     },
     "metadata": {
      "needs_background": "light"
     },
     "output_type": "display_data"
    }
   ],
   "source": [
    "# Plotting ratio of gradient of Q with Q^2\n",
    "z = np.linspace(-10, 10, 100)\n",
    "Q = Q_function(z)\n",
    "Q_gradient = Q_function_gradient(z)\n",
    "plt.plot(z, abs(Q_gradient/(Q**2)))"
   ]
  },
  {
   "cell_type": "code",
   "execution_count": 190,
   "metadata": {},
   "outputs": [
    {
     "data": {
      "text/plain": [
       "(0, 1)"
      ]
     },
     "execution_count": 190,
     "metadata": {},
     "output_type": "execute_result"
    },
    {
     "data": {
      "image/png": "[encoded data removed]",
      "text/plain": [
       "<Figure size 432x288 with 1 Axes>"
      ]
     },
     "metadata": {
      "needs_background": "light"
     },
     "output_type": "display_data"
    }
   ],
   "source": [
    "# Plotting ratio of gradient of Q with Q^2\n",
    "z = np.linspace(-10, 10, 100)\n",
    "Q = Q_function(z)\n",
    "Q_gradient = Q_function_gradient(z)\n",
    "plt.plot(z, abs(Q_gradient/(Q**2)))\n",
    "plt.ylim(0, 1)"
   ]
  },
  {
   "cell_type": "code",
   "execution_count": 191,
   "metadata": {},
   "outputs": [
    {
     "data": {
      "image/png": "[encoded data removed]",
      "text/plain": [
       "<Figure size 432x288 with 1 Axes>"
      ]
     },
     "metadata": {
      "needs_background": "light"
     },
     "output_type": "display_data"
    }
   ],
   "source": [
    "# Plot Q(z), points where Q(z) = 0 are analogous to classical turning points in quantum mechanics\n",
    "z = np.linspace(-5, 5, 100)\n",
    "Q = Q_function(z)\n",
    "plt.plot(z, Q)\n",
    "plt.ylim(-8, 10)\n",
    "plt.grid()"
   ]
  },
  {
   "cell_type": "code",
   "execution_count": 192,
   "metadata": {},
   "outputs": [],
   "source": [
    "class eigenfunction_finder_WKB:\n",
    "    '''Class for finding the eigenfunction for a the rescaled parameters z and alpha'''\n",
    "    def __init__(self):\n",
    "        '''Initialises the range of rescaled field values for which the field is\n",
    "        to be integrated'''\n",
    "        \n",
    "        # Parameters\n",
    "        self.alpha_bar = 1\n",
    "        self.beta = 0\n",
    "        self.omega = 1 + np.sqrt(self.alpha_bar) + self.beta \n",
    "        self.eigenvalue = 0\n",
    " \n",
    "    def Q_function(self, z):\n",
    "        '''Evaluates Q(z) defined above\n",
    "        z: array of values for which Q(z) is to be evaluated'''\n",
    "    \n",
    "        # Break up calculation into multiple parts\n",
    "        x_1 = ((self.alpha_bar + ((4*np.pi**2)/3)*self.beta**2)/(3*self.omega**2))*4*np.pi**2 \n",
    "        x_2 = - ((32*np.pi**4)*self.alpha_bar*self.beta*z)/(9*self.omega**3)\n",
    "        x_3 = - (4*np.pi**2)*((1 - (4*(np.pi*self.alpha_bar)**2)/9)/(self.omega**4))*z**2\n",
    "        x_4 = ((32*np.pi**4)*self.beta*z**3)/(9*self.omega**5) - ((32*np.pi**4)*self.alpha_bar*z**4)/(9*self.omega**6)\n",
    "        x_5 = ((16*np.pi**4)*z**6)/(9*self.omega**8) - ((1 + self.alpha_bar + self.beta**2)*self.eigenvalue*8*np.pi**2)/(self.omega**2)\n",
    "    \n",
    "        # Computes full function\n",
    "        Q = x_1 + x_2 + x_3 + x_4 + x_5\n",
    "    \n",
    "        return Q\n",
    "\n",
    "    def Q_function_gradient(self, z):\n",
    "        '''Evaluates the gradient for Q(z) defined above\n",
    "        z: array of values for which Q(z) is to be evaluated'''\n",
    "    \n",
    "        # Break up calculation into multiple parts\n",
    "        x_1 = - ((32*np.pi**4)*self.alpha_bar*self.beta)/(9*self.omega**3)\n",
    "        x_2 = - (8*np.pi**2)*((1 - (4*(np.pi*self.alpha_bar)**2)/9)/(self.omega**4))*z\n",
    "        x_3 = ((32*np.pi**4)*self.beta*z**2)/(3*self.omega**5) - ((128*np.pi**4)*self.alpha_bar*z**3)/(9*self.omega**6)\n",
    "        x_4 = ((32*np.pi**4)*z**5)/(3*self.omega**8) \n",
    "    \n",
    "        # Computes full function\n",
    "        Q_gradient = x_1 + x_2 + x_3 + x_4\n",
    "    \n",
    "        return Q_gradient\n",
    "\n",
    "    def WKB_function(self, WKB_lower_limit, WKB_upper_limit):\n",
    "        '''Evaluates WKB approximation of eigenfunction to second-order\n",
    "        upper_limit: upper integration limit\n",
    "        lower_limit: lower integration limit'''\n",
    "    \n",
    "        # Creates array of z values\n",
    "        z = np.linspace(WKB_lower_limit, WKB_upper_limit, 5000)\n",
    "        dz = z[1] - z[0]\n",
    "    \n",
    "        # Q and its derivatives\n",
    "        Q = self.Q_function(z)\n",
    "        Q_gradient = self.Q_function_gradient(z)\n",
    "    \n",
    "    \n",
    "        # Integration for S_0 and S_1\n",
    "        S_0 = simps(np.sqrt(Q), z, dz)\n",
    "    \n",
    "        # Computes WKB wavefunction\n",
    "        WKB_phi = np.exp(-S_0)/(Q[0]**0.25)\n",
    "        WKB_gradient = (Q_gradient[0]/(Q[0]**1.25) - Q[0]**0.25)*np.exp(-S_0)\n",
    "    \n",
    "        # Obtains the initial conditions from the WKB approximation\n",
    "        WKB_initial_conditions = [WKB_phi, WKB_gradient]\n",
    "        self.V = WKB_initial_conditions\n",
    "        \n",
    "        # Sets integration range starting from where we left of the WKB approximation\n",
    "        self.z = np.linspace(WKB_lower_limit, -WKB_lower_limit, 3000)\n",
    "    \n",
    "        return WKB_initial_conditions\n",
    "    \n",
    "    def schrodinger_like_ODE(self, V, z):\n",
    "        '''Computes the derivatives of the Schrodinger-like equation'''\n",
    "        \n",
    "        # Empty array for derivatives\n",
    "        dV = np.zeros(2)\n",
    "        \n",
    "        # Evaluates Q\n",
    "        Q = self.Q_function(z)\n",
    "        \n",
    "        # Computes derivatives\n",
    "        dV[0] = V[1]\n",
    "        dV[1] = V[0]*Q\n",
    "        return dV    \n",
    "\n",
    "    def eigenfunction(self, eigenvalue):\n",
    "        '''Integrates the eigenfunction for the field based on the given\n",
    "        field range and returns the projected solution based on the\n",
    "        eigenvalue'''\n",
    "        \n",
    "        self.eigenvalue = eigenvalue\n",
    "        \n",
    "        # Initial guess range for classical turning point \n",
    "        WKB_upper = -9\n",
    "        WKB_lower = -10\n",
    "        Q_upper = self.Q_function(WKB_upper)\n",
    "        Q_lower = self.Q_function(WKB_lower)\n",
    "        # Ensures sign change in interval\n",
    "        while Q_upper/Q_lower > 0:\n",
    "            # Extends guess interval\n",
    "            WKB_upper += 0.2\n",
    "            Q_upper = self.Q_function(WKB_upper)\n",
    "        \n",
    "        # Computes the turning point\n",
    "        turning_point = optimize.brentq(self.Q_function, WKB_lower, WKB_upper, xtol=tolerance)\n",
    "        \n",
    "        # WKB integration range\n",
    "        WKB_upper = turning_point - 0.1\n",
    "        WKB_lower = WKB_upper - 1\n",
    "        \n",
    "        # Generates WKB initial conditions\n",
    "        self.WKB_function(WKB_lower, WKB_upper)\n",
    "        \n",
    "        # Integrates to find eigenfunction\n",
    "        V = odeint(self.schrodinger_like_ODE, self.V, self.z)\n",
    "        \n",
    "        return V[-1,0]\n",
    "    \n",
    "    def eigenfunction_full(self, eigenvalue):\n",
    "        '''Integrates the eigenfunction for the field based on the given\n",
    "        field range and returns the projected solution based on the\n",
    "        eigenvalue'''\n",
    "        \n",
    "        self.eigenvalue = eigenvalue\n",
    "        \n",
    "        # Integrates to find eigenfunction\n",
    "        V = odeint(self.schrodinger_like_ODE, self.V, self.z)\n",
    "\n",
    "        return V[:,0]"
   ]
  },
  {
   "cell_type": "code",
   "execution_count": 193,
   "metadata": {},
   "outputs": [],
   "source": [
    "# Integration range for WKB approximation\n",
    "WKB_lower_limit = -3.25\n",
    "WKB_upper_limit = -2.38124\n",
    "\n",
    "# Applies WKB approximation to find initial conditions and integrates numerically\n",
    "WKB_solution = eigenfunction_finder_WKB()\n",
    "WKB_solution.WKB_function(WKB_lower_limit, WKB_upper_limit)\n",
    "WKB_phi = WKB_solution.eigenfunction_full(0)\n",
    "z = WKB_solution.z"
   ]
  },
  {
   "cell_type": "code",
   "execution_count": 194,
   "metadata": {},
   "outputs": [
    {
     "data": {
      "text/plain": [
       "[<matplotlib.lines.Line2D at 0x15195c8518>]"
      ]
     },
     "execution_count": 194,
     "metadata": {},
     "output_type": "execute_result"
    },
    {
     "data": {
      "image/png": "[encoded data removed]",
      "text/plain": [
       "<Figure size 432x288 with 1 Axes>"
      ]
     },
     "metadata": {
      "needs_background": "light"
     },
     "output_type": "display_data"
    }
   ],
   "source": [
    "# Plotting\n",
    "plt.plot(z, WKB_phi)"
   ]
  },
  {
   "cell_type": "code",
   "execution_count": 162,
   "metadata": {},
   "outputs": [
    {
     "name": "stdout",
     "output_type": "stream",
     "text": [
      "2.751121019173297e-05\n"
     ]
    }
   ],
   "source": [
    "# Integration range for WKB approximation\n",
    "WKB_lower_limit = -3.7\n",
    "WKB_upper_limit = -2.7\n",
    "\n",
    "# Applies WKB approximation to find initial conditions and integrates numerically\n",
    "WKB_solution = eigenfunction_finder_WKB()\n",
    "WKB_solution.beta = 0.5\n",
    "print(WKB_solution.Q_function(-2.6858235))\n",
    "WKB_solution.WKB_function(WKB_lower_limit, WKB_upper_limit)\n",
    "WKB_phi = WKB_solution.eigenfunction_full(0)\n",
    "z = WKB_solution.z"
   ]
  },
  {
   "cell_type": "code",
   "execution_count": 163,
   "metadata": {},
   "outputs": [
    {
     "data": {
      "text/plain": [
       "(-0.5, 0.5)"
      ]
     },
     "execution_count": 163,
     "metadata": {},
     "output_type": "execute_result"
    },
    {
     "data": {
      "image/png": "[encoded data removed]",
      "text/plain": [
       "<Figure size 432x288 with 1 Axes>"
      ]
     },
     "metadata": {
      "needs_background": "light"
     },
     "output_type": "display_data"
    }
   ],
   "source": [
    "# Plotting\n",
    "plt.plot(z, WKB_phi)\n",
    "plt.ylim(-0.5, 0.5)"
   ]
  },
  {
   "cell_type": "code",
   "execution_count": 164,
   "metadata": {},
   "outputs": [
    {
     "data": {
      "text/plain": [
       "[<matplotlib.lines.Line2D at 0x1517c6cac8>]"
      ]
     },
     "execution_count": 164,
     "metadata": {},
     "output_type": "execute_result"
    },
    {
     "data": {
      "image/png": "[encoded data removed]",
      "text/plain": [
       "<Figure size 432x288 with 1 Axes>"
      ]
     },
     "metadata": {
      "needs_background": "light"
     },
     "output_type": "display_data"
    }
   ],
   "source": [
    "plt.plot(z, WKB_solution.Q_function(z))"
   ]
  },
  {
   "cell_type": "code",
   "execution_count": 195,
   "metadata": {},
   "outputs": [],
   "source": [
    "# Tolerance on eigenvalue\n",
    "tolerance = 1e-6\n",
    "\n",
    "# Eigenvalue guess range\n",
    "upper_eigenvalue = 0.2\n",
    "lower_eigenvalue = 0.01\n",
    "\n",
    "# Applies WKB approximation to find initial conditions and integrates numerically\n",
    "WKB_solution = eigenfunction_finder_WKB()\n",
    "WKB_solution.beta = 0.5\n",
    "scipy_brent_1, results_brent_1 = optimize.brentq(WKB_solution.eigenfunction, lower_eigenvalue, upper_eigenvalue, full_output=True, xtol=tolerance)\n",
    "WKB_1 = WKB_solution.eigenfunction_full(scipy_brent_1)\n",
    "z = WKB_solution.z"
   ]
  },
  {
   "cell_type": "code",
   "execution_count": 196,
   "metadata": {},
   "outputs": [
    {
     "name": "stdout",
     "output_type": "stream",
     "text": [
      "      converged: True\n",
      "           flag: 'converged'\n",
      " function_calls: 10\n",
      "     iterations: 9\n",
      "           root: 0.05972593796230047\n"
     ]
    }
   ],
   "source": [
    "print(results_brent_1)"
   ]
  },
  {
   "cell_type": "code",
   "execution_count": 202,
   "metadata": {},
   "outputs": [
    {
     "data": {
      "text/plain": [
       "(-5000, 5000)"
      ]
     },
     "execution_count": 202,
     "metadata": {},
     "output_type": "execute_result"
    },
    {
     "data": {
      "image/png": "[encoded data removed]",
      "text/plain": [
       "<Figure size 432x288 with 1 Axes>"
      ]
     },
     "metadata": {
      "needs_background": "light"
     },
     "output_type": "display_data"
    }
   ],
   "source": [
    "# Plotting\n",
    "plt.plot(z, WKB_1, \"b\")\n",
    "plt.ylim(-5000, 5000)"
   ]
  },
  {
   "cell_type": "code",
   "execution_count": 168,
   "metadata": {},
   "outputs": [],
   "source": [
    "# Eigenvalue guess range\n",
    "upper_eigenvalue = 0.3\n",
    "lower_eigenvalue = 0.1\n",
    "\n",
    "# Applies WKB approximation to find initial conditions and integrates numerically\n",
    "WKB_solution = eigenfunction_finder_WKB()\n",
    "WKB_solution.beta = 0.5\n",
    "scipy_brent_2, results_brent_2 = optimize.brentq(WKB_solution.eigenfunction, lower_eigenvalue, upper_eigenvalue, full_output=True, xtol=tolerance)\n",
    "WKB_2 = WKB_solution.eigenfunction_full(scipy_brent_2)\n",
    "z = WKB_solution.z"
   ]
  },
  {
   "cell_type": "code",
   "execution_count": 169,
   "metadata": {},
   "outputs": [
    {
     "name": "stdout",
     "output_type": "stream",
     "text": [
      "      converged: True\n",
      "           flag: 'converged'\n",
      " function_calls: 10\n",
      "     iterations: 9\n",
      "           root: 0.20986931489529734\n"
     ]
    }
   ],
   "source": [
    "print(results_brent_2)"
   ]
  },
  {
   "cell_type": "code",
   "execution_count": 170,
   "metadata": {
    "scrolled": true
   },
   "outputs": [
    {
     "data": {
      "text/plain": [
       "(-400, 400)"
      ]
     },
     "execution_count": 170,
     "metadata": {},
     "output_type": "execute_result"
    },
    {
     "data": {
      "image/png": "[encoded data removed]",
      "text/plain": [
       "<Figure size 432x288 with 1 Axes>"
      ]
     },
     "metadata": {
      "needs_background": "light"
     },
     "output_type": "display_data"
    }
   ],
   "source": [
    "# Plotting\n",
    "plt.plot(z, WKB_2, \"b\")\n",
    "plt.ylim(-400, 400)"
   ]
  },
  {
   "cell_type": "code",
   "execution_count": 171,
   "metadata": {},
   "outputs": [],
   "source": [
    "# Eigenvalue guess range\n",
    "upper_eigenvalue = 0.4\n",
    "lower_eigenvalue = 0.21\n",
    "\n",
    "# Applies WKB approximation to find initial conditions and integrates numerically\n",
    "WKB_solution = eigenfunction_finder_WKB()\n",
    "WKB_solution.beta = 0.5\n",
    "scipy_brent_3, results_brent_3 = optimize.brentq(WKB_solution.eigenfunction, lower_eigenvalue, upper_eigenvalue, full_output=True, xtol=tolerance)\n",
    "WKB_3 = WKB_solution.eigenfunction_full(scipy_brent_3)\n",
    "z = WKB_solution.z"
   ]
  },
  {
   "cell_type": "code",
   "execution_count": 172,
   "metadata": {},
   "outputs": [
    {
     "name": "stdout",
     "output_type": "stream",
     "text": [
      "      converged: True\n",
      "           flag: 'converged'\n",
      " function_calls: 11\n",
      "     iterations: 10\n",
      "           root: 0.373229248595327\n"
     ]
    }
   ],
   "source": [
    "print(results_brent_3)"
   ]
  },
  {
   "cell_type": "code",
   "execution_count": 173,
   "metadata": {
    "scrolled": true
   },
   "outputs": [
    {
     "data": {
      "text/plain": [
       "(-20, 20)"
      ]
     },
     "execution_count": 173,
     "metadata": {},
     "output_type": "execute_result"
    },
    {
     "data": {
      "image/png": "[encoded data removed]",
      "text/plain": [
       "<Figure size 432x288 with 1 Axes>"
      ]
     },
     "metadata": {
      "needs_background": "light"
     },
     "output_type": "display_data"
    }
   ],
   "source": [
    "# Plotting\n",
    "plt.plot(z, WKB_3, \"b\")\n",
    "plt.ylim(-20, 20)"
   ]
  },
  {
   "cell_type": "code",
   "execution_count": 174,
   "metadata": {},
   "outputs": [],
   "source": [
    "# Eigenvalue guess range\n",
    "upper_eigenvalue = 0.5\n",
    "lower_eigenvalue = 0.38\n",
    "\n",
    "# Applies WKB approximation to find initial conditions and integrates numerically\n",
    "WKB_solution = eigenfunction_finder_WKB()\n",
    "WKB_solution.beta = 0.5\n",
    "scipy_brent_4, results_brent_4 = optimize.brentq(WKB_solution.eigenfunction, lower_eigenvalue, upper_eigenvalue, full_output=True, xtol=tolerance)\n",
    "WKB_4 = WKB_solution.eigenfunction_full(scipy_brent_4)\n",
    "z = WKB_solution.z"
   ]
  },
  {
   "cell_type": "code",
   "execution_count": 175,
   "metadata": {},
   "outputs": [
    {
     "name": "stdout",
     "output_type": "stream",
     "text": [
      "      converged: True\n",
      "           flag: 'converged'\n",
      " function_calls: 8\n",
      "     iterations: 7\n",
      "           root: 0.44236946536356353\n"
     ]
    }
   ],
   "source": [
    "print(results_brent_4)"
   ]
  },
  {
   "cell_type": "code",
   "execution_count": 176,
   "metadata": {},
   "outputs": [
    {
     "data": {
      "text/plain": [
       "(-0.1, 0.1)"
      ]
     },
     "execution_count": 176,
     "metadata": {},
     "output_type": "execute_result"
    },
    {
     "data": {
      "image/png": "[encoded data removed]",
      "text/plain": [
       "<Figure size 432x288 with 1 Axes>"
      ]
     },
     "metadata": {
      "needs_background": "light"
     },
     "output_type": "display_data"
    }
   ],
   "source": [
    "# Plotting\n",
    "plt.plot(z, WKB_4, \"b\")\n",
    "plt.ylim(-0.1, 0.1)"
   ]
  },
  {
   "cell_type": "code",
   "execution_count": 177,
   "metadata": {},
   "outputs": [],
   "source": [
    "for i in range(len(z)):\n",
    "    if i > 1500:\n",
    "        WKB_phi[i] = 0\n",
    "    if i > 2645:\n",
    "        WKB_1[i] = 0\n",
    "        WKB_2[i] = 0\n",
    "        WKB_3[i] = 0\n",
    "    if i > 2500:    \n",
    "        WKB_4[i] = 0"
   ]
  },
  {
   "cell_type": "code",
   "execution_count": 178,
   "metadata": {},
   "outputs": [],
   "source": [
    "# Integration interval\n",
    "dz = z[1] - z[0]\n",
    "\n",
    "# Normalisation n = 0\n",
    "N_brent_0 = np.sqrt(simps(WKB_phi**2, z, dz))\n",
    "WKB_phi = WKB_phi/N_brent_0\n",
    "\n",
    "# Normalisation n = 1\n",
    "N_brent_1 = np.sqrt(simps(WKB_1**2, z, dz))\n",
    "WKB_1 = WKB_1/N_brent_1\n",
    "\n",
    "# Normalisation n = 2\n",
    "N_brent_2 = np.sqrt(simps(WKB_2**2, z, dz))\n",
    "WKB_2 = WKB_2/N_brent_2\n",
    "\n",
    "# Normalisation n = 3\n",
    "N_brent_3 = np.sqrt(simps(WKB_3**2, z, dz))\n",
    "WKB_3 = WKB_3/N_brent_3\n",
    "\n",
    "# Normalisation n = 4\n",
    "N_brent_4 = np.sqrt(simps(WKB_4**2, z, dz))\n",
    "WKB_4 = WKB_4/N_brent_4"
   ]
  },
  {
   "cell_type": "code",
   "execution_count": 184,
   "metadata": {},
   "outputs": [
    {
     "data": {
      "image/png": "[encoded data removed]",
      "text/plain": [
       "<Figure size 1152x432 with 5 Axes>"
      ]
     },
     "metadata": {
      "needs_background": "light"
     },
     "output_type": "display_data"
    }
   ],
   "source": [
    "# Plotting error\n",
    "fig = plt.figure(figsize=(16, 6))\n",
    "\n",
    "# n = 0 eigenfunction\n",
    "ax0 = fig.add_subplot(2,3,1)\n",
    "ax0.set_xlim(-4, 4)\n",
    "ax0.set_ylim(-1.5, 1.5)\n",
    "ax0.plot(z, -WKB_phi, \"b\", label=\"$n=0$\")\n",
    "ax0.legend()\n",
    "\n",
    "# n = 1 eigenfunction\n",
    "ax1 = fig.add_subplot(2,3,2)\n",
    "ax1.set_xlim(-4, 4)\n",
    "ax1.set_ylim(-1.5, 1.5)\n",
    "ax1.plot(z, -WKB_1, \"b\", label=\"$n=1$\")\n",
    "ax1.legend()\n",
    "\n",
    "# n = 2 eigenfunction\n",
    "ax2 = fig.add_subplot(2,3,3)\n",
    "ax2.set_xlim(-4, 4)\n",
    "ax2.set_ylim(-1.5, 1.5)\n",
    "ax2.plot(z, WKB_2, \"b\", label=\"$n=2$\")\n",
    "ax2.legend()\n",
    "\n",
    "# n = 3 eigenfunction\n",
    "ax3 = fig.add_subplot(2,3,4)\n",
    "ax3.set_xlim(-4, 4)\n",
    "ax3.set_ylim(-1.5, 1.5)\n",
    "ax3.plot(z, WKB_3, \"b\", label=\"$n=3$\")\n",
    "ax3.legend()\n",
    "\n",
    "# n = 4 eigenfunction\n",
    "ax4 = fig.add_subplot(2,3,5)\n",
    "ax4.set_xlim(-4, 4)\n",
    "ax4.set_ylim(-1.5, 1.5)\n",
    "ax4.plot(z, -WKB_4, \"b\", label=\"$n=4$\")\n",
    "ax4.legend()\n",
    "plt.savefig(\"asymmetric eigenfunctions.pdf\")"
   ]
  },
  {
   "cell_type": "code",
   "execution_count": 26,
   "metadata": {},
   "outputs": [
    {
     "ename": "ValueError",
     "evalue": "f(a) and f(b) must have different signs",
     "output_type": "error",
     "traceback": [
      "\u001b[0;31m---------------------------------------------------------------------------\u001b[0m",
      "\u001b[0;31mValueError\u001b[0m                                Traceback (most recent call last)",
      "\u001b[0;32m<ipython-input-26-d33de68d6cfd>\u001b[0m in \u001b[0;36m<module>\u001b[0;34m\u001b[0m\n\u001b[1;32m     28\u001b[0m                 \u001b[0;32mbreak\u001b[0m\u001b[0;34m\u001b[0m\u001b[0;34m\u001b[0m\u001b[0m\n\u001b[1;32m     29\u001b[0m      \u001b[0;31m# Applies WKB and root finding algorithm\u001b[0m\u001b[0;34m\u001b[0m\u001b[0;34m\u001b[0m\u001b[0;34m\u001b[0m\u001b[0m\n\u001b[0;32m---> 30\u001b[0;31m     \u001b[0mscipy_brent_1\u001b[0m\u001b[0;34m,\u001b[0m \u001b[0mresults_brent_1\u001b[0m \u001b[0;34m=\u001b[0m \u001b[0moptimize\u001b[0m\u001b[0;34m.\u001b[0m\u001b[0mbrentq\u001b[0m\u001b[0;34m(\u001b[0m\u001b[0mWKB_solution\u001b[0m\u001b[0;34m.\u001b[0m\u001b[0meigenfunction\u001b[0m\u001b[0;34m,\u001b[0m \u001b[0mlower_eigenvalue\u001b[0m\u001b[0;34m,\u001b[0m \u001b[0mupper_eigenvalue\u001b[0m\u001b[0;34m,\u001b[0m \u001b[0mfull_output\u001b[0m\u001b[0;34m=\u001b[0m\u001b[0;32mTrue\u001b[0m\u001b[0;34m,\u001b[0m \u001b[0mxtol\u001b[0m\u001b[0;34m=\u001b[0m\u001b[0mtolerance\u001b[0m\u001b[0;34m)\u001b[0m\u001b[0;34m\u001b[0m\u001b[0;34m\u001b[0m\u001b[0m\n\u001b[0m\u001b[1;32m     31\u001b[0m     \u001b[0meigenvalues_1\u001b[0m\u001b[0;34m[\u001b[0m\u001b[0mi\u001b[0m\u001b[0;34m]\u001b[0m \u001b[0;34m=\u001b[0m \u001b[0mscipy_brent_1\u001b[0m\u001b[0;34m\u001b[0m\u001b[0;34m\u001b[0m\u001b[0m\n",
      "\u001b[0;32m//anaconda3/lib/python3.7/site-packages/scipy/optimize/zeros.py\u001b[0m in \u001b[0;36mbrentq\u001b[0;34m(f, a, b, args, xtol, rtol, maxiter, full_output, disp)\u001b[0m\n\u001b[1;32m    773\u001b[0m     \u001b[0;32mif\u001b[0m \u001b[0mrtol\u001b[0m \u001b[0;34m<\u001b[0m \u001b[0m_rtol\u001b[0m\u001b[0;34m:\u001b[0m\u001b[0;34m\u001b[0m\u001b[0;34m\u001b[0m\u001b[0m\n\u001b[1;32m    774\u001b[0m         \u001b[0;32mraise\u001b[0m \u001b[0mValueError\u001b[0m\u001b[0;34m(\u001b[0m\u001b[0;34m\"rtol too small (%g < %g)\"\u001b[0m \u001b[0;34m%\u001b[0m \u001b[0;34m(\u001b[0m\u001b[0mrtol\u001b[0m\u001b[0;34m,\u001b[0m \u001b[0m_rtol\u001b[0m\u001b[0;34m)\u001b[0m\u001b[0;34m)\u001b[0m\u001b[0;34m\u001b[0m\u001b[0;34m\u001b[0m\u001b[0m\n\u001b[0;32m--> 775\u001b[0;31m     \u001b[0mr\u001b[0m \u001b[0;34m=\u001b[0m \u001b[0m_zeros\u001b[0m\u001b[0;34m.\u001b[0m\u001b[0m_brentq\u001b[0m\u001b[0;34m(\u001b[0m\u001b[0mf\u001b[0m\u001b[0;34m,\u001b[0m \u001b[0ma\u001b[0m\u001b[0;34m,\u001b[0m \u001b[0mb\u001b[0m\u001b[0;34m,\u001b[0m \u001b[0mxtol\u001b[0m\u001b[0;34m,\u001b[0m \u001b[0mrtol\u001b[0m\u001b[0;34m,\u001b[0m \u001b[0mmaxiter\u001b[0m\u001b[0;34m,\u001b[0m \u001b[0margs\u001b[0m\u001b[0;34m,\u001b[0m \u001b[0mfull_output\u001b[0m\u001b[0;34m,\u001b[0m \u001b[0mdisp\u001b[0m\u001b[0;34m)\u001b[0m\u001b[0;34m\u001b[0m\u001b[0;34m\u001b[0m\u001b[0m\n\u001b[0m\u001b[1;32m    776\u001b[0m     \u001b[0;32mreturn\u001b[0m \u001b[0mresults_c\u001b[0m\u001b[0;34m(\u001b[0m\u001b[0mfull_output\u001b[0m\u001b[0;34m,\u001b[0m \u001b[0mr\u001b[0m\u001b[0;34m)\u001b[0m\u001b[0;34m\u001b[0m\u001b[0;34m\u001b[0m\u001b[0m\n\u001b[1;32m    777\u001b[0m \u001b[0;34m\u001b[0m\u001b[0m\n",
      "\u001b[0;31mValueError\u001b[0m: f(a) and f(b) must have different signs"
     ]
    }
   ],
   "source": [
    "# Alpha bar values\n",
    "alpha_bar = np.logspace(-2, 0.3, 1000)\n",
    "\n",
    "# Initial eigenvalue guess range\n",
    "upper_eigenvalue = 0.41\n",
    "lower_eigenvalue = 0.38\n",
    "\n",
    "# Array for eigenvalues\n",
    "eigenvalues_1 = np.zeros(len(alpha_bar))\n",
    "\n",
    "# Loops over all values of alpha bar\n",
    "for i in range(len(alpha_bar)):\n",
    "    # Applies WKB approximation to find initial conditions and integrates numerically\n",
    "    WKB_solution = eigenfunction_finder_WKB()\n",
    "    WKB_solution.alpha_bar = alpha_bar[i]\n",
    "    WKB_solution.beta = 0.5\n",
    "    # If we already have the first eigenvalue set guess range around that value\n",
    "    if i >= 1:\n",
    "        upper_eigenvalue = scipy_brent_1 + 0.005\n",
    "        lower_eigenvalue = scipy_brent_1 - 0.005\n",
    "        V_upper = WKB_solution.eigenfunction(upper_eigenvalue)\n",
    "        V_lower = WKB_solution.eigenfunction(lower_eigenvalue)   \n",
    "        # Checks for sign change in interval\n",
    "        while V_upper/V_lower > 0:\n",
    "            lower_eigenvalue += 0.0002\n",
    "            V_lower = WKB_solution.eigenfunction(lower_eigenvalue)\n",
    "            if upper_eigenvalue <= lower_eigenvalue:\n",
    "                break\n",
    "     # Applies WKB and root finding algorithm  \n",
    "    scipy_brent_1, results_brent_1 = optimize.brentq(WKB_solution.eigenfunction, lower_eigenvalue, upper_eigenvalue, full_output=True, xtol=tolerance)\n",
    "    eigenvalues_1[i] = scipy_brent_1"
   ]
  },
  {
   "cell_type": "code",
   "execution_count": 27,
   "metadata": {},
   "outputs": [],
   "source": [
    "# Alpha bar values\n",
    "alpha_bar = np.logspace(-2, 0.3, 1000)\n",
    "\n",
    "# Initial eigenvalue guess range\n",
    "upper_eigenvalue = 0.6\n",
    "lower_eigenvalue = 0.5\n",
    "\n",
    "# Array for eigenvalues\n",
    "eigenvalues_2 = np.zeros(len(alpha_bar))\n",
    "\n",
    "# Loops over all values of alpha bar\n",
    "for i in range(len(alpha_bar)):\n",
    "    # If we already have the first eigenvalue set guess range around that value\n",
    "    if i >= 1:\n",
    "        upper_eigenvalue = scipy_brent_2 + 0.005\n",
    "        lower_eigenvalue = scipy_brent_2 - 0.005\n",
    "    # Applies WKB approximation to find initial conditions and integrates numerically\n",
    "    WKB_solution = eigenfunction_finder_WKB()\n",
    "    WKB_solution.alpha_bar = alpha_bar[i]\n",
    "    WKB_solution.beta = 0.5\n",
    "    scipy_brent_2, results_brent_2 = optimize.brentq(WKB_solution.eigenfunction, lower_eigenvalue, upper_eigenvalue, full_output=True, xtol=tolerance)\n",
    "    eigenvalues_2[i] = scipy_brent_2"
   ]
  },
  {
   "cell_type": "code",
   "execution_count": 28,
   "metadata": {},
   "outputs": [],
   "source": [
    "# Alpha bar values\n",
    "alpha_bar = np.logspace(-2, 0.3, 1000)\n",
    "\n",
    "# Initial eigenvalue guess range\n",
    "upper_eigenvalue = 0.8\n",
    "lower_eigenvalue = 0.6\n",
    "\n",
    "# Array for eigenvalues\n",
    "eigenvalues_3 = np.zeros(len(alpha_bar))\n",
    "\n",
    "# Loops over all values of alpha bar\n",
    "for i in range(len(alpha_bar)):\n",
    "    # Applies WKB approximation to find initial conditions and integrates numerically\n",
    "    WKB_solution = eigenfunction_finder_WKB()\n",
    "    WKB_solution.alpha_bar = alpha_bar[i]\n",
    "    WKB_solution.beta = 0.5\n",
    "    # If we already have the first eigenvalue set guess range around that value\n",
    "    if i >= 1:\n",
    "        upper_eigenvalue = scipy_brent_3 + 0.005\n",
    "        lower_eigenvalue = scipy_brent_3 - 0.005\n",
    "        V_upper = WKB_solution.eigenfunction(upper_eigenvalue)\n",
    "        V_lower = WKB_solution.eigenfunction(lower_eigenvalue)   \n",
    "        # Checks for sign change in interval\n",
    "        while V_upper/V_lower > 0:\n",
    "            upper_eigenvalue -= 0.0002\n",
    "            V_upper = WKB_solution.eigenfunction(upper_eigenvalue)\n",
    "            if upper_eigenvalue <= lower_eigenvalue:\n",
    "                break\n",
    "     # Applies WKB and root finding algorithm       \n",
    "    scipy_brent_3, results_brent_3 = optimize.brentq(WKB_solution.eigenfunction, lower_eigenvalue, upper_eigenvalue, full_output=True, xtol=tolerance)\n",
    "    eigenvalues_3[i] = scipy_brent_3   "
   ]
  },
  {
   "cell_type": "code",
   "execution_count": 29,
   "metadata": {
    "scrolled": true
   },
   "outputs": [],
   "source": [
    "# Alpha bar values\n",
    "alpha_bar = np.logspace(-2, 0.3, 1000)\n",
    "\n",
    "# Initial eigenvalue guess range\n",
    "upper_eigenvalue = 1\n",
    "lower_eigenvalue = 0.8\n",
    "\n",
    "# Array for eigenvalues\n",
    "eigenvalues_4 = np.zeros(len(alpha_bar))\n",
    "\n",
    "# Loops over all values of alpha bar\n",
    "for i in range(len(alpha_bar)):\n",
    "    # Applies WKB approximation to find initial conditions and integrates numerically\n",
    "    WKB_solution = eigenfunction_finder_WKB()\n",
    "    WKB_solution.alpha_bar = alpha_bar[i]\n",
    "    WKB_solution.beta = 0.5\n",
    "    # If we already have the first eigenvalue set guess range around that value\n",
    "    if i >= 1:\n",
    "        upper_eigenvalue = scipy_brent_4 + 0.005\n",
    "        lower_eigenvalue = scipy_brent_4 - 0.005\n",
    "        V_upper = WKB_solution.eigenfunction(upper_eigenvalue)\n",
    "        V_lower = WKB_solution.eigenfunction(lower_eigenvalue)\n",
    "        # Checks for sign change in interval\n",
    "        while V_upper/V_lower > 0:\n",
    "            if scipy_brent_4 < 0.44:\n",
    "                lower_eigenvalue += 0.0002\n",
    "                V_lower = WKB_solution.eigenfunction(lower_eigenvalue)\n",
    "                if upper_eigenvalue <= lower_eigenvalue:\n",
    "                    break\n",
    "            else:\n",
    "                upper_eigenvalue -= 0.0002\n",
    "                V_upper = WKB_solution.eigenfunction(upper_eigenvalue)\n",
    "                if upper_eigenvalue <= lower_eigenvalue:\n",
    "                    break                \n",
    "     # Applies WKB and root finding algorithm\n",
    "    scipy_brent_4, results_brent_4 = optimize.brentq(WKB_solution.eigenfunction, lower_eigenvalue, upper_eigenvalue, full_output=True, xtol=tolerance)\n",
    "    eigenvalues_4[i] = scipy_brent_4  "
   ]
  },
  {
   "cell_type": "code",
   "execution_count": 30,
   "metadata": {},
   "outputs": [
    {
     "data": {
      "text/plain": [
       "array([0.95211122, 0.95204631, 0.95198103, 0.9519154 , 0.95184944,\n",
       "       0.95178313, 0.95171647, 0.95164947, 0.95158212, 0.95151442,\n",
       "       0.95144635, 0.95137794, 0.95130918, 0.95124006, 0.95117057,\n",
       "       0.95110073, 0.95103053, 0.95095995, 0.95088902, 0.95081771,\n",
       "       0.95074603, 0.95067398, 0.95060156, 0.95052876, 0.95045558,\n",
       "       0.95038202, 0.95030808, 0.95023375, 0.95015904, 0.95008394,\n",
       "       0.95000846, 0.94993257, 0.9498563 , 0.94977964, 0.94970257,\n",
       "       0.9496251 , 0.94954723, 0.94946896, 0.94939028, 0.94931119,\n",
       "       0.94923168, 0.94915177, 0.94907146, 0.94899072, 0.94890956,\n",
       "       0.94882798, 0.94874598, 0.94866355, 0.9485807 , 0.94849742,\n",
       "       0.9484137 , 0.94832956, 0.94824497, 0.94815995, 0.94807449,\n",
       "       0.94798859, 0.94790224, 0.94781545, 0.9477282 , 0.94764051,\n",
       "       0.94755236, 0.94746376, 0.9473747 , 0.94728518, 0.9471952 ,\n",
       "       0.94710475, 0.94701384, 0.94692246, 0.9468306 , 0.94673827,\n",
       "       0.94664546, 0.94655217, 0.94645841, 0.94636416, 0.94626942,\n",
       "       0.9461742 , 0.94607848, 0.94598227, 0.94588556, 0.94578836,\n",
       "       0.94569065, 0.94559244, 0.94549373, 0.9453945 , 0.94529477,\n",
       "       0.94519452, 0.94509375, 0.94499247, 0.94489067, 0.94478833,\n",
       "       0.94468548, 0.94458211, 0.94447819, 0.94437373, 0.94426874,\n",
       "       0.94416321, 0.94405714, 0.94395053, 0.94384337, 0.94373565,\n",
       "       0.94362739, 0.94351856, 0.94340918, 0.94329924, 0.94318874,\n",
       "       0.94307765, 0.94296601, 0.94285379, 0.942741  , 0.94262763,\n",
       "       0.94251368, 0.94239914, 0.94228402, 0.94216831, 0.94205201,\n",
       "       0.94193511, 0.94181761, 0.94169947, 0.94158082, 0.94146151,\n",
       "       0.94134159, 0.94122105, 0.94109991, 0.94097814, 0.94085575,\n",
       "       0.94073274, 0.94060908, 0.94048481, 0.94035988, 0.94023433,\n",
       "       0.94010816, 0.93998132, 0.93985384, 0.93972571, 0.93959692,\n",
       "       0.93946748, 0.93933737, 0.93920661, 0.93907518, 0.93894307,\n",
       "       0.9388103 , 0.93867685, 0.93854272, 0.9384079 , 0.93827241,\n",
       "       0.93813622, 0.93799934, 0.93786176, 0.93772348, 0.9375845 ,\n",
       "       0.93744482, 0.93730442, 0.93716332, 0.93702149, 0.93687895,\n",
       "       0.93673568, 0.93659169, 0.93644696, 0.9363015 , 0.93615531,\n",
       "       0.93600837, 0.93586069, 0.93571226, 0.93556308, 0.93541314,\n",
       "       0.93526245, 0.93511099, 0.93495877, 0.93480577, 0.934652  ,\n",
       "       0.93449746, 0.93434213, 0.93418602, 0.93402912, 0.93387142,\n",
       "       0.93371293, 0.93355364, 0.93339355, 0.93323265, 0.93307094,\n",
       "       0.93290842, 0.93274509, 0.93258092, 0.93241593, 0.93225011,\n",
       "       0.93208345, 0.93191595, 0.93174761, 0.93157842, 0.93140839,\n",
       "       0.9312375 , 0.93106575, 0.93089314, 0.93071966, 0.93054531,\n",
       "       0.93037009, 0.93019399, 0.930017  , 0.92983912, 0.92966036,\n",
       "       0.9294807 , 0.92930014, 0.92911865, 0.92893628, 0.928753  ,\n",
       "       0.9285688 , 0.92838367, 0.92819763, 0.92801065, 0.92782274,\n",
       "       0.92763389, 0.9274441 , 0.92725336, 0.92706167, 0.92686904,\n",
       "       0.92667542, 0.92648085, 0.92628531, 0.92608881, 0.92589132,\n",
       "       0.92569285, 0.92549339, 0.92529294, 0.92509149, 0.92488904,\n",
       "       0.92468558, 0.92448111, 0.92427564, 0.92406915, 0.92386163,\n",
       "       0.92365308, 0.92344349, 0.92323287, 0.9230212 , 0.92280849,\n",
       "       0.92259472, 0.92237989, 0.92216401, 0.92194706, 0.92172904,\n",
       "       0.92150994, 0.92128976, 0.9210685 , 0.92084615, 0.9206227 ,\n",
       "       0.92039813, 0.92017247, 0.9199457 , 0.91971782, 0.91948881,\n",
       "       0.91925868, 0.91902742, 0.91879503, 0.91856149, 0.91832679,\n",
       "       0.918091  , 0.91785401, 0.91761586, 0.91737653, 0.91713604,\n",
       "       0.91689432, 0.91665154, 0.91640743, 0.9161622 , 0.91591582,\n",
       "       0.91566818, 0.91541931, 0.91516926, 0.91491797, 0.91466547,\n",
       "       0.91441178, 0.9141568 , 0.9139006 , 0.91364314, 0.9133844 ,\n",
       "       0.9131244 , 0.91286325, 0.91260074, 0.91233698, 0.91207195,\n",
       "       0.91180557, 0.91153796, 0.91126912, 0.91099889, 0.91072737,\n",
       "       0.91045453, 0.91018039, 0.90990489, 0.9096281 , 0.90934991,\n",
       "       0.90907041, 0.90878958, 0.9085074 , 0.90822386, 0.90793895,\n",
       "       0.90765268, 0.90736503, 0.907076  , 0.90678558, 0.90649377,\n",
       "       0.90620056, 0.90590594, 0.90560992, 0.90531248, 0.90501361,\n",
       "       0.90471332, 0.9044116 , 0.90410843, 0.90380382, 0.90349776,\n",
       "       0.90319024, 0.90288125, 0.90257078, 0.90225885, 0.90194543,\n",
       "       0.90163053, 0.90131413, 0.90099622, 0.90067681, 0.90035589,\n",
       "       0.90003345, 0.89970949, 0.89938399, 0.89905696, 0.89872838,\n",
       "       0.89839824, 0.89806655, 0.8977333 , 0.89739848, 0.89706209,\n",
       "       0.89672421, 0.89638464, 0.89604348, 0.89570072, 0.89535636,\n",
       "       0.89501038, 0.89466278, 0.89431355, 0.89396269, 0.89361019,\n",
       "       0.89325604, 0.8929002 , 0.89254279, 0.89218367, 0.89182288,\n",
       "       0.89146041, 0.89109626, 0.8907304 , 0.89036287, 0.88999363,\n",
       "       0.88962268, 0.88925001, 0.88887561, 0.88849949, 0.88812164,\n",
       "       0.88774202, 0.88736064, 0.88697756, 0.88659268, 0.88620604,\n",
       "       0.88581763, 0.88542743, 0.88503544, 0.88464165, 0.88424607,\n",
       "       0.88384867, 0.88344946, 0.88304842, 0.8826455 , 0.88224077,\n",
       "       0.88183429, 0.88142589, 0.88101565, 0.88060353, 0.88018956,\n",
       "       0.8797737 , 0.87935596, 0.87893633, 0.8785148 , 0.87809138,\n",
       "       0.87766604, 0.87723878, 0.8768096 , 0.8763785 , 0.87594548,\n",
       "       0.8755105 , 0.87507354, 0.87463467, 0.87419381, 0.87375098,\n",
       "       0.87330615, 0.87285935, 0.87241057, 0.8719598 , 0.87150702,\n",
       "       0.87105225, 0.87059544, 0.87013661, 0.86967574, 0.86921284,\n",
       "       0.8687479 , 0.8682809 , 0.86781182, 0.8673407 , 0.86686751,\n",
       "       0.86639224, 0.86591489, 0.86543545, 0.86495372, 0.86447007,\n",
       "       0.86398431, 0.86349643, 0.86300642, 0.86251428, 0.86201997,\n",
       "       0.86152357, 0.861025  , 0.86052426, 0.86002142, 0.85951638,\n",
       "       0.85900911, 0.85849969, 0.85798832, 0.85747453, 0.85695852,\n",
       "       0.85644006, 0.85591968, 0.85539702, 0.85487216, 0.85434511,\n",
       "       0.85381583, 0.85328422, 0.85275037, 0.85221424, 0.8516759 ,\n",
       "       0.85113525, 0.85059233, 0.85004714, 0.84949979, 0.84894967,\n",
       "       0.84839757, 0.84784329, 0.84728672, 0.84672767, 0.84616623,\n",
       "       0.84560252, 0.84503623, 0.84446785, 0.84389716, 0.84332404,\n",
       "       0.8427487 , 0.84217097, 0.84159074, 0.84100792, 0.84042294,\n",
       "       0.83983557, 0.8392458 , 0.83865383, 0.8380592 , 0.83746196,\n",
       "       0.83686249, 0.83626065, 0.83565638, 0.83504967, 0.83444052,\n",
       "       0.83382893, 0.83321487, 0.83259837, 0.83197943, 0.831358  ,\n",
       "       0.8307341 , 0.83010773, 0.82947887, 0.82884751, 0.82821369,\n",
       "       0.82757737, 0.8269386 , 0.82629726, 0.82565345, 0.82500711,\n",
       "       0.82435827, 0.82370688, 0.82305301, 0.82239677, 0.82173776,\n",
       "       0.82107625, 0.82041219, 0.81974558, 0.81907647, 0.81840477,\n",
       "       0.81773054, 0.81705378, 0.81637445, 0.81569246, 0.81500797,\n",
       "       0.81432089, 0.81363122, 0.812939  , 0.81224413, 0.81154673,\n",
       "       0.81084676, 0.81014419, 0.80943902, 0.80873099, 0.80802062,\n",
       "       0.80730765, 0.80659209, 0.80587391, 0.80515313, 0.80442975,\n",
       "       0.80370375, 0.80297531, 0.80224409, 0.80151026, 0.80077381,\n",
       "       0.80003475, 0.79929307, 0.79854878, 0.79780186, 0.79705233,\n",
       "       0.79630017, 0.7955454 , 0.79478801, 0.794028  , 0.79326537,\n",
       "       0.79250012, 0.79173225, 0.79096177, 0.79018867, 0.78941295,\n",
       "       0.78863462, 0.78785367, 0.78707011, 0.78628394, 0.78549516,\n",
       "       0.78470377, 0.78390978, 0.78311318, 0.78231399, 0.78151219,\n",
       "       0.78070781, 0.77990063, 0.77909106, 0.7782789 , 0.77746417,\n",
       "       0.77664685, 0.77582696, 0.77500451, 0.77417949, 0.77335196,\n",
       "       0.77252185, 0.77168914, 0.77085391, 0.77001613, 0.76917582,\n",
       "       0.76833311, 0.76748773, 0.76663991, 0.7657895 , 0.76493662,\n",
       "       0.76408124, 0.76322338, 0.76236316, 0.76150035, 0.76063509,\n",
       "       0.75976736, 0.75889674, 0.75802413, 0.75714906, 0.75627163,\n",
       "       0.75539198, 0.75450973, 0.75362508, 0.75273811, 0.75184868,\n",
       "       0.75095698, 0.7500629 , 0.74916653, 0.74826783, 0.74736685,\n",
       "       0.74646352, 0.74555795, 0.74465016, 0.74374007, 0.74282776,\n",
       "       0.74191325, 0.74099653, 0.7400776 , 0.73915652, 0.7382333 ,\n",
       "       0.73730792, 0.73638046, 0.73545087, 0.73451921, 0.73358547,\n",
       "       0.73264972, 0.73171192, 0.7307721 , 0.72983031, 0.72888654,\n",
       "       0.72794085, 0.72699328, 0.72604381, 0.72509247, 0.72413926,\n",
       "       0.72318434, 0.72222747, 0.72126884, 0.7203085 , 0.71934626,\n",
       "       0.71838244, 0.71741691, 0.71644975, 0.71548101, 0.71451059,\n",
       "       0.71353868, 0.71256505, 0.71159009, 0.71061362, 0.70963566,\n",
       "       0.70865644, 0.7076757 , 0.70669363, 0.70571025, 0.70472549,\n",
       "       0.70373959, 0.70275237, 0.70176402, 0.70077449, 0.69978385,\n",
       "       0.69879217, 0.69779942, 0.69680565, 0.69581086, 0.69481516,\n",
       "       0.69381836, 0.69282091, 0.6918227 , 0.6908237 , 0.68982391,\n",
       "       0.68882341, 0.68782224, 0.68682045, 0.68581809, 0.68481521,\n",
       "       0.6838118 , 0.68280796, 0.68180372, 0.6807991 , 0.67979415,\n",
       "       0.67878892, 0.67778345, 0.67677781, 0.67577202, 0.67476611,\n",
       "       0.67376013, 0.67275415, 0.67174819, 0.67074233, 0.66973655,\n",
       "       0.66873097, 0.66772558, 0.66672045, 0.66571561, 0.66471113,\n",
       "       0.66370702, 0.66270333, 0.6617001 , 0.66069739, 0.65969525,\n",
       "       0.6586937 , 0.65769279, 0.65669255, 0.65569304, 0.65469426,\n",
       "       0.65369631, 0.65269916, 0.65170289, 0.65070752, 0.6497131 ,\n",
       "       0.64871964, 0.64772717, 0.64673575, 0.64574538, 0.64475609,\n",
       "       0.64376792, 0.64278086, 0.64179499, 0.64081027, 0.63982675,\n",
       "       0.63884445, 0.63786333, 0.63688351, 0.63590489, 0.63492746,\n",
       "       0.63395131, 0.63297641, 0.63200273, 0.63103031, 0.63005909,\n",
       "       0.62908909, 0.62812027, 0.62715262, 0.62618611, 0.62522072,\n",
       "       0.62425645, 0.62329314, 0.6223309 , 0.62136959, 0.62040918,\n",
       "       0.61944962, 0.61849083, 0.61753278, 0.61657536, 0.61561851,\n",
       "       0.61466214, 0.61370617, 0.61275047, 0.61179498, 0.61083957,\n",
       "       0.6098842 , 0.60892864, 0.6079728 , 0.60701656, 0.60605987,\n",
       "       0.60510234, 0.60414391, 0.60318453, 0.60222397, 0.60126206,\n",
       "       0.60029859, 0.59933338, 0.59836622, 0.59739692, 0.59642527,\n",
       "       0.59545107, 0.59447402, 0.59349342, 0.59251005, 0.59152315,\n",
       "       0.59053233, 0.58953801, 0.58853873, 0.58753488, 0.58652604,\n",
       "       0.5855124 , 0.58449313, 0.58346801, 0.58243666, 0.5813993 ,\n",
       "       0.58035508, 0.5793038 , 0.57824521, 0.57717896, 0.57610472,\n",
       "       0.57502219, 0.57393103, 0.57283092, 0.57172154, 0.57060257,\n",
       "       0.56947369, 0.56833457, 0.56718495, 0.56602444, 0.5648528 ,\n",
       "       0.56366971, 0.56247489, 0.56126806, 0.56004893, 0.55881725,\n",
       "       0.55757277, 0.55631522, 0.55504433, 0.55375991, 0.55246197,\n",
       "       0.55114999, 0.5498238 , 0.5484835 , 0.5471287 , 0.54575907,\n",
       "       0.5443752 , 0.54297622, 0.54156205, 0.5401331 , 0.53868951,\n",
       "       0.53723027, 0.5357558 , 0.53426609, 0.53276112, 0.53124085,\n",
       "       0.52970533, 0.52815456, 0.52658856, 0.52500742, 0.52341112,\n",
       "       0.52179975, 0.52017345, 0.51853224, 0.51687624, 0.51520556,\n",
       "       0.51352031, 0.5118206 , 0.51010661, 0.50837837, 0.50663614,\n",
       "       0.50488004, 0.50311021, 0.50132683, 0.49953008, 0.49771963,\n",
       "       0.49589666, 0.49406085, 0.49221241, 0.49035153, 0.48847832,\n",
       "       0.48659307, 0.48469599, 0.48278729, 0.48086717, 0.47893587,\n",
       "       0.47699362, 0.47504064, 0.47307718, 0.47110349, 0.46911982,\n",
       "       0.46712644, 0.46512365, 0.46311175, 0.46109107, 0.45906199,\n",
       "       0.45702544, 0.45498089, 0.45292969, 0.4508727 , 0.44881106,\n",
       "       0.44674662, 0.4446823 , 0.44262415, 0.4405831 , 0.43858693,\n",
       "       0.43671879, 0.43525263, 0.43461216, 0.43456108, 0.4347154 ,\n",
       "       0.43494382, 0.43520485, 0.43548362, 0.43577281, 0.4360693 ,\n",
       "       0.43637066, 0.43667582, 0.43698401, 0.43729494, 0.43760747,\n",
       "       0.4379223 , 0.43823876, 0.43855684, 0.43887634, 0.43919719,\n",
       "       0.43951935, 0.43984268, 0.44016737, 0.44049311, 0.44081986,\n",
       "       0.44114804, 0.44147714, 0.44180719, 0.44213882, 0.44247103,\n",
       "       0.44280422, 0.44313856, 0.4434739 , 0.44381027, 0.44414759,\n",
       "       0.4444859 , 0.44482517, 0.44516544, 0.44550673, 0.44584892,\n",
       "       0.446192  , 0.44653612, 0.44688117, 0.44722716, 0.44757409,\n",
       "       0.447922  , 0.44827082, 0.44862055, 0.44897072, 0.4493224 ,\n",
       "       0.44967502, 0.45002837, 0.45038264, 0.4507378 , 0.45109387,\n",
       "       0.45145089, 0.45180876, 0.45216751, 0.452527  , 0.45288743,\n",
       "       0.45324864, 0.45361071, 0.45397348, 0.45433626, 0.45469475,\n",
       "       0.45357665, 0.4511309 , 0.44868643, 0.44624743, 0.44381477,\n",
       "       0.44138896, 0.43897065, 0.43655997, 0.43415763, 0.43176405,\n",
       "       0.42937967, 0.42700494, 0.42464043, 0.4222865 , 0.41994307,\n",
       "       0.41761164, 0.41529218, 0.41298518, 0.41069112, 0.4084105 ,\n",
       "       0.40614382, 0.40389154, 0.40165419, 0.39943228, 0.39722631,\n",
       "       0.39503681, 0.39286429, 0.39070929, 0.38857233, 0.38645396,\n",
       "       0.38435472, 0.38227517, 0.38021585, 0.37817734, 0.37616021,\n",
       "       0.37416503, 0.37219238, 0.37024287, 0.36831709, 0.36641564,\n",
       "       0.36453914, 0.36268821, 0.36086349, 0.3590656 , 0.35729521,\n",
       "       0.35555296, 0.35383953, 0.35215558, 0.35050181, 0.3488789 ,\n",
       "       0.34728758, 0.34572854, 0.34420253, 0.34271027, 0.34125253,\n",
       "       0.33983007, 0.33844366, 0.3370941 , 0.33578219, 0.33450874,\n",
       "       0.33327459, 0.33208059, 0.3309276 , 0.32981651, 0.32874822,\n",
       "       0.32772364, 0.32674367, 0.32580932, 0.32492153, 0.3240813 ,\n",
       "       0.32328965, 0.32254761, 0.32185624, 0.32121662, 0.32062985,\n",
       "       0.32009707, 0.31961944, 0.31919813, 0.31883436, 0.31852937,\n",
       "       0.31828438, 0.31810071, 0.31797966, 0.31792256, 0.31793078,\n",
       "       0.31800569, 0.31814868, 0.31836116, 0.31864452, 0.31900017,\n",
       "       0.31942951, 0.31993387, 0.3205146 , 0.32117293, 0.32191002])"
      ]
     },
     "execution_count": 30,
     "metadata": {},
     "output_type": "execute_result"
    }
   ],
   "source": [
    "eigenvalues_4"
   ]
  },
  {
   "cell_type": "code",
   "execution_count": 41,
   "metadata": {},
   "outputs": [
    {
     "data": {
      "image/png": "[encoded data removed]",
      "text/plain": [
       "<Figure size 432x288 with 1 Axes>"
      ]
     },
     "metadata": {
      "needs_background": "light"
     },
     "output_type": "display_data"
    }
   ],
   "source": [
    "# Plotting\n",
    "plt.plot(alpha_bar, eigenvalues_1, \"b-\", label=\"$n=1$\")\n",
    "plt.plot(alpha_bar, eigenvalues_2, \"b--\", label=\"$n=2$\")\n",
    "plt.plot(alpha_bar, eigenvalues_3, \"b-.\", label=\"$n=3$\")\n",
    "plt.plot(alpha_bar, eigenvalues_4, \"b:\", label=\"$n=4$\")\n",
    "plt.xlabel(\"$\\\\bar{\\\\alpha}$\")\n",
    "plt.ylabel(\"$\\\\tilde{\\\\Lambda}_n(\\\\bar{\\\\alpha})$\")\n",
    "plt.legend()\n",
    "plt.xscale(\"log\")\n",
    "plt.xlim(1e-2, 10**0.17)\n",
    "plt.ylim(0, 1)\n",
    "plt.savefig(\"asymmetric-eigenvalues.pdf\")"
   ]
  }
 ],
 "metadata": {
  "kernelspec": {
   "display_name": "Python 3",
   "language": "python",
   "name": "python3"
  },
  "language_info": {
   "codemirror_mode": {
    "name": "ipython",
    "version": 3
   },
   "file_extension": ".py",
   "mimetype": "text/x-python",
   "name": "python",
   "nbconvert_exporter": "python",
   "pygments_lexer": "ipython3",
   "version": "3.7.3"
  }
 },
 "nbformat": 4,
 "nbformat_minor": 2
}
