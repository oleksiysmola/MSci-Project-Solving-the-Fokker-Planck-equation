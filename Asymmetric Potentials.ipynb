{
 "cells": [
  {
   "cell_type": "markdown",
   "metadata": {},
   "source": [
    "# Asymmetric Potentials\n",
    "For convenience the key equations are given below from https://arxiv.org/pdf/astro-ph/9407016.pdf:\n",
    "\n",
    "1) Fokker-Planck equation\n",
    "$$    \\frac{\\partial P(\\varphi,t)}{\\partial t} = \\frac{1}{3H}\\frac{\\partial}{\\partial \\varphi}\\left(V'(\\varphi) P(\\varphi,t)\\right) + \\frac{H^3}{8\\pi^2}\\frac{\\partial^2 P(\\varphi,t)}{\\partial \\varphi^2} $$\n",
    "\n",
    "2) Schrodinger-like equation\n",
    "$$     -\\frac{1}{2}\\frac{\\partial^2 \\Phi_n(\\varphi)}{\\partial \\varphi^2} + W(\\varphi) \\Phi_n (\\varphi) = \\frac{4\\pi^2\\Lambda_n}{H^3}\\Phi_n(\\varphi) $$\n",
    "\n",
    "3) Effective potential\n",
    "$$ W(\\varphi) = \\frac{1}{2}\\left[v'(\\varphi)^2-v''(\\varphi)\\right], \\> \\> v(\\varphi) = \\frac{4\\pi^2}{3H^4} V(\\varphi) $$\n",
    "\n",
    "4) Solutions take the form\n",
    "$$ P(\\varphi,t) = \\exp\\left(-\\frac{4\\pi^2 V(\\varphi)}{3H^4}\\right) \\sum^{\\infty}_{n=0} a_n \\Phi_n (\\varphi) e^{-\\Lambda_n (t-t_0)} $$"
   ]
  },
  {
   "cell_type": "code",
   "execution_count": 1,
   "metadata": {},
   "outputs": [],
   "source": [
    "import numpy as np\n",
    "from math import factorial\n",
    "from scipy import optimize\n",
    "from scipy.integrate import odeint, simps\n",
    "from scipy.special import eval_hermite\n",
    "import matplotlib.pyplot as plt\n",
    "%matplotlib inline"
   ]
  },
  {
   "cell_type": "markdown",
   "metadata": {},
   "source": [
    "Here we know consider a potential of the form\n",
    "$$V(\\varphi) = \\mu^3 \\varphi + \\frac{1}{2}m^2\\varphi^2 + \\frac{1}{4}\\lambda \\varphi^4. $$\n",
    "Following https://arxiv.org/pdf/2001.04494.pdf, the Schrodinger-like equation can be expressed in terms of dimensionless quantities:\n",
    "$$ \\bar{\\alpha} \\equiv \\frac{-m^2}{\\sqrt{\\lambda}H^2}, \\> \\> \\beta = \\frac{\\mu^3}{\\lambda^{1/4}H^3}.  $$\n",
    "We also have\n",
    "$$ z \\equiv \\frac{\\lambda^{1/4}\\Omega}{H}\\varphi, \\>\\> \\Omega \\equiv 1 + \\sqrt{\\bar{\\alpha}}+\\beta. $$\n",
    "With the above parameters the Schrödinger-like equation takes the form \n",
    "$$\\frac{\\partial \\Phi_n(z)}{\\partial z} \\equiv Y, $$\n",
    "$$\\frac{\\partial Y}{\\partial z} = \\left(4\\pi^2\\frac{\\bar{\\alpha}+\\frac{4\\pi^2}{3}\\beta^2}{3\\Omega^2}-\\frac{32\\pi^4\\bar{\\alpha}\\beta z}{9\\Omega^3}-4\\pi^2\\frac{1-\\frac{4\\pi^2}{9}\\bar{\\alpha}^2}{\\Omega^4}z^2+\\frac{32\\pi^4\\beta z^3}{9\\Omega^5}-\\frac{32\\pi^4\\bar{\\alpha} z^4}{9\\Omega^6} + \\frac{16\\pi^4 z^6}{9\\Omega^8}-\\frac{8\\pi^2(1+\\bar{\\alpha}+\\beta^2)\\tilde{\\Lambda}_n}{\\Omega^2}\\right)\\Phi_n(z).  $$\n",
    "Eigenvalues are rescaled as \n",
    "$$\\tilde{\\Lambda}_n(\\alpha) = \\frac{\\Lambda_n}{\\lambda^{1/2}H(1+\\bar{\\alpha}+\\beta^2)}. $$\n",
    "For now let us set $\\bar{\\alpha}=1$, $\\beta=0$"
   ]
  },
  {
   "cell_type": "code",
   "execution_count": 2,
   "metadata": {},
   "outputs": [],
   "source": [
    "# Setting parameters\n",
    "alpha_bar = 1\n",
    "beta = 0\n",
    "omega = 1 + np.sqrt(alpha_bar) + beta"
   ]
  },
  {
   "cell_type": "markdown",
   "metadata": {},
   "source": [
    "## WKB approximation\n",
    "$$ Q(z) = 4\\pi^2\\frac{\\bar{\\alpha}+\\frac{4\\pi^2}{3}\\beta^2}{3\\Omega^2}-\\frac{32\\pi^4\\bar{\\alpha}\\beta z}{9\\Omega^3}-4\\pi^2\\frac{1-\\frac{4\\pi^2}{9}\\bar{\\alpha}^2}{\\Omega^4}z^2+\\frac{32\\pi^4\\beta z^3}{9\\Omega^5}-\\frac{32\\pi^4\\bar{\\alpha} z^4}{9\\Omega^6} + \\frac{16\\pi^4 z^6}{9\\Omega^8}-\\frac{8\\pi^2(1+\\bar{\\alpha}+\\beta^2)\\tilde{\\Lambda}_n}{\\Omega^2}, $$\n",
    "$$ Q'(z) = -\\frac{32\\pi^4\\bar{\\alpha}\\beta}{9\\Omega^3}-8\\pi^2\\frac{1-\\frac{4\\pi^2}{9}\\bar{\\alpha}^2}{\\Omega^4}z+\\frac{32\\pi^4\\beta z^2}{3\\Omega^5}-\\frac{128\\pi^4\\bar{\\alpha} z^3}{9\\Omega^6} + \\frac{32\\pi^4 z^5}{3\\Omega^8}, $$\n",
    "$$ Q''(z) = -8\\pi^2\\frac{1-\\frac{4\\pi^2}{9}\\bar{\\alpha}^2}{\\Omega^4}+\\frac{64\\pi^4\\beta z}{3\\Omega^5}-\\frac{128\\pi^4\\bar{\\alpha} z^2}{3\\Omega^6} + \\frac{160\\pi^4 z^4}{3\\Omega^8}. $$\n",
    "\n",
    "\n",
    "$$S_0(z) = \\pm \\int^z_{z_0}\\sqrt{Q(x)} dx, $$\n",
    "$$S_1(z) = -\\frac{1}{4}\\left[\\text{ln}Q(x)\\right]^z_{z_0}, $$\n",
    "$$S_2(z) = -\\frac{1}{4}\\frac{Q'(z)}{Q(z)^2} - \\frac{1}{8}\\int^z_{z_0} \\frac{Q''(x)}{Q(x)^3}dx.$$\n",
    "The solution then takes the form \n",
    "$$\\Phi_n(z) \\simeq \\frac{c_1}{Q(z)^{1/4}}\\text{exp}\\left[\\int^z_{z_0} \\sqrt{Q(x)}dx -\\frac{1}{4}\\frac{Q'(z)}{Q(z)^2} - \\frac{1}{8}\\int^z_{z_0} \\frac{Q''(x)}{Q(x)^3}dx\\right] + \\frac{c_2}{Q(z)^{1/4}}\\text{exp}\\left[-\\int^z_{z_0} \\sqrt{Q(x)}dx +\\frac{1}{4}\\frac{Q'(z)}{Q(z)^2} + \\frac{1}{8}\\int^z_{z_0} \\frac{Q''(x)}{Q(x)^3}dx\\right] $$\n",
    "Ignoring second-order terms the derivative is:\n",
    "$$\\Phi'_n(z) \\simeq \\frac{Q'(z)}{4Q(z)^{5/4}}\\left(c_1\\text{exp}\\left[\\int^z_{z_0} \\sqrt{Q(x)}dx \\right] + c_2\\text{exp}\\left[-\\int^z_{z_0} \\sqrt{Q(x)}dx \\right]\\right) + Q(z)^{1/4}\\left(c_1\\text{exp}\\left[\\int^z_{z_0} \\sqrt{Q(x)}dx \\right] - c_2\\text{exp}\\left[-\\int^z_{z_0} \\sqrt{Q(x)}dx \\right]\\right) $$"
   ]
  },
  {
   "cell_type": "code",
   "execution_count": 3,
   "metadata": {},
   "outputs": [],
   "source": [
    "# Eigenvalue\n",
    "eigenvalue = 0\n",
    "\n",
    "# Function for Q defined above\n",
    "def Q_function(z):\n",
    "    '''Evaluates Q(z) defined above\n",
    "    z: array of values for which Q(z) is to be evaluated'''\n",
    "    \n",
    "    # Break up calculation into multiple parts\n",
    "    x_1 = ((alpha_bar + ((4*np.pi**2)/3)*beta**2)/(3*omega**2))*4*np.pi**2 \n",
    "    x_2 = - ((32*np.pi**4)*alpha_bar*beta*z)/(9*omega**3)\n",
    "    x_3 = - (4*np.pi**2)*((1 - (4*(np.pi*alpha_bar)**2)/9)/(omega**4))*z**2\n",
    "    x_4 = ((32*np.pi**4)*beta*z**3)/(9*omega**5) - ((32*np.pi**4)*alpha_bar*z**4)/(9*omega**6)\n",
    "    x_5 = ((16*np.pi**4)*z**6)/(9*omega**8) - ((1 + alpha_bar + beta**2)*eigenvalue*8*np.pi**2)/(omega**2)\n",
    "    \n",
    "    # Computes full function\n",
    "    Q = x_1 + x_2 + x_3 + x_4 + x_5\n",
    "    \n",
    "    return Q"
   ]
  },
  {
   "cell_type": "code",
   "execution_count": 4,
   "metadata": {},
   "outputs": [],
   "source": [
    "# Function for the gradient defined above\n",
    "def Q_function_gradient(z):\n",
    "    '''Evaluates the gradient for Q(z) defined above\n",
    "    z: array of values for which Q(z) is to be evaluated'''\n",
    "    \n",
    "    # Break up calculation into multiple parts\n",
    "    x_1 = - ((32*np.pi**4)*alpha_bar*beta)/(9*omega**3)\n",
    "    x_2 = - (8*np.pi**2)*((1 - (4*(np.pi*alpha_bar)**2)/9)/(omega**4))*z\n",
    "    x_3 = ((32*np.pi**4)*beta*z**2)/(3*omega**5) - ((128*np.pi**4)*alpha_bar*z**3)/(9*omega**6)\n",
    "    x_4 = ((32*np.pi**4)*z**5)/(3*omega**8) \n",
    "    \n",
    "    # Computes full function\n",
    "    Q_gradient = x_1 + x_2 + x_3 + x_4\n",
    "    \n",
    "    return Q_gradient\n",
    "\n",
    "def Q_second_derivative(z):\n",
    "    '''Evaluates the second derivative for Q(z) defined above\n",
    "    z: array of values for which Q(z) is to be evaluated'''\n",
    "    \n",
    "    # Break up calculation into multiple parts\n",
    "    x_1 = - (8*np.pi**2)*((1 - (4*(np.pi*alpha_bar)**2)/9)/(omega**4))\n",
    "    x_2 = ((64*np.pi**4)*beta*z)/(3*omega**5) - ((128*np.pi**4)*alpha_bar*z**2)/(3*omega**6)\n",
    "    x_3 = ((160*np.pi**4)*z**4)/(3*omega**8) \n",
    "    \n",
    "    # Computes full function\n",
    "    Q_second_derivative = x_1 + x_2 + x_3\n",
    "    \n",
    "    return Q_second_derivative"
   ]
  },
  {
   "cell_type": "code",
   "execution_count": 5,
   "metadata": {},
   "outputs": [
    {
     "data": {
      "text/plain": [
       "[<matplotlib.lines.Line2D at 0x15160baba8>]"
      ]
     },
     "execution_count": 5,
     "metadata": {},
     "output_type": "execute_result"
    },
    {
     "data": {
      "image/png": "[encoded data removed]",
      "text/plain": [
       "<Figure size 432x288 with 1 Axes>"
      ]
     },
     "metadata": {
      "needs_background": "light"
     },
     "output_type": "display_data"
    }
   ],
   "source": [
    "# Plotting ratio of gradient of Q with Q^2\n",
    "z = np.linspace(-10, 10, 100)\n",
    "Q = Q_function(z)\n",
    "Q_gradient = Q_function_gradient(z)\n",
    "plt.plot(z, abs(Q_gradient/(Q**2)))"
   ]
  },
  {
   "cell_type": "code",
   "execution_count": 6,
   "metadata": {},
   "outputs": [
    {
     "data": {
      "text/plain": [
       "(0, 1)"
      ]
     },
     "execution_count": 6,
     "metadata": {},
     "output_type": "execute_result"
    },
    {
     "data": {
      "image/png": "[encoded data removed]",
      "text/plain": [
       "<Figure size 432x288 with 1 Axes>"
      ]
     },
     "metadata": {
      "needs_background": "light"
     },
     "output_type": "display_data"
    }
   ],
   "source": [
    "# Plotting ratio of gradient of Q with Q^2\n",
    "z = np.linspace(-10, 10, 100)\n",
    "Q = Q_function(z)\n",
    "Q_gradient = Q_function_gradient(z)\n",
    "plt.plot(z, abs(Q_gradient/(Q**2)))\n",
    "plt.ylim(0, 1)"
   ]
  },
  {
   "cell_type": "code",
   "execution_count": 7,
   "metadata": {},
   "outputs": [
    {
     "data": {
      "image/png": "[encoded data removed]",
      "text/plain": [
       "<Figure size 432x288 with 1 Axes>"
      ]
     },
     "metadata": {
      "needs_background": "light"
     },
     "output_type": "display_data"
    }
   ],
   "source": [
    "# Plot Q(z), points where Q(z) = 0 are analogous to classical turning points in quantum mechanics\n",
    "z = np.linspace(-5, 5, 100)\n",
    "Q = Q_function(z)\n",
    "plt.plot(z, Q)\n",
    "plt.ylim(-8, 10)\n",
    "plt.grid()"
   ]
  },
  {
   "cell_type": "code",
   "execution_count": 8,
   "metadata": {},
   "outputs": [],
   "source": [
    "class eigenfunction_finder_WKB:\n",
    "    '''Class for finding the eigenfunction for a the rescaled parameters z and alpha'''\n",
    "    def __init__(self):\n",
    "        '''Initialises the range of rescaled field values for which the field is\n",
    "        to be integrated'''\n",
    "        \n",
    "        # Parameters\n",
    "        self.alpha_bar = 1\n",
    "        self.beta = 0\n",
    "        self.omega = 1 + np.sqrt(self.alpha_bar) + self.beta \n",
    "        self.eigenvalue = 0\n",
    " \n",
    "    def Q_function(self, z):\n",
    "        '''Evaluates Q(z) defined above\n",
    "        z: array of values for which Q(z) is to be evaluated'''\n",
    "    \n",
    "        # Break up calculation into multiple parts\n",
    "        x_1 = ((self.alpha_bar + ((4*np.pi**2)/3)*self.beta**2)/(3*self.omega**2))*4*np.pi**2 \n",
    "        x_2 = - ((32*np.pi**4)*self.alpha_bar*self.beta*z)/(9*self.omega**3)\n",
    "        x_3 = - (4*np.pi**2)*((1 - (4*(np.pi*self.alpha_bar)**2)/9)/(self.omega**4))*z**2\n",
    "        x_4 = ((32*np.pi**4)*self.beta*z**3)/(9*self.omega**5) - ((32*np.pi**4)*self.alpha_bar*z**4)/(9*self.omega**6)\n",
    "        x_5 = ((16*np.pi**4)*z**6)/(9*self.omega**8) - ((1 + self.alpha_bar + self.beta**2)*self.eigenvalue*8*np.pi**2)/(self.omega**2)\n",
    "    \n",
    "        # Computes full function\n",
    "        Q = x_1 + x_2 + x_3 + x_4 + x_5\n",
    "    \n",
    "        return Q\n",
    "\n",
    "    def Q_function_gradient(self, z):\n",
    "        '''Evaluates the gradient for Q(z) defined above\n",
    "        z: array of values for which Q(z) is to be evaluated'''\n",
    "    \n",
    "        # Break up calculation into multiple parts\n",
    "        x_1 = - ((32*np.pi**4)*self.alpha_bar*self.beta)/(9*self.omega**3)\n",
    "        x_2 = - (8*np.pi**2)*((1 - (4*(np.pi*self.alpha_bar)**2)/9)/(self.omega**4))*z\n",
    "        x_3 = ((32*np.pi**4)*self.beta*z**2)/(3*self.omega**5) - ((128*np.pi**4)*self.alpha_bar*z**3)/(9*self.omega**6)\n",
    "        x_4 = ((32*np.pi**4)*z**5)/(3*self.omega**8) \n",
    "    \n",
    "        # Computes full function\n",
    "        Q_gradient = x_1 + x_2 + x_3 + x_4\n",
    "    \n",
    "        return Q_gradient\n",
    "\n",
    "    def WKB_function(self, WKB_lower_limit, WKB_upper_limit):\n",
    "        '''Evaluates WKB approximation of eigenfunction to second-order\n",
    "        upper_limit: upper integration limit\n",
    "        lower_limit: lower integration limit'''\n",
    "    \n",
    "        # Creates array of z values\n",
    "        z = np.linspace(WKB_lower_limit, WKB_upper_limit, 5000)\n",
    "        dz = z[1] - z[0]\n",
    "    \n",
    "        # Q and its derivatives\n",
    "        Q = self.Q_function(z)\n",
    "        Q_gradient = self.Q_function_gradient(z)\n",
    "        #Q_derivative_second = Q_second_derivative(z)\n",
    "    \n",
    "    \n",
    "        # Integration for S_0 and S_1\n",
    "        S_0 = simps(np.sqrt(Q), z, dz)\n",
    "        #S_2[i] = -0.25*(Q_gradient[i + 1]/(Q[i + 1]**2)) - 0.125*simps(Q_derivative_second[:i + 2]/(Q[:i+2]**3), z[:i + 2], dz)\n",
    "    \n",
    "        # Computes WKB wavefunction\n",
    "        WKB_phi = np.exp(-S_0)/(Q[0]**0.25)\n",
    "        WKB_gradient = (Q_gradient[0]/(Q[0]**1.25) - Q[0]**0.25)*np.exp(-S_0)\n",
    "    \n",
    "        # Obtains the initial conditions from the WKB approximation\n",
    "        WKB_initial_conditions = [WKB_phi, WKB_gradient]\n",
    "        self.V = WKB_initial_conditions\n",
    "        \n",
    "        # Sets integration range starting from where we left of the WKB approximation\n",
    "        self.z = np.linspace(WKB_lower_limit, -WKB_lower_limit, 3000)\n",
    "    \n",
    "        return WKB_initial_conditions\n",
    "    \n",
    "    def schrodinger_like_ODE(self, V, z):\n",
    "        '''Computes the derivatives of the Schrodinger-like equation'''\n",
    "        \n",
    "        # Empty array for derivatives\n",
    "        dV = np.zeros(2)\n",
    "        \n",
    "        # Evaluates Q\n",
    "        Q = self.Q_function(z)\n",
    "        \n",
    "        # Computes derivatives\n",
    "        dV[0] = V[1]\n",
    "        dV[1] = V[0]*Q\n",
    "        return dV    \n",
    "\n",
    "    def eigenfunction(self, eigenvalue):\n",
    "        '''Integrates the eigenfunction for the field based on the given\n",
    "        field range and returns the projected solution based on the\n",
    "        eigenvalue'''\n",
    "        \n",
    "        self.eigenvalue = eigenvalue\n",
    "\n",
    "        # Initial guess range for classical turning point \n",
    "        WKB_upper = -9\n",
    "        WKB_lower = -10\n",
    "        Q_upper = self.Q_function(WKB_upper)\n",
    "        Q_lower = self.Q_function(WKB_lower)\n",
    "        # Ensures sign change in interval\n",
    "        while Q_upper/Q_lower > 0:\n",
    "            # Extends guess interval\n",
    "            WKB_upper += 0.2\n",
    "            Q_upper = self.Q_function(WKB_upper)\n",
    "        \n",
    "        # Computes the turning point\n",
    "        turning_point = optimize.brentq(self.Q_function, WKB_lower, WKB_upper, xtol=tolerance)\n",
    "        \n",
    "        # WKB integration range\n",
    "        WKB_upper = turning_point - 0.1\n",
    "        WKB_lower = WKB_upper - 1\n",
    "        \n",
    "        # Generates WKB initial conditions\n",
    "        self.WKB_function(WKB_lower, WKB_upper)\n",
    "        \n",
    "        # Integrates to find eigenfunction\n",
    "        V = odeint(self.schrodinger_like_ODE, self.V, self.z)\n",
    "        \n",
    "        return V[-1,0]\n",
    "    \n",
    "    def eigenfunction_full(self, eigenvalue):\n",
    "        '''Integrates the eigenfunction for the field based on the given\n",
    "        field range and returns the projected solution based on the\n",
    "        eigenvalue'''\n",
    "        \n",
    "        self.eigenvalue = eigenvalue\n",
    "        \n",
    "        # Integrates to find eigenfunction\n",
    "        V = odeint(self.schrodinger_like_ODE, self.V, self.z)\n",
    "\n",
    "        return V[:,0]"
   ]
  },
  {
   "cell_type": "code",
   "execution_count": 9,
   "metadata": {},
   "outputs": [],
   "source": [
    "# Integration range for WKB approximation\n",
    "WKB_lower_limit = -3.25\n",
    "WKB_upper_limit = -2.38124\n",
    "\n",
    "# Applies WKB approximation to find initial conditions and integrates numerically\n",
    "WKB_solution = eigenfunction_finder_WKB()\n",
    "WKB_solution.WKB_function(WKB_lower_limit, WKB_upper_limit)\n",
    "WKB_phi = WKB_solution.eigenfunction_full(0)\n",
    "z = WKB_solution.z"
   ]
  },
  {
   "cell_type": "code",
   "execution_count": 10,
   "metadata": {},
   "outputs": [
    {
     "data": {
      "text/plain": [
       "[<matplotlib.lines.Line2D at 0x1516376ac8>]"
      ]
     },
     "execution_count": 10,
     "metadata": {},
     "output_type": "execute_result"
    },
    {
     "data": {
      "image/png": "[encoded data removed]",
      "text/plain": [
       "<Figure size 432x288 with 1 Axes>"
      ]
     },
     "metadata": {
      "needs_background": "light"
     },
     "output_type": "display_data"
    }
   ],
   "source": [
    "# Plotting\n",
    "plt.plot(z, WKB_phi)"
   ]
  },
  {
   "cell_type": "code",
   "execution_count": 11,
   "metadata": {},
   "outputs": [
    {
     "name": "stdout",
     "output_type": "stream",
     "text": [
      "2.751121019173297e-05\n"
     ]
    }
   ],
   "source": [
    "# Integration range for WKB approximation\n",
    "WKB_lower_limit = -3.7\n",
    "WKB_upper_limit = -2.7\n",
    "\n",
    "# Applies WKB approximation to find initial conditions and integrates numerically\n",
    "WKB_solution = eigenfunction_finder_WKB()\n",
    "WKB_solution.beta = 0.5\n",
    "print(WKB_solution.Q_function(-2.6858235))\n",
    "WKB_solution.WKB_function(WKB_lower_limit, WKB_upper_limit)\n",
    "WKB_phi = WKB_solution.eigenfunction_full(0)\n",
    "z = WKB_solution.z"
   ]
  },
  {
   "cell_type": "code",
   "execution_count": 12,
   "metadata": {},
   "outputs": [
    {
     "data": {
      "text/plain": [
       "(-0.5, 0.5)"
      ]
     },
     "execution_count": 12,
     "metadata": {},
     "output_type": "execute_result"
    },
    {
     "data": {
      "image/png": "[encoded data removed]",
      "text/plain": [
       "<Figure size 432x288 with 1 Axes>"
      ]
     },
     "metadata": {
      "needs_background": "light"
     },
     "output_type": "display_data"
    }
   ],
   "source": [
    "# Plotting\n",
    "plt.plot(z, WKB_phi)\n",
    "plt.ylim(-0.5, 0.5)"
   ]
  },
  {
   "cell_type": "code",
   "execution_count": 13,
   "metadata": {},
   "outputs": [
    {
     "data": {
      "text/plain": [
       "[<matplotlib.lines.Line2D at 0x15164ac278>]"
      ]
     },
     "execution_count": 13,
     "metadata": {},
     "output_type": "execute_result"
    },
    {
     "data": {
      "image/png": "[encoded data removed]",
      "text/plain": [
       "<Figure size 432x288 with 1 Axes>"
      ]
     },
     "metadata": {
      "needs_background": "light"
     },
     "output_type": "display_data"
    }
   ],
   "source": [
    "plt.plot(z, WKB_solution.Q_function(z))"
   ]
  },
  {
   "cell_type": "code",
   "execution_count": 14,
   "metadata": {},
   "outputs": [],
   "source": [
    "# Tolerance on eigenvalue\n",
    "tolerance = 1e-6\n",
    "\n",
    "# Eigenvalue guess range\n",
    "upper_eigenvalue = 0.2\n",
    "lower_eigenvalue = 0.01\n",
    "\n",
    "# Applies WKB approximation to find initial conditions and integrates numerically\n",
    "WKB_solution = eigenfunction_finder_WKB()\n",
    "WKB_solution.beta = 0.5\n",
    "scipy_brent_1, results_brent_1 = optimize.brentq(WKB_solution.eigenfunction, lower_eigenvalue, upper_eigenvalue, full_output=True, xtol=tolerance)\n",
    "WKB_1 = WKB_solution.eigenfunction_full(scipy_brent_1)\n",
    "z = WKB_solution.z"
   ]
  },
  {
   "cell_type": "code",
   "execution_count": 15,
   "metadata": {},
   "outputs": [
    {
     "name": "stdout",
     "output_type": "stream",
     "text": [
      "      converged: True\n",
      "           flag: 'converged'\n",
      " function_calls: 10\n",
      "     iterations: 9\n",
      "           root: 0.05972593796230047\n"
     ]
    }
   ],
   "source": [
    "print(results_brent_1)"
   ]
  },
  {
   "cell_type": "code",
   "execution_count": 16,
   "metadata": {},
   "outputs": [
    {
     "data": {
      "text/plain": [
       "(-5000, 5000)"
      ]
     },
     "execution_count": 16,
     "metadata": {},
     "output_type": "execute_result"
    },
    {
     "data": {
      "image/png": "[encoded data removed]",
      "text/plain": [
       "<Figure size 432x288 with 1 Axes>"
      ]
     },
     "metadata": {
      "needs_background": "light"
     },
     "output_type": "display_data"
    }
   ],
   "source": [
    "# Plotting\n",
    "plt.plot(z, WKB_1, \"b\")\n",
    "plt.ylim(-5000, 5000)"
   ]
  },
  {
   "cell_type": "code",
   "execution_count": 17,
   "metadata": {},
   "outputs": [],
   "source": [
    "# Eigenvalue guess range\n",
    "upper_eigenvalue = 0.3\n",
    "lower_eigenvalue = 0.1\n",
    "\n",
    "# Applies WKB approximation to find initial conditions and integrates numerically\n",
    "WKB_solution = eigenfunction_finder_WKB()\n",
    "WKB_solution.beta = 0.5\n",
    "scipy_brent_2, results_brent_2 = optimize.brentq(WKB_solution.eigenfunction, lower_eigenvalue, upper_eigenvalue, full_output=True, xtol=tolerance)\n",
    "WKB_2 = WKB_solution.eigenfunction_full(scipy_brent_2)\n",
    "z = WKB_solution.z"
   ]
  },
  {
   "cell_type": "code",
   "execution_count": 18,
   "metadata": {},
   "outputs": [
    {
     "name": "stdout",
     "output_type": "stream",
     "text": [
      "      converged: True\n",
      "           flag: 'converged'\n",
      " function_calls: 10\n",
      "     iterations: 9\n",
      "           root: 0.20986931489529734\n"
     ]
    }
   ],
   "source": [
    "print(results_brent_2)"
   ]
  },
  {
   "cell_type": "code",
   "execution_count": 19,
   "metadata": {
    "scrolled": true
   },
   "outputs": [
    {
     "data": {
      "text/plain": [
       "(-400, 400)"
      ]
     },
     "execution_count": 19,
     "metadata": {},
     "output_type": "execute_result"
    },
    {
     "data": {
      "image/png": "[encoded data removed]",
      "text/plain": [
       "<Figure size 432x288 with 1 Axes>"
      ]
     },
     "metadata": {
      "needs_background": "light"
     },
     "output_type": "display_data"
    }
   ],
   "source": [
    "# Plotting\n",
    "plt.plot(z, WKB_2, \"b\")\n",
    "plt.ylim(-400, 400)"
   ]
  },
  {
   "cell_type": "code",
   "execution_count": 20,
   "metadata": {},
   "outputs": [],
   "source": [
    "# Eigenvalue guess range\n",
    "upper_eigenvalue = 0.4\n",
    "lower_eigenvalue = 0.21\n",
    "\n",
    "# Applies WKB approximation to find initial conditions and integrates numerically\n",
    "WKB_solution = eigenfunction_finder_WKB()\n",
    "WKB_solution.beta = 0.5\n",
    "scipy_brent_3, results_brent_3 = optimize.brentq(WKB_solution.eigenfunction, lower_eigenvalue, upper_eigenvalue, full_output=True, xtol=tolerance)\n",
    "WKB_3 = WKB_solution.eigenfunction_full(scipy_brent_3)\n",
    "z = WKB_solution.z"
   ]
  },
  {
   "cell_type": "code",
   "execution_count": 21,
   "metadata": {},
   "outputs": [
    {
     "name": "stdout",
     "output_type": "stream",
     "text": [
      "      converged: True\n",
      "           flag: 'converged'\n",
      " function_calls: 11\n",
      "     iterations: 10\n",
      "           root: 0.373229248595327\n"
     ]
    }
   ],
   "source": [
    "print(results_brent_3)"
   ]
  },
  {
   "cell_type": "code",
   "execution_count": 22,
   "metadata": {
    "scrolled": true
   },
   "outputs": [
    {
     "data": {
      "text/plain": [
       "(-20, 20)"
      ]
     },
     "execution_count": 22,
     "metadata": {},
     "output_type": "execute_result"
    },
    {
     "data": {
      "image/png": "[encoded data removed]",
      "text/plain": [
       "<Figure size 432x288 with 1 Axes>"
      ]
     },
     "metadata": {
      "needs_background": "light"
     },
     "output_type": "display_data"
    }
   ],
   "source": [
    "# Plotting\n",
    "plt.plot(z, WKB_3, \"b\")\n",
    "plt.ylim(-20, 20)"
   ]
  },
  {
   "cell_type": "code",
   "execution_count": 23,
   "metadata": {},
   "outputs": [],
   "source": [
    "# Eigenvalue guess range\n",
    "upper_eigenvalue = 0.5\n",
    "lower_eigenvalue = 0.38\n",
    "\n",
    "# Applies WKB approximation to find initial conditions and integrates numerically\n",
    "WKB_solution = eigenfunction_finder_WKB()\n",
    "WKB_solution.beta = 0.5\n",
    "scipy_brent_4, results_brent_4 = optimize.brentq(WKB_solution.eigenfunction, lower_eigenvalue, upper_eigenvalue, full_output=True, xtol=tolerance)\n",
    "WKB_4 = WKB_solution.eigenfunction_full(scipy_brent_4)\n",
    "z = WKB_solution.z"
   ]
  },
  {
   "cell_type": "code",
   "execution_count": 24,
   "metadata": {},
   "outputs": [
    {
     "name": "stdout",
     "output_type": "stream",
     "text": [
      "      converged: True\n",
      "           flag: 'converged'\n",
      " function_calls: 8\n",
      "     iterations: 7\n",
      "           root: 0.44236946536356353\n"
     ]
    }
   ],
   "source": [
    "print(results_brent_4)"
   ]
  },
  {
   "cell_type": "code",
   "execution_count": 25,
   "metadata": {},
   "outputs": [
    {
     "data": {
      "text/plain": [
       "(-0.1, 0.1)"
      ]
     },
     "execution_count": 25,
     "metadata": {},
     "output_type": "execute_result"
    },
    {
     "data": {
      "image/png": "[encoded data removed]",
      "text/plain": [
       "<Figure size 432x288 with 1 Axes>"
      ]
     },
     "metadata": {
      "needs_background": "light"
     },
     "output_type": "display_data"
    }
   ],
   "source": [
    "# Plotting\n",
    "plt.plot(z, WKB_4, \"b\")\n",
    "plt.ylim(-0.1, 0.1)"
   ]
  }
 ],
 "metadata": {
  "kernelspec": {
   "display_name": "Python 3",
   "language": "python",
   "name": "python3"
  },
  "language_info": {
   "codemirror_mode": {
    "name": "ipython",
    "version": 3
   },
   "file_extension": ".py",
   "mimetype": "text/x-python",
   "name": "python",
   "nbconvert_exporter": "python",
   "pygments_lexer": "ipython3",
   "version": "3.7.3"
  }
 },
 "nbformat": 4,
 "nbformat_minor": 2
}
