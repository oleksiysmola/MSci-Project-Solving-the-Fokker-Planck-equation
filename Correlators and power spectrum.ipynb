{
 "cells": [
  {
   "cell_type": "markdown",
   "metadata": {},
   "source": [
    "Here we shall compute the power spectrum using the expansions given in https://arxiv.org/pdf/1904.11917.pdf and https://arxiv.org/pdf/2001.04494.pdf. For conviencience the key equations are given below:\n",
    "For some function of the field $f(\\varphi)$ we have\n",
    "$$f_n = \\int d\\varphi \\psi_0(\\varphi) f(\\varphi) \\psi_n(\\varphi), $$\n",
    "which gives the temporal correlation function \n",
    "$$G_f(t) = \\sum_n f^2_n e^{-\\Lambda_n t}. $$\n",
    "The spectral index of $f$ is defined \n",
    "$$n_f = 1 + \\frac{2\\Lambda_n}{H}, $$\n",
    "such that $n$ denotes the lowest non-zero $f_n$. At long distances $k<<H$ we are given the power spectrum in the form\n",
    "$$\\mathcal{P}_f(k) \\simeq A_f(n_f-1)\\left(\\frac{k}{H}\\right)^{n_f-1}, $$\n",
    "with $A_f = f^2_n$. The density contrast is given as\n",
    "$$\\delta = \\frac{\\delta\\rho_{\\varphi}}{\\langle\\rho_{\\varphi}\\rangle} = \\frac{V(\\varphi)-\\langle V(\\varphi)\\rangle}{\\langle V(\\varphi)\\rangle}. $$"
   ]
  },
  {
   "cell_type": "code",
   "execution_count": 1,
   "metadata": {},
   "outputs": [],
   "source": [
    "import numpy as np\n",
    "from math import factorial\n",
    "from scipy import optimize\n",
    "from scipy.integrate import odeint, simps\n",
    "from scipy.special import eval_hermite\n",
    "import matplotlib.pyplot as plt\n",
    "%matplotlib inline"
   ]
  },
  {
   "cell_type": "markdown",
   "metadata": {},
   "source": [
    "We begin with the quadratic potential as this has analytic solutions of the form\n",
    "$$ \\psi_n = \\frac{\\sqrt{m}}{H}\\frac{1}{\\sqrt{2^n n!}}\\left(\\frac{4\\pi}{3}\\right)^{1/4}e^{-\\frac{2\\pi^2 \\tilde{x}^2}{3}}H_n\\left(\\frac{2\\pi\\tilde{x}}{\\sqrt{3}}\\right),$$\n",
    "where $H_n$ are the Hermite polynomials and \n",
    "$$\\tilde{x} = \\frac{m}{H^2}\\varphi. $$\n",
    "Eigenvalues are given by \n",
    "$$ \\Lambda_n = \\frac{n}{3}\\frac{m^2}{H}. $$\n",
    "In this case the expression for $f_n$ becomes\n",
    "$$f_n = \\frac{1}{\\sqrt{2^n n!}}\\left(\\frac{4\\pi}{3}\\right)^{1/2}\\int^{\\infty}_{-\\infty}d\\tilde{x} \\> e^{-\\frac{4\\pi^2 \\tilde{x}^2}{3}}f\\left(\\frac{H^2}{m} \\tilde{x}\\right)H_n\\left(\\frac{2\\pi\\tilde{x}}{\\sqrt{3}}\\right).  $$\n",
    "Considering \n",
    "$$f(\\varphi) = \\varphi = \\frac{H^2}{m} \\tilde{x}, $$\n",
    "we find that \n",
    "$$\\varphi_n = \\frac{H^2}{m}\\frac{1}{\\sqrt{2^n n!}}\\left(\\frac{4\\pi}{3}\\right)^{1/2}\\int^{\\infty}_{-\\infty}d\\tilde{x} \\> e^{-\\frac{4\\pi^2 \\tilde{x}^2}{3}}\\tilde{x}H_n\\left(\\frac{2\\pi\\tilde{x}}{\\sqrt{3}}\\right).  $$\n",
    "The lowest contribution comes from $n=1$ which gives\n",
    "$$\\varphi_1 = \\frac{H^2}{m}\\frac{1}{\\sqrt{2}}\\left(\\frac{4\\pi}{3}\\right)^{1/2}\\int^{\\infty}_{-\\infty}d\\tilde{x} \\> e^{-\\frac{4\\pi^2 \\tilde{x}^2}{3}}\\tilde{x}H_1\\left(\\frac{2\\pi\\tilde{x}}{\\sqrt{3}}\\right) $$\n",
    "$$\\varphi_1 = \\frac{H^2}{m}\\frac{1}{\\sqrt{2}}\\left(\\frac{4\\pi}{3}\\right)^{1/2}\\frac{4\\pi}{\\sqrt{3}}\\int^{\\infty}_{-\\infty}d\\tilde{x} \\> \\tilde{x}^2 e^{-\\frac{4\\pi^2 \\tilde{x}^2}{3}},$$\n",
    "which can be integrated by parts to give \n",
    "$$\\varphi_1 = -\\frac{H^2}{m}\\frac{1}{\\sqrt{2}}\\left(\\frac{4\\pi}{3}\\right)^{1/2}\\frac{4\\pi}{\\sqrt{3}}\\frac{3}{8\\pi^2}\\left(\\left[\\tilde{x}e^{-\\frac{4\\pi^2 \\tilde{x}^2}{3}}\\right]^{\\infty}_{-\\infty}-\\int^{\\infty}_{-\\infty}d\\tilde{x} \\> e^{-\\frac{4\\pi^2 \\tilde{x}^2}{3}}\\right)$$\n",
    "$$\\varphi_1 = \\frac{H^2}{m}\\frac{1}{\\sqrt{2}}\\left(\\frac{4\\pi}{3}\\right)^{1/2}\\frac{4\\pi}{\\sqrt{3}}\\frac{3}{8\\pi^2}\\left(\\frac{3}{4\\pi}\\right)^{1/2} = \\frac{H^2}{m}\\frac{3}{2\\pi\\sqrt{6}}.$$\n",
    "We can also compute the spectral index in this case with \n",
    "$$n_{\\varphi} = 1 +\\frac{2\\Lambda_1}{H} = 1 + \\frac{2m^2}{3H^2}.$$"
   ]
  },
  {
   "cell_type": "code",
   "execution_count": 2,
   "metadata": {},
   "outputs": [],
   "source": [
    "# Parameters\n",
    "hubble_rate = 1\n",
    "mass_squared = np.logspace(-2, -1, 100)"
   ]
  },
  {
   "cell_type": "code",
   "execution_count": 3,
   "metadata": {},
   "outputs": [],
   "source": [
    "# Spectral coefficient for phi\n",
    "phi_1 = ((hubble_rate**2)/np.sqrt(mass_squared))*(3/(2*np.pi*np.sqrt(6)))\n",
    "A_phi = phi_1**2\n",
    "\n",
    "# Long distance power spectrum for phi\n",
    "wavevector = np.logspace(-2, 2, 100) # Mpc^-1\n",
    "power_spectrum_phi = np.zeros((len(mass_squared), len(wavevector)))\n",
    "hubble_rate_Mpc = ((hubble_rate/(1.9733e-16))/(3.0857e16))/(1e-6)  # Mpc^-1\n",
    "\n",
    "# Computes power spectrum \n",
    "for i in range(len(mass_squared)):\n",
    "    power_spectrum_phi[i, :] = A_phi[i]*(2*mass_squared[i]/(3*hubble_rate**2))*(wavevector/hubble_rate_Mpc)**(2*mass_squared[i]/(3*hubble_rate**2))"
   ]
  },
  {
   "cell_type": "code",
   "execution_count": 4,
   "metadata": {
    "scrolled": true
   },
   "outputs": [
    {
     "data": {
      "text/plain": [
       "Text(0, 0.5, '$\\\\mathcal{P}_{\\\\varphi}(k)$')"
      ]
     },
     "execution_count": 4,
     "metadata": {},
     "output_type": "execute_result"
    },
    {
     "data": {
      "image/png": "[encoded data removed]",
      "text/plain": [
       "<Figure size 432x288 with 1 Axes>"
      ]
     },
     "metadata": {
      "needs_background": "light"
     },
     "output_type": "display_data"
    }
   ],
   "source": [
    "# Plotting\n",
    "plt.plot(wavevector, power_spectrum_phi[50, :])\n",
    "plt.xscale(\"log\")\n",
    "plt.xlabel(\"$k/Mpc^{-1}$\")\n",
    "plt.ylabel(\"$\\mathcal{P}_{\\\\varphi}(k)$\")"
   ]
  },
  {
   "cell_type": "markdown",
   "metadata": {},
   "source": [
    "For the density contrast the relevant terms were given as \n",
    "$$n_{\\delta} = 1 + \\frac{4}{3}\\frac{m^2}{H^2}, $$\n",
    "and \n",
    "$$A_{\\delta} = 2. $$"
   ]
  },
  {
   "cell_type": "code",
   "execution_count": 5,
   "metadata": {},
   "outputs": [],
   "source": [
    "# A_delta\n",
    "A_delta = 2\n",
    "\n",
    "# Long distance power spectrum for delta\n",
    "wavevector = np.logspace(-2, 2, 100) # Mpc^-1\n",
    "power_spectrum_delta = np.zeros((len(mass_squared), len(wavevector)))\n",
    "\n",
    "# Computes power spectrum \n",
    "for i in range(len(mass_squared)):\n",
    "    power_spectrum_delta[i, :] = A_delta*(4*mass_squared[i]/(3*hubble_rate**2))*(wavevector/hubble_rate_Mpc)**(4*mass_squared[i]/(3*hubble_rate**2))"
   ]
  },
  {
   "cell_type": "code",
   "execution_count": 6,
   "metadata": {},
   "outputs": [
    {
     "data": {
      "text/plain": [
       "Text(0, 0.5, '$\\\\mathcal{P}_{\\\\delta}(k)$')"
      ]
     },
     "execution_count": 6,
     "metadata": {},
     "output_type": "execute_result"
    },
    {
     "data": {
      "image/png": "[encoded data removed]",
      "text/plain": [
       "<Figure size 432x288 with 1 Axes>"
      ]
     },
     "metadata": {
      "needs_background": "light"
     },
     "output_type": "display_data"
    }
   ],
   "source": [
    "# Plotting\n",
    "plt.plot(wavevector, power_spectrum_delta[99, :])\n",
    "plt.xscale(\"log\")\n",
    "plt.xlabel(\"$k/Mpc^{-1}$\")\n",
    "plt.ylabel(\"$\\mathcal{P}_{\\\\delta}(k)$\")"
   ]
  },
  {
   "cell_type": "markdown",
   "metadata": {},
   "source": [
    "Before numerically reproducing the above results we'll need some way getting rid of the divergent parts of the solutions. "
   ]
  },
  {
   "cell_type": "code",
   "execution_count": 7,
   "metadata": {},
   "outputs": [],
   "source": [
    "def eigenfunction_slicer(eigenfunction, tolerance):\n",
    "    '''Function that cuts out the diverging part of the eigenfunction.\n",
    "    eigenfunction: eigenfunction to be cut\n",
    "    tolerance: determines at which value we cut off the eigenfunction before it starts diverging'''\n",
    "    \n",
    "    # Loops through eigenfunction\n",
    "    for i in range(1, len(eigenfunction)):\n",
    "        # Checks how close to zero the eigenfunction is\n",
    "        if abs(eigenfunction[-i]) < tolerance:\n",
    "            # Cuts out everything to the right\n",
    "            eigenfunction[-(i+50):] = np.zeros(len(eigenfunction[-(i+50):]))\n",
    "            break\n",
    "    \n",
    "    return eigenfunction"
   ]
  },
  {
   "cell_type": "markdown",
   "metadata": {},
   "source": [
    "Solver for the quadratic potential as defined in previous notebooks."
   ]
  },
  {
   "cell_type": "code",
   "execution_count": 8,
   "metadata": {},
   "outputs": [],
   "source": [
    "class eigenfunction_finder:\n",
    "    '''Class for finding the eigenfunction for a given eigenvalue'''\n",
    "    def __init__(self, V, field):\n",
    "        '''Initialises the range of field values for which the field is\n",
    "        to be integrated\n",
    "        V: array where first entry is the eigenfunction, second is Y\n",
    "        as defined for the coupled ODE system\n",
    "        field: field values'''\n",
    "        self.V = V\n",
    "        self.field = field\n",
    "        self.mass_squared = 1\n",
    " \n",
    "    def effective_potential(self, field):\n",
    "        '''Defines the effective potential in the SL equation'''\n",
    "    \n",
    "        W = self.mass_squared*((2*np.pi**2)/(3*hubble_rate**4))*(((4*np.pi**2)/(3*hubble_rate**4))*self.mass_squared*field**2 - 1)\n",
    "        return W\n",
    "\n",
    "\n",
    "    def schrodinger_like_ODE(self, V, field):\n",
    "        '''Computes the derivatives of the Schrodinger-like equation'''\n",
    "\n",
    "        # Empty array for derivatives\n",
    "        dV = np.zeros(2)\n",
    "        # Computes derivatives\n",
    "        dV[0] = V[1]\n",
    "        dV[1] = V[0]*(2*self.effective_potential(field) - (8*self.eigenvalue*np.pi**2)/(hubble_rate**3))\n",
    "        return dV    \n",
    "\n",
    "    def eigenfunction(self, eigenvalue):\n",
    "        '''Integrates the eigenfunction for the field based on the given\n",
    "        field range and returns the projected solution based on the\n",
    "        eigenvalue'''\n",
    "        \n",
    "        self.eigenvalue = eigenvalue\n",
    "        \n",
    "        # Integrates to find eigenfunction\n",
    "        V = odeint(self.schrodinger_like_ODE, self.V, self.field)\n",
    "\n",
    "        return V[-1,0]\n",
    "    \n",
    "    def eigenfunction_full(self, eigenvalue):\n",
    "        '''Integrates the eigenfunction for the field based on the given\n",
    "        field range and returns the projected solution based on the\n",
    "        eigenvalue'''\n",
    "        \n",
    "        self.eigenvalue = eigenvalue\n",
    "        \n",
    "        # Integrates to find eigenfunction\n",
    "        V = odeint(self.schrodinger_like_ODE, self.V, self.field)\n",
    "\n",
    "        return V[:,0]"
   ]
  },
  {
   "cell_type": "markdown",
   "metadata": {},
   "source": [
    "Below we compute the eigenfunctions and eigenvalues up to $n = 2$ for a range of mass values."
   ]
  },
  {
   "cell_type": "code",
   "execution_count": 9,
   "metadata": {},
   "outputs": [],
   "source": [
    "# Field \n",
    "field = np.linspace(0, 10, 3000)\n",
    "dphi = field[1] - field[0]\n",
    "# Mass squared values\n",
    "mass_squared = np.logspace(-2, -1, 100)\n",
    "# Stores eigenfunctions\n",
    "eigenfunctions = np.zeros((3, len(mass_squared), len(field)))\n",
    "# Stores eigenvalues\n",
    "eigenvalues = np.zeros((3, len(mass_squared)))\n",
    "\n",
    "# Initializing the root solvers\n",
    "eigenvalue_function_0 = eigenfunction_finder([1, 0], field)\n",
    "eigenvalue_function_1 = eigenfunction_finder([0, 1], field)\n",
    "eigenvalue_function_2 = eigenfunction_finder([-1, 0], field)\n",
    "\n",
    "# Eigenvalue guess range \n",
    "lower_eigenvalue_0 = -0.1\n",
    "upper_eigenvalue_0 = 0.001\n",
    "lower_eigenvalue_1 = 0.001\n",
    "upper_eigenvalue_1 = 0.004\n",
    "lower_eigenvalue_2 = 0.005\n",
    "upper_eigenvalue_2 = 0.007\n",
    "\n",
    "# Loops over all mass values\n",
    "for i in range(len(mass_squared)):\n",
    "    eigenvalue_function_0.mass_squared = mass_squared[i]\n",
    "    eigenvalue_function_1.mass_squared = mass_squared[i]\n",
    "    eigenvalue_function_2.mass_squared = mass_squared[i]\n",
    "    \n",
    "    # Adjusts eigenvalue guess range\n",
    "    if i >= 1:\n",
    "        lower_eigenvalue_1 = eigenvalue_1*(1 - 1/10)\n",
    "        upper_eigenvalue_1 = eigenvalue_1*(1 + 1/10)\n",
    "        lower_eigenvalue_2 = eigenvalue_2*(1 - 1/10)\n",
    "        upper_eigenvalue_2 = eigenvalue_2*(1 + 1/10)\n",
    "    \n",
    "    # Brent solver\n",
    "    eigenvalue_0 = optimize.brentq(eigenvalue_function_0.eigenfunction, lower_eigenvalue_0 , upper_eigenvalue_0, xtol=1e-6)\n",
    "    eigenfunction_0 = eigenvalue_function_0.eigenfunction_full(eigenvalue_0)\n",
    "    eigenvalue_1 = optimize.brentq(eigenvalue_function_1.eigenfunction, lower_eigenvalue_1 , upper_eigenvalue_1, xtol=1e-6)\n",
    "    eigenfunction_1 = eigenvalue_function_1.eigenfunction_full(eigenvalue_1)\n",
    "    eigenvalue_2 = optimize.brentq(eigenvalue_function_2.eigenfunction, lower_eigenvalue_2 , upper_eigenvalue_2, xtol=1e-6)\n",
    "    eigenfunction_2 = eigenvalue_function_2.eigenfunction_full(eigenvalue_2)\n",
    "    \n",
    "    # Slice eigenfunctions \n",
    "    eigenfunction_0 = eigenfunction_slicer(eigenfunction_0, 1e-2)\n",
    "    eigenfunction_1 = eigenfunction_slicer(eigenfunction_1, 1e-2)\n",
    "    eigenfunction_2 = eigenfunction_slicer(eigenfunction_2, 1e-2)\n",
    "    \n",
    "    # Normalisation \n",
    "    eigenfunction_0 = eigenfunction_0/np.sqrt(2*simps(eigenfunction_0**2, field[:len(eigenfunction_0)], dphi))\n",
    "    eigenfunction_1 = eigenfunction_1/np.sqrt(2*simps(eigenfunction_1**2, field[:len(eigenfunction_1)], dphi))\n",
    "    eigenfunction_2 = eigenfunction_2/np.sqrt(2*simps(eigenfunction_2**2, field[:len(eigenfunction_2)], dphi))\n",
    "   \n",
    "    # Store computed quantities \n",
    "    eigenvalues[0, i] = eigenvalue_0\n",
    "    eigenvalues[1, i] = eigenvalue_1\n",
    "    eigenvalues[2, i] = eigenvalue_2\n",
    "    eigenfunctions[0, i, :] = eigenfunction_0\n",
    "    eigenfunctions[1, i, :] = eigenfunction_1\n",
    "    eigenfunctions[2, i, :] = eigenfunction_2"
   ]
  },
  {
   "cell_type": "code",
   "execution_count": 10,
   "metadata": {},
   "outputs": [
    {
     "data": {
      "text/plain": [
       "[<matplotlib.lines.Line2D at 0x151c8ddac8>]"
      ]
     },
     "execution_count": 10,
     "metadata": {},
     "output_type": "execute_result"
    },
    {
     "data": {
      "image/png": "[encoded data removed]",
      "text/plain": [
       "<Figure size 432x288 with 1 Axes>"
      ]
     },
     "metadata": {
      "needs_background": "light"
     },
     "output_type": "display_data"
    }
   ],
   "source": [
    "# Plot of example eigenfunction\n",
    "plt.plot(field, eigenfunctions[1, 50])"
   ]
  },
  {
   "cell_type": "code",
   "execution_count": 11,
   "metadata": {},
   "outputs": [],
   "source": [
    "# Array to store spectral coefficient for phi\n",
    "numerical_phi_1 = np.zeros(len(mass_squared))\n",
    "numerical_A_phi = np.zeros(len(mass_squared))\n",
    "\n",
    "# Long distance power spectrum for phi\n",
    "wavevector = np.logspace(-2, 2, 100) # Mpc^-1\n",
    "numerical_power_spectrum_phi = np.zeros((len(mass_squared), len(wavevector))) \n",
    "hubble_rate_Mpc = ((hubble_rate/(1.9733e-16))/(3.0857e16))/(1e-6)  # Mpc^-1\n",
    "\n",
    "# Computes power spectrum \n",
    "for i in range(len(mass_squared)):\n",
    "    numerical_phi_1[i] = 2*simps(eigenfunctions[0, i]*eigenfunctions[1, i]*field, field, dphi)\n",
    "    numerical_A_phi[i] = numerical_phi_1[i]**2\n",
    "    numerical_power_spectrum_phi[i, :] = numerical_A_phi[i]*(2*eigenvalues[1, i]/hubble_rate)*(wavevector/hubble_rate_Mpc)**(2*eigenvalues[1, i]/hubble_rate)\n",
    "    "
   ]
  },
  {
   "cell_type": "code",
   "execution_count": 12,
   "metadata": {},
   "outputs": [
    {
     "data": {
      "text/plain": [
       "Text(0, 0.5, '$\\\\mathcal{P}_{\\\\varphi}(k)$')"
      ]
     },
     "execution_count": 12,
     "metadata": {},
     "output_type": "execute_result"
    },
    {
     "data": {
      "image/png": "[encoded data removed]",
      "text/plain": [
       "<Figure size 432x288 with 1 Axes>"
      ]
     },
     "metadata": {
      "needs_background": "light"
     },
     "output_type": "display_data"
    }
   ],
   "source": [
    "# Plotting\n",
    "plt.plot(wavevector, numerical_power_spectrum_phi[50, :])\n",
    "plt.xscale(\"log\")\n",
    "plt.xlabel(\"$k/Mpc^{-1}$\")\n",
    "plt.ylabel(\"$\\mathcal{P}_{\\\\varphi}(k)$\")"
   ]
  },
  {
   "cell_type": "markdown",
   "metadata": {},
   "source": [
    "Below we compare the analytical and numerical result for $A_{\\varphi}$."
   ]
  },
  {
   "cell_type": "code",
   "execution_count": 13,
   "metadata": {},
   "outputs": [
    {
     "data": {
      "text/plain": [
       "Text(0, 0.5, '$\\\\% $ error')"
      ]
     },
     "execution_count": 13,
     "metadata": {},
     "output_type": "execute_result"
    },
    {
     "data": {
      "image/png": "[encoded data removed]",
      "text/plain": [
       "<Figure size 432x288 with 1 Axes>"
      ]
     },
     "metadata": {
      "needs_background": "light"
     },
     "output_type": "display_data"
    }
   ],
   "source": [
    "# Computes error in numerical approach vs analytical\n",
    "error_phi = 100*abs(numerical_A_phi - A_phi)/A_phi\n",
    "plt.plot(mass_squared, error_phi)\n",
    "plt.xlabel(\"$m^2$\")\n",
    "plt.ylabel(\"$\\\\% $ error\")"
   ]
  },
  {
   "cell_type": "code",
   "execution_count": 14,
   "metadata": {},
   "outputs": [
    {
     "data": {
      "text/plain": [
       "Text(0, 0.5, 'log error')"
      ]
     },
     "execution_count": 14,
     "metadata": {},
     "output_type": "execute_result"
    },
    {
     "data": {
      "image/png": "[encoded data removed]",
      "text/plain": [
       "<Figure size 432x288 with 1 Axes>"
      ]
     },
     "metadata": {
      "needs_background": "light"
     },
     "output_type": "display_data"
    }
   ],
   "source": [
    "# Log of error\n",
    "plt.plot(mass_squared, np.log(error_phi))\n",
    "plt.xlabel(\"$m^2$\")\n",
    "plt.ylabel(\"log error\")"
   ]
  },
  {
   "cell_type": "code",
   "execution_count": 15,
   "metadata": {},
   "outputs": [],
   "source": [
    "# Array to store spectral coefficient for delta\n",
    "numerical_A_delta = np.zeros(len(mass_squared))\n",
    "\n",
    "# Long distance power spectrum for delta\n",
    "wavevector = np.logspace(-2, 2, 100) # Mpc^-1\n",
    "numerical_power_spectrum_delta = np.zeros((len(mass_squared), len(wavevector))) \n",
    "hubble_rate_Mpc = ((hubble_rate/(1.9733e-16))/(3.0857e16))/(1e-6)  # Mpc^-1\n",
    "\n",
    "# Computes power spectrum \n",
    "for i in range(len(mass_squared)):\n",
    "    numerical_phi_squared_2 = 2*simps(eigenfunctions[0, i]*eigenfunctions[2, i]*field**2, field, dphi) \n",
    "    numerical_phi_squared_average = 2*simps(eigenfunctions[0, i]*eigenfunctions[0, i]*field**2, field, dphi) \n",
    "    numerical_A_delta[i] = (numerical_phi_squared_2/numerical_phi_squared_average)**2\n",
    "    numerical_power_spectrum_delta[i, :] = numerical_A_delta[i]*(2*eigenvalues[2, i]/hubble_rate)*(wavevector/hubble_rate_Mpc)**(2*eigenvalues[2, i]/hubble_rate)"
   ]
  },
  {
   "cell_type": "code",
   "execution_count": 16,
   "metadata": {},
   "outputs": [
    {
     "data": {
      "text/plain": [
       "Text(0, 0.5, '$\\\\mathcal{P}_{\\\\delta}(k)$')"
      ]
     },
     "execution_count": 16,
     "metadata": {},
     "output_type": "execute_result"
    },
    {
     "data": {
      "image/png": "[encoded data removed]",
      "text/plain": [
       "<Figure size 432x288 with 1 Axes>"
      ]
     },
     "metadata": {
      "needs_background": "light"
     },
     "output_type": "display_data"
    }
   ],
   "source": [
    "# Plotting\n",
    "plt.plot(wavevector, numerical_power_spectrum_delta[99, :])\n",
    "plt.xscale(\"log\")\n",
    "plt.xlabel(\"$k/Mpc^{-1}$\")\n",
    "plt.ylabel(\"$\\mathcal{P}_{\\\\delta}(k)$\")"
   ]
  },
  {
   "cell_type": "markdown",
   "metadata": {},
   "source": [
    "Below we compare the analytical and numerical result for $A_{\\delta}$."
   ]
  },
  {
   "cell_type": "code",
   "execution_count": 17,
   "metadata": {},
   "outputs": [
    {
     "data": {
      "text/plain": [
       "Text(0, 0.5, '$\\\\% $ error')"
      ]
     },
     "execution_count": 17,
     "metadata": {},
     "output_type": "execute_result"
    },
    {
     "data": {
      "image/png": "[encoded data removed]",
      "text/plain": [
       "<Figure size 432x288 with 1 Axes>"
      ]
     },
     "metadata": {
      "needs_background": "light"
     },
     "output_type": "display_data"
    }
   ],
   "source": [
    "# Compute error\n",
    "error_delta = 100*abs(numerical_A_delta - A_delta)/A_delta\n",
    "plt.plot(mass_squared, error_delta)\n",
    "plt.xlabel(\"$m^2$\")\n",
    "plt.ylabel(\"$\\\\% $ error\")"
   ]
  },
  {
   "cell_type": "code",
   "execution_count": 18,
   "metadata": {},
   "outputs": [
    {
     "data": {
      "text/plain": [
       "Text(0, 0.5, 'log error')"
      ]
     },
     "execution_count": 18,
     "metadata": {},
     "output_type": "execute_result"
    },
    {
     "data": {
      "image/png": "[encoded data removed]",
      "text/plain": [
       "<Figure size 432x288 with 1 Axes>"
      ]
     },
     "metadata": {
      "needs_background": "light"
     },
     "output_type": "display_data"
    }
   ],
   "source": [
    "# Plot log of error\n",
    "plt.plot(mass_squared, np.log(error_delta))\n",
    "plt.xlabel(\"$m^2$\")\n",
    "plt.ylabel(\"log error\")"
   ]
  },
  {
   "cell_type": "code",
   "execution_count": 19,
   "metadata": {},
   "outputs": [],
   "source": [
    "# Compute error in the power spectrum\n",
    "error_power_spectrum_phi = 100*abs(numerical_power_spectrum_phi - power_spectrum_phi)/power_spectrum_phi\n",
    "error_power_spectrum_delta = 100*abs(numerical_power_spectrum_delta - power_spectrum_delta)/power_spectrum_delta"
   ]
  },
  {
   "cell_type": "markdown",
   "metadata": {},
   "source": [
    "We then look at errors in one of the power spectra."
   ]
  },
  {
   "cell_type": "code",
   "execution_count": 20,
   "metadata": {},
   "outputs": [
    {
     "data": {
      "text/plain": [
       "Text(0, 0.5, '$\\\\%$ error')"
      ]
     },
     "execution_count": 20,
     "metadata": {},
     "output_type": "execute_result"
    },
    {
     "data": {
      "image/png": "[encoded data removed]",
      "text/plain": [
       "<Figure size 432x288 with 1 Axes>"
      ]
     },
     "metadata": {
      "needs_background": "light"
     },
     "output_type": "display_data"
    }
   ],
   "source": [
    "# Error of power spectrum for phi\n",
    "plt.plot(wavevector, error_power_spectrum_phi[9])\n",
    "plt.xscale(\"log\")\n",
    "plt.xlabel(\"$k/Mpc^{-1}$\")\n",
    "plt.ylabel(\"$\\\\%$ error\")"
   ]
  },
  {
   "cell_type": "code",
   "execution_count": 21,
   "metadata": {},
   "outputs": [
    {
     "data": {
      "text/plain": [
       "Text(0, 0.5, '$\\\\%$ error')"
      ]
     },
     "execution_count": 21,
     "metadata": {},
     "output_type": "execute_result"
    },
    {
     "data": {
      "image/png": "[encoded data removed]",
      "text/plain": [
       "<Figure size 432x288 with 1 Axes>"
      ]
     },
     "metadata": {
      "needs_background": "light"
     },
     "output_type": "display_data"
    }
   ],
   "source": [
    "# Error of power spectrum for delta\n",
    "plt.plot(wavevector, error_power_spectrum_delta[9])\n",
    "plt.xscale(\"log\")\n",
    "plt.xlabel(\"$k/Mpc^{-1}$\")\n",
    "plt.ylabel(\"$\\\\%$ error\")"
   ]
  },
  {
   "cell_type": "markdown",
   "metadata": {},
   "source": [
    "Now we consider the quartic potential\n",
    "$$V(\\varphi) = \\frac{1}{2}m^2 \\varphi^2 + \\frac{1}{4}\\lambda \\varphi^4. $$\n",
    "We use the following definitions: \n",
    "$$ \\alpha \\equiv \\frac{m^2}{\\sqrt{\\lambda}H^2}.  $$\n",
    "$$ z \\equiv \\frac{\\lambda^{1/4}\\Omega}{H}\\varphi, \\>\\> \\Omega \\equiv 1 + \\sqrt{\\alpha}. $$\n",
    "With the above parameters the Schrödinger-like equation takes the form \n",
    "$$\\frac{\\partial \\Phi_n(z)}{\\partial z} \\equiv Y, $$\n",
    "$$\\frac{\\partial Y}{\\partial z} = \\left(-\\frac{4\\pi^2 \\alpha}{3\\Omega^2}-4\\pi^2\\frac{1-\\frac{4\\pi^2}{9}\\alpha^2}{\\Omega^4}z^2+\\frac{32\\pi^4\\alpha z^4}{9\\Omega^6} + \\frac{16\\pi^4 z^6}{9\\Omega^8}-\\frac{8\\pi^2(1+\\alpha)\\tilde{\\Lambda}(\\alpha)}{\\Omega^2}\\right)\\Phi_n(z).  $$\n",
    "Eigenvalues are rescaled as \n",
    "$$\\tilde{\\Lambda}_n(\\alpha) = \\frac{\\Lambda_n}{\\lambda^{1/2}H(1+\\alpha)} $$"
   ]
  },
  {
   "cell_type": "code",
   "execution_count": 22,
   "metadata": {},
   "outputs": [],
   "source": [
    "class eigenfunction_finder_rescaled:\n",
    "    '''Class for finding the eigenfunction for a the rescaled parameters z and alpha'''\n",
    "    def __init__(self, V, z):\n",
    "        '''Initialises the range of rescaled field values for which the field is\n",
    "        to be integrated\n",
    "        V: array where first entry is the eigenfunction, second is Y\n",
    "        as defined for the coupled ODE system\n",
    "        z: rescaled field values'''\n",
    "        self.V = V\n",
    "        self.z = z       \n",
    "        \n",
    "        # Parameters\n",
    "        self.alpha = 1\n",
    " \n",
    "    def schrodinger_like_ODE(self, V, z):\n",
    "        '''Computes the derivatives of the Schrodinger-like equation'''\n",
    "        \n",
    "        # Empty array for derivatives\n",
    "        dV = np.zeros(2)\n",
    "        \n",
    "        # Determines omega and calculates quantities in the Schrodinger-like equation\n",
    "        if self.alpha > 0: \n",
    "            omega = 1 + np.sqrt(self.alpha)\n",
    "            \n",
    "            # Dummy variables that form the various terms in the Schrodinger-like equation\n",
    "            x_1 = - (4*self.alpha*np.pi**2)/(3*omega**2) - ((4*np.pi**2)*(1 - 4*((np.pi*self.alpha)**2)/9)/(omega**4))*z**2\n",
    "            x_2 = (32*self.alpha*(np.pi*z)**4)/(9*omega**6) + (16*(np.pi**4)*z**6)/(9*omega**8)\n",
    "            x_3 = -(8*self.eigenvalue*(1 + self.alpha)*np.pi**2)/(omega**2)\n",
    "            \n",
    "        else:\n",
    "            omega = 1 + np.sqrt(-self.alpha)\n",
    "            \n",
    "            # Dummy variables that form the various terms in the Schrodinger-like equation\n",
    "            x_1 = - (4*self.alpha*np.pi**2)/(3*omega**2) - ((4*np.pi**2)*(1 - 4*((np.pi*self.alpha)**2)/9)/(omega**4))*z**2\n",
    "            x_2 = (32*self.alpha*(np.pi*z)**4)/(9*omega**6) + (16*(np.pi**4)*z**6)/(9*omega**8)\n",
    "            x_3 = -(8*self.eigenvalue*(1 - self.alpha)*np.pi**2)/(omega**2)\n",
    "            \n",
    "        # Computes derivatives\n",
    "        dV[0] = V[1]\n",
    "        dV[1] = V[0]*(x_1 + x_2 + x_3)\n",
    "        return dV    \n",
    "\n",
    "    def eigenfunction(self, eigenvalue):\n",
    "        '''Integrates the eigenfunction for the field based on the given\n",
    "        field range and returns the projected solution based on the\n",
    "        eigenvalue'''\n",
    "        \n",
    "        self.eigenvalue = eigenvalue\n",
    "        \n",
    "        # Integrates to find eigenfunction\n",
    "        V = odeint(self.schrodinger_like_ODE, self.V, self.z)\n",
    "        \n",
    "        return V[-1,0]\n",
    "    \n",
    "    def eigenfunction_full(self, eigenvalue):\n",
    "        '''Integrates the eigenfunction for the field based on the given\n",
    "        field range and returns the projected solution based on the\n",
    "        eigenvalue'''\n",
    "        \n",
    "        self.eigenvalue = eigenvalue\n",
    "        \n",
    "        # Integrates to find eigenfunction\n",
    "        V = odeint(self.schrodinger_like_ODE, self.V, self.z)\n",
    "\n",
    "        return V[:,0]"
   ]
  },
  {
   "cell_type": "code",
   "execution_count": 28,
   "metadata": {},
   "outputs": [],
   "source": [
    "# Field \n",
    "z = np.linspace(0, 3, 3000)\n",
    "dz = z[1] - z[0]\n",
    "\n",
    "# Generates range of alpha values\n",
    "alpha = np.logspace(-2, 2, 100)\n",
    "self_coupling = 1e-4\n",
    "omega = 1 + np.sqrt(alpha) \n",
    "\n",
    "# Stores eigenfunctions\n",
    "eigenfunctions = np.zeros((3, len(alpha), len(z)))\n",
    "# Stores eigenvalues\n",
    "eigenvalues = np.zeros((3, len(alpha)))\n",
    "\n",
    "# Initializing the root solvers\n",
    "eigenvalue_function_0 = eigenfunction_finder_rescaled([1, 0], z)\n",
    "eigenvalue_function_1 = eigenfunction_finder_rescaled([0, 1], z)\n",
    "eigenvalue_function_2 = eigenfunction_finder_rescaled([-1, 0], z)\n",
    "\n",
    "# Eigenvalue guess range \n",
    "lower_eigenvalue_0 = -0.1\n",
    "upper_eigenvalue_0 = 0.001\n",
    "lower_eigenvalue_1 = 0.05\n",
    "upper_eigenvalue_1 = 0.35\n",
    "lower_eigenvalue_2 = 0.2\n",
    "upper_eigenvalue_2 = 0.7\n",
    "\n",
    "# Loops over all mass values\n",
    "for i in range(len(alpha)):\n",
    "    eigenvalue_function_0.alpha = alpha[i]\n",
    "    eigenvalue_function_1.alpha = alpha[i]\n",
    "    eigenvalue_function_2.alpha = alpha[i]\n",
    "    \n",
    "    # Adjusts eigenvalue guess range\n",
    "    if i >= 1:\n",
    "        lower_eigenvalue_1 = eigenvalue_1*(1 - 1/10)\n",
    "        upper_eigenvalue_1 = eigenvalue_1*(1 + 1/10)\n",
    "        lower_eigenvalue_2 = eigenvalue_2*(1 - 1/10)\n",
    "        upper_eigenvalue_2 = eigenvalue_2*(1 + 1/10)\n",
    "    \n",
    "    # Brent solver\n",
    "    eigenvalue_0 = optimize.brentq(eigenvalue_function_0.eigenfunction, lower_eigenvalue_0 , upper_eigenvalue_0, xtol=1e-6)\n",
    "    eigenfunction_0 = eigenvalue_function_0.eigenfunction_full(eigenvalue_0)\n",
    "    eigenvalue_1 = optimize.brentq(eigenvalue_function_1.eigenfunction, lower_eigenvalue_1 , upper_eigenvalue_1, xtol=1e-6)\n",
    "    eigenfunction_1 = eigenvalue_function_1.eigenfunction_full(eigenvalue_1)\n",
    "    eigenvalue_2 = optimize.brentq(eigenvalue_function_2.eigenfunction, lower_eigenvalue_2 , upper_eigenvalue_2, xtol=1e-6)\n",
    "    eigenfunction_2 = eigenvalue_function_2.eigenfunction_full(eigenvalue_2)\n",
    "    \n",
    "    # Slice eigenfunctions \n",
    "    eigenfunction_0 = eigenfunction_slicer(eigenfunction_0, 1e-2)\n",
    "    eigenfunction_1 = eigenfunction_slicer(eigenfunction_1, 1e-2)\n",
    "    eigenfunction_2 = eigenfunction_slicer(eigenfunction_2, 1e-2)\n",
    "    \n",
    "    # Normalisation \n",
    "    eigenfunction_0 = eigenfunction_0/np.sqrt(2*simps(eigenfunction_0**2, z[:len(eigenfunction_0)], dz))\n",
    "    eigenfunction_1 = eigenfunction_1/np.sqrt(2*simps(eigenfunction_1**2, z[:len(eigenfunction_1)], dz))\n",
    "    eigenfunction_2 = eigenfunction_2/np.sqrt(2*simps(eigenfunction_2**2, z[:len(eigenfunction_2)], dz))\n",
    "   \n",
    "    # Store computed quantities \n",
    "    eigenvalues[0, i] = eigenvalue_0\n",
    "    eigenvalues[1, i] = eigenvalue_1\n",
    "    eigenvalues[2, i] = eigenvalue_2\n",
    "    eigenfunctions[0, i, :] = eigenfunction_0\n",
    "    eigenfunctions[1, i, :] = eigenfunction_1\n",
    "    eigenfunctions[2, i, :] = eigenfunction_2"
   ]
  },
  {
   "cell_type": "markdown",
   "metadata": {},
   "source": [
    "$$ V(z) = \\frac{\\alpha H^4}{2\\Omega^2} z^2 + \\frac{H^4}{4\\Omega^4}z^4 $$"
   ]
  },
  {
   "cell_type": "code",
   "execution_count": 29,
   "metadata": {},
   "outputs": [],
   "source": [
    "# Calculating unscaled eigenvalue\n",
    "eigenvalues[0, :] = eigenvalues[0, :]*hubble_rate*np.sqrt(self_coupling)*(1 + alpha)\n",
    "eigenvalues[1, :] = eigenvalues[1, :]*hubble_rate*np.sqrt(self_coupling)*(1 + alpha)\n",
    "eigenvalues[2, :] = eigenvalues[2, :]*hubble_rate*np.sqrt(self_coupling)*(1 + alpha)"
   ]
  },
  {
   "cell_type": "code",
   "execution_count": 30,
   "metadata": {},
   "outputs": [],
   "source": [
    "# Array to store spectral coefficient for delta\n",
    "quartic_A_delta = np.zeros(len(mass_squared))\n",
    "\n",
    "# Potential in terms of z\n",
    "quartic_potential_z = np.outer(alpha/(2*omega**2), z) + 0.25*(hubble_rate*np.outer(1/omega, z))**4\n",
    "\n",
    "# Long distance power spectrum for delta\n",
    "wavevector = np.logspace(-2, 2, 100) # Mpc^-1\n",
    "quartic_power_spectrum_delta = np.zeros((len(alpha), len(wavevector))) \n",
    "hubble_rate_Mpc = ((hubble_rate/(1.9733e-16))/(3.0857e16))/(1e-6)  # Mpc^-1\n",
    "\n",
    "# Computes power spectrum \n",
    "for i in range(len(alpha)):\n",
    "    average_potential = 2*simps(quartic_potential_z[i]*eigenfunctions[0, i]**2, z, dz) \n",
    "    quartic_delta_2 = 2*simps(quartic_potential_z[i]*eigenfunctions[0, i]*eigenfunctions[2, i], z, dz)/average_potential \n",
    "    quartic_A_delta[i] = quartic_delta_2**2\n",
    "    quartic_power_spectrum_delta[i, :] = quartic_A_delta[i]*(2*eigenvalues[2, i]/hubble_rate)*(wavevector/hubble_rate_Mpc)**(2*eigenvalues[2, i]/hubble_rate)"
   ]
  },
  {
   "cell_type": "code",
   "execution_count": 31,
   "metadata": {},
   "outputs": [
    {
     "data": {
      "text/plain": [
       "Text(0, 0.5, '$\\\\mathcal{P}_{\\\\delta}(k)$')"
      ]
     },
     "execution_count": 31,
     "metadata": {},
     "output_type": "execute_result"
    },
    {
     "data": {
      "image/png": "[encoded data removed]",
      "text/plain": [
       "<Figure size 432x288 with 1 Axes>"
      ]
     },
     "metadata": {
      "needs_background": "light"
     },
     "output_type": "display_data"
    }
   ],
   "source": [
    "# Plotting\n",
    "plt.plot(wavevector, quartic_power_spectrum_delta[1, :])\n",
    "plt.xscale(\"log\")\n",
    "plt.xlabel(\"$k/Mpc^{-1}$\")\n",
    "plt.ylabel(\"$\\mathcal{P}_{\\\\delta}(k)$\")"
   ]
  },
  {
   "cell_type": "markdown",
   "metadata": {},
   "source": [
    "## Choosing values for the parameters\n",
    "Here we consider the choice of values for the Hubble rate and parameters in the potential.\n",
    "For the Hubble rate the upper limit is https://arxiv.org/pdf/1711.07344.pdf\n",
    "$$H = 8.76 \\times 10^{13} \\text{ GeV} $$\n",
    "\n",
    "For the mass various WIMP models seem to range from few around ~ 10 GeV https://arxiv.org/abs/astro-ph/0503486 to ~ 100 TeV https://inspirehep.net/literature/281519 in the more extreme cases.  \n",
    "\n",
    "A lower bound on the self-coupling is given in https://arxiv.org/abs/1811.02586 to be $\\lambda = 0.45$."
   ]
  },
  {
   "cell_type": "code",
   "execution_count": 50,
   "metadata": {},
   "outputs": [
    {
     "data": {
      "text/plain": [
       "array([[[1.94260960e-26, 1.33514767e-26, 1.08024190e-26, ...,\n",
       "         4.34507780e-27, 4.22853710e-27, 4.12089727e-27],\n",
       "        [2.82911653e-26, 1.94444027e-26, 1.57320865e-26, ...,\n",
       "         6.32794743e-27, 6.15822356e-27, 6.00146246e-27],\n",
       "        [4.12017956e-26, 2.83178263e-26, 2.29114003e-26, ...,\n",
       "         9.21569661e-27, 8.96851951e-27, 8.74022071e-27],\n",
       "        ...,\n",
       "        [9.15914466e-19, 6.29504282e-19, 5.09319622e-19, ...,\n",
       "         2.04864612e-19, 1.99369873e-19, 1.94294799e-19],\n",
       "        [1.33389064e-18, 9.16777602e-19, 7.41746856e-19, ...,\n",
       "         2.98354265e-19, 2.90352011e-19, 2.82960935e-19],\n",
       "        [1.94260960e-18, 1.33514767e-18, 1.08024190e-18, ...,\n",
       "         4.34507780e-19, 4.22853710e-19, 4.12089727e-19]],\n",
       "\n",
       "       [[2.45800074e-26, 1.68937389e-26, 1.36683943e-26, ...,\n",
       "         5.49786454e-27, 5.35040458e-27, 5.21420697e-27],\n",
       "        [3.57970563e-26, 2.46031710e-26, 1.99059452e-26, ...,\n",
       "         8.00680665e-27, 7.79205356e-27, 7.59370238e-27],\n",
       "        [5.21329885e-26, 3.58307906e-26, 2.89899930e-26, ...,\n",
       "         1.16607007e-26, 1.13479453e-26, 1.10590769e-26],\n",
       "        ...,\n",
       "        [1.15891450e-18, 7.96517215e-19, 6.44446525e-19, ...,\n",
       "         2.59216966e-19, 2.52264426e-19, 2.45842890e-19],\n",
       "        [1.68778337e-18, 1.16000663e-18, 9.38538715e-19, ...,\n",
       "         3.77510233e-19, 3.67384912e-19, 3.58032919e-19],\n",
       "        [2.45800074e-18, 1.68937389e-18, 1.36683943e-18, ...,\n",
       "         5.49786454e-19, 5.35040458e-19, 5.21420697e-19]],\n",
       "\n",
       "       [[3.20941839e-26, 2.20582019e-26, 1.78468604e-26, ...,\n",
       "         7.17857699e-27, 6.98603812e-27, 6.80820452e-27],\n",
       "        [4.67403159e-26, 3.21244287e-26, 2.59912480e-26, ...,\n",
       "         1.04545097e-26, 1.01741060e-26, 9.91511829e-27],\n",
       "        [6.80701878e-26, 4.67843628e-26, 3.78523144e-26, ...,\n",
       "         1.52254093e-26, 1.48170437e-26, 1.44398674e-26],\n",
       "        ...,\n",
       "        [1.51319788e-18, 1.04001474e-18, 8.41455618e-19, ...,\n",
       "         3.38460312e-19, 3.29382361e-19, 3.20997745e-19],\n",
       "        [2.20374343e-18, 1.51462388e-18, 1.22545261e-18, ...,\n",
       "         4.92916160e-19, 4.79695500e-19, 4.67484577e-19],\n",
       "        [3.20941839e-18, 2.20582019e-18, 1.78468604e-18, ...,\n",
       "         7.17857699e-19, 6.98603812e-19, 6.80820452e-19]],\n",
       "\n",
       "       ...,\n",
       "\n",
       "       [[3.90639185e-25, 2.68484720e-25, 2.17225744e-25, ...,\n",
       "         8.73751291e-26, 8.50316133e-26, 8.28670849e-26],\n",
       "        [5.68906782e-25, 3.91007314e-25, 3.16356382e-25, ...,\n",
       "         1.27248636e-25, 1.23835661e-25, 1.20683353e-25],\n",
       "        [8.28526525e-25, 5.69442906e-25, 4.60725136e-25, ...,\n",
       "         1.85318358e-25, 1.80347876e-25, 1.75757017e-25],\n",
       "        ...,\n",
       "        [1.84181155e-17, 1.26586958e-17, 1.02419036e-17, ...,\n",
       "         4.11962057e-18, 4.00912693e-18, 3.90707231e-18],\n",
       "        [2.68231945e-17, 1.84354723e-17, 1.49157807e-17, ...,\n",
       "         5.99960315e-18, 5.83868590e-18, 5.69005881e-18],\n",
       "        [3.90639185e-17, 2.68484720e-17, 2.17225744e-17, ...,\n",
       "         8.73751291e-18, 8.50316133e-18, 8.28670849e-18]],\n",
       "\n",
       "       [[1.54863648e-24, 1.06437154e-24, 8.61162233e-25, ...,\n",
       "         3.46386942e-25, 3.37096388e-25, 3.28515407e-25],\n",
       "        [2.25535438e-24, 1.55009588e-24, 1.25415231e-24, ...,\n",
       "         5.04460095e-25, 4.90929812e-25, 4.78432913e-25],\n",
       "        [3.28458192e-24, 2.25747977e-24, 1.82648280e-24, ...,\n",
       "         7.34669692e-25, 7.14964884e-25, 6.96765044e-25],\n",
       "        ...,\n",
       "        [7.30161405e-17, 5.01836959e-17, 4.06026484e-17, ...,\n",
       "         1.63316814e-17, 1.58936442e-17, 1.54890624e-17],\n",
       "        [1.06336945e-16, 7.30849492e-17, 5.91316052e-17, ...,\n",
       "         2.37846193e-17, 2.31466846e-17, 2.25574725e-17],\n",
       "        [1.54863648e-16, 1.06437154e-16, 8.61162233e-17, ...,\n",
       "         3.46386942e-17, 3.37096388e-17, 3.28515407e-17]],\n",
       "\n",
       "       [[1.94260960e-20, 1.33514767e-20, 1.08024190e-20, ...,\n",
       "         4.34507780e-21, 4.22853710e-21, 4.12089727e-21],\n",
       "        [2.82911653e-20, 1.94444027e-20, 1.57320865e-20, ...,\n",
       "         6.32794743e-21, 6.15822356e-21, 6.00146246e-21],\n",
       "        [4.12017956e-20, 2.83178263e-20, 2.29114003e-20, ...,\n",
       "         9.21569661e-21, 8.96851951e-21, 8.74022071e-21],\n",
       "        ...,\n",
       "        [9.15914466e-13, 6.29504282e-13, 5.09319622e-13, ...,\n",
       "         2.04864612e-13, 1.99369873e-13, 1.94294799e-13],\n",
       "        [1.33389064e-12, 9.16777602e-13, 7.41746856e-13, ...,\n",
       "         2.98354265e-13, 2.90352011e-13, 2.82960935e-13],\n",
       "        [1.94260960e-12, 1.33514767e-12, 1.08024190e-12, ...,\n",
       "         4.34507780e-13, 4.22853710e-13, 4.12089727e-13]]])"
      ]
     },
     "execution_count": 50,
     "metadata": {},
     "output_type": "execute_result"
    }
   ],
   "source": [
    "# Field \n",
    "z = np.linspace(0, 3, 3000)\n",
    "dz = z[1] - z[0]\n",
    "\n",
    "# Parameters\n",
    "hubble_rate = np.linspace(8.76e13, 8.76e10, 10)\n",
    "mass = np.logspace(1, 5, 50)\n",
    "mass_squared = mass**2\n",
    "self_coupling = np.linspace(0.45, 10, 20)\n",
    "\n",
    "# Alpha for the various combinations of parameters\n",
    "alpha = np.zeros((len(hubble_rate), len(mass_squared), len(self_coupling)))\n",
    "omega = np.zeros((len(hubble_rate), len(mass_squared), len(self_coupling)))\n",
    "potential = np.zeros((len(hubble_rate), len(mass_squared), len(self_coupling), len(z)))\n",
    "for i in range(len(hubble_rate)):\n",
    "    for j in range(len(mass_squared)):\n",
    "        for k in range(len(self_coupling)):\n",
    "            alpha[i, j, k] = mass_squared[j]/(np.sqrt(self_coupling[k])*hubble_rate[i]**2)\n",
    "            omega[i, j, k] =  1 + np.sqrt(alpha[i, j, k])\n",
    "            for l in range(len(z)):\n",
    "                potential[i, j, k, l] = (0.5*alpha[i,j,k]*(z[l]/omega[i, j, k])**2 + 0.25*(z[l]/omega[i, j, k])**4)*hubble_rate[i]**4\n",
    "alpha"
   ]
  },
  {
   "cell_type": "code",
   "execution_count": 84,
   "metadata": {},
   "outputs": [],
   "source": [
    "def eigenfunction_slicer(eigenfunction):\n",
    "    '''Function that cuts out the diverging part of the eigenfunction.\n",
    "    eigenfunction: eigenfunction to be cut'''\n",
    "    \n",
    "    # Loops through eigenfunction\n",
    "    for i in range(1, len(eigenfunction)):\n",
    "        # Checks how close to zero the eigenfunction is\n",
    "        if abs(eigenfunction[-i]) < abs(eigenfunction[-(i + 1)]):\n",
    "            # Cuts out everything to the right\n",
    "            eigenfunction[-i:] = np.zeros(len(eigenfunction[-i:]))\n",
    "            break\n",
    "    \n",
    "    return eigenfunction"
   ]
  },
  {
   "cell_type": "code",
   "execution_count": 120,
   "metadata": {},
   "outputs": [],
   "source": [
    "# Field \n",
    "z = np.linspace(0, 3, 3000)\n",
    "dz = z[1] - z[0]\n",
    "\n",
    "# Stores eigenfunctions\n",
    "eigenfunctions = np.zeros((3, len(hubble_rate), len(mass_squared), len(self_coupling), len(z)))\n",
    "# Stores eigenvalues\n",
    "eigenvalues = np.zeros((3, len(hubble_rate), len(mass_squared), len(self_coupling)))\n",
    "\n",
    "# Initializing the root solvers\n",
    "eigenvalue_function_0 = eigenfunction_finder_rescaled([1, 0], z)\n",
    "eigenvalue_function_1 = eigenfunction_finder_rescaled([0, 1], z)\n",
    "eigenvalue_function_2 = eigenfunction_finder_rescaled([-1, 0], z)\n",
    "\n",
    "# Eigenvalue guess range \n",
    "lower_eigenvalue_0 = -0.1\n",
    "upper_eigenvalue_0 = 0.001\n",
    "lower_eigenvalue_1 = 0.05\n",
    "upper_eigenvalue_1 = 0.35\n",
    "lower_eigenvalue_2 = 0.2\n",
    "upper_eigenvalue_2 = 0.7\n",
    "\n",
    "# Loops over parameter combinations\n",
    "for i in range(len(hubble_rate)):\n",
    "    for j in range(len(mass_squared)):\n",
    "        # Eigenvalue guess range \n",
    "        lower_eigenvalue_0 = -0.1\n",
    "        upper_eigenvalue_0 = 0.001\n",
    "        lower_eigenvalue_1 = 0.05\n",
    "        upper_eigenvalue_1 = 0.35\n",
    "        lower_eigenvalue_2 = 0.2\n",
    "        upper_eigenvalue_2 = 0.7\n",
    "        for k in range(len(self_coupling)):\n",
    "            eigenvalue_function_0.alpha = alpha[i, j, k]\n",
    "            eigenvalue_function_1.alpha = alpha[i, j, k]\n",
    "            eigenvalue_function_2.alpha = alpha[i, j, k]\n",
    "    \n",
    "            # Adjusts eigenvalue guess range\n",
    "            if k >= 1:\n",
    "                lower_eigenvalue_1 = eigenvalue_1*(1 - 1/10)\n",
    "                upper_eigenvalue_1 = eigenvalue_1*(1 + 1/10)\n",
    "                lower_eigenvalue_2 = eigenvalue_2*(1 - 1/10)\n",
    "                upper_eigenvalue_2 = eigenvalue_2*(1 + 1/10)\n",
    "    \n",
    "            # Brent solver\n",
    "            eigenvalue_0 = optimize.brentq(eigenvalue_function_0.eigenfunction, lower_eigenvalue_0 , upper_eigenvalue_0, xtol=1e-6)\n",
    "            eigenfunction_0 = eigenvalue_function_0.eigenfunction_full(eigenvalue_0)\n",
    "            eigenvalue_1 = optimize.brentq(eigenvalue_function_1.eigenfunction, lower_eigenvalue_1 , upper_eigenvalue_1, xtol=1e-6)\n",
    "            eigenfunction_1 = eigenvalue_function_1.eigenfunction_full(eigenvalue_1)\n",
    "            eigenvalue_2 = optimize.brentq(eigenvalue_function_2.eigenfunction, lower_eigenvalue_2 , upper_eigenvalue_2, xtol=1e-6)\n",
    "            eigenfunction_2 = eigenvalue_function_2.eigenfunction_full(eigenvalue_2)\n",
    "    \n",
    "            # Slice eigenfunctions \n",
    "            eigenfunction_0 = eigenfunction_slicer(eigenfunction_0)\n",
    "            eigenfunction_1 = eigenfunction_slicer(eigenfunction_1)\n",
    "            eigenfunction_2 = eigenfunction_slicer(eigenfunction_2)\n",
    "    \n",
    "            # Normalisation \n",
    "            eigenfunction_0 = eigenfunction_0/np.sqrt(2*simps(eigenfunction_0**2, z[:len(eigenfunction_0)], dz))\n",
    "            eigenfunction_1 = eigenfunction_1/np.sqrt(2*simps(eigenfunction_1**2, z[:len(eigenfunction_1)], dz))\n",
    "            eigenfunction_2 = eigenfunction_2/np.sqrt(2*simps(eigenfunction_2**2, z[:len(eigenfunction_2)], dz))\n",
    "   \n",
    "            # Store computed quantities \n",
    "            eigenvalues[0, i, j, k] = eigenvalue_0\n",
    "            eigenvalues[1, i, j, k] = eigenvalue_1\n",
    "            eigenvalues[2, i, j, k] = eigenvalue_2\n",
    "            eigenfunctions[0, i, j, k, :] = eigenfunction_0\n",
    "            eigenfunctions[1, i, j, k, :] = eigenfunction_1\n",
    "            eigenfunctions[2, i, j, k, :] = eigenfunction_2"
   ]
  },
  {
   "cell_type": "markdown",
   "metadata": {},
   "source": [
    "The power spectrum for the spectator field was given above to be\n",
    "$$\\mathcal{P}_f(k) \\simeq A_f(n_f-1)\\left(\\frac{k}{H}\\right)^{n_f-1}, $$\n",
    "so the amplitude is\n",
    "$$A^*_f = A_f(n_f-1). $$"
   ]
  },
  {
   "cell_type": "code",
   "execution_count": 121,
   "metadata": {},
   "outputs": [],
   "source": [
    "# Array to store spectral coefficient for delta\n",
    "quartic_A_delta = np.zeros((len(hubble_rate), len(mass_squared), len(self_coupling)))\n",
    "A_delta_star = np.zeros((len(hubble_rate), len(mass_squared), len(self_coupling)))\n",
    "log_A = np.zeros((len(hubble_rate), len(mass_squared), len(self_coupling)))\n",
    "\n",
    "# Array for unscaled eigenvalues\n",
    "eigenvalues_unscaled = np.zeros(np.shape(eigenvalues))\n",
    "\n",
    "\n",
    "# Computes density contrast amplitude\n",
    "for i in range(len(hubble_rate)):\n",
    "    for j in range(len(mass_squared)):\n",
    "        for k in range(len(self_coupling)):\n",
    "            average_potential = 2*simps(potential[i, j, k]*eigenfunctions[0, i, j , k]**2, z, dz) \n",
    "            quartic_delta_2 = 2*simps(potential[i, j, k]*eigenfunctions[0, i, j, k]*eigenfunctions[2, i, j, k], z, dz)/average_potential \n",
    "            quartic_A_delta[i, j, k] = quartic_delta_2**2\n",
    "            eigenvalues_unscaled[0, i, j, k] = eigenvalues[0, i, j, k]*(1 + alpha[i, j, k])*np.sqrt(self_coupling[k])*hubble_rate[i]\n",
    "            eigenvalues_unscaled[1, i, j, k] = eigenvalues[1, i, j, k]*(1 + alpha[i, j, k])*np.sqrt(self_coupling[k])*hubble_rate[i]\n",
    "            eigenvalues_unscaled[2, i, j, k] = eigenvalues[2, i, j, k]*(1 + alpha[i, j, k])*np.sqrt(self_coupling[k])*hubble_rate[i]\n",
    "            A_delta_star[i, j, k] = quartic_A_delta[i, j, k]*2*eigenvalues_unscaled[2, i, j, k]/hubble_rate[i]\n",
    "            log_A[i, j, k] = np.log(A_delta_star[i, j, k]*10**10)"
   ]
  },
  {
   "cell_type": "markdown",
   "metadata": {},
   "source": [
    "We compare the amplitude to that of the primordial power spectrum which is given in Planck https://arxiv.org/pdf/1807.06211.pdf to be \n",
    "$$\\ln{10^{10} A_s} =  3.040 \\pm 0.016.$$\n",
    "For the range of values considered the amplitude seems to always exceed that of the primordial power spectrum."
   ]
  },
  {
   "cell_type": "code",
   "execution_count": 125,
   "metadata": {},
   "outputs": [
    {
     "data": {
      "text/plain": [
       "0.9830248589905379"
      ]
     },
     "execution_count": 125,
     "metadata": {},
     "output_type": "execute_result"
    }
   ],
   "source": [
    "np.min(A_delta_star)"
   ]
  },
  {
   "cell_type": "code",
   "execution_count": 123,
   "metadata": {},
   "outputs": [
    {
     "data": {
      "text/plain": [
       "23.008730059687597"
      ]
     },
     "execution_count": 123,
     "metadata": {},
     "output_type": "execute_result"
    }
   ],
   "source": [
    "np.min(log_A)"
   ]
  }
 ],
 "metadata": {
  "kernelspec": {
   "display_name": "Python 3",
   "language": "python",
   "name": "python3"
  },
  "language_info": {
   "codemirror_mode": {
    "name": "ipython",
    "version": 3
   },
   "file_extension": ".py",
   "mimetype": "text/x-python",
   "name": "python",
   "nbconvert_exporter": "python",
   "pygments_lexer": "ipython3",
   "version": "3.7.3"
  }
 },
 "nbformat": 4,
 "nbformat_minor": 2
}
