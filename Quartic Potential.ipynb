{
 "cells": [
  {
   "cell_type": "markdown",
   "metadata": {},
   "source": [
    "## Quartic Potential\n",
    "For convenience the key equations are given below from https://arxiv.org/pdf/astro-ph/9407016.pdf:\n",
    "\n",
    "1) Fokker-Planck equation\n",
    "$$    \\frac{\\partial P(\\varphi,t)}{\\partial t} = \\frac{1}{3H}\\frac{\\partial}{\\partial \\varphi}\\left(V'(\\varphi) P(\\varphi,t)\\right) + \\frac{H^3}{8\\pi^2}\\frac{\\partial^2 P(\\varphi,t)}{\\partial \\varphi^2} $$\n",
    "\n",
    "2) Schrodinger-like equation\n",
    "$$     -\\frac{1}{2}\\frac{\\partial^2 \\Phi_n(\\varphi)}{\\partial \\varphi^2} + W(\\varphi) \\Phi_n (\\varphi) = \\frac{4\\pi^2\\Lambda_n}{H^3}\\Phi_n(\\varphi) $$\n",
    "\n",
    "3) Effective potential\n",
    "$$ W(\\varphi) = \\frac{1}{2}\\left[v'(\\varphi)^2-v''(\\varphi)\\right], \\> \\> v(\\varphi) = \\frac{4\\pi^2}{3H^4} V(\\varphi) $$\n",
    "\n",
    "4) Solutions take the form\n",
    "$$ P(\\varphi,t) = \\exp\\left(-\\frac{4\\pi^2 V(\\varphi)}{3H^4}\\right) \\sum^{\\infty}_{n=0} a_n \\Phi_n (\\varphi) e^{-\\Lambda_n (t-t_0)} $$"
   ]
  },
  {
   "cell_type": "code",
   "execution_count": 1,
   "metadata": {},
   "outputs": [],
   "source": [
    "import numpy as np\n",
    "from math import factorial, ceil\n",
    "from scipy import optimize\n",
    "from scipy.integrate import odeint, simps\n",
    "from scipy.special import eval_hermite\n",
    "import matplotlib.pyplot as plt\n",
    "%matplotlib inline"
   ]
  },
  {
   "cell_type": "markdown",
   "metadata": {},
   "source": [
    "## Defining key parameters "
   ]
  },
  {
   "cell_type": "code",
   "execution_count": 2,
   "metadata": {},
   "outputs": [],
   "source": [
    "hubble_rate = 1\n",
    "mass = 0\n",
    "mass_squared = mass**2\n",
    "self_coupling = 1"
   ]
  },
  {
   "cell_type": "markdown",
   "metadata": {},
   "source": [
    "For a self-interacting field, the interactions may be characterised by the following potentials\n",
    "$$V(\\varphi) = \\frac{1}{2}m^2\\varphi^2 + \\frac{1}{4}\\lambda\\varphi^4 $$\n",
    "$$    W(\\varphi) = m^2\\frac{2\\pi^2}{3H^4}\\left[\\frac{4\\pi^2}{3H^4} m^2 \\varphi^2 - 1\\right] + \\lambda\\frac{2\\pi^2}{3H^4}\\left[\\frac{4\\pi^2}{3H^4} \\lambda \\varphi^6 - 3 \\varphi^2 \\right] $$"
   ]
  },
  {
   "cell_type": "markdown",
   "metadata": {},
   "source": [
    "## Initial eigenfunction entries"
   ]
  },
  {
   "cell_type": "code",
   "execution_count": 3,
   "metadata": {},
   "outputs": [],
   "source": [
    "# Even eigenfunction starting conditions\n",
    "V_even = [1, 0]\n",
    "# Odd eigenfunction starting conditions\n",
    "V_odd = [0, 1]"
   ]
  },
  {
   "cell_type": "code",
   "execution_count": 4,
   "metadata": {},
   "outputs": [],
   "source": [
    "class eigenfunction_finder:\n",
    "    '''Class for finding the eigenfunction for a given eigenvalue'''\n",
    "    def __init__(self, V, field):\n",
    "        '''Initialises the range of field values for which the field is\n",
    "        to be integrated\n",
    "        V: array where first entry is the eigenfunction, second is Y\n",
    "        as defined for the coupled ODE system\n",
    "        field: field values'''\n",
    "        self.V = V\n",
    "        self.field = field        \n",
    " \n",
    "    def effective_potential(self, field):\n",
    "        '''Defines the effective potential in the SL equation'''\n",
    "    \n",
    "        # Contribution to effective potential of quartic and squared terms respectively\n",
    "        quartic_potential = self_coupling*((2*np.pi**2)/(3*hubble_rate**4))*(((4*np.pi**2)/(3*hubble_rate**4))*self_coupling*field**6 - 3*field**2)\n",
    "        quadratic_potential = mass_squared*((2*np.pi**2)/(3*hubble_rate**4))*(((4*np.pi**2)/(3*hubble_rate**4))*mass_squared*field**2 - 1)\n",
    "        \n",
    "        W = quadratic_potential + quartic_potential\n",
    "        return W\n",
    "\n",
    "\n",
    "    def schrodinger_like_ODE(self, V, field):\n",
    "        '''Computes the derivatives of the Schrodinger-like equation'''\n",
    "\n",
    "        # Empty array for derivatives\n",
    "        dV = np.zeros(2)\n",
    "        # Computes derivatives\n",
    "        dV[0] = V[1]\n",
    "        dV[1] = V[0]*(2*self.effective_potential(field) - (8*self.eigenvalue*np.pi**2)/(hubble_rate**3))\n",
    "        return dV    \n",
    "\n",
    "    def eigenfunction(self, eigenvalue):\n",
    "        '''Integrates the eigenfunction for the field based on the given\n",
    "        field range and returns the projected solution based on the\n",
    "        eigenvalue'''\n",
    "        \n",
    "        self.eigenvalue = eigenvalue\n",
    "        \n",
    "        # Integrates to find eigenfunction\n",
    "        V = odeint(self.schrodinger_like_ODE, self.V, self.field)\n",
    "        \n",
    "        return V[-1,0]\n",
    "    \n",
    "    def eigenfunction_full(self, eigenvalue):\n",
    "        '''Integrates the eigenfunction for the field based on the given\n",
    "        field range and returns the projected solution based on the\n",
    "        eigenvalue'''\n",
    "        \n",
    "        self.eigenvalue = eigenvalue\n",
    "        \n",
    "        # Integrates to find eigenfunction\n",
    "        V = odeint(self.schrodinger_like_ODE, self.V, self.field)\n",
    "\n",
    "        return V[:,0]"
   ]
  },
  {
   "cell_type": "code",
   "execution_count": 5,
   "metadata": {},
   "outputs": [
    {
     "name": "stdout",
     "output_type": "stream",
     "text": [
      "      converged: True\n",
      "           flag: 'converged'\n",
      " function_calls: 16\n",
      "     iterations: 15\n",
      "           root: 8.04061562588124e-09\n"
     ]
    }
   ],
   "source": [
    "# Field \n",
    "field = np.linspace(0, 3.5, 3000)\n",
    "\n",
    "# Tolerance \n",
    "tolerance = 1e-6\n",
    "\n",
    "# Scipy implementations of the Brent for n = 0\n",
    "eigenvalue_function = eigenfunction_finder(V_even, field)\n",
    "scipy_brent_0, results_brent_0 = optimize.brentq(eigenvalue_function.eigenfunction,-0.1, 0.2, full_output=True, xtol=tolerance)\n",
    "scipy_brent_V_0 = eigenvalue_function.eigenfunction_full(scipy_brent_0)\n",
    "print(results_brent_0)"
   ]
  },
  {
   "cell_type": "code",
   "execution_count": 6,
   "metadata": {},
   "outputs": [
    {
     "name": "stdout",
     "output_type": "stream",
     "text": [
      "-1.424442390981696e+210\n",
      "-5.445426016607305e+210\n",
      "-5.572774538066781e+209\n",
      "1.0936220813325822e+210\n"
     ]
    }
   ],
   "source": [
    "# Identifying a suitable guess interval for n = 1\n",
    "eigenvalue_function = eigenfunction_finder(V_odd, field)\n",
    "print(eigenvalue_function.eigenfunction_full(0.1)[-1])\n",
    "print(eigenvalue_function.eigenfunction_full(0.3)[-1])\n",
    "print(eigenvalue_function.eigenfunction_full(0.5)[-1])\n",
    "print(eigenvalue_function.eigenfunction_full(0.7)[-1])"
   ]
  },
  {
   "cell_type": "code",
   "execution_count": 7,
   "metadata": {},
   "outputs": [
    {
     "name": "stdout",
     "output_type": "stream",
     "text": [
      "      converged: True\n",
      "           flag: 'converged'\n",
      " function_calls: 12\n",
      "     iterations: 11\n",
      "           root: 0.5366714470633597\n"
     ]
    }
   ],
   "source": [
    "# Scipy implementations of the Brent algoritms for n = 1\n",
    "eigenvalue_function = eigenfunction_finder(V_odd, field)\n",
    "scipy_brent_1, results_brent_1 = optimize.brentq(eigenvalue_function.eigenfunction, 0.5, 0.7, full_output=True, xtol=tolerance)\n",
    "scipy_brent_V_1 = eigenvalue_function.eigenfunction_full(scipy_brent_1)\n",
    "print(results_brent_1)"
   ]
  },
  {
   "cell_type": "code",
   "execution_count": 8,
   "metadata": {},
   "outputs": [
    {
     "name": "stdout",
     "output_type": "stream",
     "text": [
      "1.2102284580184852e+211\n",
      "-2.287430507436089e+210\n"
     ]
    }
   ],
   "source": [
    "# Identifying a suitable guess interval for n = 2\n",
    "eigenvalue_function = eigenfunction_finder(V_even, field)\n",
    "print(eigenvalue_function.eigenfunction_full(0.6)[-1])\n",
    "print(eigenvalue_function.eigenfunction_full(0.9)[-1])"
   ]
  },
  {
   "cell_type": "code",
   "execution_count": 9,
   "metadata": {},
   "outputs": [
    {
     "name": "stdout",
     "output_type": "stream",
     "text": [
      "      converged: True\n",
      "           flag: 'converged'\n",
      " function_calls: 15\n",
      "     iterations: 14\n",
      "           root: 0.8289521829570561\n"
     ]
    }
   ],
   "source": [
    "# Scipy implementations of the Brent algoritms for n = 2\n",
    "eigenvalue_function = eigenfunction_finder(V_even, field)\n",
    "scipy_brent_2, results_brent_2 = optimize.brentq(eigenvalue_function.eigenfunction, 0.6, 0.9, full_output=True, xtol=tolerance)\n",
    "scipy_brent_V_2 = eigenvalue_function.eigenfunction_full(scipy_brent_2)\n",
    "print(results_brent_2)"
   ]
  },
  {
   "cell_type": "markdown",
   "metadata": {},
   "source": [
    "Note that as I my guess intervals skipped some of the eigenvalues the $n = 1$, and $n =2$ cases above are actually those for $n=3$ and $n=4$ respectively. The actual $n=1,2$ cases are given below."
   ]
  },
  {
   "cell_type": "code",
   "execution_count": 10,
   "metadata": {},
   "outputs": [
    {
     "name": "stdout",
     "output_type": "stream",
     "text": [
      "      converged: True\n",
      "           flag: 'converged'\n",
      " function_calls: 13\n",
      "     iterations: 12\n",
      "           root: 0.08892383530399899\n"
     ]
    }
   ],
   "source": [
    "# Scipy implementations of the Brent algoritms for n = 1\n",
    "eigenvalue_function = eigenfunction_finder(V_odd, field)\n",
    "scipy_brent_1, results_brent_1 = optimize.brentq(eigenvalue_function.eigenfunction, 0, 0.1, full_output=True, xtol=tolerance)\n",
    "scipy_brent_V_1 = eigenvalue_function.eigenfunction_full(scipy_brent_1)\n",
    "print(results_brent_1)"
   ]
  },
  {
   "cell_type": "code",
   "execution_count": 11,
   "metadata": {},
   "outputs": [
    {
     "name": "stdout",
     "output_type": "stream",
     "text": [
      "      converged: True\n",
      "           flag: 'converged'\n",
      " function_calls: 13\n",
      "     iterations: 12\n",
      "           root: 0.28937856555307656\n"
     ]
    }
   ],
   "source": [
    "# Scipy implementations of the Brent algoritms for n = 2\n",
    "eigenvalue_function = eigenfunction_finder(V_even, field)\n",
    "scipy_brent_2, results_brent_2 = optimize.brentq(eigenvalue_function.eigenfunction, 0.2, 0.4, full_output=True, xtol=tolerance)\n",
    "scipy_brent_V_2 = eigenvalue_function.eigenfunction_full(scipy_brent_2)\n",
    "print(results_brent_2)"
   ]
  },
  {
   "cell_type": "code",
   "execution_count": 12,
   "metadata": {},
   "outputs": [],
   "source": [
    "class brent:\n",
    "    '''Root finding class with the aforementioned\n",
    "    algorithms implemented as methods'''\n",
    "    def __init__(self, interval):\n",
    "        '''Initialization of eigenvalues where the bracketed eigenvalues\n",
    "        are assigned as attributes.\n",
    "        interval: two element array where the first entry is the lower \n",
    "        eigenvalue and the second element is the higher eigenvalue'''\n",
    "        \n",
    "        # Setting up initial trial eigenvalues\n",
    "        self.initial_low_eigenvalue = interval[0]\n",
    "        self.initial_high_eigenvalue = interval[1]\n",
    "    \n",
    "    def effective_potential(self, field):\n",
    "        '''Defines the effective potential in the SL equation\n",
    "        field: field value'''\n",
    "        \n",
    "        # Contribution to effective potential of quartic and squared terms respectively\n",
    "        quartic_potential = self_coupling*((2*np.pi**2)/(3*hubble_rate**4))*(((4*np.pi**2)/(3*hubble_rate**4))*self_coupling*field**6 - 3*field**2)\n",
    "        quadratic_potential = mass_squared*((2*np.pi**2)/(3*hubble_rate**4))*(((4*np.pi**2)/(3*hubble_rate**4))*mass_squared*field**2 - 1)\n",
    "        \n",
    "        W = quadratic_potential + quartic_potential\n",
    "        return W\n",
    "    \n",
    "    def schrodinger_like_ODE(self, V, field):\n",
    "        '''Computes the derivatives of the Schrodinger-like equation\n",
    "        V: array where first entry is the eigenfunction, second is Y\n",
    "        as defined for the coupled ODE system\n",
    "        field: field values'''\n",
    "    \n",
    "        # Empty array for derivatives\n",
    "        dV = np.zeros(2)\n",
    "\n",
    "        # Computes derivatives\n",
    "        dV[0] = V[1]\n",
    "        dV[1] = V[0]*(2*self.effective_potential(field) - (8*self.eigenvalue*np.pi**2)/(hubble_rate**3))\n",
    "        return dV    \n",
    "\n",
    "    def brent_loop(self, V, field, tolerance, max_iterations):\n",
    "        '''Implements Brents method to compute eigenvalues.\n",
    "        V: array where first entry is the eigenfunction, second is Y\n",
    "        as defined for the coupled ODE system\n",
    "        field: field values\n",
    "        tolerance: determines how close to zero the solutions should reach \n",
    "        to be deemed to have converged sufficiently\n",
    "        max_iterations: caps the number of iterations the loop undergoes\n",
    "        in the event the tolerance is not reached'''\n",
    "        \n",
    "         # Initial low eigenvalue and its solution\n",
    "        self.high_eigenvalue = self.initial_high_eigenvalue\n",
    "        self.eigenvalue = self.high_eigenvalue\n",
    "        V_high = odeint(self.schrodinger_like_ODE, V, field)\n",
    "        self.function_calls_brent = 1\n",
    "    \n",
    "        # Initial high eigenvalue and its solution\n",
    "        self.low_eigenvalue = self.initial_low_eigenvalue\n",
    "        self.eigenvalue = self.low_eigenvalue\n",
    "        V_low = odeint(self.schrodinger_like_ODE, V, field)\n",
    "        self.function_calls_brent += 1\n",
    "        \n",
    "        # Initial midpoint eigenvalue and its solution\n",
    "        self.new_eigenvalue = 0.5*(self.high_eigenvalue + self.low_eigenvalue)\n",
    "        self.eigenvalue = self.new_eigenvalue\n",
    "        V_new = odeint(self.schrodinger_like_ODE, V, field)\n",
    "        self.function_calls_brent += 1\n",
    "        \n",
    "        # Initializing number of iterations\n",
    "        iterations = 0\n",
    "        # Loop that runs until we hit the desired tolerance or max_iterations is exceeded\n",
    "        while self.high_eigenvalue - self.low_eigenvalue > tolerance:\n",
    "            # Computes parameters associated with Brents' method\n",
    "            R = V_new[-1,0]/V_high[-1,0]\n",
    "            S = V_new[-1,0]/V_low[-1,0]\n",
    "            T = V_low[-1,0]/V_high[-1,0]\n",
    "            P = S*(T*(R - T)*(self.high_eigenvalue - self.new_eigenvalue) - (1 - R)*(self.new_eigenvalue - self.low_eigenvalue))\n",
    "            Q = (T - 1)*(R - 1)*(S - 1)\n",
    "            \n",
    "            # Next guess for root based on Brent's method\n",
    "            next_eigenvalue = self.new_eigenvalue + P/Q\n",
    "            # Compares convergence with bisection\n",
    "            if abs(next_eigenvalue - self.new_eigenvalue) < (self.initial_high_eigenvalue - self.initial_low_eigenvalue)*0.5**(iterations+2):\n",
    "                # Checks to see which half of the current bounds the next guess lies then redefines the bounds\n",
    "                if next_eigenvalue < self.new_eigenvalue:\n",
    "                    self.high_eigenvalue = self.new_eigenvalue\n",
    "                    self.eigenvalue = self.high_eigenvalue\n",
    "                    V_high = V_new #odeint(self.schrodinger_like_ODE, V, field)\n",
    "                    #self.function_calls_brent += 1\n",
    "    \n",
    "                else:\n",
    "                    self.low_eigenvalue = self.new_eigenvalue\n",
    "                    self.eigenvalue = self.low_eigenvalue\n",
    "                    V_low = V_new # odeint(self.schrodinger_like_ODE, V, field)\n",
    "                    #self.function_calls_brent += 1\n",
    "                \n",
    "                # Updates guess of root\n",
    "                self.new_eigenvalue = next_eigenvalue\n",
    "                self.eigenvalue = self.new_eigenvalue\n",
    "                V_new = odeint(self.schrodinger_like_ODE, V, field)\n",
    "                self.function_calls_brent += 1\n",
    "            \n",
    "            # Tries bisection if convergence was deemed too slow\n",
    "            else:\n",
    "                # Checks to see which boundary eigenvalue gives positive or negative diverging solutions\n",
    "                if V_high[-1,0] > V_new[-1,0] > V_low[-1,0]:\n",
    "                    # Checks if the midpoint eigenvalue gives negatively diverging solutions\n",
    "                    if V_new[-1,0] < 0:                    \n",
    "                        # Sets eigenvalue c to be eigenvalue a, likewise for the solutions\n",
    "                        V_low = V_new\n",
    "                        self.low_eigenvalue = self.new_eigenvalue\n",
    "                    \n",
    "                        # Determines the new midpoint eigenvalue and its solutions\n",
    "                        self.new_eigenvalue = (self.high_eigenvalue + self.low_eigenvalue)/2\n",
    "                        self.eigenvalue = self.new_eigenvalue\n",
    "                        V_new = odeint(self.schrodinger_like_ODE, V, field)\n",
    "                        self.function_calls_brent += 1\n",
    "                        \n",
    "                    # Runs if the midpoint eigenvalue converges to positive infinity\n",
    "                    else:\n",
    "                        # Sets eigenvalue c to be eigenvalue b, likewise for the solutions\n",
    "                        V_high = V_new\n",
    "                        self.high_eigenvalue = self.new_eigenvalue\n",
    "                    \n",
    "                        # Determines the new midpoint eigenvalue and its solutions\n",
    "                        self.new_eigenvalue = (self.high_eigenvalue + self.low_eigenvalue)/2\n",
    "                        self.eigenvalue = self.new_eigenvalue\n",
    "                        V_new = odeint(self.schrodinger_like_ODE, V, field)\n",
    "                        self.function_calls_brent += 1\n",
    "                        \n",
    "                # Runs if the higher eigenvalue gives negative diverging solutions while the lower gives the reverse\n",
    "                else:\n",
    "                    # Checks if the midpoint eigenvalue gives negatively diverging solutions\n",
    "                    if V_new[-1,0] < 0:\n",
    "                        # Sets eigenvalue c to be eigenvalue b, likewise for the solutions\n",
    "                        V_high = V_new\n",
    "                        self.high_eigenvalue = self.new_eigenvalue\n",
    "                    \n",
    "                        # Determines the new midpoint eigenvalue and its solutions\n",
    "                        self.new_eigenvalue = (self.high_eigenvalue + self.low_eigenvalue)/2\n",
    "                        self.eigenvalue = self.new_eigenvalue\n",
    "                        V_new = odeint(self.schrodinger_like_ODE, V, field)\n",
    "                        self.function_calls_brent += 1\n",
    "                        \n",
    "                    # Runs if the midpoint eigenvalue converges to positive infinity\n",
    "                    else:\n",
    "                        # Sets eigenvalue c to be eigenvalue a, likewise for the solutions\n",
    "                        V_low = V_new\n",
    "                        self.low_eigenvalue = self.new_eigenvalue\n",
    "                    \n",
    "                        # Determines the new midpoint eigenvalue and its solutions\n",
    "                        self.new_eigenvalue = (self.high_eigenvalue + self.low_eigenvalue)/2\n",
    "                        self.eigenvalue = self.new_eigenvalue\n",
    "                        V_new = odeint(self.schrodinger_like_ODE, V, field)\n",
    "                        self.function_calls_brent += 1\n",
    "            \n",
    "            # Updates number of iterations\n",
    "            iterations = iterations + 1\n",
    "            # If max_iterations is exceeded the loop is stopped\n",
    "            if iterations >= max_iterations:\n",
    "                break\n",
    "                \n",
    "        return self.new_eigenvalue, V_new, iterations"
   ]
  },
  {
   "cell_type": "code",
   "execution_count": 13,
   "metadata": {},
   "outputs": [],
   "source": [
    "# Field \n",
    "field = np.linspace(0, 3.5, 3000)\n",
    "\n",
    "# Tolerance\n",
    "tolerance = 1e-6\n",
    "\n",
    "# Running the Brent algorithms for n = 0\n",
    "brent_solver = brent([-0.1, 0.2])\n",
    "eigenvalue_brent_0, V_brent_0, iterations_brent_0 = brent_solver.brent_loop(V_even, field, tolerance, 100)\n",
    "brent_function_calls_0 = brent_solver.function_calls_brent\n",
    "\n",
    "# Running the secant/bisection/Ridder/Brent algorithm for n = 1\n",
    "brent_solver = brent([0, 0.1])\n",
    "eigenvalue_brent_1, V_brent_1, iterations_brent_1 = brent_solver.brent_loop(V_odd, field, tolerance, 100)\n",
    "brent_function_calls_1 = brent_solver.function_calls_brent\n",
    "\n",
    "# Running the secant/bisection/Ridder/Brent algorithm for n = 2\n",
    "brent_solver = brent([0.2, 0.4])\n",
    "eigenvalue_brent_2, V_brent_2, iterations_brent_2 = brent_solver.brent_loop(V_even, field, tolerance, 100)\n",
    "brent_function_calls_2 = brent_solver.function_calls_brent"
   ]
  },
  {
   "cell_type": "code",
   "execution_count": 14,
   "metadata": {},
   "outputs": [
    {
     "name": "stdout",
     "output_type": "stream",
     "text": [
      "1.4869033898820694e-10 0.08892393083553396 0.28937854849714445\n",
      "7 6 6\n",
      "10 9 9\n"
     ]
    }
   ],
   "source": [
    "print(eigenvalue_brent_0, eigenvalue_brent_1, eigenvalue_brent_2)\n",
    "print(iterations_brent_0, iterations_brent_1, iterations_brent_2)\n",
    "print(brent_function_calls_0, brent_function_calls_1, brent_function_calls_2)"
   ]
  }
 ],
 "metadata": {
  "kernelspec": {
   "display_name": "Python 3",
   "language": "python",
   "name": "python3"
  },
  "language_info": {
   "codemirror_mode": {
    "name": "ipython",
    "version": 3
   },
   "file_extension": ".py",
   "mimetype": "text/x-python",
   "name": "python",
   "nbconvert_exporter": "python",
   "pygments_lexer": "ipython3",
   "version": "3.7.3"
  }
 },
 "nbformat": 4,
 "nbformat_minor": 2
}
